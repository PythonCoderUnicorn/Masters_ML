{
 "cells": [
  {
   "cell_type": "markdown",
   "id": "effective-peninsula",
   "metadata": {},
   "source": [
    "# Inferential Stats - Sampling Distributions"
   ]
  },
  {
   "cell_type": "code",
   "execution_count": 1,
   "id": "dressed-deficit",
   "metadata": {},
   "outputs": [],
   "source": [
    "import numpy as np\n",
    "import scipy\n",
    "import pandas as pd\n",
    "from itertools import chain\n",
    "from math import factorial\n",
    "#---\n",
    "import plotly.graph_objects as go\n",
    "import plotly.io as pio\n",
    "import plotly.express as px \n",
    "import plotly.figure_factory as ff\n",
    "#--\n",
    "pio.templates.default = 'plotly_dark'"
   ]
  },
  {
   "cell_type": "markdown",
   "id": "hydraulic-salmon",
   "metadata": {},
   "source": [
    "## Probabilities \n",
    "- sets are collections of objects, objects can be categorical or numerical (other but these are focus on in healthcare). Ex.: a set can be a list of all possible complications of a new intervention, each element is a complication in the set\n",
    "- subsets, union of sets (combines, no repeats), membership of a set. Complications can be in either or both sets\n",
    "- coin flips, outcomes are indep events, 2 coin flips:\n",
    "    - HH, HT, TH, TT  : 1/4 = 25% of outcome  :: P(HH) = 0.25, 2 Heads in a row\n",
    "    - P(1+ H or 1+ T ) = 0.75 \n",
    "    "
   ]
  },
  {
   "cell_type": "markdown",
   "id": "changing-evaluation",
   "metadata": {},
   "source": [
    "### coin flip 3 times, choice = {0: Tails, 1: Heads}\n",
    "- ``np.random.choice(np.array([0,1]), n, replace=True)``  n= number of times we want to choose from this set"
   ]
  },
  {
   "cell_type": "code",
   "execution_count": 2,
   "id": "acceptable-reasoning",
   "metadata": {},
   "outputs": [
    {
     "data": {
      "text/plain": [
       "array([1, 1, 0])"
      ]
     },
     "execution_count": 2,
     "metadata": {},
     "output_type": "execute_result"
    }
   ],
   "source": [
    "coin_flip = np.random.choice(np.array([0,1]), 3, replace=True)\n",
    "coin_flip"
   ]
  },
  {
   "cell_type": "code",
   "execution_count": 3,
   "id": "loose-death",
   "metadata": {},
   "outputs": [
    {
     "data": {
      "text/plain": [
       "[array([1, 0, 1]),\n",
       " array([0, 1, 1]),\n",
       " array([0, 1, 1]),\n",
       " array([0, 1, 1]),\n",
       " array([0, 1, 1])]"
      ]
     },
     "execution_count": 3,
     "metadata": {},
     "output_type": "execute_result"
    }
   ],
   "source": [
    "# 3 coin flips 5 times\n",
    "coin_flip = [np.random.choice(np.array([0,1]), 3, replace=True) for i in range(5)]\n",
    "coin_flip"
   ]
  },
  {
   "cell_type": "code",
   "execution_count": 4,
   "id": "subsequent-wireless",
   "metadata": {},
   "outputs": [
    {
     "name": "stdout",
     "output_type": "stream",
     "text": [
      "Total experiments: 1000 \n",
      " Total number of Heads: 879\n"
     ]
    }
   ],
   "source": [
    "# np.random.seed(12)\n",
    "count = 0\n",
    "\n",
    "for i in range(1000):\n",
    "    flip_3 =sum(np.random.choice(np.array([0,1]), 3, replace=True))\n",
    "    if flip_3 >0:\n",
    "        count +=1\n",
    "print(f'Total experiments: 1000','\\n',f'Total number of Heads: {count}')"
   ]
  },
  {
   "cell_type": "code",
   "execution_count": 5,
   "id": "bottom-edgar",
   "metadata": {},
   "outputs": [
    {
     "data": {
      "text/html": [
       "<div>\n",
       "<style scoped>\n",
       "    .dataframe tbody tr th:only-of-type {\n",
       "        vertical-align: middle;\n",
       "    }\n",
       "\n",
       "    .dataframe tbody tr th {\n",
       "        vertical-align: top;\n",
       "    }\n",
       "\n",
       "    .dataframe thead th {\n",
       "        text-align: right;\n",
       "    }\n",
       "</style>\n",
       "<table border=\"1\" class=\"dataframe\">\n",
       "  <thead>\n",
       "    <tr style=\"text-align: right;\">\n",
       "      <th></th>\n",
       "      <th>HT</th>\n",
       "      <th>Diabetes</th>\n",
       "      <th>IDH</th>\n",
       "    </tr>\n",
       "    <tr>\n",
       "      <th>Group</th>\n",
       "      <th></th>\n",
       "      <th></th>\n",
       "      <th></th>\n",
       "    </tr>\n",
       "  </thead>\n",
       "  <tbody>\n",
       "    <tr>\n",
       "      <th>A</th>\n",
       "      <td>0.26</td>\n",
       "      <td>0.36</td>\n",
       "      <td>0.18</td>\n",
       "    </tr>\n",
       "    <tr>\n",
       "      <th>B</th>\n",
       "      <td>0.09</td>\n",
       "      <td>0.07</td>\n",
       "      <td>0.04</td>\n",
       "    </tr>\n",
       "  </tbody>\n",
       "</table>\n",
       "</div>"
      ],
      "text/plain": [
       "         HT  Diabetes   IDH\n",
       "Group                      \n",
       "A      0.26      0.36  0.18\n",
       "B      0.09      0.07  0.04"
      ]
     },
     "execution_count": 5,
     "metadata": {},
     "output_type": "execute_result"
    }
   ],
   "source": [
    "#  Unconditional probability \n",
    "#  patients have only 1 disease of all diseases\n",
    "df = pd.DataFrame({\n",
    "    'Group':['A','B'],\n",
    "    'HT':[0.26,0.09], # Hypertension\n",
    "    'Diabetes':[0.36,0.07],\n",
    "    'IDH':[0.18,0.04]\n",
    "})\n",
    "df.set_index('Group',inplace=True)\n",
    "df"
   ]
  },
  {
   "cell_type": "code",
   "execution_count": 6,
   "id": "ignored-psychology",
   "metadata": {},
   "outputs": [
    {
     "name": "stdout",
     "output_type": "stream",
     "text": [
      "Probability across row 1: \n",
      " Group\n",
      "A    0.8\n",
      "B    0.2\n",
      "dtype: float64 \n",
      "\n",
      "Probability down columns: \n",
      " HT          0.35\n",
      "Diabetes    0.43\n",
      "IDH         0.22\n",
      "dtype: float64\n"
     ]
    }
   ],
   "source": [
    "# total relative frequences in row 1\n",
    "\n",
    "#  marginal probability\n",
    "ax1 = df.sum(axis=1)  \n",
    "print('Probability across row 1: \\n',ax1,'\\n')\n",
    "# unconditional probability of having diabetes is column total\n",
    "\n",
    "ax0 = df.sum(axis=0)  # 43% regardless of which group\n",
    "print('Probability down columns: \\n',ax0)"
   ]
  },
  {
   "cell_type": "markdown",
   "id": "integrated-cutting",
   "metadata": {},
   "source": [
    "### **joint probability** \n",
    "- 2 outcomes at 1 time: Group_A  **and** diabetes. == 36%\n",
    "\n",
    "### **conditional probability** \n",
    "- likelihood of outcome given than another occured\n",
    "- P( Diabetes [] group_A ) = (.36) / (.80)  == 45%"
   ]
  },
  {
   "cell_type": "code",
   "execution_count": 7,
   "id": "rural-condition",
   "metadata": {},
   "outputs": [],
   "source": [
    "# Probability of diabetes given being in group A\n",
    "p_A_given_B = (.36)/ (.8)\n",
    "#  Probability of being in group A given diabetes disease\n",
    "p_B_given_A = (.36) / (.43)\n",
    "# probability of having diabetes\n",
    "p_A = .43\n",
    "# probability of being in group A\n",
    "p_B = 0.8"
   ]
  },
  {
   "cell_type": "markdown",
   "id": "italian-description",
   "metadata": {},
   "source": [
    "### select a patient at random \n",
    "what is the probability that they have hypertension (A) **OR** are in the treatment group B? \n",
    "- P(A and B) = P(A) + P(B) -P(A and B)"
   ]
  },
  {
   "cell_type": "code",
   "execution_count": 8,
   "id": "motivated-military",
   "metadata": {},
   "outputs": [
    {
     "data": {
      "text/html": [
       "<div>\n",
       "<style scoped>\n",
       "    .dataframe tbody tr th:only-of-type {\n",
       "        vertical-align: middle;\n",
       "    }\n",
       "\n",
       "    .dataframe tbody tr th {\n",
       "        vertical-align: top;\n",
       "    }\n",
       "\n",
       "    .dataframe thead th {\n",
       "        text-align: right;\n",
       "    }\n",
       "</style>\n",
       "<table border=\"1\" class=\"dataframe\">\n",
       "  <thead>\n",
       "    <tr style=\"text-align: right;\">\n",
       "      <th></th>\n",
       "      <th>HT</th>\n",
       "      <th>Diabetes</th>\n",
       "      <th>IDH</th>\n",
       "    </tr>\n",
       "    <tr>\n",
       "      <th>Group</th>\n",
       "      <th></th>\n",
       "      <th></th>\n",
       "      <th></th>\n",
       "    </tr>\n",
       "  </thead>\n",
       "  <tbody>\n",
       "    <tr>\n",
       "      <th>A</th>\n",
       "      <td>0.26</td>\n",
       "      <td>0.36</td>\n",
       "      <td>0.18</td>\n",
       "    </tr>\n",
       "    <tr>\n",
       "      <th>B</th>\n",
       "      <td>0.09</td>\n",
       "      <td>0.07</td>\n",
       "      <td>0.04</td>\n",
       "    </tr>\n",
       "  </tbody>\n",
       "</table>\n",
       "</div>"
      ],
      "text/plain": [
       "         HT  Diabetes   IDH\n",
       "Group                      \n",
       "A      0.26      0.36  0.18\n",
       "B      0.09      0.07  0.04"
      ]
     },
     "execution_count": 8,
     "metadata": {},
     "output_type": "execute_result"
    }
   ],
   "source": [
    "df"
   ]
  },
  {
   "cell_type": "code",
   "execution_count": 9,
   "id": "successful-controversy",
   "metadata": {},
   "outputs": [
    {
     "name": "stdout",
     "output_type": "stream",
     "text": [
      "Probality of HT and Group B: 46.0%\n"
     ]
    }
   ],
   "source": [
    "# HT group column\n",
    "p_HT_group = .35\n",
    "# probability of treatment\n",
    "p_Treatment_group_B = 0.09 + .07 + .04\n",
    "# probability of HT AND group B\n",
    "p_HT_Group_B = .09\n",
    "\n",
    "# P(A and B)\n",
    "P_A_and_B =  p_HT_group + p_Treatment_group_B - p_HT_Group_B\n",
    "print('Probality of HT and Group B: {:.1f}%'.format(P_A_and_B*100))"
   ]
  },
  {
   "cell_type": "markdown",
   "id": "indie-whale",
   "metadata": {},
   "source": [
    "Patient at random, has **both** HT **and** in treatment group B\n",
    "- P(A and B) = P( A [] B ) * P(B)\n",
    "- P(A and B) = P( B [] A ) * P(A)"
   ]
  },
  {
   "cell_type": "code",
   "execution_count": 10,
   "id": "resistant-criterion",
   "metadata": {},
   "outputs": [
    {
     "data": {
      "text/plain": [
       "0.07"
      ]
     },
     "execution_count": 10,
     "metadata": {},
     "output_type": "execute_result"
    }
   ],
   "source": [
    "P_A_and_B = p_Treatment_group_B * p_HT_group\n",
    "round(P_A_and_B,2)"
   ]
  },
  {
   "cell_type": "code",
   "execution_count": null,
   "id": "pleased-angel",
   "metadata": {},
   "outputs": [],
   "source": []
  },
  {
   "cell_type": "markdown",
   "id": "initial-hayes",
   "metadata": {},
   "source": [
    "## Rolling of Dice (2 of them)\n",
    "- rolling 2 dice, the min and max value "
   ]
  },
  {
   "cell_type": "code",
   "execution_count": 11,
   "id": "guided-asian",
   "metadata": {},
   "outputs": [],
   "source": [
    "outcomes = []\n",
    "def add2(x):\n",
    "    for r in range(0,6):\n",
    "        x = r+1\n",
    "        outcomes.append(x)\n",
    "    print(\"All posible outcomes:\")\n",
    "    print('',outcomes,'+',outcomes)"
   ]
  },
  {
   "cell_type": "code",
   "execution_count": 12,
   "id": "cooperative-apache",
   "metadata": {},
   "outputs": [
    {
     "name": "stdout",
     "output_type": "stream",
     "text": [
      "All posible outcomes:\n",
      " [1, 2, 3, 4, 5, 6] + [1, 2, 3, 4, 5, 6]\n"
     ]
    }
   ],
   "source": [
    "add2(1)"
   ]
  },
  {
   "cell_type": "code",
   "execution_count": 13,
   "id": "threatened-sampling",
   "metadata": {},
   "outputs": [
    {
     "name": "stdout",
     "output_type": "stream",
     "text": [
      "1 + 1\n"
     ]
    }
   ],
   "source": [
    "import random\n",
    "min=1\n",
    "max= 6\n",
    "dice_1 = random.randint(min,max)\n",
    "dice_2 = random.randint(min,max)\n",
    "print(f'{dice_1} + {dice_2}')"
   ]
  },
  {
   "cell_type": "markdown",
   "id": "innocent-stocks",
   "metadata": {},
   "source": [
    "All possible dice rolling outcomes\n",
    "\n",
    "- P(X= 2) => 1/36\n",
    "- P(X= 3) => 2/36\n",
    "- P(X= 4) => 3/36\n",
    "- P(X= 5) => 4/36\n",
    "- P(X= 6) => 5/36\n",
    "- P(X= 7) => 6/36\n",
    "- P(X= 8) => 5/36\n",
    "- P(X= 9) => 4/36\n",
    "- P(X= 10) => 3/36\n",
    "- P(X= 11) => 2/36\n",
    "- P(X= 12) => 1/36"
   ]
  },
  {
   "cell_type": "code",
   "execution_count": 19,
   "id": "spiritual-valuation",
   "metadata": {},
   "outputs": [
    {
     "name": "stdout",
     "output_type": "stream",
     "text": [
      "[0.027777777777777776, 0.05555555555555555, 0.08333333333333333, 0.1111111111111111, 0.1388888888888889, 0.16666666666666666, 0.1388888888888889, 0.1111111111111111, 0.08333333333333333, 0.05555555555555555, 0.027777777777777776]\n",
      "0.027777777777777776\n"
     ]
    }
   ],
   "source": [
    "# 11 probabilities of summed values\n",
    "#              #'s:  2,3,4,5,6, 7, 8,9,10,11,12\n",
    "p = [i /36 for i in [1,2,3,4,5, 6, 5,4,3,2,1]] #probability of rolling that sum\n",
    "print(p)\n",
    "print(p[-1])"
   ]
  },
  {
   "cell_type": "code",
   "execution_count": 15,
   "id": "danish-attraction",
   "metadata": {},
   "outputs": [
    {
     "name": "stdout",
     "output_type": "stream",
     "text": [
      "Probability of rolling 10 or higher:  17 %\n"
     ]
    }
   ],
   "source": [
    "# probability of outcome being >= 10\n",
    "# P(X >= 10) = \n",
    "p_10 = p[-3]\n",
    "p_11 = p[-2]\n",
    "p_12 = p[-1]\n",
    "\n",
    "P_x10_plus = p_10 + p_11 + p_12\n",
    "print('Probability of rolling 10 or higher: ',round((P_x10_plus)*100),'%')"
   ]
  },
  {
   "cell_type": "markdown",
   "id": "material-garbage",
   "metadata": {},
   "source": [
    "This is to test if LaTeX works for $X$ >= 10 $P \\left(X \\ge 10 \\right) $"
   ]
  },
  {
   "cell_type": "code",
   "execution_count": 16,
   "id": "architectural-italic",
   "metadata": {},
   "outputs": [
    {
     "data": {
      "text/html": [
       "<div>\n",
       "<style scoped>\n",
       "    .dataframe tbody tr th:only-of-type {\n",
       "        vertical-align: middle;\n",
       "    }\n",
       "\n",
       "    .dataframe tbody tr th {\n",
       "        vertical-align: top;\n",
       "    }\n",
       "\n",
       "    .dataframe thead th {\n",
       "        text-align: right;\n",
       "    }\n",
       "</style>\n",
       "<table border=\"1\" class=\"dataframe\">\n",
       "  <thead>\n",
       "    <tr style=\"text-align: right;\">\n",
       "      <th></th>\n",
       "      <th>RollTotal</th>\n",
       "    </tr>\n",
       "  </thead>\n",
       "  <tbody>\n",
       "    <tr>\n",
       "      <th>0</th>\n",
       "      <td>4</td>\n",
       "    </tr>\n",
       "    <tr>\n",
       "      <th>1</th>\n",
       "      <td>6</td>\n",
       "    </tr>\n",
       "    <tr>\n",
       "      <th>2</th>\n",
       "      <td>2</td>\n",
       "    </tr>\n",
       "    <tr>\n",
       "      <th>3</th>\n",
       "      <td>7</td>\n",
       "    </tr>\n",
       "    <tr>\n",
       "      <th>4</th>\n",
       "      <td>10</td>\n",
       "    </tr>\n",
       "  </tbody>\n",
       "</table>\n",
       "</div>"
      ],
      "text/plain": [
       "   RollTotal\n",
       "0          4\n",
       "1          6\n",
       "2          2\n",
       "3          7\n",
       "4         10"
      ]
     },
     "execution_count": 16,
     "metadata": {},
     "output_type": "execute_result"
    }
   ],
   "source": [
    "# roll dice 10_000 times\n",
    "np.random.seed(3)\n",
    "roll_totals = pd.DataFrame({\n",
    "    'RollTotal': [np.sum(np.random.randint(1, \n",
    "                                           high=7, \n",
    "                                           size=2)).tolist() for i in range(10_000)]\n",
    "})\n",
    "roll_totals.head()"
   ]
  },
  {
   "cell_type": "code",
   "execution_count": 17,
   "id": "personal-riding",
   "metadata": {},
   "outputs": [
    {
     "data": {
      "text/plain": [
       "7     0.1699\n",
       "6     0.1405\n",
       "8     0.1337\n",
       "5     0.1111\n",
       "9     0.1047\n",
       "10    0.0854\n",
       "4     0.0853\n",
       "11    0.0559\n",
       "3     0.0554\n",
       "12    0.0299\n",
       "2     0.0282\n",
       "Name: RollTotal, dtype: float64"
      ]
     },
     "execution_count": 17,
     "metadata": {},
     "output_type": "execute_result"
    }
   ],
   "source": [
    "roll_totals.RollTotal.value_counts(normalize=True)"
   ]
  },
  {
   "cell_type": "code",
   "execution_count": 18,
   "id": "continental-present",
   "metadata": {},
   "outputs": [
    {
     "data": {
      "text/plain": [
       "2      282\n",
       "3      554\n",
       "4      853\n",
       "5     1111\n",
       "6     1405\n",
       "7     1699\n",
       "8     1337\n",
       "9     1047\n",
       "10     854\n",
       "11     559\n",
       "12     299\n",
       "Name: RollTotal, dtype: int64"
      ]
     },
     "execution_count": 18,
     "metadata": {},
     "output_type": "execute_result"
    }
   ],
   "source": [
    "#  sort in order \n",
    "roll_totals.RollTotal.value_counts().sort_index()"
   ]
  },
  {
   "cell_type": "code",
   "execution_count": 22,
   "id": "exotic-closer",
   "metadata": {},
   "outputs": [
    {
     "data": {
      "application/vnd.plotly.v1+json": {
       "config": {
        "plotlyServerURL": "https://plot.ly"
       },
       "data": [
        {
         "alignmentgroup": "True",
         "hovertemplate": "X Sum of 2 dice=%{x}<br>Frequency=%{y}<extra></extra>",
         "legendgroup": "",
         "marker": {
          "color": "#636efa"
         },
         "name": "",
         "offsetgroup": "",
         "orientation": "v",
         "showlegend": false,
         "textposition": "auto",
         "type": "bar",
         "x": [
          2,
          3,
          4,
          5,
          6,
          7,
          8,
          9,
          10,
          11,
          12
         ],
         "xaxis": "x",
         "y": [
          282,
          554,
          853,
          1111,
          1405,
          1699,
          1337,
          1047,
          854,
          559,
          299
         ],
         "yaxis": "y"
        }
       ],
       "layout": {
        "barmode": "relative",
        "legend": {
         "tracegroupgap": 0
        },
        "template": {
         "data": {
          "bar": [
           {
            "error_x": {
             "color": "#f2f5fa"
            },
            "error_y": {
             "color": "#f2f5fa"
            },
            "marker": {
             "line": {
              "color": "rgb(17,17,17)",
              "width": 0.5
             }
            },
            "type": "bar"
           }
          ],
          "barpolar": [
           {
            "marker": {
             "line": {
              "color": "rgb(17,17,17)",
              "width": 0.5
             }
            },
            "type": "barpolar"
           }
          ],
          "carpet": [
           {
            "aaxis": {
             "endlinecolor": "#A2B1C6",
             "gridcolor": "#506784",
             "linecolor": "#506784",
             "minorgridcolor": "#506784",
             "startlinecolor": "#A2B1C6"
            },
            "baxis": {
             "endlinecolor": "#A2B1C6",
             "gridcolor": "#506784",
             "linecolor": "#506784",
             "minorgridcolor": "#506784",
             "startlinecolor": "#A2B1C6"
            },
            "type": "carpet"
           }
          ],
          "choropleth": [
           {
            "colorbar": {
             "outlinewidth": 0,
             "ticks": ""
            },
            "type": "choropleth"
           }
          ],
          "contour": [
           {
            "colorbar": {
             "outlinewidth": 0,
             "ticks": ""
            },
            "colorscale": [
             [
              0,
              "#0d0887"
             ],
             [
              0.1111111111111111,
              "#46039f"
             ],
             [
              0.2222222222222222,
              "#7201a8"
             ],
             [
              0.3333333333333333,
              "#9c179e"
             ],
             [
              0.4444444444444444,
              "#bd3786"
             ],
             [
              0.5555555555555556,
              "#d8576b"
             ],
             [
              0.6666666666666666,
              "#ed7953"
             ],
             [
              0.7777777777777778,
              "#fb9f3a"
             ],
             [
              0.8888888888888888,
              "#fdca26"
             ],
             [
              1,
              "#f0f921"
             ]
            ],
            "type": "contour"
           }
          ],
          "contourcarpet": [
           {
            "colorbar": {
             "outlinewidth": 0,
             "ticks": ""
            },
            "type": "contourcarpet"
           }
          ],
          "heatmap": [
           {
            "colorbar": {
             "outlinewidth": 0,
             "ticks": ""
            },
            "colorscale": [
             [
              0,
              "#0d0887"
             ],
             [
              0.1111111111111111,
              "#46039f"
             ],
             [
              0.2222222222222222,
              "#7201a8"
             ],
             [
              0.3333333333333333,
              "#9c179e"
             ],
             [
              0.4444444444444444,
              "#bd3786"
             ],
             [
              0.5555555555555556,
              "#d8576b"
             ],
             [
              0.6666666666666666,
              "#ed7953"
             ],
             [
              0.7777777777777778,
              "#fb9f3a"
             ],
             [
              0.8888888888888888,
              "#fdca26"
             ],
             [
              1,
              "#f0f921"
             ]
            ],
            "type": "heatmap"
           }
          ],
          "heatmapgl": [
           {
            "colorbar": {
             "outlinewidth": 0,
             "ticks": ""
            },
            "colorscale": [
             [
              0,
              "#0d0887"
             ],
             [
              0.1111111111111111,
              "#46039f"
             ],
             [
              0.2222222222222222,
              "#7201a8"
             ],
             [
              0.3333333333333333,
              "#9c179e"
             ],
             [
              0.4444444444444444,
              "#bd3786"
             ],
             [
              0.5555555555555556,
              "#d8576b"
             ],
             [
              0.6666666666666666,
              "#ed7953"
             ],
             [
              0.7777777777777778,
              "#fb9f3a"
             ],
             [
              0.8888888888888888,
              "#fdca26"
             ],
             [
              1,
              "#f0f921"
             ]
            ],
            "type": "heatmapgl"
           }
          ],
          "histogram": [
           {
            "marker": {
             "colorbar": {
              "outlinewidth": 0,
              "ticks": ""
             }
            },
            "type": "histogram"
           }
          ],
          "histogram2d": [
           {
            "colorbar": {
             "outlinewidth": 0,
             "ticks": ""
            },
            "colorscale": [
             [
              0,
              "#0d0887"
             ],
             [
              0.1111111111111111,
              "#46039f"
             ],
             [
              0.2222222222222222,
              "#7201a8"
             ],
             [
              0.3333333333333333,
              "#9c179e"
             ],
             [
              0.4444444444444444,
              "#bd3786"
             ],
             [
              0.5555555555555556,
              "#d8576b"
             ],
             [
              0.6666666666666666,
              "#ed7953"
             ],
             [
              0.7777777777777778,
              "#fb9f3a"
             ],
             [
              0.8888888888888888,
              "#fdca26"
             ],
             [
              1,
              "#f0f921"
             ]
            ],
            "type": "histogram2d"
           }
          ],
          "histogram2dcontour": [
           {
            "colorbar": {
             "outlinewidth": 0,
             "ticks": ""
            },
            "colorscale": [
             [
              0,
              "#0d0887"
             ],
             [
              0.1111111111111111,
              "#46039f"
             ],
             [
              0.2222222222222222,
              "#7201a8"
             ],
             [
              0.3333333333333333,
              "#9c179e"
             ],
             [
              0.4444444444444444,
              "#bd3786"
             ],
             [
              0.5555555555555556,
              "#d8576b"
             ],
             [
              0.6666666666666666,
              "#ed7953"
             ],
             [
              0.7777777777777778,
              "#fb9f3a"
             ],
             [
              0.8888888888888888,
              "#fdca26"
             ],
             [
              1,
              "#f0f921"
             ]
            ],
            "type": "histogram2dcontour"
           }
          ],
          "mesh3d": [
           {
            "colorbar": {
             "outlinewidth": 0,
             "ticks": ""
            },
            "type": "mesh3d"
           }
          ],
          "parcoords": [
           {
            "line": {
             "colorbar": {
              "outlinewidth": 0,
              "ticks": ""
             }
            },
            "type": "parcoords"
           }
          ],
          "pie": [
           {
            "automargin": true,
            "type": "pie"
           }
          ],
          "scatter": [
           {
            "marker": {
             "line": {
              "color": "#283442"
             }
            },
            "type": "scatter"
           }
          ],
          "scatter3d": [
           {
            "line": {
             "colorbar": {
              "outlinewidth": 0,
              "ticks": ""
             }
            },
            "marker": {
             "colorbar": {
              "outlinewidth": 0,
              "ticks": ""
             }
            },
            "type": "scatter3d"
           }
          ],
          "scattercarpet": [
           {
            "marker": {
             "colorbar": {
              "outlinewidth": 0,
              "ticks": ""
             }
            },
            "type": "scattercarpet"
           }
          ],
          "scattergeo": [
           {
            "marker": {
             "colorbar": {
              "outlinewidth": 0,
              "ticks": ""
             }
            },
            "type": "scattergeo"
           }
          ],
          "scattergl": [
           {
            "marker": {
             "line": {
              "color": "#283442"
             }
            },
            "type": "scattergl"
           }
          ],
          "scattermapbox": [
           {
            "marker": {
             "colorbar": {
              "outlinewidth": 0,
              "ticks": ""
             }
            },
            "type": "scattermapbox"
           }
          ],
          "scatterpolar": [
           {
            "marker": {
             "colorbar": {
              "outlinewidth": 0,
              "ticks": ""
             }
            },
            "type": "scatterpolar"
           }
          ],
          "scatterpolargl": [
           {
            "marker": {
             "colorbar": {
              "outlinewidth": 0,
              "ticks": ""
             }
            },
            "type": "scatterpolargl"
           }
          ],
          "scatterternary": [
           {
            "marker": {
             "colorbar": {
              "outlinewidth": 0,
              "ticks": ""
             }
            },
            "type": "scatterternary"
           }
          ],
          "surface": [
           {
            "colorbar": {
             "outlinewidth": 0,
             "ticks": ""
            },
            "colorscale": [
             [
              0,
              "#0d0887"
             ],
             [
              0.1111111111111111,
              "#46039f"
             ],
             [
              0.2222222222222222,
              "#7201a8"
             ],
             [
              0.3333333333333333,
              "#9c179e"
             ],
             [
              0.4444444444444444,
              "#bd3786"
             ],
             [
              0.5555555555555556,
              "#d8576b"
             ],
             [
              0.6666666666666666,
              "#ed7953"
             ],
             [
              0.7777777777777778,
              "#fb9f3a"
             ],
             [
              0.8888888888888888,
              "#fdca26"
             ],
             [
              1,
              "#f0f921"
             ]
            ],
            "type": "surface"
           }
          ],
          "table": [
           {
            "cells": {
             "fill": {
              "color": "#506784"
             },
             "line": {
              "color": "rgb(17,17,17)"
             }
            },
            "header": {
             "fill": {
              "color": "#2a3f5f"
             },
             "line": {
              "color": "rgb(17,17,17)"
             }
            },
            "type": "table"
           }
          ]
         },
         "layout": {
          "annotationdefaults": {
           "arrowcolor": "#f2f5fa",
           "arrowhead": 0,
           "arrowwidth": 1
          },
          "autotypenumbers": "strict",
          "coloraxis": {
           "colorbar": {
            "outlinewidth": 0,
            "ticks": ""
           }
          },
          "colorscale": {
           "diverging": [
            [
             0,
             "#8e0152"
            ],
            [
             0.1,
             "#c51b7d"
            ],
            [
             0.2,
             "#de77ae"
            ],
            [
             0.3,
             "#f1b6da"
            ],
            [
             0.4,
             "#fde0ef"
            ],
            [
             0.5,
             "#f7f7f7"
            ],
            [
             0.6,
             "#e6f5d0"
            ],
            [
             0.7,
             "#b8e186"
            ],
            [
             0.8,
             "#7fbc41"
            ],
            [
             0.9,
             "#4d9221"
            ],
            [
             1,
             "#276419"
            ]
           ],
           "sequential": [
            [
             0,
             "#0d0887"
            ],
            [
             0.1111111111111111,
             "#46039f"
            ],
            [
             0.2222222222222222,
             "#7201a8"
            ],
            [
             0.3333333333333333,
             "#9c179e"
            ],
            [
             0.4444444444444444,
             "#bd3786"
            ],
            [
             0.5555555555555556,
             "#d8576b"
            ],
            [
             0.6666666666666666,
             "#ed7953"
            ],
            [
             0.7777777777777778,
             "#fb9f3a"
            ],
            [
             0.8888888888888888,
             "#fdca26"
            ],
            [
             1,
             "#f0f921"
            ]
           ],
           "sequentialminus": [
            [
             0,
             "#0d0887"
            ],
            [
             0.1111111111111111,
             "#46039f"
            ],
            [
             0.2222222222222222,
             "#7201a8"
            ],
            [
             0.3333333333333333,
             "#9c179e"
            ],
            [
             0.4444444444444444,
             "#bd3786"
            ],
            [
             0.5555555555555556,
             "#d8576b"
            ],
            [
             0.6666666666666666,
             "#ed7953"
            ],
            [
             0.7777777777777778,
             "#fb9f3a"
            ],
            [
             0.8888888888888888,
             "#fdca26"
            ],
            [
             1,
             "#f0f921"
            ]
           ]
          },
          "colorway": [
           "#636efa",
           "#EF553B",
           "#00cc96",
           "#ab63fa",
           "#FFA15A",
           "#19d3f3",
           "#FF6692",
           "#B6E880",
           "#FF97FF",
           "#FECB52"
          ],
          "font": {
           "color": "#f2f5fa"
          },
          "geo": {
           "bgcolor": "rgb(17,17,17)",
           "lakecolor": "rgb(17,17,17)",
           "landcolor": "rgb(17,17,17)",
           "showlakes": true,
           "showland": true,
           "subunitcolor": "#506784"
          },
          "hoverlabel": {
           "align": "left"
          },
          "hovermode": "closest",
          "mapbox": {
           "style": "dark"
          },
          "paper_bgcolor": "rgb(17,17,17)",
          "plot_bgcolor": "rgb(17,17,17)",
          "polar": {
           "angularaxis": {
            "gridcolor": "#506784",
            "linecolor": "#506784",
            "ticks": ""
           },
           "bgcolor": "rgb(17,17,17)",
           "radialaxis": {
            "gridcolor": "#506784",
            "linecolor": "#506784",
            "ticks": ""
           }
          },
          "scene": {
           "xaxis": {
            "backgroundcolor": "rgb(17,17,17)",
            "gridcolor": "#506784",
            "gridwidth": 2,
            "linecolor": "#506784",
            "showbackground": true,
            "ticks": "",
            "zerolinecolor": "#C8D4E3"
           },
           "yaxis": {
            "backgroundcolor": "rgb(17,17,17)",
            "gridcolor": "#506784",
            "gridwidth": 2,
            "linecolor": "#506784",
            "showbackground": true,
            "ticks": "",
            "zerolinecolor": "#C8D4E3"
           },
           "zaxis": {
            "backgroundcolor": "rgb(17,17,17)",
            "gridcolor": "#506784",
            "gridwidth": 2,
            "linecolor": "#506784",
            "showbackground": true,
            "ticks": "",
            "zerolinecolor": "#C8D4E3"
           }
          },
          "shapedefaults": {
           "line": {
            "color": "#f2f5fa"
           }
          },
          "sliderdefaults": {
           "bgcolor": "#C8D4E3",
           "bordercolor": "rgb(17,17,17)",
           "borderwidth": 1,
           "tickwidth": 0
          },
          "ternary": {
           "aaxis": {
            "gridcolor": "#506784",
            "linecolor": "#506784",
            "ticks": ""
           },
           "baxis": {
            "gridcolor": "#506784",
            "linecolor": "#506784",
            "ticks": ""
           },
           "bgcolor": "rgb(17,17,17)",
           "caxis": {
            "gridcolor": "#506784",
            "linecolor": "#506784",
            "ticks": ""
           }
          },
          "title": {
           "x": 0.05
          },
          "updatemenudefaults": {
           "bgcolor": "#506784",
           "borderwidth": 0
          },
          "xaxis": {
           "automargin": true,
           "gridcolor": "#283442",
           "linecolor": "#506784",
           "ticks": "",
           "title": {
            "standoff": 15
           },
           "zerolinecolor": "#283442",
           "zerolinewidth": 2
          },
          "yaxis": {
           "automargin": true,
           "gridcolor": "#283442",
           "linecolor": "#506784",
           "ticks": "",
           "title": {
            "standoff": 15
           },
           "zerolinecolor": "#283442",
           "zerolinewidth": 2
          }
         }
        },
        "title": {
         "text": "Bar Chart of Rolling Dice Probabilities (10,000 rolls)"
        },
        "xaxis": {
         "anchor": "y",
         "domain": [
          0,
          1
         ],
         "title": {
          "text": "X Sum of 2 dice"
         }
        },
        "yaxis": {
         "anchor": "x",
         "domain": [
          0,
          1
         ],
         "title": {
          "text": "Frequency"
         }
        }
       }
      },
      "text/html": [
       "<div>                            <div id=\"5878abfa-e73b-4e78-a3d0-02654006d13f\" class=\"plotly-graph-div\" style=\"height:525px; width:100%;\"></div>            <script type=\"text/javascript\">                require([\"plotly\"], function(Plotly) {                    window.PLOTLYENV=window.PLOTLYENV || {};                                    if (document.getElementById(\"5878abfa-e73b-4e78-a3d0-02654006d13f\")) {                    Plotly.newPlot(                        \"5878abfa-e73b-4e78-a3d0-02654006d13f\",                        [{\"alignmentgroup\": \"True\", \"hovertemplate\": \"X Sum of 2 dice=%{x}<br>Frequency=%{y}<extra></extra>\", \"legendgroup\": \"\", \"marker\": {\"color\": \"#636efa\"}, \"name\": \"\", \"offsetgroup\": \"\", \"orientation\": \"v\", \"showlegend\": false, \"textposition\": \"auto\", \"type\": \"bar\", \"x\": [2, 3, 4, 5, 6, 7, 8, 9, 10, 11, 12], \"xaxis\": \"x\", \"y\": [282, 554, 853, 1111, 1405, 1699, 1337, 1047, 854, 559, 299], \"yaxis\": \"y\"}],                        {\"barmode\": \"relative\", \"legend\": {\"tracegroupgap\": 0}, \"template\": {\"data\": {\"bar\": [{\"error_x\": {\"color\": \"#f2f5fa\"}, \"error_y\": {\"color\": \"#f2f5fa\"}, \"marker\": {\"line\": {\"color\": \"rgb(17,17,17)\", \"width\": 0.5}}, \"type\": \"bar\"}], \"barpolar\": [{\"marker\": {\"line\": {\"color\": \"rgb(17,17,17)\", \"width\": 0.5}}, \"type\": \"barpolar\"}], \"carpet\": [{\"aaxis\": {\"endlinecolor\": \"#A2B1C6\", \"gridcolor\": \"#506784\", \"linecolor\": \"#506784\", \"minorgridcolor\": \"#506784\", \"startlinecolor\": \"#A2B1C6\"}, \"baxis\": {\"endlinecolor\": \"#A2B1C6\", \"gridcolor\": \"#506784\", \"linecolor\": \"#506784\", \"minorgridcolor\": \"#506784\", \"startlinecolor\": \"#A2B1C6\"}, \"type\": \"carpet\"}], \"choropleth\": [{\"colorbar\": {\"outlinewidth\": 0, \"ticks\": \"\"}, \"type\": \"choropleth\"}], \"contour\": [{\"colorbar\": {\"outlinewidth\": 0, \"ticks\": \"\"}, \"colorscale\": [[0.0, \"#0d0887\"], [0.1111111111111111, \"#46039f\"], [0.2222222222222222, \"#7201a8\"], [0.3333333333333333, \"#9c179e\"], [0.4444444444444444, \"#bd3786\"], [0.5555555555555556, \"#d8576b\"], [0.6666666666666666, \"#ed7953\"], [0.7777777777777778, \"#fb9f3a\"], [0.8888888888888888, \"#fdca26\"], [1.0, \"#f0f921\"]], \"type\": \"contour\"}], \"contourcarpet\": [{\"colorbar\": {\"outlinewidth\": 0, \"ticks\": \"\"}, \"type\": \"contourcarpet\"}], \"heatmap\": [{\"colorbar\": {\"outlinewidth\": 0, \"ticks\": \"\"}, \"colorscale\": [[0.0, \"#0d0887\"], [0.1111111111111111, \"#46039f\"], [0.2222222222222222, \"#7201a8\"], [0.3333333333333333, \"#9c179e\"], [0.4444444444444444, \"#bd3786\"], [0.5555555555555556, \"#d8576b\"], [0.6666666666666666, \"#ed7953\"], [0.7777777777777778, \"#fb9f3a\"], [0.8888888888888888, \"#fdca26\"], [1.0, \"#f0f921\"]], \"type\": \"heatmap\"}], \"heatmapgl\": [{\"colorbar\": {\"outlinewidth\": 0, \"ticks\": \"\"}, \"colorscale\": [[0.0, \"#0d0887\"], [0.1111111111111111, \"#46039f\"], [0.2222222222222222, \"#7201a8\"], [0.3333333333333333, \"#9c179e\"], [0.4444444444444444, \"#bd3786\"], [0.5555555555555556, \"#d8576b\"], [0.6666666666666666, \"#ed7953\"], [0.7777777777777778, \"#fb9f3a\"], [0.8888888888888888, \"#fdca26\"], [1.0, \"#f0f921\"]], \"type\": \"heatmapgl\"}], \"histogram\": [{\"marker\": {\"colorbar\": {\"outlinewidth\": 0, \"ticks\": \"\"}}, \"type\": \"histogram\"}], \"histogram2d\": [{\"colorbar\": {\"outlinewidth\": 0, \"ticks\": \"\"}, \"colorscale\": [[0.0, \"#0d0887\"], [0.1111111111111111, \"#46039f\"], [0.2222222222222222, \"#7201a8\"], [0.3333333333333333, \"#9c179e\"], [0.4444444444444444, \"#bd3786\"], [0.5555555555555556, \"#d8576b\"], [0.6666666666666666, \"#ed7953\"], [0.7777777777777778, \"#fb9f3a\"], [0.8888888888888888, \"#fdca26\"], [1.0, \"#f0f921\"]], \"type\": \"histogram2d\"}], \"histogram2dcontour\": [{\"colorbar\": {\"outlinewidth\": 0, \"ticks\": \"\"}, \"colorscale\": [[0.0, \"#0d0887\"], [0.1111111111111111, \"#46039f\"], [0.2222222222222222, \"#7201a8\"], [0.3333333333333333, \"#9c179e\"], [0.4444444444444444, \"#bd3786\"], [0.5555555555555556, \"#d8576b\"], [0.6666666666666666, \"#ed7953\"], [0.7777777777777778, \"#fb9f3a\"], [0.8888888888888888, \"#fdca26\"], [1.0, \"#f0f921\"]], \"type\": \"histogram2dcontour\"}], \"mesh3d\": [{\"colorbar\": {\"outlinewidth\": 0, \"ticks\": \"\"}, \"type\": \"mesh3d\"}], \"parcoords\": [{\"line\": {\"colorbar\": {\"outlinewidth\": 0, \"ticks\": \"\"}}, \"type\": \"parcoords\"}], \"pie\": [{\"automargin\": true, \"type\": \"pie\"}], \"scatter\": [{\"marker\": {\"line\": {\"color\": \"#283442\"}}, \"type\": \"scatter\"}], \"scatter3d\": [{\"line\": {\"colorbar\": {\"outlinewidth\": 0, \"ticks\": \"\"}}, \"marker\": {\"colorbar\": {\"outlinewidth\": 0, \"ticks\": \"\"}}, \"type\": \"scatter3d\"}], \"scattercarpet\": [{\"marker\": {\"colorbar\": {\"outlinewidth\": 0, \"ticks\": \"\"}}, \"type\": \"scattercarpet\"}], \"scattergeo\": [{\"marker\": {\"colorbar\": {\"outlinewidth\": 0, \"ticks\": \"\"}}, \"type\": \"scattergeo\"}], \"scattergl\": [{\"marker\": {\"line\": {\"color\": \"#283442\"}}, \"type\": \"scattergl\"}], \"scattermapbox\": [{\"marker\": {\"colorbar\": {\"outlinewidth\": 0, \"ticks\": \"\"}}, \"type\": \"scattermapbox\"}], \"scatterpolar\": [{\"marker\": {\"colorbar\": {\"outlinewidth\": 0, \"ticks\": \"\"}}, \"type\": \"scatterpolar\"}], \"scatterpolargl\": [{\"marker\": {\"colorbar\": {\"outlinewidth\": 0, \"ticks\": \"\"}}, \"type\": \"scatterpolargl\"}], \"scatterternary\": [{\"marker\": {\"colorbar\": {\"outlinewidth\": 0, \"ticks\": \"\"}}, \"type\": \"scatterternary\"}], \"surface\": [{\"colorbar\": {\"outlinewidth\": 0, \"ticks\": \"\"}, \"colorscale\": [[0.0, \"#0d0887\"], [0.1111111111111111, \"#46039f\"], [0.2222222222222222, \"#7201a8\"], [0.3333333333333333, \"#9c179e\"], [0.4444444444444444, \"#bd3786\"], [0.5555555555555556, \"#d8576b\"], [0.6666666666666666, \"#ed7953\"], [0.7777777777777778, \"#fb9f3a\"], [0.8888888888888888, \"#fdca26\"], [1.0, \"#f0f921\"]], \"type\": \"surface\"}], \"table\": [{\"cells\": {\"fill\": {\"color\": \"#506784\"}, \"line\": {\"color\": \"rgb(17,17,17)\"}}, \"header\": {\"fill\": {\"color\": \"#2a3f5f\"}, \"line\": {\"color\": \"rgb(17,17,17)\"}}, \"type\": \"table\"}]}, \"layout\": {\"annotationdefaults\": {\"arrowcolor\": \"#f2f5fa\", \"arrowhead\": 0, \"arrowwidth\": 1}, \"autotypenumbers\": \"strict\", \"coloraxis\": {\"colorbar\": {\"outlinewidth\": 0, \"ticks\": \"\"}}, \"colorscale\": {\"diverging\": [[0, \"#8e0152\"], [0.1, \"#c51b7d\"], [0.2, \"#de77ae\"], [0.3, \"#f1b6da\"], [0.4, \"#fde0ef\"], [0.5, \"#f7f7f7\"], [0.6, \"#e6f5d0\"], [0.7, \"#b8e186\"], [0.8, \"#7fbc41\"], [0.9, \"#4d9221\"], [1, \"#276419\"]], \"sequential\": [[0.0, \"#0d0887\"], [0.1111111111111111, \"#46039f\"], [0.2222222222222222, \"#7201a8\"], [0.3333333333333333, \"#9c179e\"], [0.4444444444444444, \"#bd3786\"], [0.5555555555555556, \"#d8576b\"], [0.6666666666666666, \"#ed7953\"], [0.7777777777777778, \"#fb9f3a\"], [0.8888888888888888, \"#fdca26\"], [1.0, \"#f0f921\"]], \"sequentialminus\": [[0.0, \"#0d0887\"], [0.1111111111111111, \"#46039f\"], [0.2222222222222222, \"#7201a8\"], [0.3333333333333333, \"#9c179e\"], [0.4444444444444444, \"#bd3786\"], [0.5555555555555556, \"#d8576b\"], [0.6666666666666666, \"#ed7953\"], [0.7777777777777778, \"#fb9f3a\"], [0.8888888888888888, \"#fdca26\"], [1.0, \"#f0f921\"]]}, \"colorway\": [\"#636efa\", \"#EF553B\", \"#00cc96\", \"#ab63fa\", \"#FFA15A\", \"#19d3f3\", \"#FF6692\", \"#B6E880\", \"#FF97FF\", \"#FECB52\"], \"font\": {\"color\": \"#f2f5fa\"}, \"geo\": {\"bgcolor\": \"rgb(17,17,17)\", \"lakecolor\": \"rgb(17,17,17)\", \"landcolor\": \"rgb(17,17,17)\", \"showlakes\": true, \"showland\": true, \"subunitcolor\": \"#506784\"}, \"hoverlabel\": {\"align\": \"left\"}, \"hovermode\": \"closest\", \"mapbox\": {\"style\": \"dark\"}, \"paper_bgcolor\": \"rgb(17,17,17)\", \"plot_bgcolor\": \"rgb(17,17,17)\", \"polar\": {\"angularaxis\": {\"gridcolor\": \"#506784\", \"linecolor\": \"#506784\", \"ticks\": \"\"}, \"bgcolor\": \"rgb(17,17,17)\", \"radialaxis\": {\"gridcolor\": \"#506784\", \"linecolor\": \"#506784\", \"ticks\": \"\"}}, \"scene\": {\"xaxis\": {\"backgroundcolor\": \"rgb(17,17,17)\", \"gridcolor\": \"#506784\", \"gridwidth\": 2, \"linecolor\": \"#506784\", \"showbackground\": true, \"ticks\": \"\", \"zerolinecolor\": \"#C8D4E3\"}, \"yaxis\": {\"backgroundcolor\": \"rgb(17,17,17)\", \"gridcolor\": \"#506784\", \"gridwidth\": 2, \"linecolor\": \"#506784\", \"showbackground\": true, \"ticks\": \"\", \"zerolinecolor\": \"#C8D4E3\"}, \"zaxis\": {\"backgroundcolor\": \"rgb(17,17,17)\", \"gridcolor\": \"#506784\", \"gridwidth\": 2, \"linecolor\": \"#506784\", \"showbackground\": true, \"ticks\": \"\", \"zerolinecolor\": \"#C8D4E3\"}}, \"shapedefaults\": {\"line\": {\"color\": \"#f2f5fa\"}}, \"sliderdefaults\": {\"bgcolor\": \"#C8D4E3\", \"bordercolor\": \"rgb(17,17,17)\", \"borderwidth\": 1, \"tickwidth\": 0}, \"ternary\": {\"aaxis\": {\"gridcolor\": \"#506784\", \"linecolor\": \"#506784\", \"ticks\": \"\"}, \"baxis\": {\"gridcolor\": \"#506784\", \"linecolor\": \"#506784\", \"ticks\": \"\"}, \"bgcolor\": \"rgb(17,17,17)\", \"caxis\": {\"gridcolor\": \"#506784\", \"linecolor\": \"#506784\", \"ticks\": \"\"}}, \"title\": {\"x\": 0.05}, \"updatemenudefaults\": {\"bgcolor\": \"#506784\", \"borderwidth\": 0}, \"xaxis\": {\"automargin\": true, \"gridcolor\": \"#283442\", \"linecolor\": \"#506784\", \"ticks\": \"\", \"title\": {\"standoff\": 15}, \"zerolinecolor\": \"#283442\", \"zerolinewidth\": 2}, \"yaxis\": {\"automargin\": true, \"gridcolor\": \"#283442\", \"linecolor\": \"#506784\", \"ticks\": \"\", \"title\": {\"standoff\": 15}, \"zerolinecolor\": \"#283442\", \"zerolinewidth\": 2}}}, \"title\": {\"text\": \"Bar Chart of Rolling Dice Probabilities (10,000 rolls)\"}, \"xaxis\": {\"anchor\": \"y\", \"domain\": [0.0, 1.0], \"title\": {\"text\": \"X Sum of 2 dice\"}}, \"yaxis\": {\"anchor\": \"x\", \"domain\": [0.0, 1.0], \"title\": {\"text\": \"Frequency\"}}},                        {\"responsive\": true}                    ).then(function(){\n",
       "                            \n",
       "var gd = document.getElementById('5878abfa-e73b-4e78-a3d0-02654006d13f');\n",
       "var x = new MutationObserver(function (mutations, observer) {{\n",
       "        var display = window.getComputedStyle(gd).display;\n",
       "        if (!display || display === 'none') {{\n",
       "            console.log([gd, 'removed!']);\n",
       "            Plotly.purge(gd);\n",
       "            observer.disconnect();\n",
       "        }}\n",
       "}});\n",
       "\n",
       "// Listen for the removal of the full notebook cells\n",
       "var notebookContainer = gd.closest('#notebook-container');\n",
       "if (notebookContainer) {{\n",
       "    x.observe(notebookContainer, {childList: true});\n",
       "}}\n",
       "\n",
       "// Listen for the clearing of the current output cell\n",
       "var outputEl = gd.closest('.output');\n",
       "if (outputEl) {{\n",
       "    x.observe(outputEl, {childList: true});\n",
       "}}\n",
       "\n",
       "                        })                };                });            </script>        </div>"
      ]
     },
     "metadata": {},
     "output_type": "display_data"
    }
   ],
   "source": [
    "# bar chart of results\n",
    "px.bar(x= range(2,13),\n",
    "        y= roll_totals.RollTotal.value_counts().sort_index().tolist(),\n",
    "       title=\"Bar Chart of Rolling Dice Probabilities (10,000 rolls)\",\n",
    "       labels= {'x':'X Sum of 2 dice','y': 'Frequency'}).show()"
   ]
  },
  {
   "cell_type": "markdown",
   "id": "human-aaron",
   "metadata": {},
   "source": [
    "## random variable Emperical Distributions "
   ]
  },
  {
   "cell_type": "code",
   "execution_count": 34,
   "id": "brazilian-shore",
   "metadata": {},
   "outputs": [
    {
     "data": {
      "application/vnd.plotly.v1+json": {
       "config": {
        "plotlyServerURL": "https://plot.ly"
       },
       "data": [
        {
         "autobinx": false,
         "histnorm": "probability density",
         "legendgroup": "Height",
         "marker": {
          "color": "rgb(0, 200, 200)"
         },
         "name": "Height",
         "opacity": 0.7,
         "type": "histogram",
         "x": [
          176.2434536366324,
          153.88243586349924,
          154.71828247736545,
          149.2703137784383,
          168.6540762932468,
          136.98461303119717,
          177.4481176421648,
          152.38793099104896,
          163.190390960571,
          157.5062962452259,
          174.62107937044973,
          139.39859290502346,
          156.77582795986493,
          156.15945645331584,
          171.33769442335438,
          149.0010873268597,
          158.27571792449564,
          151.2214158207863,
          160.42213746715592,
          165.8281521371582,
          148.99380822787077,
          171.44723709839613,
          169.01590720592796,
          165.0249433890187,
          169.0085594926441,
          153.16272140825666,
          158.77109774481352,
          150.6423056574093,
          157.32111920373984,
          165.30355466738186,
          153.08339248274692,
          156.03246473144023,
          153.128272998804,
          151.5479435850128,
          153.28753869163182,
          159.873354010811,
          148.82689651364723,
          162.34415697817093,
          176.5980217710987,
          167.42044160577336,
          158.08164447638384,
          151.12371035915163,
          152.52841706249163,
          176.92454601027748,
          160.50807754776028,
          153.63004353430648,
          161.90915484667465,
          181.00255136478842,
          161.20158952481628,
          166.17203109707418,
          163.00170319955828,
          156.47750153506482,
          148.5748180197786,
          156.50657277587123,
          157.91105766625222,
          165.86623191182198,
          168.38983413874504,
          169.31102081303558,
          162.85587325254258,
          168.8514116427073,
          152.45602059003346,
          172.52868155233287,
          165.1292982041801,
          157.01907164897284,
          164.88518146537496,
          159.24428286978943,
          171.31629387451426,
          175.19816816422198,
          181.8557540653316,
          146.03503664511862,
          145.5588619457041,
          154.95534137053548,
          161.6003706944783,
          168.76168921116226,
          163.15634947241605,
          139.77798784175997,
          156.9379598737163,
          168.27974642607245,
          162.30094735364383,
          167.62011180312024,
          157.7767185738964,
          157.99241931070003,
          161.86561390988285,
          164.10051647208257,
          161.9829972012677,
          161.19008645807457,
          153.2933771371097,
          163.7756378632092,
          161.21821270991438,
          171.29483907911919,
          171.98917879901506,
          161.85156417483944,
          156.24715049909886,
          153.61269592545779,
          164.23494354064113,
          160.7734006834856,
          156.56146324428926,
          160.43596856834247,
          153.79999156051872,
          166.9803203407222,
          155.52871435214,
          172.24507704805498,
          164.034916417908,
          165.93578523237068,
          149.0508815425896,
          161.6938243305867,
          167.40556451096273,
          150.46299398192065,
          157.33781493996378,
          160.32614546693358,
          146.26882679753245,
          163.15159392042293,
          168.46160647585035,
          151.40484059168014,
          163.50545978664107,
          146.8771658876257,
          159.61304490733949,
          143.84227645296704,
          171.21417708235663,
          164.08900537936827,
          159.75383044124223,
          152.2483838083084,
          172.73755930158777,
          179.67101749254735,
          141.42018135553246,
          172.3616403045282,
          176.27650753148907,
          163.38011696574475,
          148.00731967664814,
          168.63345317544022,
          158.1907969792185,
          153.96079372206742,
          147.69941864333038,
          165.50537495976215,
          167.92806865919349,
          153.7646927032021,
          165.2057633707337,
          148.55658610376858,
          168.01861031871346,
          160.46567298424145,
          158.1343022809265,
          158.98254127470855,
          168.6888615700587,
          167.50411639865007,
          165.29465324352708,
          161.37701209997385,
          160.77821127912705,
          166.18380261998524,
          162.32494559178738,
          166.82551406864485,
          156.8988322648194,
          135.65162235892862,
          170.38824601859415,
          181.86979646974257,
          164.41364443568582,
          158.998447667165,
          158.63555256103967,
          158.8094581222519,
          160.17409408300006,
          148.7798127125311,
          154.82905542079772,
          150.02973172349738,
          162.4879916138777,
          157.03358847629138,
          164.9521132397796,
          158.252968402575,
          169.86335187821243,
          162.1353390133544,
          181.90699728969733,
          141.0363907710891,
          153.53083311745092,
          169.0148689164871,
          185.283257068064,
          157.5136522228454,
          160.4366899317839,
          157.73685757486396,
          173.31457112587591,
          157.1269213652398,
          166.80069839878104,
          156.80198401101327,
          147.27441244754004,
          163.13547720463433,
          165.03184813435325,
          172.9322588253226,
          158.89552973582684,
          153.8263793628764,
          165.62761096619028,
          162.4073709223773,
          162.8066507712264,
          159.2688729625272,
          171.6033856999377,
          163.69492716375723,
          179.0465870834098,
          171.11056698560503,
          166.59049796100211,
          143.72561659383743,
          166.0231928029563,
          164.2028220364706,
          168.10951672803554,
          170.4444209470726
         ],
         "xaxis": "x",
         "xbins": {
          "end": 185.283257068064,
          "size": 5,
          "start": 135.65162235892862
         },
         "yaxis": "y"
        },
        {
         "legendgroup": "Height",
         "marker": {
          "color": "rgb(0, 200, 200)"
         },
         "mode": "lines",
         "name": "Height",
         "showlegend": false,
         "type": "scatter",
         "x": [
          135.65162235892862,
          135.75088562834688,
          135.85014889776517,
          135.94941216718343,
          136.0486754366017,
          136.14793870601997,
          136.24720197543823,
          136.34646524485652,
          136.44572851427478,
          136.54499178369306,
          136.64425505311132,
          136.7435183225296,
          136.84278159194787,
          136.94204486136613,
          137.04130813078442,
          137.14057140020267,
          137.23983466962096,
          137.33909793903922,
          137.43836120845748,
          137.53762447787577,
          137.63688774729403,
          137.7361510167123,
          137.83541428613057,
          137.93467755554886,
          138.03394082496712,
          138.13320409438538,
          138.23246736380366,
          138.33173063322192,
          138.4309939026402,
          138.53025717205847,
          138.62952044147673,
          138.72878371089502,
          138.82804698031327,
          138.92731024973156,
          139.02657351914982,
          139.1258367885681,
          139.22510005798637,
          139.32436332740463,
          139.4236265968229,
          139.52288986624117,
          139.62215313565946,
          139.72141640507772,
          139.82067967449598,
          139.91994294391426,
          140.01920621333252,
          140.1184694827508,
          140.21773275216907,
          140.31699602158736,
          140.41625929100562,
          140.51552256042388,
          140.61478582984216,
          140.71404909926042,
          140.8133123686787,
          140.91257563809697,
          141.01183890751523,
          141.1111021769335,
          141.21036544635177,
          141.30962871577006,
          141.40889198518832,
          141.5081552546066,
          141.60741852402487,
          141.70668179344312,
          141.8059450628614,
          141.90520833227967,
          142.00447160169796,
          142.10373487111622,
          142.20299814053448,
          142.30226140995276,
          142.40152467937102,
          142.5007879487893,
          142.60005121820757,
          142.69931448762586,
          142.79857775704411,
          142.89784102646237,
          142.99710429588066,
          143.09636756529892,
          143.1956308347172,
          143.29489410413547,
          143.39415737355372,
          143.493420642972,
          143.59268391239027,
          143.69194718180856,
          143.79121045122682,
          143.8904737206451,
          143.98973699006336,
          144.08900025948162,
          144.1882635288999,
          144.28752679831817,
          144.38679006773646,
          144.48605333715471,
          144.58531660657297,
          144.68457987599126,
          144.78384314540952,
          144.8831064148278,
          144.98236968424607,
          145.08163295366435,
          145.1808962230826,
          145.28015949250087,
          145.37942276191916,
          145.47868603133742,
          145.5779493007557,
          145.67721257017396,
          145.77647583959222,
          145.8757391090105,
          145.97500237842877,
          146.07426564784706,
          146.17352891726532,
          146.2727921866836,
          146.37205545610186,
          146.47131872552012,
          146.5705819949384,
          146.66984526435667,
          146.76910853377495,
          146.8683718031932,
          146.96763507261147,
          147.06689834202976,
          147.16616161144802,
          147.2654248808663,
          147.36468815028456,
          147.46395141970282,
          147.5632146891211,
          147.66247795853937,
          147.76174122795766,
          147.86100449737592,
          147.9602677667942,
          148.05953103621246,
          148.15879430563072,
          148.258057575049,
          148.35732084446727,
          148.45658411388555,
          148.5558473833038,
          148.6551106527221,
          148.75437392214036,
          148.85363719155862,
          148.9529004609769,
          149.05216373039516,
          149.15142699981345,
          149.2506902692317,
          149.34995353864997,
          149.44921680806826,
          149.54848007748652,
          149.6477433469048,
          149.74700661632306,
          149.84626988574132,
          149.9455331551596,
          150.04479642457787,
          150.14405969399616,
          150.2433229634144,
          150.3425862328327,
          150.44184950225096,
          150.54111277166922,
          150.6403760410875,
          150.73963931050577,
          150.83890257992405,
          150.9381658493423,
          151.0374291187606,
          151.13669238817886,
          151.23595565759712,
          151.3352189270154,
          151.43448219643366,
          151.53374546585195,
          151.6330087352702,
          151.73227200468847,
          151.83153527410676,
          151.93079854352501,
          152.0300618129433,
          152.12932508236156,
          152.22858835177982,
          152.3278516211981,
          152.42711489061637,
          152.52637816003465,
          152.6256414294529,
          152.7249046988712,
          152.82416796828946,
          152.92343123770772,
          153.022694507126,
          153.12195777654426,
          153.22122104596255,
          153.3204843153808,
          153.4197475847991,
          153.51901085421736,
          153.61827412363562,
          153.7175373930539,
          153.81680066247216,
          153.91606393189045,
          154.0153272013087,
          154.11459047072697,
          154.21385374014525,
          154.3131170095635,
          154.4123802789818,
          154.51164354840006,
          154.61090681781832,
          154.7101700872366,
          154.80943335665486,
          154.90869662607315,
          155.0079598954914,
          155.10722316490967,
          155.20648643432796,
          155.30574970374622,
          155.4050129731645,
          155.50427624258276,
          155.60353951200105,
          155.7028027814193,
          155.8020660508376,
          155.90132932025585,
          156.0005925896741,
          156.0998558590924,
          156.19911912851066,
          156.29838239792895,
          156.3976456673472,
          156.49690893676546,
          156.59617220618375,
          156.695435475602,
          156.7946987450203,
          156.89396201443856,
          156.99322528385682,
          157.0924885532751,
          157.19175182269336,
          157.29101509211165,
          157.3902783615299,
          157.4895416309482,
          157.58880490036645,
          157.6880681697847,
          157.787331439203,
          157.88659470862126,
          157.98585797803955,
          158.0851212474578,
          158.1843845168761,
          158.28364778629435,
          158.3829110557126,
          158.4821743251309,
          158.58143759454916,
          158.68070086396745,
          158.7799641333857,
          158.87922740280396,
          158.97849067222225,
          159.0777539416405,
          159.1770172110588,
          159.27628048047706,
          159.37554374989531,
          159.4748070193136,
          159.57407028873186,
          159.67333355815015,
          159.7725968275684,
          159.87186009698667,
          159.97112336640495,
          160.0703866358232,
          160.1696499052415,
          160.26891317465976,
          160.36817644407805,
          160.4674397134963,
          160.56670298291456,
          160.66596625233285,
          160.7652295217511,
          160.8644927911694,
          160.96375606058766,
          161.06301933000594,
          161.1622825994242,
          161.26154586884246,
          161.36080913826075,
          161.460072407679,
          161.5593356770973,
          161.65859894651555,
          161.7578622159338,
          161.8571254853521,
          161.95638875477036,
          162.05565202418865,
          162.1549152936069,
          162.25417856302516,
          162.35344183244345,
          162.4527051018617,
          162.55196837128,
          162.65123164069826,
          162.75049491011654,
          162.8497581795348,
          162.94902144895306,
          163.04828471837135,
          163.1475479877896,
          163.2468112572079,
          163.34607452662615,
          163.44533779604444,
          163.5446010654627,
          163.64386433488096,
          163.74312760429925,
          163.8423908737175,
          163.9416541431358,
          164.04091741255405,
          164.1401806819723,
          164.2394439513906,
          164.33870722080886,
          164.43797049022714,
          164.5372337596454,
          164.63649702906366,
          164.73576029848195,
          164.8350235679002,
          164.9342868373185,
          165.03355010673675,
          165.13281337615504,
          165.2320766455733,
          165.33133991499156,
          165.43060318440985,
          165.5298664538281,
          165.6291297232464,
          165.72839299266465,
          165.82765626208294,
          165.9269195315012,
          166.02618280091946,
          166.12544607033774,
          166.224709339756,
          166.3239726091743,
          166.42323587859255,
          166.5224991480108,
          166.6217624174291,
          166.72102568684736,
          166.82028895626564,
          166.9195522256839,
          167.01881549510216,
          167.11807876452045,
          167.2173420339387,
          167.316605303357,
          167.41586857277525,
          167.51513184219354,
          167.6143951116118,
          167.7136583810301,
          167.81292165044835,
          167.9121849198666,
          168.0114481892849,
          168.11071145870315,
          168.20997472812144,
          168.3092379975397,
          168.40850126695796,
          168.50776453637621,
          168.6070278057945,
          168.7062910752128,
          168.80555434463105,
          168.9048176140493,
          169.0040808834676,
          169.10334415288585,
          169.20260742230414,
          169.3018706917224,
          169.40113396114066,
          169.50039723055895,
          169.5996604999772,
          169.6989237693955,
          169.79818703881375,
          169.897450308232,
          169.9967135776503,
          170.09597684706856,
          170.19524011648684,
          170.2945033859051,
          170.39376665532336,
          170.49302992474165,
          170.59229319415994,
          170.6915564635782,
          170.79081973299645,
          170.89008300241474,
          170.989346271833,
          171.0886095412513,
          171.18787281066955,
          171.2871360800878,
          171.3863993495061,
          171.48566261892435,
          171.58492588834264,
          171.6841891577609,
          171.78345242717916,
          171.88271569659744,
          171.9819789660157,
          172.081242235434,
          172.18050550485225,
          172.2797687742705,
          172.3790320436888,
          172.47829531310705,
          172.57755858252534,
          172.6768218519436,
          172.77608512136186,
          172.87534839078015,
          172.97461166019843,
          173.0738749296167,
          173.17313819903495,
          173.2724014684532,
          173.3716647378715,
          173.47092800728979,
          173.57019127670804,
          173.6694545461263,
          173.7687178155446,
          173.86798108496285,
          173.96724435438114,
          174.0665076237994,
          174.16577089321765,
          174.26503416263594,
          174.3642974320542,
          174.4635607014725,
          174.56282397089075,
          174.662087240309,
          174.7613505097273,
          174.86061377914555,
          174.95987704856384,
          175.0591403179821,
          175.15840358740036,
          175.25766685681864,
          175.35693012623693,
          175.4561933956552,
          175.55545666507345,
          175.65471993449174,
          175.75398320391,
          175.85324647332828,
          175.95250974274654,
          176.0517730121648,
          176.1510362815831,
          176.25029955100135,
          176.34956282041964,
          176.4488260898379,
          176.54808935925615,
          176.64735262867444,
          176.7466158980927,
          176.845879167511,
          176.94514243692925,
          177.0444057063475,
          177.1436689757658,
          177.24293224518405,
          177.34219551460234,
          177.4414587840206,
          177.54072205343886,
          177.63998532285714,
          177.7392485922754,
          177.8385118616937,
          177.93777513111195,
          178.0370384005302,
          178.1363016699485,
          178.23556493936678,
          178.33482820878504,
          178.4340914782033,
          178.5333547476216,
          178.63261801703985,
          178.73188128645813,
          178.8311445558764,
          178.93040782529465,
          179.02967109471294,
          179.1289343641312,
          179.22819763354948,
          179.32746090296774,
          179.426724172386,
          179.5259874418043,
          179.62525071122255,
          179.72451398064084,
          179.8237772500591,
          179.92304051947735,
          180.02230378889564,
          180.1215670583139,
          180.2208303277322,
          180.32009359715045,
          180.41935686656873,
          180.518620135987,
          180.61788340540528,
          180.71714667482354,
          180.8164099442418,
          180.91567321366006,
          181.01493648307834,
          181.11419975249663,
          181.2134630219149,
          181.31272629133315,
          181.41198956075144,
          181.5112528301697,
          181.61051609958798,
          181.70977936900624,
          181.8090426384245,
          181.9083059078428,
          182.00756917726105,
          182.10683244667933,
          182.2060957160976,
          182.30535898551585,
          182.40462225493414,
          182.50388552435243,
          182.60314879377069,
          182.70241206318894,
          182.8016753326072,
          182.9009386020255,
          183.00020187144378,
          183.09946514086204,
          183.1987284102803,
          183.29799167969858,
          183.39725494911684,
          183.49651821853513,
          183.5957814879534,
          183.69504475737165,
          183.79430802678993,
          183.8935712962082,
          183.99283456562648,
          184.09209783504474,
          184.191361104463,
          184.2906243738813,
          184.38988764329955,
          184.48915091271783,
          184.5884141821361,
          184.68767745155435,
          184.78694072097264,
          184.8862039903909,
          184.98546725980918,
          185.08473052922744,
          185.1839937986457
         ],
         "xaxis": "x",
         "y": [
          0.002116834480135869,
          0.0021671073109484004,
          0.0022175200262380262,
          0.0022680466180086873,
          0.002318661692077397,
          0.0023693405470029995,
          0.002420059253272643,
          0.00247079473287089,
          0.002521524839365973,
          0.0025722284386524227,
          0.002622885490488687,
          0.002673477130963866,
          0.0027239857560163987,
          0.00277439510611261,
          0.002824690352171236,
          0.0028748581827941263,
          0.002924886892831847,
          0.0029747664732761537,
          0.003024488702430965,
          0.0030740472382677518,
          0.0031234377118224323,
          0.0031726578214393334,
          0.003221707427611495,
          0.0032705886481116447,
          0.0033193059530478956,
          0.003367866259421435,
          0.003416279024703034,
          0.0034645563388888087,
          0.0035127130144392525,
          0.0035607666734519833,
          0.0036087378313693023,
          0.0036566499764752944,
          0.003704529644396762,
          0.003752406486787115,
          0.0038003133333433113,
          0.003848286246284693,
          0.003896364566407914,
          0.00394459094982666,
          0.003993011394506927,
          0.004041675255720353,
          0.0040906352495587595,
          0.004139947443682588,
          0.004189671234515867,
          0.004239869310148675,
          0.004290607598266328,
          0.00434195519849191,
          0.004393984298604244,
          0.004446770074178496,
          0.004500390571288138,
          0.004554926572007389,
          0.004610461442558943,
          0.004667080964064492,
          0.004724873145972943,
          0.004783928022362687,
          0.004844337431439887,
          0.004906194778681789,
          0.004969594784203206,
          0.005034633215053939,
          0.005101406603282818,
          0.005170011950731788,
          0.005240546421646634,
          0.005313107024311968,
          0.005387790283032574,
          0.005464691901892757,
          0.005543906421827826,
          0.0056255268726352736,
          0.005709644421639708,
          0.005796348020800134,
          0.005885724054113863,
          0.0059778559872251235,
          0.006072824021187397,
          0.00617070475235882,
          0.006271570840424687,
          0.006375490686545013,
          0.006482528123612269,
          0.006592742120580029,
          0.006706186502783178,
          0.006822909690115781,
          0.006942954454865399,
          0.00706635770091938,
          0.007193150265962999,
          0.00732335674818015,
          0.007456995358843885,
          0.007594077802050825,
          0.007734609182705752,
          0.007878587943707317,
          0.008026005833117683,
          0.00817684790192357,
          0.00833109253281493,
          0.008488711500213504,
          0.008649670061594483,
          0.008813927079939972,
          0.008981435176966585,
          0.00915214091656562,
          0.009325985017692823,
          0.009502902595747778,
          0.009682823431285853,
          0.00986567226471852,
          0.010051369115473701,
          0.010239829623915385,
          0.010430965414159256,
          0.010624684475767535,
          0.0108208915621711,
          0.01101948860354123,
          0.011220375131726844,
          0.011423448714783783,
          0.011628605398547712,
          0.011835740152652489,
          0.012044747318358966,
          0.01225552105554881,
          0.01246795578624293,
          0.012681946632033585,
          0.012897389842868309,
          0.013114183214691408,
          0.013332226493540707,
          0.01355142176380393,
          0.013771673818466331,
          0.013992890509329317,
          0.01421498307533355,
          0.014437866447304432,
          0.01466145952761689,
          0.014885685443483312,
          0.01511047177277296,
          0.015335750741487192,
          0.015561459392237357,
          0.0157875397232924,
          0.016013938797989395,
          0.01624060882451934,
          0.016467507206318163,
          0.016694596563504267,
          0.01692184472600224,
          0.017149224699186446,
          0.017376714603051117,
          0.017604297586080172,
          0.01783196171513175,
          0.018059699842782825,
          0.01828750945368748,
          0.018515392491589268,
          0.01874335516869805,
          0.018971407759186147,
          0.019199564378585006,
          0.019427842750867064,
          0.01965626396498048,
          0.019884852222568927,
          0.02011363457855208,
          0.020342640676169827,
          0.02057190247800615,
          0.020801453994402717,
          0.021031331010561427,
          0.021261570813505732,
          0.02149221191994493,
          0.021723293805940663,
          0.021954856639142643,
          0.022186941014216883,
          0.022419587691953326,
          0.022652837342410134,
          0.022886730292324724,
          0.023121306276910333,
          0.023356604196051525,
          0.023592661874825345,
          0.023829515828201513,
          0.02406720102971626,
          0.02430575068387963,
          0.02454519600205242,
          0.024785565981529995,
          0.025026887187588755,
          0.025269183538285365,
          0.025512476091857778,
          0.025756782836645495,
          0.02600211848353681,
          0.026248494261052743,
          0.026495917713289893,
          0.026744392501071534,
          0.026993918206784012,
          0.027244490143516837,
          0.027496099169258523,
          0.02774873150704053,
          0.02800236857205562,
          0.028256986806900714,
          0.02851255752621543,
          0.028769046772086974,
          0.029026415181685243,
          0.029284617868659667,
          0.02954360431987991,
          0.02980331830913502,
          0.030063697829402686,
          0.030324675045287193,
          0.03058617626717178,
          0.030848121948560316,
          0.031110426707982284,
          0.031372999376706276,
          0.03163574307335658,
          0.03189855530634804,
          0.03216132810485425,
          0.0324239481788043,
          0.03268629710815972,
          0.03294825156147167,
          0.03320968354344609,
          0.03347046067096778,
          0.033730446476752,
          0.03398950073950192,
          0.03424747983917045,
          0.034504237135640964,
          0.03475962336887665,
          0.035013487078327105,
          0.03526567503914523,
          0.03551603271254547,
          0.03576440470744093,
          0.03601063525032873,
          0.03625456866025182,
          0.036496049825562114,
          0.03673492467913325,
          0.03697104066863396,
          0.03720424721847575,
          0.03743439618007429,
          0.03766134226714789,
          0.03788494347287311,
          0.03810506146587045,
          0.03832156196216573,
          0.038534315070483785,
          0.0387431956084713,
          0.038948083387712204,
          0.03914886346568853,
          0.03934542636315153,
          0.03953766824569586,
          0.03972549106866929,
          0.03990880268490066,
          0.040087516915082125,
          0.04026155358099713,
          0.040430838502133935,
          0.040595303456569004,
          0.04075488610733278,
          0.040909529895785744,
          0.0410591839038259,
          0.04120380268702133,
          0.041343346081005386,
          0.041477778983689456,
          0.04160707111603411,
          0.04173119676426952,
          0.041850134506578686,
          0.04196386692733412,
          0.04207238032203106,
          0.042175664396069096,
          0.0422737119605084,
          0.04236651862787267,
          0.04245408251097351,
          0.04253640392761231,
          0.04261348511385936,
          0.04268532994843219,
          0.04275194369048953,
          0.04281333273293275,
          0.04286950437306176,
          0.04292046660217493,
          0.04296622791543225,
          0.04300679714302306,
          0.043042183303399116,
          0.04307239547904982,
          0.04309744271501876,
          0.04311733394008596,
          0.043132077910277906,
          0.04314168317411435,
          0.04314615805876722,
          0.043145510676086095,
          0.043139748947248244,
          0.043128880644613635,
          0.04311291344921231,
          0.04309185502216396,
          0.04306571308822502,
          0.04303449552958284,
          0.04299821048796586,
          0.042956866473113434,
          0.04291047247565024,
          0.04285903808243563,
          0.04280257359250885,
          0.042741090131820175,
          0.04267459976503285,
          0.04260311560278992,
          0.04252665190296868,
          0.04244522416458726,
          0.04235884921318329,
          0.042267545276647805,
          0.04217133205067147,
          0.042070230753134805,
          0.04196426416695615,
          0.041853456671089355,
          0.041737834259541605,
          0.0416174245484546,
          0.04149225677146094,
          0.04136236176368398,
          0.04122777193490165,
          0.04108852123252815,
          0.04094464509519599,
          0.040796180397828063,
          0.04064316538918748,
          0.040485639622971796,
          0.040323643883582644,
          0.040157220107751135,
          0.03998641130322918,
          0.03981126146577458,
          0.03963181549565724,
          0.039448119114900274,
          0.03926021878643984,
          0.03906816163634597,
          0.0388719953801941,
          0.03867176825460819,
          0.0384675289549255,
          0.03825932657984518,
          0.03804721058383541,
          0.03783123073797543,
          0.03761143709980602,
          0.03738787999266312,
          0.03716060999485446,
          0.03692967793894214,
          0.03669513492128009,
          0.03645703232185457,
          0.03621542183437508,
          0.0359703555064615,
          0.03572188578968383,
          0.03547006559911883,
          0.035214948382006825,
          0.034956588195015195,
          0.03469503978954263,
          0.03443035870443678,
          0.03416260136543833,
          0.033891825190615496,
          0.033618088701007215,
          0.033341451635656556,
          0.03306197507018417,
          0.03277972153802396,
          0.03249475515342554,
          0.03220714173530923,
          0.031916948931052666,
          0.03162424633927756,
          0.031329105630706865,
          0.031031600666161216,
          0.030731807610769383,
          0.030429805043475616,
          0.030125674060938655,
          0.02981949837492517,
          0.029511364402327555,
          0.029201361346941054,
          0.028889581272170377,
          0.028576119163849587,
          0.028261072982392464,
          0.027944543703519422,
          0.027626635346838686,
          0.027307454991600505,
          0.02698711277898084,
          0.02666572190029743,
          0.026343398570612596,
          0.026020261987227844,
          0.025696434272638975,
          0.02537204040158146,
          0.025047208111867288,
          0.024722067798789098,
          0.024396752392948202,
          0.024071397221448177,
          0.023746139852485453,
          0.02342111992346606,
          0.023096478952873402,
          0.02277236013621882,
          0.022448908126510268,
          0.022126268799783192,
          0.02180458900635008,
          0.021484016308531334,
          0.021164698705744726,
          0.020846784347935885,
          0.02053042123843815,
          0.020215756927454018,
          0.01990293819744332,
          0.019592110741795985,
          0.01928341883824919,
          0.018977005018579095,
          0.01867300973616598,
          0.018371571033078665,
          0.018072824208368803,
          0.017776901489290408,
          0.017483931707175042,
          0.017194039979692585,
          0.01690734740121404,
          0.016623970742961135,
          0.016344022164585532,
          0.016067608938759585,
          0.0157948331902884,
          0.015525791651165976,
          0.01526057543289653,
          0.014999269817290314,
          0.014741954066820356,
          0.01448870125549014,
          0.014239578121023099,
          0.013994644939032462,
          0.013753955419675877,
          0.013517556627141571,
          0.013285488922148727,
          0.013057785927487048,
          0.012834474516457878,
          0.012615574823923306,
          0.012401100279519938,
          0.012191057662446264,
          0.011985447177098445,
          0.011784262548702736,
          0.01158749113797426,
          0.011395114073733132,
          0.011207106402315474,
          0.011023437252544123,
          0.010844070014959023,
          0.010668962533967843,
          0.010498067311540524,
          0.010331331721062216,
          0.010168698229956577,
          0.010010104629707521,
          0.009855484271937809,
          0.009704766309244179,
          0.009557875939545277,
          0.009414734652764052,
          0.009275260478742211,
          0.00913936823537,
          0.009006969776004235,
          0.008877974235345695,
          0.00875228827304652,
          0.008629816314420205,
          0.008510460787730496,
          0.008394122357635267,
          0.008280700154461135,
          0.008170091999077814,
          0.008062194623229144,
          0.007956903885260203,
          0.007854114981251003,
          0.007753722651632864,
          0.007655621383416885,
          0.007559705608206456,
          0.007465869896200006,
          0.00737400914640986,
          0.007284018773334531,
          0.0071957948903186054,
          0.007109234489826086,
          0.007024235620827082,
          0.006940697563469932,
          0.006858521001168438,
          0.0067776081901867995,
          0.006697863126751224,
          0.006619191711656142,
          0.006541501912270557,
          0.006464703921782712,
          0.006388710315453494,
          0.006313436203582002,
          0.006238799380819085,
          0.00616472047140245,
          0.006091123069826544,
          0.006017933876406491,
          0.00594508282714821,
          0.005872503217295608,
          0.005800131817894955,
          0.005727908984692799,
          0.005655778758671613,
          0.005583688957523711,
          0.0055115912573721944,
          0.0054394412640654385,
          0.0053671985734004505,
          0.005294826819669366,
          0.0052222937119723685,
          0.005149571057798574,
          0.005076634773443696,
          0.005003464880907846,
          0.004930045491000187,
          0.004856364772463278,
          0.00478241490702559,
          0.004708192030385356,
          0.004633696159229448,
          0.004558931104491993,
          0.004483904371157185,
          0.004408627045011646,
          0.004333113666848075,
          0.004257382094715759,
          0.004181453354902591,
          0.004105351482416282,
          0.004029103351808709,
          0.003952738499256279,
          0.003876288936869477,
          0.0037997889602562267,
          0.0037232749504057623,
          0.0036467851709914693,
          0.003570359562213018,
          0.0034940395323102866,
          0.0034178677478821037,
          0.0033418879241350567,
          0.0032661446161685852,
          0.0031906830123746054,
          0.0031155487309936824,
          0.0030407876208236734,
          0.00296644556702477,
          0.002892568302904586,
          0.002819201228501014,
          0.0027463892367101516,
          0.0026741765476302635,
          0.0026026065517147897,
          0.002531721662246044,
          0.0024615631775575224,
          0.0023921711533515877,
          0.002323584285373457
         ],
         "yaxis": "y"
        },
        {
         "legendgroup": "Height",
         "marker": {
          "color": "rgb(0, 200, 200)",
          "symbol": "line-ns-open"
         },
         "mode": "markers",
         "name": "Height",
         "showlegend": false,
         "type": "scatter",
         "x": [
          176.2434536366324,
          153.88243586349924,
          154.71828247736545,
          149.2703137784383,
          168.6540762932468,
          136.98461303119717,
          177.4481176421648,
          152.38793099104896,
          163.190390960571,
          157.5062962452259,
          174.62107937044973,
          139.39859290502346,
          156.77582795986493,
          156.15945645331584,
          171.33769442335438,
          149.0010873268597,
          158.27571792449564,
          151.2214158207863,
          160.42213746715592,
          165.8281521371582,
          148.99380822787077,
          171.44723709839613,
          169.01590720592796,
          165.0249433890187,
          169.0085594926441,
          153.16272140825666,
          158.77109774481352,
          150.6423056574093,
          157.32111920373984,
          165.30355466738186,
          153.08339248274692,
          156.03246473144023,
          153.128272998804,
          151.5479435850128,
          153.28753869163182,
          159.873354010811,
          148.82689651364723,
          162.34415697817093,
          176.5980217710987,
          167.42044160577336,
          158.08164447638384,
          151.12371035915163,
          152.52841706249163,
          176.92454601027748,
          160.50807754776028,
          153.63004353430648,
          161.90915484667465,
          181.00255136478842,
          161.20158952481628,
          166.17203109707418,
          163.00170319955828,
          156.47750153506482,
          148.5748180197786,
          156.50657277587123,
          157.91105766625222,
          165.86623191182198,
          168.38983413874504,
          169.31102081303558,
          162.85587325254258,
          168.8514116427073,
          152.45602059003346,
          172.52868155233287,
          165.1292982041801,
          157.01907164897284,
          164.88518146537496,
          159.24428286978943,
          171.31629387451426,
          175.19816816422198,
          181.8557540653316,
          146.03503664511862,
          145.5588619457041,
          154.95534137053548,
          161.6003706944783,
          168.76168921116226,
          163.15634947241605,
          139.77798784175997,
          156.9379598737163,
          168.27974642607245,
          162.30094735364383,
          167.62011180312024,
          157.7767185738964,
          157.99241931070003,
          161.86561390988285,
          164.10051647208257,
          161.9829972012677,
          161.19008645807457,
          153.2933771371097,
          163.7756378632092,
          161.21821270991438,
          171.29483907911919,
          171.98917879901506,
          161.85156417483944,
          156.24715049909886,
          153.61269592545779,
          164.23494354064113,
          160.7734006834856,
          156.56146324428926,
          160.43596856834247,
          153.79999156051872,
          166.9803203407222,
          155.52871435214,
          172.24507704805498,
          164.034916417908,
          165.93578523237068,
          149.0508815425896,
          161.6938243305867,
          167.40556451096273,
          150.46299398192065,
          157.33781493996378,
          160.32614546693358,
          146.26882679753245,
          163.15159392042293,
          168.46160647585035,
          151.40484059168014,
          163.50545978664107,
          146.8771658876257,
          159.61304490733949,
          143.84227645296704,
          171.21417708235663,
          164.08900537936827,
          159.75383044124223,
          152.2483838083084,
          172.73755930158777,
          179.67101749254735,
          141.42018135553246,
          172.3616403045282,
          176.27650753148907,
          163.38011696574475,
          148.00731967664814,
          168.63345317544022,
          158.1907969792185,
          153.96079372206742,
          147.69941864333038,
          165.50537495976215,
          167.92806865919349,
          153.7646927032021,
          165.2057633707337,
          148.55658610376858,
          168.01861031871346,
          160.46567298424145,
          158.1343022809265,
          158.98254127470855,
          168.6888615700587,
          167.50411639865007,
          165.29465324352708,
          161.37701209997385,
          160.77821127912705,
          166.18380261998524,
          162.32494559178738,
          166.82551406864485,
          156.8988322648194,
          135.65162235892862,
          170.38824601859415,
          181.86979646974257,
          164.41364443568582,
          158.998447667165,
          158.63555256103967,
          158.8094581222519,
          160.17409408300006,
          148.7798127125311,
          154.82905542079772,
          150.02973172349738,
          162.4879916138777,
          157.03358847629138,
          164.9521132397796,
          158.252968402575,
          169.86335187821243,
          162.1353390133544,
          181.90699728969733,
          141.0363907710891,
          153.53083311745092,
          169.0148689164871,
          185.283257068064,
          157.5136522228454,
          160.4366899317839,
          157.73685757486396,
          173.31457112587591,
          157.1269213652398,
          166.80069839878104,
          156.80198401101327,
          147.27441244754004,
          163.13547720463433,
          165.03184813435325,
          172.9322588253226,
          158.89552973582684,
          153.8263793628764,
          165.62761096619028,
          162.4073709223773,
          162.8066507712264,
          159.2688729625272,
          171.6033856999377,
          163.69492716375723,
          179.0465870834098,
          171.11056698560503,
          166.59049796100211,
          143.72561659383743,
          166.0231928029563,
          164.2028220364706,
          168.10951672803554,
          170.4444209470726
         ],
         "xaxis": "x",
         "y": [
          "Height",
          "Height",
          "Height",
          "Height",
          "Height",
          "Height",
          "Height",
          "Height",
          "Height",
          "Height",
          "Height",
          "Height",
          "Height",
          "Height",
          "Height",
          "Height",
          "Height",
          "Height",
          "Height",
          "Height",
          "Height",
          "Height",
          "Height",
          "Height",
          "Height",
          "Height",
          "Height",
          "Height",
          "Height",
          "Height",
          "Height",
          "Height",
          "Height",
          "Height",
          "Height",
          "Height",
          "Height",
          "Height",
          "Height",
          "Height",
          "Height",
          "Height",
          "Height",
          "Height",
          "Height",
          "Height",
          "Height",
          "Height",
          "Height",
          "Height",
          "Height",
          "Height",
          "Height",
          "Height",
          "Height",
          "Height",
          "Height",
          "Height",
          "Height",
          "Height",
          "Height",
          "Height",
          "Height",
          "Height",
          "Height",
          "Height",
          "Height",
          "Height",
          "Height",
          "Height",
          "Height",
          "Height",
          "Height",
          "Height",
          "Height",
          "Height",
          "Height",
          "Height",
          "Height",
          "Height",
          "Height",
          "Height",
          "Height",
          "Height",
          "Height",
          "Height",
          "Height",
          "Height",
          "Height",
          "Height",
          "Height",
          "Height",
          "Height",
          "Height",
          "Height",
          "Height",
          "Height",
          "Height",
          "Height",
          "Height",
          "Height",
          "Height",
          "Height",
          "Height",
          "Height",
          "Height",
          "Height",
          "Height",
          "Height",
          "Height",
          "Height",
          "Height",
          "Height",
          "Height",
          "Height",
          "Height",
          "Height",
          "Height",
          "Height",
          "Height",
          "Height",
          "Height",
          "Height",
          "Height",
          "Height",
          "Height",
          "Height",
          "Height",
          "Height",
          "Height",
          "Height",
          "Height",
          "Height",
          "Height",
          "Height",
          "Height",
          "Height",
          "Height",
          "Height",
          "Height",
          "Height",
          "Height",
          "Height",
          "Height",
          "Height",
          "Height",
          "Height",
          "Height",
          "Height",
          "Height",
          "Height",
          "Height",
          "Height",
          "Height",
          "Height",
          "Height",
          "Height",
          "Height",
          "Height",
          "Height",
          "Height",
          "Height",
          "Height",
          "Height",
          "Height",
          "Height",
          "Height",
          "Height",
          "Height",
          "Height",
          "Height",
          "Height",
          "Height",
          "Height",
          "Height",
          "Height",
          "Height",
          "Height",
          "Height",
          "Height",
          "Height",
          "Height",
          "Height",
          "Height",
          "Height",
          "Height",
          "Height",
          "Height",
          "Height",
          "Height",
          "Height",
          "Height",
          "Height",
          "Height",
          "Height",
          "Height",
          "Height",
          "Height",
          "Height",
          "Height"
         ],
         "yaxis": "y2"
        }
       ],
       "layout": {
        "barmode": "overlay",
        "hovermode": "closest",
        "legend": {
         "traceorder": "reversed"
        },
        "template": {
         "data": {
          "bar": [
           {
            "error_x": {
             "color": "#f2f5fa"
            },
            "error_y": {
             "color": "#f2f5fa"
            },
            "marker": {
             "line": {
              "color": "rgb(17,17,17)",
              "width": 0.5
             }
            },
            "type": "bar"
           }
          ],
          "barpolar": [
           {
            "marker": {
             "line": {
              "color": "rgb(17,17,17)",
              "width": 0.5
             }
            },
            "type": "barpolar"
           }
          ],
          "carpet": [
           {
            "aaxis": {
             "endlinecolor": "#A2B1C6",
             "gridcolor": "#506784",
             "linecolor": "#506784",
             "minorgridcolor": "#506784",
             "startlinecolor": "#A2B1C6"
            },
            "baxis": {
             "endlinecolor": "#A2B1C6",
             "gridcolor": "#506784",
             "linecolor": "#506784",
             "minorgridcolor": "#506784",
             "startlinecolor": "#A2B1C6"
            },
            "type": "carpet"
           }
          ],
          "choropleth": [
           {
            "colorbar": {
             "outlinewidth": 0,
             "ticks": ""
            },
            "type": "choropleth"
           }
          ],
          "contour": [
           {
            "colorbar": {
             "outlinewidth": 0,
             "ticks": ""
            },
            "colorscale": [
             [
              0,
              "#0d0887"
             ],
             [
              0.1111111111111111,
              "#46039f"
             ],
             [
              0.2222222222222222,
              "#7201a8"
             ],
             [
              0.3333333333333333,
              "#9c179e"
             ],
             [
              0.4444444444444444,
              "#bd3786"
             ],
             [
              0.5555555555555556,
              "#d8576b"
             ],
             [
              0.6666666666666666,
              "#ed7953"
             ],
             [
              0.7777777777777778,
              "#fb9f3a"
             ],
             [
              0.8888888888888888,
              "#fdca26"
             ],
             [
              1,
              "#f0f921"
             ]
            ],
            "type": "contour"
           }
          ],
          "contourcarpet": [
           {
            "colorbar": {
             "outlinewidth": 0,
             "ticks": ""
            },
            "type": "contourcarpet"
           }
          ],
          "heatmap": [
           {
            "colorbar": {
             "outlinewidth": 0,
             "ticks": ""
            },
            "colorscale": [
             [
              0,
              "#0d0887"
             ],
             [
              0.1111111111111111,
              "#46039f"
             ],
             [
              0.2222222222222222,
              "#7201a8"
             ],
             [
              0.3333333333333333,
              "#9c179e"
             ],
             [
              0.4444444444444444,
              "#bd3786"
             ],
             [
              0.5555555555555556,
              "#d8576b"
             ],
             [
              0.6666666666666666,
              "#ed7953"
             ],
             [
              0.7777777777777778,
              "#fb9f3a"
             ],
             [
              0.8888888888888888,
              "#fdca26"
             ],
             [
              1,
              "#f0f921"
             ]
            ],
            "type": "heatmap"
           }
          ],
          "heatmapgl": [
           {
            "colorbar": {
             "outlinewidth": 0,
             "ticks": ""
            },
            "colorscale": [
             [
              0,
              "#0d0887"
             ],
             [
              0.1111111111111111,
              "#46039f"
             ],
             [
              0.2222222222222222,
              "#7201a8"
             ],
             [
              0.3333333333333333,
              "#9c179e"
             ],
             [
              0.4444444444444444,
              "#bd3786"
             ],
             [
              0.5555555555555556,
              "#d8576b"
             ],
             [
              0.6666666666666666,
              "#ed7953"
             ],
             [
              0.7777777777777778,
              "#fb9f3a"
             ],
             [
              0.8888888888888888,
              "#fdca26"
             ],
             [
              1,
              "#f0f921"
             ]
            ],
            "type": "heatmapgl"
           }
          ],
          "histogram": [
           {
            "marker": {
             "colorbar": {
              "outlinewidth": 0,
              "ticks": ""
             }
            },
            "type": "histogram"
           }
          ],
          "histogram2d": [
           {
            "colorbar": {
             "outlinewidth": 0,
             "ticks": ""
            },
            "colorscale": [
             [
              0,
              "#0d0887"
             ],
             [
              0.1111111111111111,
              "#46039f"
             ],
             [
              0.2222222222222222,
              "#7201a8"
             ],
             [
              0.3333333333333333,
              "#9c179e"
             ],
             [
              0.4444444444444444,
              "#bd3786"
             ],
             [
              0.5555555555555556,
              "#d8576b"
             ],
             [
              0.6666666666666666,
              "#ed7953"
             ],
             [
              0.7777777777777778,
              "#fb9f3a"
             ],
             [
              0.8888888888888888,
              "#fdca26"
             ],
             [
              1,
              "#f0f921"
             ]
            ],
            "type": "histogram2d"
           }
          ],
          "histogram2dcontour": [
           {
            "colorbar": {
             "outlinewidth": 0,
             "ticks": ""
            },
            "colorscale": [
             [
              0,
              "#0d0887"
             ],
             [
              0.1111111111111111,
              "#46039f"
             ],
             [
              0.2222222222222222,
              "#7201a8"
             ],
             [
              0.3333333333333333,
              "#9c179e"
             ],
             [
              0.4444444444444444,
              "#bd3786"
             ],
             [
              0.5555555555555556,
              "#d8576b"
             ],
             [
              0.6666666666666666,
              "#ed7953"
             ],
             [
              0.7777777777777778,
              "#fb9f3a"
             ],
             [
              0.8888888888888888,
              "#fdca26"
             ],
             [
              1,
              "#f0f921"
             ]
            ],
            "type": "histogram2dcontour"
           }
          ],
          "mesh3d": [
           {
            "colorbar": {
             "outlinewidth": 0,
             "ticks": ""
            },
            "type": "mesh3d"
           }
          ],
          "parcoords": [
           {
            "line": {
             "colorbar": {
              "outlinewidth": 0,
              "ticks": ""
             }
            },
            "type": "parcoords"
           }
          ],
          "pie": [
           {
            "automargin": true,
            "type": "pie"
           }
          ],
          "scatter": [
           {
            "marker": {
             "line": {
              "color": "#283442"
             }
            },
            "type": "scatter"
           }
          ],
          "scatter3d": [
           {
            "line": {
             "colorbar": {
              "outlinewidth": 0,
              "ticks": ""
             }
            },
            "marker": {
             "colorbar": {
              "outlinewidth": 0,
              "ticks": ""
             }
            },
            "type": "scatter3d"
           }
          ],
          "scattercarpet": [
           {
            "marker": {
             "colorbar": {
              "outlinewidth": 0,
              "ticks": ""
             }
            },
            "type": "scattercarpet"
           }
          ],
          "scattergeo": [
           {
            "marker": {
             "colorbar": {
              "outlinewidth": 0,
              "ticks": ""
             }
            },
            "type": "scattergeo"
           }
          ],
          "scattergl": [
           {
            "marker": {
             "line": {
              "color": "#283442"
             }
            },
            "type": "scattergl"
           }
          ],
          "scattermapbox": [
           {
            "marker": {
             "colorbar": {
              "outlinewidth": 0,
              "ticks": ""
             }
            },
            "type": "scattermapbox"
           }
          ],
          "scatterpolar": [
           {
            "marker": {
             "colorbar": {
              "outlinewidth": 0,
              "ticks": ""
             }
            },
            "type": "scatterpolar"
           }
          ],
          "scatterpolargl": [
           {
            "marker": {
             "colorbar": {
              "outlinewidth": 0,
              "ticks": ""
             }
            },
            "type": "scatterpolargl"
           }
          ],
          "scatterternary": [
           {
            "marker": {
             "colorbar": {
              "outlinewidth": 0,
              "ticks": ""
             }
            },
            "type": "scatterternary"
           }
          ],
          "surface": [
           {
            "colorbar": {
             "outlinewidth": 0,
             "ticks": ""
            },
            "colorscale": [
             [
              0,
              "#0d0887"
             ],
             [
              0.1111111111111111,
              "#46039f"
             ],
             [
              0.2222222222222222,
              "#7201a8"
             ],
             [
              0.3333333333333333,
              "#9c179e"
             ],
             [
              0.4444444444444444,
              "#bd3786"
             ],
             [
              0.5555555555555556,
              "#d8576b"
             ],
             [
              0.6666666666666666,
              "#ed7953"
             ],
             [
              0.7777777777777778,
              "#fb9f3a"
             ],
             [
              0.8888888888888888,
              "#fdca26"
             ],
             [
              1,
              "#f0f921"
             ]
            ],
            "type": "surface"
           }
          ],
          "table": [
           {
            "cells": {
             "fill": {
              "color": "#506784"
             },
             "line": {
              "color": "rgb(17,17,17)"
             }
            },
            "header": {
             "fill": {
              "color": "#2a3f5f"
             },
             "line": {
              "color": "rgb(17,17,17)"
             }
            },
            "type": "table"
           }
          ]
         },
         "layout": {
          "annotationdefaults": {
           "arrowcolor": "#f2f5fa",
           "arrowhead": 0,
           "arrowwidth": 1
          },
          "autotypenumbers": "strict",
          "coloraxis": {
           "colorbar": {
            "outlinewidth": 0,
            "ticks": ""
           }
          },
          "colorscale": {
           "diverging": [
            [
             0,
             "#8e0152"
            ],
            [
             0.1,
             "#c51b7d"
            ],
            [
             0.2,
             "#de77ae"
            ],
            [
             0.3,
             "#f1b6da"
            ],
            [
             0.4,
             "#fde0ef"
            ],
            [
             0.5,
             "#f7f7f7"
            ],
            [
             0.6,
             "#e6f5d0"
            ],
            [
             0.7,
             "#b8e186"
            ],
            [
             0.8,
             "#7fbc41"
            ],
            [
             0.9,
             "#4d9221"
            ],
            [
             1,
             "#276419"
            ]
           ],
           "sequential": [
            [
             0,
             "#0d0887"
            ],
            [
             0.1111111111111111,
             "#46039f"
            ],
            [
             0.2222222222222222,
             "#7201a8"
            ],
            [
             0.3333333333333333,
             "#9c179e"
            ],
            [
             0.4444444444444444,
             "#bd3786"
            ],
            [
             0.5555555555555556,
             "#d8576b"
            ],
            [
             0.6666666666666666,
             "#ed7953"
            ],
            [
             0.7777777777777778,
             "#fb9f3a"
            ],
            [
             0.8888888888888888,
             "#fdca26"
            ],
            [
             1,
             "#f0f921"
            ]
           ],
           "sequentialminus": [
            [
             0,
             "#0d0887"
            ],
            [
             0.1111111111111111,
             "#46039f"
            ],
            [
             0.2222222222222222,
             "#7201a8"
            ],
            [
             0.3333333333333333,
             "#9c179e"
            ],
            [
             0.4444444444444444,
             "#bd3786"
            ],
            [
             0.5555555555555556,
             "#d8576b"
            ],
            [
             0.6666666666666666,
             "#ed7953"
            ],
            [
             0.7777777777777778,
             "#fb9f3a"
            ],
            [
             0.8888888888888888,
             "#fdca26"
            ],
            [
             1,
             "#f0f921"
            ]
           ]
          },
          "colorway": [
           "#636efa",
           "#EF553B",
           "#00cc96",
           "#ab63fa",
           "#FFA15A",
           "#19d3f3",
           "#FF6692",
           "#B6E880",
           "#FF97FF",
           "#FECB52"
          ],
          "font": {
           "color": "#f2f5fa"
          },
          "geo": {
           "bgcolor": "rgb(17,17,17)",
           "lakecolor": "rgb(17,17,17)",
           "landcolor": "rgb(17,17,17)",
           "showlakes": true,
           "showland": true,
           "subunitcolor": "#506784"
          },
          "hoverlabel": {
           "align": "left"
          },
          "hovermode": "closest",
          "mapbox": {
           "style": "dark"
          },
          "paper_bgcolor": "rgb(17,17,17)",
          "plot_bgcolor": "rgb(17,17,17)",
          "polar": {
           "angularaxis": {
            "gridcolor": "#506784",
            "linecolor": "#506784",
            "ticks": ""
           },
           "bgcolor": "rgb(17,17,17)",
           "radialaxis": {
            "gridcolor": "#506784",
            "linecolor": "#506784",
            "ticks": ""
           }
          },
          "scene": {
           "xaxis": {
            "backgroundcolor": "rgb(17,17,17)",
            "gridcolor": "#506784",
            "gridwidth": 2,
            "linecolor": "#506784",
            "showbackground": true,
            "ticks": "",
            "zerolinecolor": "#C8D4E3"
           },
           "yaxis": {
            "backgroundcolor": "rgb(17,17,17)",
            "gridcolor": "#506784",
            "gridwidth": 2,
            "linecolor": "#506784",
            "showbackground": true,
            "ticks": "",
            "zerolinecolor": "#C8D4E3"
           },
           "zaxis": {
            "backgroundcolor": "rgb(17,17,17)",
            "gridcolor": "#506784",
            "gridwidth": 2,
            "linecolor": "#506784",
            "showbackground": true,
            "ticks": "",
            "zerolinecolor": "#C8D4E3"
           }
          },
          "shapedefaults": {
           "line": {
            "color": "#f2f5fa"
           }
          },
          "sliderdefaults": {
           "bgcolor": "#C8D4E3",
           "bordercolor": "rgb(17,17,17)",
           "borderwidth": 1,
           "tickwidth": 0
          },
          "ternary": {
           "aaxis": {
            "gridcolor": "#506784",
            "linecolor": "#506784",
            "ticks": ""
           },
           "baxis": {
            "gridcolor": "#506784",
            "linecolor": "#506784",
            "ticks": ""
           },
           "bgcolor": "rgb(17,17,17)",
           "caxis": {
            "gridcolor": "#506784",
            "linecolor": "#506784",
            "ticks": ""
           }
          },
          "title": {
           "x": 0.05
          },
          "updatemenudefaults": {
           "bgcolor": "#506784",
           "borderwidth": 0
          },
          "xaxis": {
           "automargin": true,
           "gridcolor": "#283442",
           "linecolor": "#506784",
           "ticks": "",
           "title": {
            "standoff": 15
           },
           "zerolinecolor": "#283442",
           "zerolinewidth": 2
          },
          "yaxis": {
           "automargin": true,
           "gridcolor": "#283442",
           "linecolor": "#506784",
           "ticks": "",
           "title": {
            "standoff": 15
           },
           "zerolinecolor": "#283442",
           "zerolinewidth": 2
          }
         }
        },
        "xaxis": {
         "anchor": "y2",
         "domain": [
          0,
          1
         ],
         "zeroline": false
        },
        "yaxis": {
         "anchor": "free",
         "domain": [
          0.35,
          1
         ],
         "position": 0
        },
        "yaxis2": {
         "anchor": "x",
         "domain": [
          0,
          0.25
         ],
         "dtick": 1,
         "showticklabels": false
        }
       }
      },
      "text/html": [
       "<div>                            <div id=\"53a11e72-47db-4bf0-abc5-3220caf97634\" class=\"plotly-graph-div\" style=\"height:525px; width:100%;\"></div>            <script type=\"text/javascript\">                require([\"plotly\"], function(Plotly) {                    window.PLOTLYENV=window.PLOTLYENV || {};                                    if (document.getElementById(\"53a11e72-47db-4bf0-abc5-3220caf97634\")) {                    Plotly.newPlot(                        \"53a11e72-47db-4bf0-abc5-3220caf97634\",                        [{\"autobinx\": false, \"histnorm\": \"probability density\", \"legendgroup\": \"Height\", \"marker\": {\"color\": \"rgb(0, 200, 200)\"}, \"name\": \"Height\", \"opacity\": 0.7, \"type\": \"histogram\", \"x\": [176.2434536366324, 153.88243586349924, 154.71828247736545, 149.2703137784383, 168.6540762932468, 136.98461303119717, 177.4481176421648, 152.38793099104896, 163.190390960571, 157.5062962452259, 174.62107937044973, 139.39859290502346, 156.77582795986493, 156.15945645331584, 171.33769442335438, 149.0010873268597, 158.27571792449564, 151.2214158207863, 160.42213746715592, 165.8281521371582, 148.99380822787077, 171.44723709839613, 169.01590720592796, 165.0249433890187, 169.0085594926441, 153.16272140825666, 158.77109774481352, 150.6423056574093, 157.32111920373984, 165.30355466738186, 153.08339248274692, 156.03246473144023, 153.128272998804, 151.5479435850128, 153.28753869163182, 159.873354010811, 148.82689651364723, 162.34415697817093, 176.5980217710987, 167.42044160577336, 158.08164447638384, 151.12371035915163, 152.52841706249163, 176.92454601027748, 160.50807754776028, 153.63004353430648, 161.90915484667465, 181.00255136478842, 161.20158952481628, 166.17203109707418, 163.00170319955828, 156.47750153506482, 148.5748180197786, 156.50657277587123, 157.91105766625222, 165.86623191182198, 168.38983413874504, 169.31102081303558, 162.85587325254258, 168.8514116427073, 152.45602059003346, 172.52868155233287, 165.1292982041801, 157.01907164897284, 164.88518146537496, 159.24428286978943, 171.31629387451426, 175.19816816422198, 181.8557540653316, 146.03503664511862, 145.5588619457041, 154.95534137053548, 161.6003706944783, 168.76168921116226, 163.15634947241605, 139.77798784175997, 156.9379598737163, 168.27974642607245, 162.30094735364383, 167.62011180312024, 157.7767185738964, 157.99241931070003, 161.86561390988285, 164.10051647208257, 161.9829972012677, 161.19008645807457, 153.2933771371097, 163.7756378632092, 161.21821270991438, 171.29483907911919, 171.98917879901506, 161.85156417483944, 156.24715049909886, 153.61269592545779, 164.23494354064113, 160.7734006834856, 156.56146324428926, 160.43596856834247, 153.79999156051872, 166.9803203407222, 155.52871435214, 172.24507704805498, 164.034916417908, 165.93578523237068, 149.0508815425896, 161.6938243305867, 167.40556451096273, 150.46299398192065, 157.33781493996378, 160.32614546693358, 146.26882679753245, 163.15159392042293, 168.46160647585035, 151.40484059168014, 163.50545978664107, 146.8771658876257, 159.61304490733949, 143.84227645296704, 171.21417708235663, 164.08900537936827, 159.75383044124223, 152.2483838083084, 172.73755930158777, 179.67101749254735, 141.42018135553246, 172.3616403045282, 176.27650753148907, 163.38011696574475, 148.00731967664814, 168.63345317544022, 158.1907969792185, 153.96079372206742, 147.69941864333038, 165.50537495976215, 167.92806865919349, 153.7646927032021, 165.2057633707337, 148.55658610376858, 168.01861031871346, 160.46567298424145, 158.1343022809265, 158.98254127470855, 168.6888615700587, 167.50411639865007, 165.29465324352708, 161.37701209997385, 160.77821127912705, 166.18380261998524, 162.32494559178738, 166.82551406864485, 156.8988322648194, 135.65162235892862, 170.38824601859415, 181.86979646974257, 164.41364443568582, 158.998447667165, 158.63555256103967, 158.8094581222519, 160.17409408300006, 148.7798127125311, 154.82905542079772, 150.02973172349738, 162.4879916138777, 157.03358847629138, 164.9521132397796, 158.252968402575, 169.86335187821243, 162.1353390133544, 181.90699728969733, 141.0363907710891, 153.53083311745092, 169.0148689164871, 185.283257068064, 157.5136522228454, 160.4366899317839, 157.73685757486396, 173.31457112587591, 157.1269213652398, 166.80069839878104, 156.80198401101327, 147.27441244754004, 163.13547720463433, 165.03184813435325, 172.9322588253226, 158.89552973582684, 153.8263793628764, 165.62761096619028, 162.4073709223773, 162.8066507712264, 159.2688729625272, 171.6033856999377, 163.69492716375723, 179.0465870834098, 171.11056698560503, 166.59049796100211, 143.72561659383743, 166.0231928029563, 164.2028220364706, 168.10951672803554, 170.4444209470726], \"xaxis\": \"x\", \"xbins\": {\"end\": 185.283257068064, \"size\": 5, \"start\": 135.65162235892862}, \"yaxis\": \"y\"}, {\"legendgroup\": \"Height\", \"marker\": {\"color\": \"rgb(0, 200, 200)\"}, \"mode\": \"lines\", \"name\": \"Height\", \"showlegend\": false, \"type\": \"scatter\", \"x\": [135.65162235892862, 135.75088562834688, 135.85014889776517, 135.94941216718343, 136.0486754366017, 136.14793870601997, 136.24720197543823, 136.34646524485652, 136.44572851427478, 136.54499178369306, 136.64425505311132, 136.7435183225296, 136.84278159194787, 136.94204486136613, 137.04130813078442, 137.14057140020267, 137.23983466962096, 137.33909793903922, 137.43836120845748, 137.53762447787577, 137.63688774729403, 137.7361510167123, 137.83541428613057, 137.93467755554886, 138.03394082496712, 138.13320409438538, 138.23246736380366, 138.33173063322192, 138.4309939026402, 138.53025717205847, 138.62952044147673, 138.72878371089502, 138.82804698031327, 138.92731024973156, 139.02657351914982, 139.1258367885681, 139.22510005798637, 139.32436332740463, 139.4236265968229, 139.52288986624117, 139.62215313565946, 139.72141640507772, 139.82067967449598, 139.91994294391426, 140.01920621333252, 140.1184694827508, 140.21773275216907, 140.31699602158736, 140.41625929100562, 140.51552256042388, 140.61478582984216, 140.71404909926042, 140.8133123686787, 140.91257563809697, 141.01183890751523, 141.1111021769335, 141.21036544635177, 141.30962871577006, 141.40889198518832, 141.5081552546066, 141.60741852402487, 141.70668179344312, 141.8059450628614, 141.90520833227967, 142.00447160169796, 142.10373487111622, 142.20299814053448, 142.30226140995276, 142.40152467937102, 142.5007879487893, 142.60005121820757, 142.69931448762586, 142.79857775704411, 142.89784102646237, 142.99710429588066, 143.09636756529892, 143.1956308347172, 143.29489410413547, 143.39415737355372, 143.493420642972, 143.59268391239027, 143.69194718180856, 143.79121045122682, 143.8904737206451, 143.98973699006336, 144.08900025948162, 144.1882635288999, 144.28752679831817, 144.38679006773646, 144.48605333715471, 144.58531660657297, 144.68457987599126, 144.78384314540952, 144.8831064148278, 144.98236968424607, 145.08163295366435, 145.1808962230826, 145.28015949250087, 145.37942276191916, 145.47868603133742, 145.5779493007557, 145.67721257017396, 145.77647583959222, 145.8757391090105, 145.97500237842877, 146.07426564784706, 146.17352891726532, 146.2727921866836, 146.37205545610186, 146.47131872552012, 146.5705819949384, 146.66984526435667, 146.76910853377495, 146.8683718031932, 146.96763507261147, 147.06689834202976, 147.16616161144802, 147.2654248808663, 147.36468815028456, 147.46395141970282, 147.5632146891211, 147.66247795853937, 147.76174122795766, 147.86100449737592, 147.9602677667942, 148.05953103621246, 148.15879430563072, 148.258057575049, 148.35732084446727, 148.45658411388555, 148.5558473833038, 148.6551106527221, 148.75437392214036, 148.85363719155862, 148.9529004609769, 149.05216373039516, 149.15142699981345, 149.2506902692317, 149.34995353864997, 149.44921680806826, 149.54848007748652, 149.6477433469048, 149.74700661632306, 149.84626988574132, 149.9455331551596, 150.04479642457787, 150.14405969399616, 150.2433229634144, 150.3425862328327, 150.44184950225096, 150.54111277166922, 150.6403760410875, 150.73963931050577, 150.83890257992405, 150.9381658493423, 151.0374291187606, 151.13669238817886, 151.23595565759712, 151.3352189270154, 151.43448219643366, 151.53374546585195, 151.6330087352702, 151.73227200468847, 151.83153527410676, 151.93079854352501, 152.0300618129433, 152.12932508236156, 152.22858835177982, 152.3278516211981, 152.42711489061637, 152.52637816003465, 152.6256414294529, 152.7249046988712, 152.82416796828946, 152.92343123770772, 153.022694507126, 153.12195777654426, 153.22122104596255, 153.3204843153808, 153.4197475847991, 153.51901085421736, 153.61827412363562, 153.7175373930539, 153.81680066247216, 153.91606393189045, 154.0153272013087, 154.11459047072697, 154.21385374014525, 154.3131170095635, 154.4123802789818, 154.51164354840006, 154.61090681781832, 154.7101700872366, 154.80943335665486, 154.90869662607315, 155.0079598954914, 155.10722316490967, 155.20648643432796, 155.30574970374622, 155.4050129731645, 155.50427624258276, 155.60353951200105, 155.7028027814193, 155.8020660508376, 155.90132932025585, 156.0005925896741, 156.0998558590924, 156.19911912851066, 156.29838239792895, 156.3976456673472, 156.49690893676546, 156.59617220618375, 156.695435475602, 156.7946987450203, 156.89396201443856, 156.99322528385682, 157.0924885532751, 157.19175182269336, 157.29101509211165, 157.3902783615299, 157.4895416309482, 157.58880490036645, 157.6880681697847, 157.787331439203, 157.88659470862126, 157.98585797803955, 158.0851212474578, 158.1843845168761, 158.28364778629435, 158.3829110557126, 158.4821743251309, 158.58143759454916, 158.68070086396745, 158.7799641333857, 158.87922740280396, 158.97849067222225, 159.0777539416405, 159.1770172110588, 159.27628048047706, 159.37554374989531, 159.4748070193136, 159.57407028873186, 159.67333355815015, 159.7725968275684, 159.87186009698667, 159.97112336640495, 160.0703866358232, 160.1696499052415, 160.26891317465976, 160.36817644407805, 160.4674397134963, 160.56670298291456, 160.66596625233285, 160.7652295217511, 160.8644927911694, 160.96375606058766, 161.06301933000594, 161.1622825994242, 161.26154586884246, 161.36080913826075, 161.460072407679, 161.5593356770973, 161.65859894651555, 161.7578622159338, 161.8571254853521, 161.95638875477036, 162.05565202418865, 162.1549152936069, 162.25417856302516, 162.35344183244345, 162.4527051018617, 162.55196837128, 162.65123164069826, 162.75049491011654, 162.8497581795348, 162.94902144895306, 163.04828471837135, 163.1475479877896, 163.2468112572079, 163.34607452662615, 163.44533779604444, 163.5446010654627, 163.64386433488096, 163.74312760429925, 163.8423908737175, 163.9416541431358, 164.04091741255405, 164.1401806819723, 164.2394439513906, 164.33870722080886, 164.43797049022714, 164.5372337596454, 164.63649702906366, 164.73576029848195, 164.8350235679002, 164.9342868373185, 165.03355010673675, 165.13281337615504, 165.2320766455733, 165.33133991499156, 165.43060318440985, 165.5298664538281, 165.6291297232464, 165.72839299266465, 165.82765626208294, 165.9269195315012, 166.02618280091946, 166.12544607033774, 166.224709339756, 166.3239726091743, 166.42323587859255, 166.5224991480108, 166.6217624174291, 166.72102568684736, 166.82028895626564, 166.9195522256839, 167.01881549510216, 167.11807876452045, 167.2173420339387, 167.316605303357, 167.41586857277525, 167.51513184219354, 167.6143951116118, 167.7136583810301, 167.81292165044835, 167.9121849198666, 168.0114481892849, 168.11071145870315, 168.20997472812144, 168.3092379975397, 168.40850126695796, 168.50776453637621, 168.6070278057945, 168.7062910752128, 168.80555434463105, 168.9048176140493, 169.0040808834676, 169.10334415288585, 169.20260742230414, 169.3018706917224, 169.40113396114066, 169.50039723055895, 169.5996604999772, 169.6989237693955, 169.79818703881375, 169.897450308232, 169.9967135776503, 170.09597684706856, 170.19524011648684, 170.2945033859051, 170.39376665532336, 170.49302992474165, 170.59229319415994, 170.6915564635782, 170.79081973299645, 170.89008300241474, 170.989346271833, 171.0886095412513, 171.18787281066955, 171.2871360800878, 171.3863993495061, 171.48566261892435, 171.58492588834264, 171.6841891577609, 171.78345242717916, 171.88271569659744, 171.9819789660157, 172.081242235434, 172.18050550485225, 172.2797687742705, 172.3790320436888, 172.47829531310705, 172.57755858252534, 172.6768218519436, 172.77608512136186, 172.87534839078015, 172.97461166019843, 173.0738749296167, 173.17313819903495, 173.2724014684532, 173.3716647378715, 173.47092800728979, 173.57019127670804, 173.6694545461263, 173.7687178155446, 173.86798108496285, 173.96724435438114, 174.0665076237994, 174.16577089321765, 174.26503416263594, 174.3642974320542, 174.4635607014725, 174.56282397089075, 174.662087240309, 174.7613505097273, 174.86061377914555, 174.95987704856384, 175.0591403179821, 175.15840358740036, 175.25766685681864, 175.35693012623693, 175.4561933956552, 175.55545666507345, 175.65471993449174, 175.75398320391, 175.85324647332828, 175.95250974274654, 176.0517730121648, 176.1510362815831, 176.25029955100135, 176.34956282041964, 176.4488260898379, 176.54808935925615, 176.64735262867444, 176.7466158980927, 176.845879167511, 176.94514243692925, 177.0444057063475, 177.1436689757658, 177.24293224518405, 177.34219551460234, 177.4414587840206, 177.54072205343886, 177.63998532285714, 177.7392485922754, 177.8385118616937, 177.93777513111195, 178.0370384005302, 178.1363016699485, 178.23556493936678, 178.33482820878504, 178.4340914782033, 178.5333547476216, 178.63261801703985, 178.73188128645813, 178.8311445558764, 178.93040782529465, 179.02967109471294, 179.1289343641312, 179.22819763354948, 179.32746090296774, 179.426724172386, 179.5259874418043, 179.62525071122255, 179.72451398064084, 179.8237772500591, 179.92304051947735, 180.02230378889564, 180.1215670583139, 180.2208303277322, 180.32009359715045, 180.41935686656873, 180.518620135987, 180.61788340540528, 180.71714667482354, 180.8164099442418, 180.91567321366006, 181.01493648307834, 181.11419975249663, 181.2134630219149, 181.31272629133315, 181.41198956075144, 181.5112528301697, 181.61051609958798, 181.70977936900624, 181.8090426384245, 181.9083059078428, 182.00756917726105, 182.10683244667933, 182.2060957160976, 182.30535898551585, 182.40462225493414, 182.50388552435243, 182.60314879377069, 182.70241206318894, 182.8016753326072, 182.9009386020255, 183.00020187144378, 183.09946514086204, 183.1987284102803, 183.29799167969858, 183.39725494911684, 183.49651821853513, 183.5957814879534, 183.69504475737165, 183.79430802678993, 183.8935712962082, 183.99283456562648, 184.09209783504474, 184.191361104463, 184.2906243738813, 184.38988764329955, 184.48915091271783, 184.5884141821361, 184.68767745155435, 184.78694072097264, 184.8862039903909, 184.98546725980918, 185.08473052922744, 185.1839937986457], \"xaxis\": \"x\", \"y\": [0.002116834480135869, 0.0021671073109484004, 0.0022175200262380262, 0.0022680466180086873, 0.002318661692077397, 0.0023693405470029995, 0.002420059253272643, 0.00247079473287089, 0.002521524839365973, 0.0025722284386524227, 0.002622885490488687, 0.002673477130963866, 0.0027239857560163987, 0.00277439510611261, 0.002824690352171236, 0.0028748581827941263, 0.002924886892831847, 0.0029747664732761537, 0.003024488702430965, 0.0030740472382677518, 0.0031234377118224323, 0.0031726578214393334, 0.003221707427611495, 0.0032705886481116447, 0.0033193059530478956, 0.003367866259421435, 0.003416279024703034, 0.0034645563388888087, 0.0035127130144392525, 0.0035607666734519833, 0.0036087378313693023, 0.0036566499764752944, 0.003704529644396762, 0.003752406486787115, 0.0038003133333433113, 0.003848286246284693, 0.003896364566407914, 0.00394459094982666, 0.003993011394506927, 0.004041675255720353, 0.0040906352495587595, 0.004139947443682588, 0.004189671234515867, 0.004239869310148675, 0.004290607598266328, 0.00434195519849191, 0.004393984298604244, 0.004446770074178496, 0.004500390571288138, 0.004554926572007389, 0.004610461442558943, 0.004667080964064492, 0.004724873145972943, 0.004783928022362687, 0.004844337431439887, 0.004906194778681789, 0.004969594784203206, 0.005034633215053939, 0.005101406603282818, 0.005170011950731788, 0.005240546421646634, 0.005313107024311968, 0.005387790283032574, 0.005464691901892757, 0.005543906421827826, 0.0056255268726352736, 0.005709644421639708, 0.005796348020800134, 0.005885724054113863, 0.0059778559872251235, 0.006072824021187397, 0.00617070475235882, 0.006271570840424687, 0.006375490686545013, 0.006482528123612269, 0.006592742120580029, 0.006706186502783178, 0.006822909690115781, 0.006942954454865399, 0.00706635770091938, 0.007193150265962999, 0.00732335674818015, 0.007456995358843885, 0.007594077802050825, 0.007734609182705752, 0.007878587943707317, 0.008026005833117683, 0.00817684790192357, 0.00833109253281493, 0.008488711500213504, 0.008649670061594483, 0.008813927079939972, 0.008981435176966585, 0.00915214091656562, 0.009325985017692823, 0.009502902595747778, 0.009682823431285853, 0.00986567226471852, 0.010051369115473701, 0.010239829623915385, 0.010430965414159256, 0.010624684475767535, 0.0108208915621711, 0.01101948860354123, 0.011220375131726844, 0.011423448714783783, 0.011628605398547712, 0.011835740152652489, 0.012044747318358966, 0.01225552105554881, 0.01246795578624293, 0.012681946632033585, 0.012897389842868309, 0.013114183214691408, 0.013332226493540707, 0.01355142176380393, 0.013771673818466331, 0.013992890509329317, 0.01421498307533355, 0.014437866447304432, 0.01466145952761689, 0.014885685443483312, 0.01511047177277296, 0.015335750741487192, 0.015561459392237357, 0.0157875397232924, 0.016013938797989395, 0.01624060882451934, 0.016467507206318163, 0.016694596563504267, 0.01692184472600224, 0.017149224699186446, 0.017376714603051117, 0.017604297586080172, 0.01783196171513175, 0.018059699842782825, 0.01828750945368748, 0.018515392491589268, 0.01874335516869805, 0.018971407759186147, 0.019199564378585006, 0.019427842750867064, 0.01965626396498048, 0.019884852222568927, 0.02011363457855208, 0.020342640676169827, 0.02057190247800615, 0.020801453994402717, 0.021031331010561427, 0.021261570813505732, 0.02149221191994493, 0.021723293805940663, 0.021954856639142643, 0.022186941014216883, 0.022419587691953326, 0.022652837342410134, 0.022886730292324724, 0.023121306276910333, 0.023356604196051525, 0.023592661874825345, 0.023829515828201513, 0.02406720102971626, 0.02430575068387963, 0.02454519600205242, 0.024785565981529995, 0.025026887187588755, 0.025269183538285365, 0.025512476091857778, 0.025756782836645495, 0.02600211848353681, 0.026248494261052743, 0.026495917713289893, 0.026744392501071534, 0.026993918206784012, 0.027244490143516837, 0.027496099169258523, 0.02774873150704053, 0.02800236857205562, 0.028256986806900714, 0.02851255752621543, 0.028769046772086974, 0.029026415181685243, 0.029284617868659667, 0.02954360431987991, 0.02980331830913502, 0.030063697829402686, 0.030324675045287193, 0.03058617626717178, 0.030848121948560316, 0.031110426707982284, 0.031372999376706276, 0.03163574307335658, 0.03189855530634804, 0.03216132810485425, 0.0324239481788043, 0.03268629710815972, 0.03294825156147167, 0.03320968354344609, 0.03347046067096778, 0.033730446476752, 0.03398950073950192, 0.03424747983917045, 0.034504237135640964, 0.03475962336887665, 0.035013487078327105, 0.03526567503914523, 0.03551603271254547, 0.03576440470744093, 0.03601063525032873, 0.03625456866025182, 0.036496049825562114, 0.03673492467913325, 0.03697104066863396, 0.03720424721847575, 0.03743439618007429, 0.03766134226714789, 0.03788494347287311, 0.03810506146587045, 0.03832156196216573, 0.038534315070483785, 0.0387431956084713, 0.038948083387712204, 0.03914886346568853, 0.03934542636315153, 0.03953766824569586, 0.03972549106866929, 0.03990880268490066, 0.040087516915082125, 0.04026155358099713, 0.040430838502133935, 0.040595303456569004, 0.04075488610733278, 0.040909529895785744, 0.0410591839038259, 0.04120380268702133, 0.041343346081005386, 0.041477778983689456, 0.04160707111603411, 0.04173119676426952, 0.041850134506578686, 0.04196386692733412, 0.04207238032203106, 0.042175664396069096, 0.0422737119605084, 0.04236651862787267, 0.04245408251097351, 0.04253640392761231, 0.04261348511385936, 0.04268532994843219, 0.04275194369048953, 0.04281333273293275, 0.04286950437306176, 0.04292046660217493, 0.04296622791543225, 0.04300679714302306, 0.043042183303399116, 0.04307239547904982, 0.04309744271501876, 0.04311733394008596, 0.043132077910277906, 0.04314168317411435, 0.04314615805876722, 0.043145510676086095, 0.043139748947248244, 0.043128880644613635, 0.04311291344921231, 0.04309185502216396, 0.04306571308822502, 0.04303449552958284, 0.04299821048796586, 0.042956866473113434, 0.04291047247565024, 0.04285903808243563, 0.04280257359250885, 0.042741090131820175, 0.04267459976503285, 0.04260311560278992, 0.04252665190296868, 0.04244522416458726, 0.04235884921318329, 0.042267545276647805, 0.04217133205067147, 0.042070230753134805, 0.04196426416695615, 0.041853456671089355, 0.041737834259541605, 0.0416174245484546, 0.04149225677146094, 0.04136236176368398, 0.04122777193490165, 0.04108852123252815, 0.04094464509519599, 0.040796180397828063, 0.04064316538918748, 0.040485639622971796, 0.040323643883582644, 0.040157220107751135, 0.03998641130322918, 0.03981126146577458, 0.03963181549565724, 0.039448119114900274, 0.03926021878643984, 0.03906816163634597, 0.0388719953801941, 0.03867176825460819, 0.0384675289549255, 0.03825932657984518, 0.03804721058383541, 0.03783123073797543, 0.03761143709980602, 0.03738787999266312, 0.03716060999485446, 0.03692967793894214, 0.03669513492128009, 0.03645703232185457, 0.03621542183437508, 0.0359703555064615, 0.03572188578968383, 0.03547006559911883, 0.035214948382006825, 0.034956588195015195, 0.03469503978954263, 0.03443035870443678, 0.03416260136543833, 0.033891825190615496, 0.033618088701007215, 0.033341451635656556, 0.03306197507018417, 0.03277972153802396, 0.03249475515342554, 0.03220714173530923, 0.031916948931052666, 0.03162424633927756, 0.031329105630706865, 0.031031600666161216, 0.030731807610769383, 0.030429805043475616, 0.030125674060938655, 0.02981949837492517, 0.029511364402327555, 0.029201361346941054, 0.028889581272170377, 0.028576119163849587, 0.028261072982392464, 0.027944543703519422, 0.027626635346838686, 0.027307454991600505, 0.02698711277898084, 0.02666572190029743, 0.026343398570612596, 0.026020261987227844, 0.025696434272638975, 0.02537204040158146, 0.025047208111867288, 0.024722067798789098, 0.024396752392948202, 0.024071397221448177, 0.023746139852485453, 0.02342111992346606, 0.023096478952873402, 0.02277236013621882, 0.022448908126510268, 0.022126268799783192, 0.02180458900635008, 0.021484016308531334, 0.021164698705744726, 0.020846784347935885, 0.02053042123843815, 0.020215756927454018, 0.01990293819744332, 0.019592110741795985, 0.01928341883824919, 0.018977005018579095, 0.01867300973616598, 0.018371571033078665, 0.018072824208368803, 0.017776901489290408, 0.017483931707175042, 0.017194039979692585, 0.01690734740121404, 0.016623970742961135, 0.016344022164585532, 0.016067608938759585, 0.0157948331902884, 0.015525791651165976, 0.01526057543289653, 0.014999269817290314, 0.014741954066820356, 0.01448870125549014, 0.014239578121023099, 0.013994644939032462, 0.013753955419675877, 0.013517556627141571, 0.013285488922148727, 0.013057785927487048, 0.012834474516457878, 0.012615574823923306, 0.012401100279519938, 0.012191057662446264, 0.011985447177098445, 0.011784262548702736, 0.01158749113797426, 0.011395114073733132, 0.011207106402315474, 0.011023437252544123, 0.010844070014959023, 0.010668962533967843, 0.010498067311540524, 0.010331331721062216, 0.010168698229956577, 0.010010104629707521, 0.009855484271937809, 0.009704766309244179, 0.009557875939545277, 0.009414734652764052, 0.009275260478742211, 0.00913936823537, 0.009006969776004235, 0.008877974235345695, 0.00875228827304652, 0.008629816314420205, 0.008510460787730496, 0.008394122357635267, 0.008280700154461135, 0.008170091999077814, 0.008062194623229144, 0.007956903885260203, 0.007854114981251003, 0.007753722651632864, 0.007655621383416885, 0.007559705608206456, 0.007465869896200006, 0.00737400914640986, 0.007284018773334531, 0.0071957948903186054, 0.007109234489826086, 0.007024235620827082, 0.006940697563469932, 0.006858521001168438, 0.0067776081901867995, 0.006697863126751224, 0.006619191711656142, 0.006541501912270557, 0.006464703921782712, 0.006388710315453494, 0.006313436203582002, 0.006238799380819085, 0.00616472047140245, 0.006091123069826544, 0.006017933876406491, 0.00594508282714821, 0.005872503217295608, 0.005800131817894955, 0.005727908984692799, 0.005655778758671613, 0.005583688957523711, 0.0055115912573721944, 0.0054394412640654385, 0.0053671985734004505, 0.005294826819669366, 0.0052222937119723685, 0.005149571057798574, 0.005076634773443696, 0.005003464880907846, 0.004930045491000187, 0.004856364772463278, 0.00478241490702559, 0.004708192030385356, 0.004633696159229448, 0.004558931104491993, 0.004483904371157185, 0.004408627045011646, 0.004333113666848075, 0.004257382094715759, 0.004181453354902591, 0.004105351482416282, 0.004029103351808709, 0.003952738499256279, 0.003876288936869477, 0.0037997889602562267, 0.0037232749504057623, 0.0036467851709914693, 0.003570359562213018, 0.0034940395323102866, 0.0034178677478821037, 0.0033418879241350567, 0.0032661446161685852, 0.0031906830123746054, 0.0031155487309936824, 0.0030407876208236734, 0.00296644556702477, 0.002892568302904586, 0.002819201228501014, 0.0027463892367101516, 0.0026741765476302635, 0.0026026065517147897, 0.002531721662246044, 0.0024615631775575224, 0.0023921711533515877, 0.002323584285373457], \"yaxis\": \"y\"}, {\"legendgroup\": \"Height\", \"marker\": {\"color\": \"rgb(0, 200, 200)\", \"symbol\": \"line-ns-open\"}, \"mode\": \"markers\", \"name\": \"Height\", \"showlegend\": false, \"type\": \"scatter\", \"x\": [176.2434536366324, 153.88243586349924, 154.71828247736545, 149.2703137784383, 168.6540762932468, 136.98461303119717, 177.4481176421648, 152.38793099104896, 163.190390960571, 157.5062962452259, 174.62107937044973, 139.39859290502346, 156.77582795986493, 156.15945645331584, 171.33769442335438, 149.0010873268597, 158.27571792449564, 151.2214158207863, 160.42213746715592, 165.8281521371582, 148.99380822787077, 171.44723709839613, 169.01590720592796, 165.0249433890187, 169.0085594926441, 153.16272140825666, 158.77109774481352, 150.6423056574093, 157.32111920373984, 165.30355466738186, 153.08339248274692, 156.03246473144023, 153.128272998804, 151.5479435850128, 153.28753869163182, 159.873354010811, 148.82689651364723, 162.34415697817093, 176.5980217710987, 167.42044160577336, 158.08164447638384, 151.12371035915163, 152.52841706249163, 176.92454601027748, 160.50807754776028, 153.63004353430648, 161.90915484667465, 181.00255136478842, 161.20158952481628, 166.17203109707418, 163.00170319955828, 156.47750153506482, 148.5748180197786, 156.50657277587123, 157.91105766625222, 165.86623191182198, 168.38983413874504, 169.31102081303558, 162.85587325254258, 168.8514116427073, 152.45602059003346, 172.52868155233287, 165.1292982041801, 157.01907164897284, 164.88518146537496, 159.24428286978943, 171.31629387451426, 175.19816816422198, 181.8557540653316, 146.03503664511862, 145.5588619457041, 154.95534137053548, 161.6003706944783, 168.76168921116226, 163.15634947241605, 139.77798784175997, 156.9379598737163, 168.27974642607245, 162.30094735364383, 167.62011180312024, 157.7767185738964, 157.99241931070003, 161.86561390988285, 164.10051647208257, 161.9829972012677, 161.19008645807457, 153.2933771371097, 163.7756378632092, 161.21821270991438, 171.29483907911919, 171.98917879901506, 161.85156417483944, 156.24715049909886, 153.61269592545779, 164.23494354064113, 160.7734006834856, 156.56146324428926, 160.43596856834247, 153.79999156051872, 166.9803203407222, 155.52871435214, 172.24507704805498, 164.034916417908, 165.93578523237068, 149.0508815425896, 161.6938243305867, 167.40556451096273, 150.46299398192065, 157.33781493996378, 160.32614546693358, 146.26882679753245, 163.15159392042293, 168.46160647585035, 151.40484059168014, 163.50545978664107, 146.8771658876257, 159.61304490733949, 143.84227645296704, 171.21417708235663, 164.08900537936827, 159.75383044124223, 152.2483838083084, 172.73755930158777, 179.67101749254735, 141.42018135553246, 172.3616403045282, 176.27650753148907, 163.38011696574475, 148.00731967664814, 168.63345317544022, 158.1907969792185, 153.96079372206742, 147.69941864333038, 165.50537495976215, 167.92806865919349, 153.7646927032021, 165.2057633707337, 148.55658610376858, 168.01861031871346, 160.46567298424145, 158.1343022809265, 158.98254127470855, 168.6888615700587, 167.50411639865007, 165.29465324352708, 161.37701209997385, 160.77821127912705, 166.18380261998524, 162.32494559178738, 166.82551406864485, 156.8988322648194, 135.65162235892862, 170.38824601859415, 181.86979646974257, 164.41364443568582, 158.998447667165, 158.63555256103967, 158.8094581222519, 160.17409408300006, 148.7798127125311, 154.82905542079772, 150.02973172349738, 162.4879916138777, 157.03358847629138, 164.9521132397796, 158.252968402575, 169.86335187821243, 162.1353390133544, 181.90699728969733, 141.0363907710891, 153.53083311745092, 169.0148689164871, 185.283257068064, 157.5136522228454, 160.4366899317839, 157.73685757486396, 173.31457112587591, 157.1269213652398, 166.80069839878104, 156.80198401101327, 147.27441244754004, 163.13547720463433, 165.03184813435325, 172.9322588253226, 158.89552973582684, 153.8263793628764, 165.62761096619028, 162.4073709223773, 162.8066507712264, 159.2688729625272, 171.6033856999377, 163.69492716375723, 179.0465870834098, 171.11056698560503, 166.59049796100211, 143.72561659383743, 166.0231928029563, 164.2028220364706, 168.10951672803554, 170.4444209470726], \"xaxis\": \"x\", \"y\": [\"Height\", \"Height\", \"Height\", \"Height\", \"Height\", \"Height\", \"Height\", \"Height\", \"Height\", \"Height\", \"Height\", \"Height\", \"Height\", \"Height\", \"Height\", \"Height\", \"Height\", \"Height\", \"Height\", \"Height\", \"Height\", \"Height\", \"Height\", \"Height\", \"Height\", \"Height\", \"Height\", \"Height\", \"Height\", \"Height\", \"Height\", \"Height\", \"Height\", \"Height\", \"Height\", \"Height\", \"Height\", \"Height\", \"Height\", \"Height\", \"Height\", \"Height\", \"Height\", \"Height\", \"Height\", \"Height\", \"Height\", \"Height\", \"Height\", \"Height\", \"Height\", \"Height\", \"Height\", \"Height\", \"Height\", \"Height\", \"Height\", \"Height\", \"Height\", \"Height\", \"Height\", \"Height\", \"Height\", \"Height\", \"Height\", \"Height\", \"Height\", \"Height\", \"Height\", \"Height\", \"Height\", \"Height\", \"Height\", \"Height\", \"Height\", \"Height\", \"Height\", \"Height\", \"Height\", \"Height\", \"Height\", \"Height\", \"Height\", \"Height\", \"Height\", \"Height\", \"Height\", \"Height\", \"Height\", \"Height\", \"Height\", \"Height\", \"Height\", \"Height\", \"Height\", \"Height\", \"Height\", \"Height\", \"Height\", \"Height\", \"Height\", \"Height\", \"Height\", \"Height\", \"Height\", \"Height\", \"Height\", \"Height\", \"Height\", \"Height\", \"Height\", \"Height\", \"Height\", \"Height\", \"Height\", \"Height\", \"Height\", \"Height\", \"Height\", \"Height\", \"Height\", \"Height\", \"Height\", \"Height\", \"Height\", \"Height\", \"Height\", \"Height\", \"Height\", \"Height\", \"Height\", \"Height\", \"Height\", \"Height\", \"Height\", \"Height\", \"Height\", \"Height\", \"Height\", \"Height\", \"Height\", \"Height\", \"Height\", \"Height\", \"Height\", \"Height\", \"Height\", \"Height\", \"Height\", \"Height\", \"Height\", \"Height\", \"Height\", \"Height\", \"Height\", \"Height\", \"Height\", \"Height\", \"Height\", \"Height\", \"Height\", \"Height\", \"Height\", \"Height\", \"Height\", \"Height\", \"Height\", \"Height\", \"Height\", \"Height\", \"Height\", \"Height\", \"Height\", \"Height\", \"Height\", \"Height\", \"Height\", \"Height\", \"Height\", \"Height\", \"Height\", \"Height\", \"Height\", \"Height\", \"Height\", \"Height\", \"Height\", \"Height\", \"Height\", \"Height\", \"Height\", \"Height\", \"Height\", \"Height\", \"Height\", \"Height\", \"Height\", \"Height\", \"Height\", \"Height\"], \"yaxis\": \"y2\"}],                        {\"barmode\": \"overlay\", \"hovermode\": \"closest\", \"legend\": {\"traceorder\": \"reversed\"}, \"template\": {\"data\": {\"bar\": [{\"error_x\": {\"color\": \"#f2f5fa\"}, \"error_y\": {\"color\": \"#f2f5fa\"}, \"marker\": {\"line\": {\"color\": \"rgb(17,17,17)\", \"width\": 0.5}}, \"type\": \"bar\"}], \"barpolar\": [{\"marker\": {\"line\": {\"color\": \"rgb(17,17,17)\", \"width\": 0.5}}, \"type\": \"barpolar\"}], \"carpet\": [{\"aaxis\": {\"endlinecolor\": \"#A2B1C6\", \"gridcolor\": \"#506784\", \"linecolor\": \"#506784\", \"minorgridcolor\": \"#506784\", \"startlinecolor\": \"#A2B1C6\"}, \"baxis\": {\"endlinecolor\": \"#A2B1C6\", \"gridcolor\": \"#506784\", \"linecolor\": \"#506784\", \"minorgridcolor\": \"#506784\", \"startlinecolor\": \"#A2B1C6\"}, \"type\": \"carpet\"}], \"choropleth\": [{\"colorbar\": {\"outlinewidth\": 0, \"ticks\": \"\"}, \"type\": \"choropleth\"}], \"contour\": [{\"colorbar\": {\"outlinewidth\": 0, \"ticks\": \"\"}, \"colorscale\": [[0.0, \"#0d0887\"], [0.1111111111111111, \"#46039f\"], [0.2222222222222222, \"#7201a8\"], [0.3333333333333333, \"#9c179e\"], [0.4444444444444444, \"#bd3786\"], [0.5555555555555556, \"#d8576b\"], [0.6666666666666666, \"#ed7953\"], [0.7777777777777778, \"#fb9f3a\"], [0.8888888888888888, \"#fdca26\"], [1.0, \"#f0f921\"]], \"type\": \"contour\"}], \"contourcarpet\": [{\"colorbar\": {\"outlinewidth\": 0, \"ticks\": \"\"}, \"type\": \"contourcarpet\"}], \"heatmap\": [{\"colorbar\": {\"outlinewidth\": 0, \"ticks\": \"\"}, \"colorscale\": [[0.0, \"#0d0887\"], [0.1111111111111111, \"#46039f\"], [0.2222222222222222, \"#7201a8\"], [0.3333333333333333, \"#9c179e\"], [0.4444444444444444, \"#bd3786\"], [0.5555555555555556, \"#d8576b\"], [0.6666666666666666, \"#ed7953\"], [0.7777777777777778, \"#fb9f3a\"], [0.8888888888888888, \"#fdca26\"], [1.0, \"#f0f921\"]], \"type\": \"heatmap\"}], \"heatmapgl\": [{\"colorbar\": {\"outlinewidth\": 0, \"ticks\": \"\"}, \"colorscale\": [[0.0, \"#0d0887\"], [0.1111111111111111, \"#46039f\"], [0.2222222222222222, \"#7201a8\"], [0.3333333333333333, \"#9c179e\"], [0.4444444444444444, \"#bd3786\"], [0.5555555555555556, \"#d8576b\"], [0.6666666666666666, \"#ed7953\"], [0.7777777777777778, \"#fb9f3a\"], [0.8888888888888888, \"#fdca26\"], [1.0, \"#f0f921\"]], \"type\": \"heatmapgl\"}], \"histogram\": [{\"marker\": {\"colorbar\": {\"outlinewidth\": 0, \"ticks\": \"\"}}, \"type\": \"histogram\"}], \"histogram2d\": [{\"colorbar\": {\"outlinewidth\": 0, \"ticks\": \"\"}, \"colorscale\": [[0.0, \"#0d0887\"], [0.1111111111111111, \"#46039f\"], [0.2222222222222222, \"#7201a8\"], [0.3333333333333333, \"#9c179e\"], [0.4444444444444444, \"#bd3786\"], [0.5555555555555556, \"#d8576b\"], [0.6666666666666666, \"#ed7953\"], [0.7777777777777778, \"#fb9f3a\"], [0.8888888888888888, \"#fdca26\"], [1.0, \"#f0f921\"]], \"type\": \"histogram2d\"}], \"histogram2dcontour\": [{\"colorbar\": {\"outlinewidth\": 0, \"ticks\": \"\"}, \"colorscale\": [[0.0, \"#0d0887\"], [0.1111111111111111, \"#46039f\"], [0.2222222222222222, \"#7201a8\"], [0.3333333333333333, \"#9c179e\"], [0.4444444444444444, \"#bd3786\"], [0.5555555555555556, \"#d8576b\"], [0.6666666666666666, \"#ed7953\"], [0.7777777777777778, \"#fb9f3a\"], [0.8888888888888888, \"#fdca26\"], [1.0, \"#f0f921\"]], \"type\": \"histogram2dcontour\"}], \"mesh3d\": [{\"colorbar\": {\"outlinewidth\": 0, \"ticks\": \"\"}, \"type\": \"mesh3d\"}], \"parcoords\": [{\"line\": {\"colorbar\": {\"outlinewidth\": 0, \"ticks\": \"\"}}, \"type\": \"parcoords\"}], \"pie\": [{\"automargin\": true, \"type\": \"pie\"}], \"scatter\": [{\"marker\": {\"line\": {\"color\": \"#283442\"}}, \"type\": \"scatter\"}], \"scatter3d\": [{\"line\": {\"colorbar\": {\"outlinewidth\": 0, \"ticks\": \"\"}}, \"marker\": {\"colorbar\": {\"outlinewidth\": 0, \"ticks\": \"\"}}, \"type\": \"scatter3d\"}], \"scattercarpet\": [{\"marker\": {\"colorbar\": {\"outlinewidth\": 0, \"ticks\": \"\"}}, \"type\": \"scattercarpet\"}], \"scattergeo\": [{\"marker\": {\"colorbar\": {\"outlinewidth\": 0, \"ticks\": \"\"}}, \"type\": \"scattergeo\"}], \"scattergl\": [{\"marker\": {\"line\": {\"color\": \"#283442\"}}, \"type\": \"scattergl\"}], \"scattermapbox\": [{\"marker\": {\"colorbar\": {\"outlinewidth\": 0, \"ticks\": \"\"}}, \"type\": \"scattermapbox\"}], \"scatterpolar\": [{\"marker\": {\"colorbar\": {\"outlinewidth\": 0, \"ticks\": \"\"}}, \"type\": \"scatterpolar\"}], \"scatterpolargl\": [{\"marker\": {\"colorbar\": {\"outlinewidth\": 0, \"ticks\": \"\"}}, \"type\": \"scatterpolargl\"}], \"scatterternary\": [{\"marker\": {\"colorbar\": {\"outlinewidth\": 0, \"ticks\": \"\"}}, \"type\": \"scatterternary\"}], \"surface\": [{\"colorbar\": {\"outlinewidth\": 0, \"ticks\": \"\"}, \"colorscale\": [[0.0, \"#0d0887\"], [0.1111111111111111, \"#46039f\"], [0.2222222222222222, \"#7201a8\"], [0.3333333333333333, \"#9c179e\"], [0.4444444444444444, \"#bd3786\"], [0.5555555555555556, \"#d8576b\"], [0.6666666666666666, \"#ed7953\"], [0.7777777777777778, \"#fb9f3a\"], [0.8888888888888888, \"#fdca26\"], [1.0, \"#f0f921\"]], \"type\": \"surface\"}], \"table\": [{\"cells\": {\"fill\": {\"color\": \"#506784\"}, \"line\": {\"color\": \"rgb(17,17,17)\"}}, \"header\": {\"fill\": {\"color\": \"#2a3f5f\"}, \"line\": {\"color\": \"rgb(17,17,17)\"}}, \"type\": \"table\"}]}, \"layout\": {\"annotationdefaults\": {\"arrowcolor\": \"#f2f5fa\", \"arrowhead\": 0, \"arrowwidth\": 1}, \"autotypenumbers\": \"strict\", \"coloraxis\": {\"colorbar\": {\"outlinewidth\": 0, \"ticks\": \"\"}}, \"colorscale\": {\"diverging\": [[0, \"#8e0152\"], [0.1, \"#c51b7d\"], [0.2, \"#de77ae\"], [0.3, \"#f1b6da\"], [0.4, \"#fde0ef\"], [0.5, \"#f7f7f7\"], [0.6, \"#e6f5d0\"], [0.7, \"#b8e186\"], [0.8, \"#7fbc41\"], [0.9, \"#4d9221\"], [1, \"#276419\"]], \"sequential\": [[0.0, \"#0d0887\"], [0.1111111111111111, \"#46039f\"], [0.2222222222222222, \"#7201a8\"], [0.3333333333333333, \"#9c179e\"], [0.4444444444444444, \"#bd3786\"], [0.5555555555555556, \"#d8576b\"], [0.6666666666666666, \"#ed7953\"], [0.7777777777777778, \"#fb9f3a\"], [0.8888888888888888, \"#fdca26\"], [1.0, \"#f0f921\"]], \"sequentialminus\": [[0.0, \"#0d0887\"], [0.1111111111111111, \"#46039f\"], [0.2222222222222222, \"#7201a8\"], [0.3333333333333333, \"#9c179e\"], [0.4444444444444444, \"#bd3786\"], [0.5555555555555556, \"#d8576b\"], [0.6666666666666666, \"#ed7953\"], [0.7777777777777778, \"#fb9f3a\"], [0.8888888888888888, \"#fdca26\"], [1.0, \"#f0f921\"]]}, \"colorway\": [\"#636efa\", \"#EF553B\", \"#00cc96\", \"#ab63fa\", \"#FFA15A\", \"#19d3f3\", \"#FF6692\", \"#B6E880\", \"#FF97FF\", \"#FECB52\"], \"font\": {\"color\": \"#f2f5fa\"}, \"geo\": {\"bgcolor\": \"rgb(17,17,17)\", \"lakecolor\": \"rgb(17,17,17)\", \"landcolor\": \"rgb(17,17,17)\", \"showlakes\": true, \"showland\": true, \"subunitcolor\": \"#506784\"}, \"hoverlabel\": {\"align\": \"left\"}, \"hovermode\": \"closest\", \"mapbox\": {\"style\": \"dark\"}, \"paper_bgcolor\": \"rgb(17,17,17)\", \"plot_bgcolor\": \"rgb(17,17,17)\", \"polar\": {\"angularaxis\": {\"gridcolor\": \"#506784\", \"linecolor\": \"#506784\", \"ticks\": \"\"}, \"bgcolor\": \"rgb(17,17,17)\", \"radialaxis\": {\"gridcolor\": \"#506784\", \"linecolor\": \"#506784\", \"ticks\": \"\"}}, \"scene\": {\"xaxis\": {\"backgroundcolor\": \"rgb(17,17,17)\", \"gridcolor\": \"#506784\", \"gridwidth\": 2, \"linecolor\": \"#506784\", \"showbackground\": true, \"ticks\": \"\", \"zerolinecolor\": \"#C8D4E3\"}, \"yaxis\": {\"backgroundcolor\": \"rgb(17,17,17)\", \"gridcolor\": \"#506784\", \"gridwidth\": 2, \"linecolor\": \"#506784\", \"showbackground\": true, \"ticks\": \"\", \"zerolinecolor\": \"#C8D4E3\"}, \"zaxis\": {\"backgroundcolor\": \"rgb(17,17,17)\", \"gridcolor\": \"#506784\", \"gridwidth\": 2, \"linecolor\": \"#506784\", \"showbackground\": true, \"ticks\": \"\", \"zerolinecolor\": \"#C8D4E3\"}}, \"shapedefaults\": {\"line\": {\"color\": \"#f2f5fa\"}}, \"sliderdefaults\": {\"bgcolor\": \"#C8D4E3\", \"bordercolor\": \"rgb(17,17,17)\", \"borderwidth\": 1, \"tickwidth\": 0}, \"ternary\": {\"aaxis\": {\"gridcolor\": \"#506784\", \"linecolor\": \"#506784\", \"ticks\": \"\"}, \"baxis\": {\"gridcolor\": \"#506784\", \"linecolor\": \"#506784\", \"ticks\": \"\"}, \"bgcolor\": \"rgb(17,17,17)\", \"caxis\": {\"gridcolor\": \"#506784\", \"linecolor\": \"#506784\", \"ticks\": \"\"}}, \"title\": {\"x\": 0.05}, \"updatemenudefaults\": {\"bgcolor\": \"#506784\", \"borderwidth\": 0}, \"xaxis\": {\"automargin\": true, \"gridcolor\": \"#283442\", \"linecolor\": \"#506784\", \"ticks\": \"\", \"title\": {\"standoff\": 15}, \"zerolinecolor\": \"#283442\", \"zerolinewidth\": 2}, \"yaxis\": {\"automargin\": true, \"gridcolor\": \"#283442\", \"linecolor\": \"#506784\", \"ticks\": \"\", \"title\": {\"standoff\": 15}, \"zerolinecolor\": \"#283442\", \"zerolinewidth\": 2}}}, \"xaxis\": {\"anchor\": \"y2\", \"domain\": [0.0, 1.0], \"zeroline\": false}, \"yaxis\": {\"anchor\": \"free\", \"domain\": [0.35, 1], \"position\": 0.0}, \"yaxis2\": {\"anchor\": \"x\", \"domain\": [0, 0.25], \"dtick\": 1, \"showticklabels\": false}},                        {\"responsive\": true}                    ).then(function(){\n",
       "                            \n",
       "var gd = document.getElementById('53a11e72-47db-4bf0-abc5-3220caf97634');\n",
       "var x = new MutationObserver(function (mutations, observer) {{\n",
       "        var display = window.getComputedStyle(gd).display;\n",
       "        if (!display || display === 'none') {{\n",
       "            console.log([gd, 'removed!']);\n",
       "            Plotly.purge(gd);\n",
       "            observer.disconnect();\n",
       "        }}\n",
       "}});\n",
       "\n",
       "// Listen for the removal of the full notebook cells\n",
       "var notebookContainer = gd.closest('#notebook-container');\n",
       "if (notebookContainer) {{\n",
       "    x.observe(notebookContainer, {childList: true});\n",
       "}}\n",
       "\n",
       "// Listen for the clearing of the current output cell\n",
       "var outputEl = gd.closest('.output');\n",
       "if (outputEl) {{\n",
       "    x.observe(outputEl, {childList: true});\n",
       "}}\n",
       "\n",
       "                        })                };                });            </script>        </div>"
      ]
     },
     "metadata": {},
     "output_type": "display_data"
    }
   ],
   "source": [
    "#  simulate clinicl trial :\n",
    "#         pseudo-random height in cm of 200 women, normal distribution\n",
    "#  SciPy stats normal continuous random variables (rvs)\n",
    "from scipy import stats\n",
    "height = stats.norm.rvs(loc= 160, # mean\n",
    "                       scale= 10, # std\n",
    "                       size= 200, # N \n",
    "                       random_state= 1, # for repeating\n",
    "                       )\n",
    "\n",
    "height_distplot = ff.create_distplot([height],['Height'], \n",
    "                                     bin_size=5,\n",
    "                                    colors=['rgb(0, 200, 200)'] \n",
    "                                    )\n",
    "height_distplot.show() # KDE and Rugplot "
   ]
  },
  {
   "cell_type": "markdown",
   "id": "blocked-camcorder",
   "metadata": {},
   "source": [
    "## Theoretical Distribution\n",
    "- mathematical reason for continuous and discrete variables \n",
    "- **Expected value** of a random variable, the mean of that occuring if that random experiment is repeated numerous times, a weighted average"
   ]
  },
  {
   "cell_type": "code",
   "execution_count": 39,
   "id": "prescribed-culture",
   "metadata": {},
   "outputs": [
    {
     "name": "stdout",
     "output_type": "stream",
     "text": [
      "[0.05555556 0.16666667 0.33333333 0.55555556 0.83333333 1.16666667\n",
      " 1.11111111 1.         0.83333333 0.61111111 0.33333333]\n",
      "Expected value:  7\n"
     ]
    }
   ],
   "source": [
    "# random variable times its probability \n",
    "dice_probabilities = [i/36 for i in [1,2,3,4,5,6,5,4,3,2,1]]\n",
    "dice_range = np.arange(2,13) * np.array(dice_probabilities)\n",
    "print(dice_range)\n",
    "\n",
    "#  Expected value\n",
    "expected_value = np.sum(dice_range)\n",
    "print('Expected value: ',round(expected_value))"
   ]
  },
  {
   "cell_type": "code",
   "execution_count": null,
   "id": "refined-steal",
   "metadata": {},
   "outputs": [],
   "source": []
  },
  {
   "cell_type": "markdown",
   "id": "muslim-label",
   "metadata": {},
   "source": [
    "## Continuous Normal Distribution (Bell Shape)"
   ]
  },
  {
   "cell_type": "code",
   "execution_count": 80,
   "id": "designed-upper",
   "metadata": {},
   "outputs": [
    {
     "name": "stdout",
     "output_type": "stream",
     "text": [
      "-2.3263478740408408\n",
      "2.3263478740408408\n"
     ]
    }
   ],
   "source": [
    "# stats.norm.ppf  = Percent Point Function is a 1-tail test\n",
    "# returns a value marking where the 99% of data points would be in a normal dist\n",
    "lower = stats.norm.ppf(0.01, loc=0, scale=1)\n",
    "print(lower)\n",
    "higher = stats.norm.ppf(0.99, loc=0, scale=1)\n",
    "print(higher)"
   ]
  },
  {
   "cell_type": "code",
   "execution_count": 87,
   "id": "latin-comfort",
   "metadata": {},
   "outputs": [
    {
     "name": "stdout",
     "output_type": "stream",
     "text": [
      "[[1 2]\n",
      " [3 4]]\n",
      "\n",
      " [1 2 3 4]\n"
     ]
    }
   ],
   "source": [
    "# # numpy array.flatten() returns a collaped array into 1 dimension\n",
    "nparr = np.array([[1,2],[3,4]])\n",
    "print(nparr)\n",
    "\n",
    "# flatten this array\n",
    "nparr_flat = nparr.flatten()\n",
    "print('\\n',nparr_flat)"
   ]
  },
  {
   "cell_type": "code",
   "execution_count": 100,
   "id": "provincial-maryland",
   "metadata": {},
   "outputs": [
    {
     "name": "stdout",
     "output_type": "stream",
     "text": [
      "np.linspace : [-2.3263478740408408, -2.279350947292541, -2.232354020544241, -2.1853570937959415, -2.1383601670476415]\n",
      "stats.norm.pdf:  [0.02665214220345808, 0.029698495124487845, 0.03302003535669454, 0.03663206435224366, 0.04054954840560043]\n"
     ]
    }
   ],
   "source": [
    "# np.linspace returns evenly spaced values [start,stop, num= N]\n",
    "values = np.linspace(lower, higher, 100)\n",
    "\n",
    "values_flatten = list(values.flatten())\n",
    "print('np.linspace :',values_flatten[0:5])\n",
    "\n",
    "# stats.norm.pdf = Probability Density Function\n",
    "pdf_values = stats.norm.pdf(values)\n",
    "pdf_values = list(pdf_values.flatten())\n",
    "print('stats.norm.pdf: ',pdf_values[0:5])\n",
    "\n",
    "\n"
   ]
  },
  {
   "cell_type": "code",
   "execution_count": 122,
   "id": "diverse-offense",
   "metadata": {},
   "outputs": [
    {
     "data": {
      "application/vnd.plotly.v1+json": {
       "config": {
        "plotlyServerURL": "https://plot.ly"
       },
       "data": [
        {
         "mode": "lines",
         "name": "Standard Normal Distribution",
         "type": "scatter",
         "x": [
          -2.3263478740408408,
          -2.279350947292541,
          -2.232354020544241,
          -2.1853570937959415,
          -2.1383601670476415,
          -2.0913632402993416,
          -2.0443663135510417,
          -1.997369386802742,
          -1.9503724600544423,
          -1.9033755333061424,
          -1.8563786065578427,
          -1.8093816798095428,
          -1.762384753061243,
          -1.7153878263129432,
          -1.6683908995646433,
          -1.6213939728163436,
          -1.5743970460680439,
          -1.527400119319744,
          -1.480403192571444,
          -1.4334062658231443,
          -1.3864093390748446,
          -1.3394124123265447,
          -1.2924154855782448,
          -1.2454185588299451,
          -1.1984216320816452,
          -1.1514247053333455,
          -1.1044277785850456,
          -1.057430851836746,
          -1.010433925088446,
          -0.9634369983401463,
          -0.9164400715918464,
          -0.8694431448435467,
          -0.8224462180952468,
          -0.7754492913469468,
          -0.7284523645986472,
          -0.6814554378503472,
          -0.6344585111020475,
          -0.5874615843537476,
          -0.5404646576054479,
          -0.493467730857148,
          -0.4464708041088483,
          -0.3994738773605484,
          -0.3524769506122487,
          -0.3054800238639488,
          -0.2584830971156489,
          -0.2114861703673494,
          -0.16448924361904949,
          -0.11749231687074957,
          -0.07049539012244965,
          -0.023498463374149736,
          0.023498463374149736,
          0.07049539012244965,
          0.11749231687074957,
          0.16448924361904949,
          0.21148617036734896,
          0.2584830971156489,
          0.3054800238639488,
          0.3524769506122487,
          0.3994738773605482,
          0.4464708041088481,
          0.493467730857148,
          0.5404646576054479,
          0.5874615843537474,
          0.6344585111020473,
          0.6814554378503472,
          0.7284523645986472,
          0.7754492913469471,
          0.8224462180952465,
          0.8694431448435465,
          0.9164400715918464,
          0.9634369983401463,
          1.0104339250884458,
          1.0574308518367457,
          1.1044277785850456,
          1.1514247053333455,
          1.198421632081645,
          1.245418558829945,
          1.2924154855782448,
          1.3394124123265447,
          1.3864093390748442,
          1.4334062658231441,
          1.480403192571444,
          1.527400119319744,
          1.5743970460680439,
          1.6213939728163433,
          1.6683908995646433,
          1.7153878263129432,
          1.7623847530612426,
          1.809381679809543,
          1.8563786065578425,
          1.903375533306142,
          1.9503724600544423,
          1.9973693868027418,
          2.044366313551042,
          2.0913632402993416,
          2.138360167047641,
          2.1853570937959415,
          2.232354020544241,
          2.2793509472925413,
          2.3263478740408408
         ],
         "y": [
          0.02665214220345808,
          0.029698495124487845,
          0.03302003535669454,
          0.03663206435224366,
          0.04054954840560043,
          0.04478694292349345,
          0.049358003635151186,
          0.054275585974773305,
          0.05955143419009686,
          0.06519596205762482,
          0.07121802741030074,
          0.07762470300022481,
          0.08442104652000788,
          0.09160987288379509,
          0.09919153211490578,
          0.10716369639347652,
          0.11552115997669092,
          0.12425565580877511,
          0.13335569268119776,
          0.14280641677954986,
          0.15258950135757612,
          0.16268306810723343,
          0.1730616435443722,
          0.18369615340220186,
          0.19455395762037694,
          0.20559892803944185,
          0.21679157036348465,
          0.22808919134504188,
          0.2394461114842625,
          0.2508139228294869,
          0.2621417907307059,
          0.2733767976441347,
          0.2844643263297956,
          0.2953484790397197,
          0.30597252857781293,
          0.3162793964392877,
          0.3262121526232731,
          0.3357145311714946,
          0.34473145503239644,
          0.3532095634959414,
          0.3610977351999095,
          0.3683475995820787,
          0.3749140296500157,
          0.380755609064598,
          0.3858350667852809,
          0.39011967290219984,
          0.3935815897772622,
          0.3961981732255311,
          0.3979522191788785,
          0.3988321520731774,
          0.3988321520731774,
          0.3979522191788785,
          0.3961981732255311,
          0.3935815897772622,
          0.3901196729021999,
          0.3858350667852809,
          0.380755609064598,
          0.3749140296500157,
          0.36834759958207874,
          0.36109773519990956,
          0.3532095634959414,
          0.34473145503239644,
          0.3357145311714946,
          0.32621215262327313,
          0.3162793964392877,
          0.30597252857781293,
          0.2953484790397197,
          0.2844643263297956,
          0.2733767976441348,
          0.2621417907307059,
          0.2508139228294869,
          0.23944611148426256,
          0.22808919134504194,
          0.21679157036348465,
          0.20559892803944185,
          0.19455395762037703,
          0.18369615340220188,
          0.1730616435443722,
          0.16268306810723343,
          0.15258950135757623,
          0.1428064167795499,
          0.13335569268119776,
          0.12425565580877511,
          0.11552115997669092,
          0.10716369639347659,
          0.09919153211490578,
          0.09160987288379509,
          0.08442104652000794,
          0.0776247030002248,
          0.07121802741030075,
          0.06519596205762487,
          0.05955143419009686,
          0.054275585974773326,
          0.049358003635151144,
          0.04478694292349345,
          0.04054954840560047,
          0.03663206435224366,
          0.03302003535669454,
          0.029698495124487825,
          0.02665214220345808
         ]
        },
        {
         "mode": "lines",
         "name": "Difference in Means",
         "type": "scatter",
         "x": [
          -1,
          -1
         ],
         "y": [
          0,
          0,
          4
         ]
        }
       ],
       "layout": {
        "template": {
         "data": {
          "bar": [
           {
            "error_x": {
             "color": "#f2f5fa"
            },
            "error_y": {
             "color": "#f2f5fa"
            },
            "marker": {
             "line": {
              "color": "rgb(17,17,17)",
              "width": 0.5
             }
            },
            "type": "bar"
           }
          ],
          "barpolar": [
           {
            "marker": {
             "line": {
              "color": "rgb(17,17,17)",
              "width": 0.5
             }
            },
            "type": "barpolar"
           }
          ],
          "carpet": [
           {
            "aaxis": {
             "endlinecolor": "#A2B1C6",
             "gridcolor": "#506784",
             "linecolor": "#506784",
             "minorgridcolor": "#506784",
             "startlinecolor": "#A2B1C6"
            },
            "baxis": {
             "endlinecolor": "#A2B1C6",
             "gridcolor": "#506784",
             "linecolor": "#506784",
             "minorgridcolor": "#506784",
             "startlinecolor": "#A2B1C6"
            },
            "type": "carpet"
           }
          ],
          "choropleth": [
           {
            "colorbar": {
             "outlinewidth": 0,
             "ticks": ""
            },
            "type": "choropleth"
           }
          ],
          "contour": [
           {
            "colorbar": {
             "outlinewidth": 0,
             "ticks": ""
            },
            "colorscale": [
             [
              0,
              "#0d0887"
             ],
             [
              0.1111111111111111,
              "#46039f"
             ],
             [
              0.2222222222222222,
              "#7201a8"
             ],
             [
              0.3333333333333333,
              "#9c179e"
             ],
             [
              0.4444444444444444,
              "#bd3786"
             ],
             [
              0.5555555555555556,
              "#d8576b"
             ],
             [
              0.6666666666666666,
              "#ed7953"
             ],
             [
              0.7777777777777778,
              "#fb9f3a"
             ],
             [
              0.8888888888888888,
              "#fdca26"
             ],
             [
              1,
              "#f0f921"
             ]
            ],
            "type": "contour"
           }
          ],
          "contourcarpet": [
           {
            "colorbar": {
             "outlinewidth": 0,
             "ticks": ""
            },
            "type": "contourcarpet"
           }
          ],
          "heatmap": [
           {
            "colorbar": {
             "outlinewidth": 0,
             "ticks": ""
            },
            "colorscale": [
             [
              0,
              "#0d0887"
             ],
             [
              0.1111111111111111,
              "#46039f"
             ],
             [
              0.2222222222222222,
              "#7201a8"
             ],
             [
              0.3333333333333333,
              "#9c179e"
             ],
             [
              0.4444444444444444,
              "#bd3786"
             ],
             [
              0.5555555555555556,
              "#d8576b"
             ],
             [
              0.6666666666666666,
              "#ed7953"
             ],
             [
              0.7777777777777778,
              "#fb9f3a"
             ],
             [
              0.8888888888888888,
              "#fdca26"
             ],
             [
              1,
              "#f0f921"
             ]
            ],
            "type": "heatmap"
           }
          ],
          "heatmapgl": [
           {
            "colorbar": {
             "outlinewidth": 0,
             "ticks": ""
            },
            "colorscale": [
             [
              0,
              "#0d0887"
             ],
             [
              0.1111111111111111,
              "#46039f"
             ],
             [
              0.2222222222222222,
              "#7201a8"
             ],
             [
              0.3333333333333333,
              "#9c179e"
             ],
             [
              0.4444444444444444,
              "#bd3786"
             ],
             [
              0.5555555555555556,
              "#d8576b"
             ],
             [
              0.6666666666666666,
              "#ed7953"
             ],
             [
              0.7777777777777778,
              "#fb9f3a"
             ],
             [
              0.8888888888888888,
              "#fdca26"
             ],
             [
              1,
              "#f0f921"
             ]
            ],
            "type": "heatmapgl"
           }
          ],
          "histogram": [
           {
            "marker": {
             "colorbar": {
              "outlinewidth": 0,
              "ticks": ""
             }
            },
            "type": "histogram"
           }
          ],
          "histogram2d": [
           {
            "colorbar": {
             "outlinewidth": 0,
             "ticks": ""
            },
            "colorscale": [
             [
              0,
              "#0d0887"
             ],
             [
              0.1111111111111111,
              "#46039f"
             ],
             [
              0.2222222222222222,
              "#7201a8"
             ],
             [
              0.3333333333333333,
              "#9c179e"
             ],
             [
              0.4444444444444444,
              "#bd3786"
             ],
             [
              0.5555555555555556,
              "#d8576b"
             ],
             [
              0.6666666666666666,
              "#ed7953"
             ],
             [
              0.7777777777777778,
              "#fb9f3a"
             ],
             [
              0.8888888888888888,
              "#fdca26"
             ],
             [
              1,
              "#f0f921"
             ]
            ],
            "type": "histogram2d"
           }
          ],
          "histogram2dcontour": [
           {
            "colorbar": {
             "outlinewidth": 0,
             "ticks": ""
            },
            "colorscale": [
             [
              0,
              "#0d0887"
             ],
             [
              0.1111111111111111,
              "#46039f"
             ],
             [
              0.2222222222222222,
              "#7201a8"
             ],
             [
              0.3333333333333333,
              "#9c179e"
             ],
             [
              0.4444444444444444,
              "#bd3786"
             ],
             [
              0.5555555555555556,
              "#d8576b"
             ],
             [
              0.6666666666666666,
              "#ed7953"
             ],
             [
              0.7777777777777778,
              "#fb9f3a"
             ],
             [
              0.8888888888888888,
              "#fdca26"
             ],
             [
              1,
              "#f0f921"
             ]
            ],
            "type": "histogram2dcontour"
           }
          ],
          "mesh3d": [
           {
            "colorbar": {
             "outlinewidth": 0,
             "ticks": ""
            },
            "type": "mesh3d"
           }
          ],
          "parcoords": [
           {
            "line": {
             "colorbar": {
              "outlinewidth": 0,
              "ticks": ""
             }
            },
            "type": "parcoords"
           }
          ],
          "pie": [
           {
            "automargin": true,
            "type": "pie"
           }
          ],
          "scatter": [
           {
            "marker": {
             "line": {
              "color": "#283442"
             }
            },
            "type": "scatter"
           }
          ],
          "scatter3d": [
           {
            "line": {
             "colorbar": {
              "outlinewidth": 0,
              "ticks": ""
             }
            },
            "marker": {
             "colorbar": {
              "outlinewidth": 0,
              "ticks": ""
             }
            },
            "type": "scatter3d"
           }
          ],
          "scattercarpet": [
           {
            "marker": {
             "colorbar": {
              "outlinewidth": 0,
              "ticks": ""
             }
            },
            "type": "scattercarpet"
           }
          ],
          "scattergeo": [
           {
            "marker": {
             "colorbar": {
              "outlinewidth": 0,
              "ticks": ""
             }
            },
            "type": "scattergeo"
           }
          ],
          "scattergl": [
           {
            "marker": {
             "line": {
              "color": "#283442"
             }
            },
            "type": "scattergl"
           }
          ],
          "scattermapbox": [
           {
            "marker": {
             "colorbar": {
              "outlinewidth": 0,
              "ticks": ""
             }
            },
            "type": "scattermapbox"
           }
          ],
          "scatterpolar": [
           {
            "marker": {
             "colorbar": {
              "outlinewidth": 0,
              "ticks": ""
             }
            },
            "type": "scatterpolar"
           }
          ],
          "scatterpolargl": [
           {
            "marker": {
             "colorbar": {
              "outlinewidth": 0,
              "ticks": ""
             }
            },
            "type": "scatterpolargl"
           }
          ],
          "scatterternary": [
           {
            "marker": {
             "colorbar": {
              "outlinewidth": 0,
              "ticks": ""
             }
            },
            "type": "scatterternary"
           }
          ],
          "surface": [
           {
            "colorbar": {
             "outlinewidth": 0,
             "ticks": ""
            },
            "colorscale": [
             [
              0,
              "#0d0887"
             ],
             [
              0.1111111111111111,
              "#46039f"
             ],
             [
              0.2222222222222222,
              "#7201a8"
             ],
             [
              0.3333333333333333,
              "#9c179e"
             ],
             [
              0.4444444444444444,
              "#bd3786"
             ],
             [
              0.5555555555555556,
              "#d8576b"
             ],
             [
              0.6666666666666666,
              "#ed7953"
             ],
             [
              0.7777777777777778,
              "#fb9f3a"
             ],
             [
              0.8888888888888888,
              "#fdca26"
             ],
             [
              1,
              "#f0f921"
             ]
            ],
            "type": "surface"
           }
          ],
          "table": [
           {
            "cells": {
             "fill": {
              "color": "#506784"
             },
             "line": {
              "color": "rgb(17,17,17)"
             }
            },
            "header": {
             "fill": {
              "color": "#2a3f5f"
             },
             "line": {
              "color": "rgb(17,17,17)"
             }
            },
            "type": "table"
           }
          ]
         },
         "layout": {
          "annotationdefaults": {
           "arrowcolor": "#f2f5fa",
           "arrowhead": 0,
           "arrowwidth": 1
          },
          "autotypenumbers": "strict",
          "coloraxis": {
           "colorbar": {
            "outlinewidth": 0,
            "ticks": ""
           }
          },
          "colorscale": {
           "diverging": [
            [
             0,
             "#8e0152"
            ],
            [
             0.1,
             "#c51b7d"
            ],
            [
             0.2,
             "#de77ae"
            ],
            [
             0.3,
             "#f1b6da"
            ],
            [
             0.4,
             "#fde0ef"
            ],
            [
             0.5,
             "#f7f7f7"
            ],
            [
             0.6,
             "#e6f5d0"
            ],
            [
             0.7,
             "#b8e186"
            ],
            [
             0.8,
             "#7fbc41"
            ],
            [
             0.9,
             "#4d9221"
            ],
            [
             1,
             "#276419"
            ]
           ],
           "sequential": [
            [
             0,
             "#0d0887"
            ],
            [
             0.1111111111111111,
             "#46039f"
            ],
            [
             0.2222222222222222,
             "#7201a8"
            ],
            [
             0.3333333333333333,
             "#9c179e"
            ],
            [
             0.4444444444444444,
             "#bd3786"
            ],
            [
             0.5555555555555556,
             "#d8576b"
            ],
            [
             0.6666666666666666,
             "#ed7953"
            ],
            [
             0.7777777777777778,
             "#fb9f3a"
            ],
            [
             0.8888888888888888,
             "#fdca26"
            ],
            [
             1,
             "#f0f921"
            ]
           ],
           "sequentialminus": [
            [
             0,
             "#0d0887"
            ],
            [
             0.1111111111111111,
             "#46039f"
            ],
            [
             0.2222222222222222,
             "#7201a8"
            ],
            [
             0.3333333333333333,
             "#9c179e"
            ],
            [
             0.4444444444444444,
             "#bd3786"
            ],
            [
             0.5555555555555556,
             "#d8576b"
            ],
            [
             0.6666666666666666,
             "#ed7953"
            ],
            [
             0.7777777777777778,
             "#fb9f3a"
            ],
            [
             0.8888888888888888,
             "#fdca26"
            ],
            [
             1,
             "#f0f921"
            ]
           ]
          },
          "colorway": [
           "#636efa",
           "#EF553B",
           "#00cc96",
           "#ab63fa",
           "#FFA15A",
           "#19d3f3",
           "#FF6692",
           "#B6E880",
           "#FF97FF",
           "#FECB52"
          ],
          "font": {
           "color": "#f2f5fa"
          },
          "geo": {
           "bgcolor": "rgb(17,17,17)",
           "lakecolor": "rgb(17,17,17)",
           "landcolor": "rgb(17,17,17)",
           "showlakes": true,
           "showland": true,
           "subunitcolor": "#506784"
          },
          "hoverlabel": {
           "align": "left"
          },
          "hovermode": "closest",
          "mapbox": {
           "style": "dark"
          },
          "paper_bgcolor": "rgb(17,17,17)",
          "plot_bgcolor": "rgb(17,17,17)",
          "polar": {
           "angularaxis": {
            "gridcolor": "#506784",
            "linecolor": "#506784",
            "ticks": ""
           },
           "bgcolor": "rgb(17,17,17)",
           "radialaxis": {
            "gridcolor": "#506784",
            "linecolor": "#506784",
            "ticks": ""
           }
          },
          "scene": {
           "xaxis": {
            "backgroundcolor": "rgb(17,17,17)",
            "gridcolor": "#506784",
            "gridwidth": 2,
            "linecolor": "#506784",
            "showbackground": true,
            "ticks": "",
            "zerolinecolor": "#C8D4E3"
           },
           "yaxis": {
            "backgroundcolor": "rgb(17,17,17)",
            "gridcolor": "#506784",
            "gridwidth": 2,
            "linecolor": "#506784",
            "showbackground": true,
            "ticks": "",
            "zerolinecolor": "#C8D4E3"
           },
           "zaxis": {
            "backgroundcolor": "rgb(17,17,17)",
            "gridcolor": "#506784",
            "gridwidth": 2,
            "linecolor": "#506784",
            "showbackground": true,
            "ticks": "",
            "zerolinecolor": "#C8D4E3"
           }
          },
          "shapedefaults": {
           "line": {
            "color": "#f2f5fa"
           }
          },
          "sliderdefaults": {
           "bgcolor": "#C8D4E3",
           "bordercolor": "rgb(17,17,17)",
           "borderwidth": 1,
           "tickwidth": 0
          },
          "ternary": {
           "aaxis": {
            "gridcolor": "#506784",
            "linecolor": "#506784",
            "ticks": ""
           },
           "baxis": {
            "gridcolor": "#506784",
            "linecolor": "#506784",
            "ticks": ""
           },
           "bgcolor": "rgb(17,17,17)",
           "caxis": {
            "gridcolor": "#506784",
            "linecolor": "#506784",
            "ticks": ""
           }
          },
          "title": {
           "x": 0.05
          },
          "updatemenudefaults": {
           "bgcolor": "#506784",
           "borderwidth": 0
          },
          "xaxis": {
           "automargin": true,
           "gridcolor": "#283442",
           "linecolor": "#506784",
           "ticks": "",
           "title": {
            "standoff": 15
           },
           "zerolinecolor": "#283442",
           "zerolinewidth": 2
          },
          "yaxis": {
           "automargin": true,
           "gridcolor": "#283442",
           "linecolor": "#506784",
           "ticks": "",
           "title": {
            "standoff": 15
           },
           "zerolinecolor": "#283442",
           "zerolinewidth": 2
          }
         }
        }
       }
      },
      "text/html": [
       "<div>                            <div id=\"65223a1a-ee40-490a-a12d-ea95ef373283\" class=\"plotly-graph-div\" style=\"height:525px; width:100%;\"></div>            <script type=\"text/javascript\">                require([\"plotly\"], function(Plotly) {                    window.PLOTLYENV=window.PLOTLYENV || {};                                    if (document.getElementById(\"65223a1a-ee40-490a-a12d-ea95ef373283\")) {                    Plotly.newPlot(                        \"65223a1a-ee40-490a-a12d-ea95ef373283\",                        [{\"mode\": \"lines\", \"name\": \"Standard Normal Distribution\", \"type\": \"scatter\", \"x\": [-2.3263478740408408, -2.279350947292541, -2.232354020544241, -2.1853570937959415, -2.1383601670476415, -2.0913632402993416, -2.0443663135510417, -1.997369386802742, -1.9503724600544423, -1.9033755333061424, -1.8563786065578427, -1.8093816798095428, -1.762384753061243, -1.7153878263129432, -1.6683908995646433, -1.6213939728163436, -1.5743970460680439, -1.527400119319744, -1.480403192571444, -1.4334062658231443, -1.3864093390748446, -1.3394124123265447, -1.2924154855782448, -1.2454185588299451, -1.1984216320816452, -1.1514247053333455, -1.1044277785850456, -1.057430851836746, -1.010433925088446, -0.9634369983401463, -0.9164400715918464, -0.8694431448435467, -0.8224462180952468, -0.7754492913469468, -0.7284523645986472, -0.6814554378503472, -0.6344585111020475, -0.5874615843537476, -0.5404646576054479, -0.493467730857148, -0.4464708041088483, -0.3994738773605484, -0.3524769506122487, -0.3054800238639488, -0.2584830971156489, -0.2114861703673494, -0.16448924361904949, -0.11749231687074957, -0.07049539012244965, -0.023498463374149736, 0.023498463374149736, 0.07049539012244965, 0.11749231687074957, 0.16448924361904949, 0.21148617036734896, 0.2584830971156489, 0.3054800238639488, 0.3524769506122487, 0.3994738773605482, 0.4464708041088481, 0.493467730857148, 0.5404646576054479, 0.5874615843537474, 0.6344585111020473, 0.6814554378503472, 0.7284523645986472, 0.7754492913469471, 0.8224462180952465, 0.8694431448435465, 0.9164400715918464, 0.9634369983401463, 1.0104339250884458, 1.0574308518367457, 1.1044277785850456, 1.1514247053333455, 1.198421632081645, 1.245418558829945, 1.2924154855782448, 1.3394124123265447, 1.3864093390748442, 1.4334062658231441, 1.480403192571444, 1.527400119319744, 1.5743970460680439, 1.6213939728163433, 1.6683908995646433, 1.7153878263129432, 1.7623847530612426, 1.809381679809543, 1.8563786065578425, 1.903375533306142, 1.9503724600544423, 1.9973693868027418, 2.044366313551042, 2.0913632402993416, 2.138360167047641, 2.1853570937959415, 2.232354020544241, 2.2793509472925413, 2.3263478740408408], \"y\": [0.02665214220345808, 0.029698495124487845, 0.03302003535669454, 0.03663206435224366, 0.04054954840560043, 0.04478694292349345, 0.049358003635151186, 0.054275585974773305, 0.05955143419009686, 0.06519596205762482, 0.07121802741030074, 0.07762470300022481, 0.08442104652000788, 0.09160987288379509, 0.09919153211490578, 0.10716369639347652, 0.11552115997669092, 0.12425565580877511, 0.13335569268119776, 0.14280641677954986, 0.15258950135757612, 0.16268306810723343, 0.1730616435443722, 0.18369615340220186, 0.19455395762037694, 0.20559892803944185, 0.21679157036348465, 0.22808919134504188, 0.2394461114842625, 0.2508139228294869, 0.2621417907307059, 0.2733767976441347, 0.2844643263297956, 0.2953484790397197, 0.30597252857781293, 0.3162793964392877, 0.3262121526232731, 0.3357145311714946, 0.34473145503239644, 0.3532095634959414, 0.3610977351999095, 0.3683475995820787, 0.3749140296500157, 0.380755609064598, 0.3858350667852809, 0.39011967290219984, 0.3935815897772622, 0.3961981732255311, 0.3979522191788785, 0.3988321520731774, 0.3988321520731774, 0.3979522191788785, 0.3961981732255311, 0.3935815897772622, 0.3901196729021999, 0.3858350667852809, 0.380755609064598, 0.3749140296500157, 0.36834759958207874, 0.36109773519990956, 0.3532095634959414, 0.34473145503239644, 0.3357145311714946, 0.32621215262327313, 0.3162793964392877, 0.30597252857781293, 0.2953484790397197, 0.2844643263297956, 0.2733767976441348, 0.2621417907307059, 0.2508139228294869, 0.23944611148426256, 0.22808919134504194, 0.21679157036348465, 0.20559892803944185, 0.19455395762037703, 0.18369615340220188, 0.1730616435443722, 0.16268306810723343, 0.15258950135757623, 0.1428064167795499, 0.13335569268119776, 0.12425565580877511, 0.11552115997669092, 0.10716369639347659, 0.09919153211490578, 0.09160987288379509, 0.08442104652000794, 0.0776247030002248, 0.07121802741030075, 0.06519596205762487, 0.05955143419009686, 0.054275585974773326, 0.049358003635151144, 0.04478694292349345, 0.04054954840560047, 0.03663206435224366, 0.03302003535669454, 0.029698495124487825, 0.02665214220345808]}, {\"mode\": \"lines\", \"name\": \"Difference in Means\", \"type\": \"scatter\", \"x\": [-1, -1], \"y\": [0, 0, 4]}],                        {\"template\": {\"data\": {\"bar\": [{\"error_x\": {\"color\": \"#f2f5fa\"}, \"error_y\": {\"color\": \"#f2f5fa\"}, \"marker\": {\"line\": {\"color\": \"rgb(17,17,17)\", \"width\": 0.5}}, \"type\": \"bar\"}], \"barpolar\": [{\"marker\": {\"line\": {\"color\": \"rgb(17,17,17)\", \"width\": 0.5}}, \"type\": \"barpolar\"}], \"carpet\": [{\"aaxis\": {\"endlinecolor\": \"#A2B1C6\", \"gridcolor\": \"#506784\", \"linecolor\": \"#506784\", \"minorgridcolor\": \"#506784\", \"startlinecolor\": \"#A2B1C6\"}, \"baxis\": {\"endlinecolor\": \"#A2B1C6\", \"gridcolor\": \"#506784\", \"linecolor\": \"#506784\", \"minorgridcolor\": \"#506784\", \"startlinecolor\": \"#A2B1C6\"}, \"type\": \"carpet\"}], \"choropleth\": [{\"colorbar\": {\"outlinewidth\": 0, \"ticks\": \"\"}, \"type\": \"choropleth\"}], \"contour\": [{\"colorbar\": {\"outlinewidth\": 0, \"ticks\": \"\"}, \"colorscale\": [[0.0, \"#0d0887\"], [0.1111111111111111, \"#46039f\"], [0.2222222222222222, \"#7201a8\"], [0.3333333333333333, \"#9c179e\"], [0.4444444444444444, \"#bd3786\"], [0.5555555555555556, \"#d8576b\"], [0.6666666666666666, \"#ed7953\"], [0.7777777777777778, \"#fb9f3a\"], [0.8888888888888888, \"#fdca26\"], [1.0, \"#f0f921\"]], \"type\": \"contour\"}], \"contourcarpet\": [{\"colorbar\": {\"outlinewidth\": 0, \"ticks\": \"\"}, \"type\": \"contourcarpet\"}], \"heatmap\": [{\"colorbar\": {\"outlinewidth\": 0, \"ticks\": \"\"}, \"colorscale\": [[0.0, \"#0d0887\"], [0.1111111111111111, \"#46039f\"], [0.2222222222222222, \"#7201a8\"], [0.3333333333333333, \"#9c179e\"], [0.4444444444444444, \"#bd3786\"], [0.5555555555555556, \"#d8576b\"], [0.6666666666666666, \"#ed7953\"], [0.7777777777777778, \"#fb9f3a\"], [0.8888888888888888, \"#fdca26\"], [1.0, \"#f0f921\"]], \"type\": \"heatmap\"}], \"heatmapgl\": [{\"colorbar\": {\"outlinewidth\": 0, \"ticks\": \"\"}, \"colorscale\": [[0.0, \"#0d0887\"], [0.1111111111111111, \"#46039f\"], [0.2222222222222222, \"#7201a8\"], [0.3333333333333333, \"#9c179e\"], [0.4444444444444444, \"#bd3786\"], [0.5555555555555556, \"#d8576b\"], [0.6666666666666666, \"#ed7953\"], [0.7777777777777778, \"#fb9f3a\"], [0.8888888888888888, \"#fdca26\"], [1.0, \"#f0f921\"]], \"type\": \"heatmapgl\"}], \"histogram\": [{\"marker\": {\"colorbar\": {\"outlinewidth\": 0, \"ticks\": \"\"}}, \"type\": \"histogram\"}], \"histogram2d\": [{\"colorbar\": {\"outlinewidth\": 0, \"ticks\": \"\"}, \"colorscale\": [[0.0, \"#0d0887\"], [0.1111111111111111, \"#46039f\"], [0.2222222222222222, \"#7201a8\"], [0.3333333333333333, \"#9c179e\"], [0.4444444444444444, \"#bd3786\"], [0.5555555555555556, \"#d8576b\"], [0.6666666666666666, \"#ed7953\"], [0.7777777777777778, \"#fb9f3a\"], [0.8888888888888888, \"#fdca26\"], [1.0, \"#f0f921\"]], \"type\": \"histogram2d\"}], \"histogram2dcontour\": [{\"colorbar\": {\"outlinewidth\": 0, \"ticks\": \"\"}, \"colorscale\": [[0.0, \"#0d0887\"], [0.1111111111111111, \"#46039f\"], [0.2222222222222222, \"#7201a8\"], [0.3333333333333333, \"#9c179e\"], [0.4444444444444444, \"#bd3786\"], [0.5555555555555556, \"#d8576b\"], [0.6666666666666666, \"#ed7953\"], [0.7777777777777778, \"#fb9f3a\"], [0.8888888888888888, \"#fdca26\"], [1.0, \"#f0f921\"]], \"type\": \"histogram2dcontour\"}], \"mesh3d\": [{\"colorbar\": {\"outlinewidth\": 0, \"ticks\": \"\"}, \"type\": \"mesh3d\"}], \"parcoords\": [{\"line\": {\"colorbar\": {\"outlinewidth\": 0, \"ticks\": \"\"}}, \"type\": \"parcoords\"}], \"pie\": [{\"automargin\": true, \"type\": \"pie\"}], \"scatter\": [{\"marker\": {\"line\": {\"color\": \"#283442\"}}, \"type\": \"scatter\"}], \"scatter3d\": [{\"line\": {\"colorbar\": {\"outlinewidth\": 0, \"ticks\": \"\"}}, \"marker\": {\"colorbar\": {\"outlinewidth\": 0, \"ticks\": \"\"}}, \"type\": \"scatter3d\"}], \"scattercarpet\": [{\"marker\": {\"colorbar\": {\"outlinewidth\": 0, \"ticks\": \"\"}}, \"type\": \"scattercarpet\"}], \"scattergeo\": [{\"marker\": {\"colorbar\": {\"outlinewidth\": 0, \"ticks\": \"\"}}, \"type\": \"scattergeo\"}], \"scattergl\": [{\"marker\": {\"line\": {\"color\": \"#283442\"}}, \"type\": \"scattergl\"}], \"scattermapbox\": [{\"marker\": {\"colorbar\": {\"outlinewidth\": 0, \"ticks\": \"\"}}, \"type\": \"scattermapbox\"}], \"scatterpolar\": [{\"marker\": {\"colorbar\": {\"outlinewidth\": 0, \"ticks\": \"\"}}, \"type\": \"scatterpolar\"}], \"scatterpolargl\": [{\"marker\": {\"colorbar\": {\"outlinewidth\": 0, \"ticks\": \"\"}}, \"type\": \"scatterpolargl\"}], \"scatterternary\": [{\"marker\": {\"colorbar\": {\"outlinewidth\": 0, \"ticks\": \"\"}}, \"type\": \"scatterternary\"}], \"surface\": [{\"colorbar\": {\"outlinewidth\": 0, \"ticks\": \"\"}, \"colorscale\": [[0.0, \"#0d0887\"], [0.1111111111111111, \"#46039f\"], [0.2222222222222222, \"#7201a8\"], [0.3333333333333333, \"#9c179e\"], [0.4444444444444444, \"#bd3786\"], [0.5555555555555556, \"#d8576b\"], [0.6666666666666666, \"#ed7953\"], [0.7777777777777778, \"#fb9f3a\"], [0.8888888888888888, \"#fdca26\"], [1.0, \"#f0f921\"]], \"type\": \"surface\"}], \"table\": [{\"cells\": {\"fill\": {\"color\": \"#506784\"}, \"line\": {\"color\": \"rgb(17,17,17)\"}}, \"header\": {\"fill\": {\"color\": \"#2a3f5f\"}, \"line\": {\"color\": \"rgb(17,17,17)\"}}, \"type\": \"table\"}]}, \"layout\": {\"annotationdefaults\": {\"arrowcolor\": \"#f2f5fa\", \"arrowhead\": 0, \"arrowwidth\": 1}, \"autotypenumbers\": \"strict\", \"coloraxis\": {\"colorbar\": {\"outlinewidth\": 0, \"ticks\": \"\"}}, \"colorscale\": {\"diverging\": [[0, \"#8e0152\"], [0.1, \"#c51b7d\"], [0.2, \"#de77ae\"], [0.3, \"#f1b6da\"], [0.4, \"#fde0ef\"], [0.5, \"#f7f7f7\"], [0.6, \"#e6f5d0\"], [0.7, \"#b8e186\"], [0.8, \"#7fbc41\"], [0.9, \"#4d9221\"], [1, \"#276419\"]], \"sequential\": [[0.0, \"#0d0887\"], [0.1111111111111111, \"#46039f\"], [0.2222222222222222, \"#7201a8\"], [0.3333333333333333, \"#9c179e\"], [0.4444444444444444, \"#bd3786\"], [0.5555555555555556, \"#d8576b\"], [0.6666666666666666, \"#ed7953\"], [0.7777777777777778, \"#fb9f3a\"], [0.8888888888888888, \"#fdca26\"], [1.0, \"#f0f921\"]], \"sequentialminus\": [[0.0, \"#0d0887\"], [0.1111111111111111, \"#46039f\"], [0.2222222222222222, \"#7201a8\"], [0.3333333333333333, \"#9c179e\"], [0.4444444444444444, \"#bd3786\"], [0.5555555555555556, \"#d8576b\"], [0.6666666666666666, \"#ed7953\"], [0.7777777777777778, \"#fb9f3a\"], [0.8888888888888888, \"#fdca26\"], [1.0, \"#f0f921\"]]}, \"colorway\": [\"#636efa\", \"#EF553B\", \"#00cc96\", \"#ab63fa\", \"#FFA15A\", \"#19d3f3\", \"#FF6692\", \"#B6E880\", \"#FF97FF\", \"#FECB52\"], \"font\": {\"color\": \"#f2f5fa\"}, \"geo\": {\"bgcolor\": \"rgb(17,17,17)\", \"lakecolor\": \"rgb(17,17,17)\", \"landcolor\": \"rgb(17,17,17)\", \"showlakes\": true, \"showland\": true, \"subunitcolor\": \"#506784\"}, \"hoverlabel\": {\"align\": \"left\"}, \"hovermode\": \"closest\", \"mapbox\": {\"style\": \"dark\"}, \"paper_bgcolor\": \"rgb(17,17,17)\", \"plot_bgcolor\": \"rgb(17,17,17)\", \"polar\": {\"angularaxis\": {\"gridcolor\": \"#506784\", \"linecolor\": \"#506784\", \"ticks\": \"\"}, \"bgcolor\": \"rgb(17,17,17)\", \"radialaxis\": {\"gridcolor\": \"#506784\", \"linecolor\": \"#506784\", \"ticks\": \"\"}}, \"scene\": {\"xaxis\": {\"backgroundcolor\": \"rgb(17,17,17)\", \"gridcolor\": \"#506784\", \"gridwidth\": 2, \"linecolor\": \"#506784\", \"showbackground\": true, \"ticks\": \"\", \"zerolinecolor\": \"#C8D4E3\"}, \"yaxis\": {\"backgroundcolor\": \"rgb(17,17,17)\", \"gridcolor\": \"#506784\", \"gridwidth\": 2, \"linecolor\": \"#506784\", \"showbackground\": true, \"ticks\": \"\", \"zerolinecolor\": \"#C8D4E3\"}, \"zaxis\": {\"backgroundcolor\": \"rgb(17,17,17)\", \"gridcolor\": \"#506784\", \"gridwidth\": 2, \"linecolor\": \"#506784\", \"showbackground\": true, \"ticks\": \"\", \"zerolinecolor\": \"#C8D4E3\"}}, \"shapedefaults\": {\"line\": {\"color\": \"#f2f5fa\"}}, \"sliderdefaults\": {\"bgcolor\": \"#C8D4E3\", \"bordercolor\": \"rgb(17,17,17)\", \"borderwidth\": 1, \"tickwidth\": 0}, \"ternary\": {\"aaxis\": {\"gridcolor\": \"#506784\", \"linecolor\": \"#506784\", \"ticks\": \"\"}, \"baxis\": {\"gridcolor\": \"#506784\", \"linecolor\": \"#506784\", \"ticks\": \"\"}, \"bgcolor\": \"rgb(17,17,17)\", \"caxis\": {\"gridcolor\": \"#506784\", \"linecolor\": \"#506784\", \"ticks\": \"\"}}, \"title\": {\"x\": 0.05}, \"updatemenudefaults\": {\"bgcolor\": \"#506784\", \"borderwidth\": 0}, \"xaxis\": {\"automargin\": true, \"gridcolor\": \"#283442\", \"linecolor\": \"#506784\", \"ticks\": \"\", \"title\": {\"standoff\": 15}, \"zerolinecolor\": \"#283442\", \"zerolinewidth\": 2}, \"yaxis\": {\"automargin\": true, \"gridcolor\": \"#283442\", \"linecolor\": \"#506784\", \"ticks\": \"\", \"title\": {\"standoff\": 15}, \"zerolinecolor\": \"#283442\", \"zerolinewidth\": 2}}}},                        {\"responsive\": true}                    ).then(function(){\n",
       "                            \n",
       "var gd = document.getElementById('65223a1a-ee40-490a-a12d-ea95ef373283');\n",
       "var x = new MutationObserver(function (mutations, observer) {{\n",
       "        var display = window.getComputedStyle(gd).display;\n",
       "        if (!display || display === 'none') {{\n",
       "            console.log([gd, 'removed!']);\n",
       "            Plotly.purge(gd);\n",
       "            observer.disconnect();\n",
       "        }}\n",
       "}});\n",
       "\n",
       "// Listen for the removal of the full notebook cells\n",
       "var notebookContainer = gd.closest('#notebook-container');\n",
       "if (notebookContainer) {{\n",
       "    x.observe(notebookContainer, {childList: true});\n",
       "}}\n",
       "\n",
       "// Listen for the clearing of the current output cell\n",
       "var outputEl = gd.closest('.output');\n",
       "if (outputEl) {{\n",
       "    x.observe(outputEl, {childList: true});\n",
       "}}\n",
       "\n",
       "                        })                };                });            </script>        </div>"
      ]
     },
     "metadata": {},
     "output_type": "display_data"
    }
   ],
   "source": [
    "area_fig = go.Figure()\n",
    "area_fig.add_trace(go.Scatter(\n",
    "    x= values_flatten,\n",
    "    y= pdf_values,\n",
    "    mode='lines',\n",
    "    name='Standard Normal Distribution',\n",
    "))\n",
    "\n",
    "area_fig.add_trace(go.Scatter(\n",
    "    x= [-1,-1],\n",
    "    y= [0,0,4],\n",
    "    mode='lines',\n",
    "    name='Difference in Means',\n",
    "   \n",
    "))\n",
    "area_fig.show() # suppose to have red line @ -1 line "
   ]
  },
  {
   "cell_type": "code",
   "execution_count": null,
   "id": "buried-cholesterol",
   "metadata": {},
   "outputs": [],
   "source": []
  },
  {
   "cell_type": "markdown",
   "id": "changed-server",
   "metadata": {},
   "source": [
    "## Binomial Distribution\n",
    "- the number of occurences of a **success** in a set number *given* a probability for a success\n",
    "- only 2 elements for the variable: success and failure, each is independent of all other outcomes, probability of **failure** remains constant\n",
    "- Investgate whether specific side-effects when taking a drug:\n",
    "    - having a side effect = **success**\n",
    "    - no side effect = **failure** \n",
    "    - assume the side effect has a 5% chance of occuring in each individual, there are 0 to 4 side effects occuring in 10 people"
   ]
  },
  {
   "cell_type": "code",
   "execution_count": 123,
   "id": "dense-decimal",
   "metadata": {},
   "outputs": [],
   "source": [
    "def binom(n,k,p):\n",
    "    return (factorial(n) // factorial(k) // factorial(n - k)) * (p**k) * ((1-p) ** (n - k)) "
   ]
  },
  {
   "cell_type": "code",
   "execution_count": 124,
   "id": "seven-clark",
   "metadata": {},
   "outputs": [],
   "source": [
    "def binomial(n,k,p):\n",
    "    n_ = (factorial(n))\n",
    "    k_ = (factorial(k))\n",
    "    n_min_k = (factorial(n - k))\n",
    "    p_exp_k = (p**k)\n",
    "    one_min_p = (1 - p)\n",
    "    n_Minus_K = (n - k)\n",
    "    \n",
    "    return ((n_) / k_ * n_min_k) * p_exp_k * one_min_p ** n_Minus_K"
   ]
  },
  {
   "cell_type": "markdown",
   "id": "signed-saying",
   "metadata": {},
   "source": [
    "calculate probability of 2 side effects among 10 people, given a probability of a side effect in any indiidual is 0.05%"
   ]
  },
  {
   "cell_type": "code",
   "execution_count": 139,
   "id": "coral-replica",
   "metadata": {},
   "outputs": [
    {
     "name": "stdout",
     "output_type": "stream",
     "text": [
      "probability of 2 side effects n=10 : 7.46 %\n"
     ]
    }
   ],
   "source": [
    "#    (10 people, 2 side effects, probability of 1 side effect)\n",
    "drug_side_efx = binom(10, 2, 0.05)\n",
    "print(\"probability of 2 side effects n=10 :\", round((drug_side_efx),4)*100,'%' )"
   ]
  },
  {
   "cell_type": "code",
   "execution_count": 140,
   "id": "downtown-brazil",
   "metadata": {},
   "outputs": [
    {
     "data": {
      "text/plain": [
       "[0.5987369392383787,\n",
       " 0.31512470486230454,\n",
       " 0.07463479852001952,\n",
       " 0.010475059441406248,\n",
       " 0.0009648081064453125]"
      ]
     },
     "execution_count": 140,
     "metadata": {},
     "output_type": "execute_result"
    }
   ],
   "source": [
    "# list comprehension of probability of 0,1,2,3,4 side effects in 10 people\n",
    "probs = [binom(10,k, 0.05) for k in range(5)]\n",
    "probs"
   ]
  },
  {
   "cell_type": "code",
   "execution_count": 142,
   "id": "material-lying",
   "metadata": {},
   "outputs": [
    {
     "data": {
      "application/vnd.plotly.v1+json": {
       "config": {
        "plotlyServerURL": "https://plot.ly"
       },
       "data": [
        {
         "alignmentgroup": "True",
         "hovertemplate": "Number of Complications=%{x}<br>Probability=%{y}<extra></extra>",
         "legendgroup": "",
         "marker": {
          "color": "#636efa"
         },
         "name": "",
         "offsetgroup": "",
         "orientation": "v",
         "showlegend": false,
         "textposition": "auto",
         "type": "bar",
         "x": [
          0,
          1,
          2,
          3,
          4
         ],
         "xaxis": "x",
         "y": [
          0.5987369392383787,
          0.31512470486230454,
          0.07463479852001952,
          0.010475059441406248,
          0.0009648081064453125
         ],
         "yaxis": "y"
        }
       ],
       "layout": {
        "barmode": "relative",
        "legend": {
         "tracegroupgap": 0
        },
        "template": {
         "data": {
          "bar": [
           {
            "error_x": {
             "color": "#f2f5fa"
            },
            "error_y": {
             "color": "#f2f5fa"
            },
            "marker": {
             "line": {
              "color": "rgb(17,17,17)",
              "width": 0.5
             }
            },
            "type": "bar"
           }
          ],
          "barpolar": [
           {
            "marker": {
             "line": {
              "color": "rgb(17,17,17)",
              "width": 0.5
             }
            },
            "type": "barpolar"
           }
          ],
          "carpet": [
           {
            "aaxis": {
             "endlinecolor": "#A2B1C6",
             "gridcolor": "#506784",
             "linecolor": "#506784",
             "minorgridcolor": "#506784",
             "startlinecolor": "#A2B1C6"
            },
            "baxis": {
             "endlinecolor": "#A2B1C6",
             "gridcolor": "#506784",
             "linecolor": "#506784",
             "minorgridcolor": "#506784",
             "startlinecolor": "#A2B1C6"
            },
            "type": "carpet"
           }
          ],
          "choropleth": [
           {
            "colorbar": {
             "outlinewidth": 0,
             "ticks": ""
            },
            "type": "choropleth"
           }
          ],
          "contour": [
           {
            "colorbar": {
             "outlinewidth": 0,
             "ticks": ""
            },
            "colorscale": [
             [
              0,
              "#0d0887"
             ],
             [
              0.1111111111111111,
              "#46039f"
             ],
             [
              0.2222222222222222,
              "#7201a8"
             ],
             [
              0.3333333333333333,
              "#9c179e"
             ],
             [
              0.4444444444444444,
              "#bd3786"
             ],
             [
              0.5555555555555556,
              "#d8576b"
             ],
             [
              0.6666666666666666,
              "#ed7953"
             ],
             [
              0.7777777777777778,
              "#fb9f3a"
             ],
             [
              0.8888888888888888,
              "#fdca26"
             ],
             [
              1,
              "#f0f921"
             ]
            ],
            "type": "contour"
           }
          ],
          "contourcarpet": [
           {
            "colorbar": {
             "outlinewidth": 0,
             "ticks": ""
            },
            "type": "contourcarpet"
           }
          ],
          "heatmap": [
           {
            "colorbar": {
             "outlinewidth": 0,
             "ticks": ""
            },
            "colorscale": [
             [
              0,
              "#0d0887"
             ],
             [
              0.1111111111111111,
              "#46039f"
             ],
             [
              0.2222222222222222,
              "#7201a8"
             ],
             [
              0.3333333333333333,
              "#9c179e"
             ],
             [
              0.4444444444444444,
              "#bd3786"
             ],
             [
              0.5555555555555556,
              "#d8576b"
             ],
             [
              0.6666666666666666,
              "#ed7953"
             ],
             [
              0.7777777777777778,
              "#fb9f3a"
             ],
             [
              0.8888888888888888,
              "#fdca26"
             ],
             [
              1,
              "#f0f921"
             ]
            ],
            "type": "heatmap"
           }
          ],
          "heatmapgl": [
           {
            "colorbar": {
             "outlinewidth": 0,
             "ticks": ""
            },
            "colorscale": [
             [
              0,
              "#0d0887"
             ],
             [
              0.1111111111111111,
              "#46039f"
             ],
             [
              0.2222222222222222,
              "#7201a8"
             ],
             [
              0.3333333333333333,
              "#9c179e"
             ],
             [
              0.4444444444444444,
              "#bd3786"
             ],
             [
              0.5555555555555556,
              "#d8576b"
             ],
             [
              0.6666666666666666,
              "#ed7953"
             ],
             [
              0.7777777777777778,
              "#fb9f3a"
             ],
             [
              0.8888888888888888,
              "#fdca26"
             ],
             [
              1,
              "#f0f921"
             ]
            ],
            "type": "heatmapgl"
           }
          ],
          "histogram": [
           {
            "marker": {
             "colorbar": {
              "outlinewidth": 0,
              "ticks": ""
             }
            },
            "type": "histogram"
           }
          ],
          "histogram2d": [
           {
            "colorbar": {
             "outlinewidth": 0,
             "ticks": ""
            },
            "colorscale": [
             [
              0,
              "#0d0887"
             ],
             [
              0.1111111111111111,
              "#46039f"
             ],
             [
              0.2222222222222222,
              "#7201a8"
             ],
             [
              0.3333333333333333,
              "#9c179e"
             ],
             [
              0.4444444444444444,
              "#bd3786"
             ],
             [
              0.5555555555555556,
              "#d8576b"
             ],
             [
              0.6666666666666666,
              "#ed7953"
             ],
             [
              0.7777777777777778,
              "#fb9f3a"
             ],
             [
              0.8888888888888888,
              "#fdca26"
             ],
             [
              1,
              "#f0f921"
             ]
            ],
            "type": "histogram2d"
           }
          ],
          "histogram2dcontour": [
           {
            "colorbar": {
             "outlinewidth": 0,
             "ticks": ""
            },
            "colorscale": [
             [
              0,
              "#0d0887"
             ],
             [
              0.1111111111111111,
              "#46039f"
             ],
             [
              0.2222222222222222,
              "#7201a8"
             ],
             [
              0.3333333333333333,
              "#9c179e"
             ],
             [
              0.4444444444444444,
              "#bd3786"
             ],
             [
              0.5555555555555556,
              "#d8576b"
             ],
             [
              0.6666666666666666,
              "#ed7953"
             ],
             [
              0.7777777777777778,
              "#fb9f3a"
             ],
             [
              0.8888888888888888,
              "#fdca26"
             ],
             [
              1,
              "#f0f921"
             ]
            ],
            "type": "histogram2dcontour"
           }
          ],
          "mesh3d": [
           {
            "colorbar": {
             "outlinewidth": 0,
             "ticks": ""
            },
            "type": "mesh3d"
           }
          ],
          "parcoords": [
           {
            "line": {
             "colorbar": {
              "outlinewidth": 0,
              "ticks": ""
             }
            },
            "type": "parcoords"
           }
          ],
          "pie": [
           {
            "automargin": true,
            "type": "pie"
           }
          ],
          "scatter": [
           {
            "marker": {
             "line": {
              "color": "#283442"
             }
            },
            "type": "scatter"
           }
          ],
          "scatter3d": [
           {
            "line": {
             "colorbar": {
              "outlinewidth": 0,
              "ticks": ""
             }
            },
            "marker": {
             "colorbar": {
              "outlinewidth": 0,
              "ticks": ""
             }
            },
            "type": "scatter3d"
           }
          ],
          "scattercarpet": [
           {
            "marker": {
             "colorbar": {
              "outlinewidth": 0,
              "ticks": ""
             }
            },
            "type": "scattercarpet"
           }
          ],
          "scattergeo": [
           {
            "marker": {
             "colorbar": {
              "outlinewidth": 0,
              "ticks": ""
             }
            },
            "type": "scattergeo"
           }
          ],
          "scattergl": [
           {
            "marker": {
             "line": {
              "color": "#283442"
             }
            },
            "type": "scattergl"
           }
          ],
          "scattermapbox": [
           {
            "marker": {
             "colorbar": {
              "outlinewidth": 0,
              "ticks": ""
             }
            },
            "type": "scattermapbox"
           }
          ],
          "scatterpolar": [
           {
            "marker": {
             "colorbar": {
              "outlinewidth": 0,
              "ticks": ""
             }
            },
            "type": "scatterpolar"
           }
          ],
          "scatterpolargl": [
           {
            "marker": {
             "colorbar": {
              "outlinewidth": 0,
              "ticks": ""
             }
            },
            "type": "scatterpolargl"
           }
          ],
          "scatterternary": [
           {
            "marker": {
             "colorbar": {
              "outlinewidth": 0,
              "ticks": ""
             }
            },
            "type": "scatterternary"
           }
          ],
          "surface": [
           {
            "colorbar": {
             "outlinewidth": 0,
             "ticks": ""
            },
            "colorscale": [
             [
              0,
              "#0d0887"
             ],
             [
              0.1111111111111111,
              "#46039f"
             ],
             [
              0.2222222222222222,
              "#7201a8"
             ],
             [
              0.3333333333333333,
              "#9c179e"
             ],
             [
              0.4444444444444444,
              "#bd3786"
             ],
             [
              0.5555555555555556,
              "#d8576b"
             ],
             [
              0.6666666666666666,
              "#ed7953"
             ],
             [
              0.7777777777777778,
              "#fb9f3a"
             ],
             [
              0.8888888888888888,
              "#fdca26"
             ],
             [
              1,
              "#f0f921"
             ]
            ],
            "type": "surface"
           }
          ],
          "table": [
           {
            "cells": {
             "fill": {
              "color": "#506784"
             },
             "line": {
              "color": "rgb(17,17,17)"
             }
            },
            "header": {
             "fill": {
              "color": "#2a3f5f"
             },
             "line": {
              "color": "rgb(17,17,17)"
             }
            },
            "type": "table"
           }
          ]
         },
         "layout": {
          "annotationdefaults": {
           "arrowcolor": "#f2f5fa",
           "arrowhead": 0,
           "arrowwidth": 1
          },
          "autotypenumbers": "strict",
          "coloraxis": {
           "colorbar": {
            "outlinewidth": 0,
            "ticks": ""
           }
          },
          "colorscale": {
           "diverging": [
            [
             0,
             "#8e0152"
            ],
            [
             0.1,
             "#c51b7d"
            ],
            [
             0.2,
             "#de77ae"
            ],
            [
             0.3,
             "#f1b6da"
            ],
            [
             0.4,
             "#fde0ef"
            ],
            [
             0.5,
             "#f7f7f7"
            ],
            [
             0.6,
             "#e6f5d0"
            ],
            [
             0.7,
             "#b8e186"
            ],
            [
             0.8,
             "#7fbc41"
            ],
            [
             0.9,
             "#4d9221"
            ],
            [
             1,
             "#276419"
            ]
           ],
           "sequential": [
            [
             0,
             "#0d0887"
            ],
            [
             0.1111111111111111,
             "#46039f"
            ],
            [
             0.2222222222222222,
             "#7201a8"
            ],
            [
             0.3333333333333333,
             "#9c179e"
            ],
            [
             0.4444444444444444,
             "#bd3786"
            ],
            [
             0.5555555555555556,
             "#d8576b"
            ],
            [
             0.6666666666666666,
             "#ed7953"
            ],
            [
             0.7777777777777778,
             "#fb9f3a"
            ],
            [
             0.8888888888888888,
             "#fdca26"
            ],
            [
             1,
             "#f0f921"
            ]
           ],
           "sequentialminus": [
            [
             0,
             "#0d0887"
            ],
            [
             0.1111111111111111,
             "#46039f"
            ],
            [
             0.2222222222222222,
             "#7201a8"
            ],
            [
             0.3333333333333333,
             "#9c179e"
            ],
            [
             0.4444444444444444,
             "#bd3786"
            ],
            [
             0.5555555555555556,
             "#d8576b"
            ],
            [
             0.6666666666666666,
             "#ed7953"
            ],
            [
             0.7777777777777778,
             "#fb9f3a"
            ],
            [
             0.8888888888888888,
             "#fdca26"
            ],
            [
             1,
             "#f0f921"
            ]
           ]
          },
          "colorway": [
           "#636efa",
           "#EF553B",
           "#00cc96",
           "#ab63fa",
           "#FFA15A",
           "#19d3f3",
           "#FF6692",
           "#B6E880",
           "#FF97FF",
           "#FECB52"
          ],
          "font": {
           "color": "#f2f5fa"
          },
          "geo": {
           "bgcolor": "rgb(17,17,17)",
           "lakecolor": "rgb(17,17,17)",
           "landcolor": "rgb(17,17,17)",
           "showlakes": true,
           "showland": true,
           "subunitcolor": "#506784"
          },
          "hoverlabel": {
           "align": "left"
          },
          "hovermode": "closest",
          "mapbox": {
           "style": "dark"
          },
          "paper_bgcolor": "rgb(17,17,17)",
          "plot_bgcolor": "rgb(17,17,17)",
          "polar": {
           "angularaxis": {
            "gridcolor": "#506784",
            "linecolor": "#506784",
            "ticks": ""
           },
           "bgcolor": "rgb(17,17,17)",
           "radialaxis": {
            "gridcolor": "#506784",
            "linecolor": "#506784",
            "ticks": ""
           }
          },
          "scene": {
           "xaxis": {
            "backgroundcolor": "rgb(17,17,17)",
            "gridcolor": "#506784",
            "gridwidth": 2,
            "linecolor": "#506784",
            "showbackground": true,
            "ticks": "",
            "zerolinecolor": "#C8D4E3"
           },
           "yaxis": {
            "backgroundcolor": "rgb(17,17,17)",
            "gridcolor": "#506784",
            "gridwidth": 2,
            "linecolor": "#506784",
            "showbackground": true,
            "ticks": "",
            "zerolinecolor": "#C8D4E3"
           },
           "zaxis": {
            "backgroundcolor": "rgb(17,17,17)",
            "gridcolor": "#506784",
            "gridwidth": 2,
            "linecolor": "#506784",
            "showbackground": true,
            "ticks": "",
            "zerolinecolor": "#C8D4E3"
           }
          },
          "shapedefaults": {
           "line": {
            "color": "#f2f5fa"
           }
          },
          "sliderdefaults": {
           "bgcolor": "#C8D4E3",
           "bordercolor": "rgb(17,17,17)",
           "borderwidth": 1,
           "tickwidth": 0
          },
          "ternary": {
           "aaxis": {
            "gridcolor": "#506784",
            "linecolor": "#506784",
            "ticks": ""
           },
           "baxis": {
            "gridcolor": "#506784",
            "linecolor": "#506784",
            "ticks": ""
           },
           "bgcolor": "rgb(17,17,17)",
           "caxis": {
            "gridcolor": "#506784",
            "linecolor": "#506784",
            "ticks": ""
           }
          },
          "title": {
           "x": 0.05
          },
          "updatemenudefaults": {
           "bgcolor": "#506784",
           "borderwidth": 0
          },
          "xaxis": {
           "automargin": true,
           "gridcolor": "#283442",
           "linecolor": "#506784",
           "ticks": "",
           "title": {
            "standoff": 15
           },
           "zerolinecolor": "#283442",
           "zerolinewidth": 2
          },
          "yaxis": {
           "automargin": true,
           "gridcolor": "#283442",
           "linecolor": "#506784",
           "ticks": "",
           "title": {
            "standoff": 15
           },
           "zerolinecolor": "#283442",
           "zerolinewidth": 2
          }
         }
        },
        "title": {
         "text": "Drug side effect probabilities (n = 10)"
        },
        "xaxis": {
         "anchor": "y",
         "domain": [
          0,
          1
         ],
         "title": {
          "text": "Number of Complications"
         }
        },
        "yaxis": {
         "anchor": "x",
         "domain": [
          0,
          1
         ],
         "title": {
          "text": "Probability"
         }
        }
       }
      },
      "text/html": [
       "<div>                            <div id=\"a89379bc-0a0e-4e0d-aed1-1ad26e409762\" class=\"plotly-graph-div\" style=\"height:525px; width:100%;\"></div>            <script type=\"text/javascript\">                require([\"plotly\"], function(Plotly) {                    window.PLOTLYENV=window.PLOTLYENV || {};                                    if (document.getElementById(\"a89379bc-0a0e-4e0d-aed1-1ad26e409762\")) {                    Plotly.newPlot(                        \"a89379bc-0a0e-4e0d-aed1-1ad26e409762\",                        [{\"alignmentgroup\": \"True\", \"hovertemplate\": \"Number of Complications=%{x}<br>Probability=%{y}<extra></extra>\", \"legendgroup\": \"\", \"marker\": {\"color\": \"#636efa\"}, \"name\": \"\", \"offsetgroup\": \"\", \"orientation\": \"v\", \"showlegend\": false, \"textposition\": \"auto\", \"type\": \"bar\", \"x\": [0, 1, 2, 3, 4], \"xaxis\": \"x\", \"y\": [0.5987369392383787, 0.31512470486230454, 0.07463479852001952, 0.010475059441406248, 0.0009648081064453125], \"yaxis\": \"y\"}],                        {\"barmode\": \"relative\", \"legend\": {\"tracegroupgap\": 0}, \"template\": {\"data\": {\"bar\": [{\"error_x\": {\"color\": \"#f2f5fa\"}, \"error_y\": {\"color\": \"#f2f5fa\"}, \"marker\": {\"line\": {\"color\": \"rgb(17,17,17)\", \"width\": 0.5}}, \"type\": \"bar\"}], \"barpolar\": [{\"marker\": {\"line\": {\"color\": \"rgb(17,17,17)\", \"width\": 0.5}}, \"type\": \"barpolar\"}], \"carpet\": [{\"aaxis\": {\"endlinecolor\": \"#A2B1C6\", \"gridcolor\": \"#506784\", \"linecolor\": \"#506784\", \"minorgridcolor\": \"#506784\", \"startlinecolor\": \"#A2B1C6\"}, \"baxis\": {\"endlinecolor\": \"#A2B1C6\", \"gridcolor\": \"#506784\", \"linecolor\": \"#506784\", \"minorgridcolor\": \"#506784\", \"startlinecolor\": \"#A2B1C6\"}, \"type\": \"carpet\"}], \"choropleth\": [{\"colorbar\": {\"outlinewidth\": 0, \"ticks\": \"\"}, \"type\": \"choropleth\"}], \"contour\": [{\"colorbar\": {\"outlinewidth\": 0, \"ticks\": \"\"}, \"colorscale\": [[0.0, \"#0d0887\"], [0.1111111111111111, \"#46039f\"], [0.2222222222222222, \"#7201a8\"], [0.3333333333333333, \"#9c179e\"], [0.4444444444444444, \"#bd3786\"], [0.5555555555555556, \"#d8576b\"], [0.6666666666666666, \"#ed7953\"], [0.7777777777777778, \"#fb9f3a\"], [0.8888888888888888, \"#fdca26\"], [1.0, \"#f0f921\"]], \"type\": \"contour\"}], \"contourcarpet\": [{\"colorbar\": {\"outlinewidth\": 0, \"ticks\": \"\"}, \"type\": \"contourcarpet\"}], \"heatmap\": [{\"colorbar\": {\"outlinewidth\": 0, \"ticks\": \"\"}, \"colorscale\": [[0.0, \"#0d0887\"], [0.1111111111111111, \"#46039f\"], [0.2222222222222222, \"#7201a8\"], [0.3333333333333333, \"#9c179e\"], [0.4444444444444444, \"#bd3786\"], [0.5555555555555556, \"#d8576b\"], [0.6666666666666666, \"#ed7953\"], [0.7777777777777778, \"#fb9f3a\"], [0.8888888888888888, \"#fdca26\"], [1.0, \"#f0f921\"]], \"type\": \"heatmap\"}], \"heatmapgl\": [{\"colorbar\": {\"outlinewidth\": 0, \"ticks\": \"\"}, \"colorscale\": [[0.0, \"#0d0887\"], [0.1111111111111111, \"#46039f\"], [0.2222222222222222, \"#7201a8\"], [0.3333333333333333, \"#9c179e\"], [0.4444444444444444, \"#bd3786\"], [0.5555555555555556, \"#d8576b\"], [0.6666666666666666, \"#ed7953\"], [0.7777777777777778, \"#fb9f3a\"], [0.8888888888888888, \"#fdca26\"], [1.0, \"#f0f921\"]], \"type\": \"heatmapgl\"}], \"histogram\": [{\"marker\": {\"colorbar\": {\"outlinewidth\": 0, \"ticks\": \"\"}}, \"type\": \"histogram\"}], \"histogram2d\": [{\"colorbar\": {\"outlinewidth\": 0, \"ticks\": \"\"}, \"colorscale\": [[0.0, \"#0d0887\"], [0.1111111111111111, \"#46039f\"], [0.2222222222222222, \"#7201a8\"], [0.3333333333333333, \"#9c179e\"], [0.4444444444444444, \"#bd3786\"], [0.5555555555555556, \"#d8576b\"], [0.6666666666666666, \"#ed7953\"], [0.7777777777777778, \"#fb9f3a\"], [0.8888888888888888, \"#fdca26\"], [1.0, \"#f0f921\"]], \"type\": \"histogram2d\"}], \"histogram2dcontour\": [{\"colorbar\": {\"outlinewidth\": 0, \"ticks\": \"\"}, \"colorscale\": [[0.0, \"#0d0887\"], [0.1111111111111111, \"#46039f\"], [0.2222222222222222, \"#7201a8\"], [0.3333333333333333, \"#9c179e\"], [0.4444444444444444, \"#bd3786\"], [0.5555555555555556, \"#d8576b\"], [0.6666666666666666, \"#ed7953\"], [0.7777777777777778, \"#fb9f3a\"], [0.8888888888888888, \"#fdca26\"], [1.0, \"#f0f921\"]], \"type\": \"histogram2dcontour\"}], \"mesh3d\": [{\"colorbar\": {\"outlinewidth\": 0, \"ticks\": \"\"}, \"type\": \"mesh3d\"}], \"parcoords\": [{\"line\": {\"colorbar\": {\"outlinewidth\": 0, \"ticks\": \"\"}}, \"type\": \"parcoords\"}], \"pie\": [{\"automargin\": true, \"type\": \"pie\"}], \"scatter\": [{\"marker\": {\"line\": {\"color\": \"#283442\"}}, \"type\": \"scatter\"}], \"scatter3d\": [{\"line\": {\"colorbar\": {\"outlinewidth\": 0, \"ticks\": \"\"}}, \"marker\": {\"colorbar\": {\"outlinewidth\": 0, \"ticks\": \"\"}}, \"type\": \"scatter3d\"}], \"scattercarpet\": [{\"marker\": {\"colorbar\": {\"outlinewidth\": 0, \"ticks\": \"\"}}, \"type\": \"scattercarpet\"}], \"scattergeo\": [{\"marker\": {\"colorbar\": {\"outlinewidth\": 0, \"ticks\": \"\"}}, \"type\": \"scattergeo\"}], \"scattergl\": [{\"marker\": {\"line\": {\"color\": \"#283442\"}}, \"type\": \"scattergl\"}], \"scattermapbox\": [{\"marker\": {\"colorbar\": {\"outlinewidth\": 0, \"ticks\": \"\"}}, \"type\": \"scattermapbox\"}], \"scatterpolar\": [{\"marker\": {\"colorbar\": {\"outlinewidth\": 0, \"ticks\": \"\"}}, \"type\": \"scatterpolar\"}], \"scatterpolargl\": [{\"marker\": {\"colorbar\": {\"outlinewidth\": 0, \"ticks\": \"\"}}, \"type\": \"scatterpolargl\"}], \"scatterternary\": [{\"marker\": {\"colorbar\": {\"outlinewidth\": 0, \"ticks\": \"\"}}, \"type\": \"scatterternary\"}], \"surface\": [{\"colorbar\": {\"outlinewidth\": 0, \"ticks\": \"\"}, \"colorscale\": [[0.0, \"#0d0887\"], [0.1111111111111111, \"#46039f\"], [0.2222222222222222, \"#7201a8\"], [0.3333333333333333, \"#9c179e\"], [0.4444444444444444, \"#bd3786\"], [0.5555555555555556, \"#d8576b\"], [0.6666666666666666, \"#ed7953\"], [0.7777777777777778, \"#fb9f3a\"], [0.8888888888888888, \"#fdca26\"], [1.0, \"#f0f921\"]], \"type\": \"surface\"}], \"table\": [{\"cells\": {\"fill\": {\"color\": \"#506784\"}, \"line\": {\"color\": \"rgb(17,17,17)\"}}, \"header\": {\"fill\": {\"color\": \"#2a3f5f\"}, \"line\": {\"color\": \"rgb(17,17,17)\"}}, \"type\": \"table\"}]}, \"layout\": {\"annotationdefaults\": {\"arrowcolor\": \"#f2f5fa\", \"arrowhead\": 0, \"arrowwidth\": 1}, \"autotypenumbers\": \"strict\", \"coloraxis\": {\"colorbar\": {\"outlinewidth\": 0, \"ticks\": \"\"}}, \"colorscale\": {\"diverging\": [[0, \"#8e0152\"], [0.1, \"#c51b7d\"], [0.2, \"#de77ae\"], [0.3, \"#f1b6da\"], [0.4, \"#fde0ef\"], [0.5, \"#f7f7f7\"], [0.6, \"#e6f5d0\"], [0.7, \"#b8e186\"], [0.8, \"#7fbc41\"], [0.9, \"#4d9221\"], [1, \"#276419\"]], \"sequential\": [[0.0, \"#0d0887\"], [0.1111111111111111, \"#46039f\"], [0.2222222222222222, \"#7201a8\"], [0.3333333333333333, \"#9c179e\"], [0.4444444444444444, \"#bd3786\"], [0.5555555555555556, \"#d8576b\"], [0.6666666666666666, \"#ed7953\"], [0.7777777777777778, \"#fb9f3a\"], [0.8888888888888888, \"#fdca26\"], [1.0, \"#f0f921\"]], \"sequentialminus\": [[0.0, \"#0d0887\"], [0.1111111111111111, \"#46039f\"], [0.2222222222222222, \"#7201a8\"], [0.3333333333333333, \"#9c179e\"], [0.4444444444444444, \"#bd3786\"], [0.5555555555555556, \"#d8576b\"], [0.6666666666666666, \"#ed7953\"], [0.7777777777777778, \"#fb9f3a\"], [0.8888888888888888, \"#fdca26\"], [1.0, \"#f0f921\"]]}, \"colorway\": [\"#636efa\", \"#EF553B\", \"#00cc96\", \"#ab63fa\", \"#FFA15A\", \"#19d3f3\", \"#FF6692\", \"#B6E880\", \"#FF97FF\", \"#FECB52\"], \"font\": {\"color\": \"#f2f5fa\"}, \"geo\": {\"bgcolor\": \"rgb(17,17,17)\", \"lakecolor\": \"rgb(17,17,17)\", \"landcolor\": \"rgb(17,17,17)\", \"showlakes\": true, \"showland\": true, \"subunitcolor\": \"#506784\"}, \"hoverlabel\": {\"align\": \"left\"}, \"hovermode\": \"closest\", \"mapbox\": {\"style\": \"dark\"}, \"paper_bgcolor\": \"rgb(17,17,17)\", \"plot_bgcolor\": \"rgb(17,17,17)\", \"polar\": {\"angularaxis\": {\"gridcolor\": \"#506784\", \"linecolor\": \"#506784\", \"ticks\": \"\"}, \"bgcolor\": \"rgb(17,17,17)\", \"radialaxis\": {\"gridcolor\": \"#506784\", \"linecolor\": \"#506784\", \"ticks\": \"\"}}, \"scene\": {\"xaxis\": {\"backgroundcolor\": \"rgb(17,17,17)\", \"gridcolor\": \"#506784\", \"gridwidth\": 2, \"linecolor\": \"#506784\", \"showbackground\": true, \"ticks\": \"\", \"zerolinecolor\": \"#C8D4E3\"}, \"yaxis\": {\"backgroundcolor\": \"rgb(17,17,17)\", \"gridcolor\": \"#506784\", \"gridwidth\": 2, \"linecolor\": \"#506784\", \"showbackground\": true, \"ticks\": \"\", \"zerolinecolor\": \"#C8D4E3\"}, \"zaxis\": {\"backgroundcolor\": \"rgb(17,17,17)\", \"gridcolor\": \"#506784\", \"gridwidth\": 2, \"linecolor\": \"#506784\", \"showbackground\": true, \"ticks\": \"\", \"zerolinecolor\": \"#C8D4E3\"}}, \"shapedefaults\": {\"line\": {\"color\": \"#f2f5fa\"}}, \"sliderdefaults\": {\"bgcolor\": \"#C8D4E3\", \"bordercolor\": \"rgb(17,17,17)\", \"borderwidth\": 1, \"tickwidth\": 0}, \"ternary\": {\"aaxis\": {\"gridcolor\": \"#506784\", \"linecolor\": \"#506784\", \"ticks\": \"\"}, \"baxis\": {\"gridcolor\": \"#506784\", \"linecolor\": \"#506784\", \"ticks\": \"\"}, \"bgcolor\": \"rgb(17,17,17)\", \"caxis\": {\"gridcolor\": \"#506784\", \"linecolor\": \"#506784\", \"ticks\": \"\"}}, \"title\": {\"x\": 0.05}, \"updatemenudefaults\": {\"bgcolor\": \"#506784\", \"borderwidth\": 0}, \"xaxis\": {\"automargin\": true, \"gridcolor\": \"#283442\", \"linecolor\": \"#506784\", \"ticks\": \"\", \"title\": {\"standoff\": 15}, \"zerolinecolor\": \"#283442\", \"zerolinewidth\": 2}, \"yaxis\": {\"automargin\": true, \"gridcolor\": \"#283442\", \"linecolor\": \"#506784\", \"ticks\": \"\", \"title\": {\"standoff\": 15}, \"zerolinecolor\": \"#283442\", \"zerolinewidth\": 2}}}, \"title\": {\"text\": \"Drug side effect probabilities (n = 10)\"}, \"xaxis\": {\"anchor\": \"y\", \"domain\": [0.0, 1.0], \"title\": {\"text\": \"Number of Complications\"}}, \"yaxis\": {\"anchor\": \"x\", \"domain\": [0.0, 1.0], \"title\": {\"text\": \"Probability\"}}},                        {\"responsive\": true}                    ).then(function(){\n",
       "                            \n",
       "var gd = document.getElementById('a89379bc-0a0e-4e0d-aed1-1ad26e409762');\n",
       "var x = new MutationObserver(function (mutations, observer) {{\n",
       "        var display = window.getComputedStyle(gd).display;\n",
       "        if (!display || display === 'none') {{\n",
       "            console.log([gd, 'removed!']);\n",
       "            Plotly.purge(gd);\n",
       "            observer.disconnect();\n",
       "        }}\n",
       "}});\n",
       "\n",
       "// Listen for the removal of the full notebook cells\n",
       "var notebookContainer = gd.closest('#notebook-container');\n",
       "if (notebookContainer) {{\n",
       "    x.observe(notebookContainer, {childList: true});\n",
       "}}\n",
       "\n",
       "// Listen for the clearing of the current output cell\n",
       "var outputEl = gd.closest('.output');\n",
       "if (outputEl) {{\n",
       "    x.observe(outputEl, {childList: true});\n",
       "}}\n",
       "\n",
       "                        })                };                });            </script>        </div>"
      ]
     },
     "metadata": {},
     "output_type": "display_data"
    }
   ],
   "source": [
    "# plot the probabilities of side efefct outcomes\n",
    "px.bar(x= range(5),\n",
    "      y= probs,\n",
    "      labels= {'x':\"Number of Complications\",\"y\":\"Probability\"},\n",
    "       title= \"Drug side-effect probabilities (n = 10)\"\n",
    "      ).show()"
   ]
  },
  {
   "cell_type": "markdown",
   "id": "adverse-theory",
   "metadata": {},
   "source": [
    "Binomial Distributions calculations\n",
    "- Expected Value = (number of experiments)  x  (probability of success)\n",
    "- Variance = (number of experiments) x (probability of success) x (probability of failure)"
   ]
  },
  {
   "cell_type": "markdown",
   "id": "wrapped-medicaid",
   "metadata": {},
   "source": [
    "## Sampling Distribution\n",
    "- select 100 people at random and measure their height, calculate the mean height for these 100 people, the mean value is a statistic\n",
    "- if we repeat experiment with new people, we would have new height mean, repeating this process will result in a sampling distribution"
   ]
  },
  {
   "cell_type": "code",
   "execution_count": 150,
   "id": "matched-japan",
   "metadata": {
    "scrolled": false
   },
   "outputs": [
    {
     "data": {
      "application/vnd.plotly.v1+json": {
       "config": {
        "plotlyServerURL": "https://plot.ly"
       },
       "data": [
        {
         "alignmentgroup": "True",
         "bingroup": "x",
         "hovertemplate": "x=%{x}<br>count=%{y}<extra></extra>",
         "legendgroup": "",
         "marker": {
          "color": "#636efa"
         },
         "name": "",
         "offsetgroup": "",
         "orientation": "v",
         "showlegend": false,
         "type": "histogram",
         "x": [
          175,
          199,
          173,
          158,
          174,
          143,
          156,
          184,
          190,
          145,
          190,
          146,
          180,
          143,
          181,
          174,
          155,
          185,
          154,
          171,
          178,
          170,
          184,
          165,
          161,
          161,
          149,
          185,
          166,
          175,
          191,
          198,
          193,
          151,
          150,
          159,
          143,
          187,
          187,
          187,
          182,
          153,
          150,
          156,
          141,
          174,
          152,
          194,
          181,
          173,
          144,
          155,
          158,
          173,
          166,
          150,
          141,
          174,
          170,
          167,
          152,
          183,
          155,
          145,
          151,
          183,
          146,
          167,
          197,
          146,
          155,
          170,
          145,
          155,
          179,
          180,
          168,
          194,
          184,
          170,
          176,
          153,
          143,
          145,
          155,
          177,
          147,
          198,
          150,
          199,
          188,
          143,
          193,
          180,
          195,
          153,
          159,
          189,
          141,
          140,
          143,
          144,
          161,
          145,
          163,
          155,
          149,
          162,
          148,
          171,
          163,
          156,
          166,
          185,
          140,
          187,
          141,
          144,
          160,
          143,
          160,
          158,
          158,
          186,
          176,
          150,
          147,
          192,
          173,
          188,
          169,
          178,
          158,
          157,
          183,
          160,
          147,
          166,
          195,
          169,
          142,
          167,
          150,
          160,
          158,
          190,
          199,
          180,
          161,
          141,
          171,
          142,
          148,
          149,
          196,
          166,
          147,
          169,
          193,
          196,
          181,
          174,
          177,
          182,
          157,
          160,
          196,
          198,
          168,
          159,
          174,
          163,
          142,
          141,
          157,
          187,
          147,
          190,
          159,
          170,
          164,
          158,
          163,
          164,
          161,
          178,
          147,
          195,
          169,
          186,
          186,
          177,
          151,
          183,
          148,
          141,
          175,
          173,
          170,
          146,
          140,
          170,
          186,
          174,
          140,
          156,
          161,
          168,
          199,
          194,
          152,
          177,
          158,
          170,
          174,
          140,
          149,
          160,
          155,
          155,
          157,
          167,
          183,
          189,
          183,
          169,
          171,
          166,
          195,
          170,
          166,
          164,
          188,
          193,
          174,
          165,
          158,
          185,
          179,
          176,
          191,
          176,
          145,
          152,
          193,
          172,
          166,
          178,
          174,
          168,
          158,
          169,
          141,
          169,
          168,
          167,
          198,
          187,
          171,
          143,
          165,
          159,
          160,
          180,
          158,
          171,
          184,
          161,
          199,
          159,
          165,
          165,
          155,
          171,
          160,
          189,
          165,
          160,
          174,
          180,
          163,
          175,
          146,
          175,
          159,
          172,
          142,
          199,
          158,
          183,
          144,
          179,
          181,
          196,
          189,
          198,
          159,
          154,
          168,
          187,
          191,
          173,
          150,
          166,
          196,
          150,
          188,
          165,
          197,
          164,
          189,
          176,
          194,
          169,
          193,
          148,
          140,
          143,
          147,
          175,
          160,
          147,
          160,
          162,
          187,
          182,
          161,
          141,
          199,
          153,
          175,
          153,
          154,
          191,
          159,
          195,
          144,
          175,
          149,
          162,
          148,
          191,
          149,
          148,
          195,
          168,
          183,
          172,
          149,
          163,
          162,
          147,
          179,
          196,
          199,
          194,
          180,
          142,
          182,
          195,
          175,
          150,
          189,
          149,
          181,
          170,
          156,
          191,
          160,
          191,
          190,
          199,
          195,
          141,
          148,
          156,
          166,
          151,
          161,
          173,
          142,
          171,
          167,
          189,
          187,
          147,
          176,
          140,
          194,
          162,
          191,
          147,
          146,
          173,
          152,
          174,
          182,
          162,
          183,
          162,
          152,
          194,
          184,
          150,
          148,
          153,
          163,
          164,
          177,
          159,
          150,
          194,
          142,
          150,
          143,
          142,
          163,
          151,
          188,
          195,
          194,
          172,
          154,
          149,
          156,
          185,
          167,
          170,
          193,
          146,
          169,
          159,
          163,
          190,
          187,
          146,
          177,
          161,
          152,
          171,
          189,
          159,
          153,
          157,
          180,
          167,
          165,
          158,
          196,
          174,
          177,
          194,
          192,
          190,
          147,
          156,
          195,
          159,
          180,
          196,
          174,
          146,
          156,
          192,
          154,
          189,
          150,
          157,
          142,
          165,
          171,
          142,
          154,
          182,
          182,
          188,
          189,
          188,
          161,
          189,
          187,
          155,
          142,
          169,
          179,
          158,
          162,
          149,
          167,
          179,
          187,
          190,
          187,
          142,
          184,
          192,
          161,
          199,
          143,
          197,
          189,
          166,
          153,
          149,
          155,
          153,
          167,
          175,
          173,
          144,
          172,
          158,
          144,
          154,
          143,
          198,
          179,
          144,
          147,
          194,
          190,
          154,
          186,
          146,
          169,
          154,
          188,
          153,
          146,
          173,
          165,
          193,
          198,
          146,
          171,
          164,
          192,
          187,
          140,
          148,
          171,
          169,
          186,
          198,
          185,
          196,
          167,
          148,
          188,
          151,
          141,
          178,
          146,
          168,
          190,
          157,
          161,
          195,
          171,
          141,
          142,
          183,
          195,
          195,
          160,
          170,
          140,
          184,
          183,
          191,
          176,
          198,
          171,
          151,
          163,
          147,
          186,
          180,
          177,
          183,
          187,
          161,
          183,
          172,
          169,
          190,
          187,
          173,
          145,
          193,
          194,
          198,
          145,
          144,
          162,
          155,
          187,
          172,
          196,
          194,
          182,
          196,
          176,
          172,
          198,
          199,
          181,
          189,
          148,
          155,
          145,
          158,
          177,
          185,
          148,
          176,
          186,
          171,
          169,
          186,
          158,
          198,
          192,
          182,
          165,
          147,
          140,
          165,
          167,
          189,
          160,
          152,
          146,
          188,
          162,
          171,
          194,
          151,
          186,
          145,
          181,
          167,
          188,
          186,
          151,
          148,
          192,
          183,
          175,
          147,
          155,
          168,
          176,
          199,
          172,
          179,
          181,
          143,
          146,
          195,
          157,
          187,
          173,
          158,
          164,
          148,
          195,
          152,
          148,
          157,
          184,
          144,
          148,
          171,
          171,
          160,
          141,
          165,
          199,
          154,
          194,
          141,
          194,
          168,
          151,
          158,
          155,
          180,
          177,
          183,
          171,
          141,
          190,
          163,
          158,
          175,
          180,
          162,
          141,
          151,
          143,
          151,
          186,
          162,
          155,
          173,
          147,
          153,
          149,
          141,
          198,
          161,
          187,
          194,
          196,
          198,
          183,
          192,
          140,
          175,
          187,
          182,
          145,
          173,
          176,
          186,
          176,
          152,
          189,
          192,
          188,
          188,
          171,
          143,
          195,
          164,
          141,
          153,
          157,
          194,
          189,
          166,
          176,
          150,
          196,
          161,
          196,
          146,
          140,
          150,
          173,
          188,
          163,
          199,
          168,
          150,
          168,
          162,
          161,
          150,
          182,
          196,
          177,
          194,
          154,
          152,
          140,
          167,
          150,
          176,
          179,
          179,
          149,
          167,
          168,
          194,
          149,
          182,
          192,
          194,
          199,
          174,
          164,
          176,
          193,
          162,
          180,
          166,
          195,
          173,
          195,
          192,
          181,
          173,
          194,
          142,
          155,
          183,
          144,
          196,
          157,
          173,
          163,
          147,
          152,
          197,
          150,
          192,
          166,
          157,
          164,
          184,
          163,
          180,
          148,
          180,
          175,
          149,
          199,
          187,
          157,
          153,
          140,
          153,
          144,
          166,
          152,
          166,
          174,
          170,
          180,
          173,
          183,
          171,
          192,
          154,
          194,
          194,
          169,
          172,
          162,
          162,
          169,
          156,
          198,
          146,
          175,
          162,
          164,
          199,
          198,
          169,
          171,
          162,
          154,
          140,
          184,
          178,
          175,
          196,
          160,
          192,
          195,
          199,
          155,
          140,
          151,
          148,
          160,
          160,
          155,
          170,
          177,
          140,
          145,
          158,
          169,
          149,
          142,
          167,
          188,
          151,
          161,
          161,
          193,
          187,
          144,
          178,
          153,
          194,
          156,
          181,
          189,
          162,
          172,
          195,
          188,
          185,
          152,
          180,
          152,
          159,
          172,
          159,
          182,
          186,
          163,
          172,
          199,
          169,
          157,
          176,
          153,
          142,
          149,
          143,
          195,
          187,
          161,
          196,
          145,
          190,
          150,
          148,
          183,
          148,
          182,
          195,
          186,
          145,
          174,
          142,
          180,
          144,
          170,
          191,
          179,
          166,
          166,
          176,
          189,
          155,
          168,
          193,
          164,
          183,
          186,
          176,
          179,
          177,
          152,
          187,
          151,
          159,
          175,
          148,
          193,
          142,
          156,
          140,
          151,
          172,
          183,
          177,
          154,
          162,
          178,
          191,
          147,
          197,
          166,
          198,
          171,
          193,
          188,
          168,
          160,
          197,
          160,
          163,
          195,
          144,
          159,
          145,
          198,
          191,
          140,
          197,
          186,
          178,
          199,
          175,
          199,
          177,
          145,
          157,
          160,
          151,
          195,
          194,
          150,
          167,
          145,
          197,
          141,
          171,
          175,
          191,
          143,
          172,
          184,
          180,
          193,
          188,
          175,
          161,
          190,
          177,
          170,
          171,
          146,
          191,
          176,
          142,
          186,
          157,
          182,
          190,
          156,
          185,
          159,
          144,
          154,
          156,
          179,
          168,
          156,
          156,
          160,
          149,
          185,
          157,
          197,
          182,
          153,
          166,
          180,
          195,
          156,
          194,
          152,
          184,
          179,
          174,
          152,
          176,
          168,
          191,
          189,
          185,
          148,
          197,
          183,
          160,
          189,
          199,
          181,
          168,
          147,
          178,
          195,
          147,
          175,
          181,
          182,
          188,
          199,
          159,
          194,
          190,
          172,
          187,
          178,
          153,
          182,
          175,
          190,
          191,
          193,
          179,
          164,
          159,
          170,
          169,
          152,
          159,
          160,
          192,
          194,
          148,
          150,
          163,
          181,
          162,
          159,
          180,
          194,
          196,
          192,
          158,
          157,
          190,
          141,
          184,
          172,
          171,
          161,
          185,
          140,
          161,
          181,
          159,
          191,
          160,
          170,
          178,
          155,
          145,
          161,
          156,
          196,
          188,
          157,
          145,
          170,
          160,
          172,
          154,
          150,
          150,
          184,
          164,
          158,
          188,
          170,
          156,
          171,
          168,
          177,
          186,
          155,
          158,
          146,
          187,
          184,
          162,
          174,
          180,
          143,
          152,
          175,
          149,
          199,
          173,
          153,
          149,
          154,
          195,
          197,
          169,
          182,
          191,
          168,
          161,
          154,
          147,
          175,
          186,
          194,
          145,
          147,
          165,
          151,
          172,
          169,
          146,
          154,
          182,
          178,
          152,
          152,
          179,
          177,
          164,
          176,
          190,
          140,
          153,
          184,
          171,
          189,
          144,
          191,
          171,
          198,
          150,
          144,
          189,
          155,
          163,
          183,
          181,
          169,
          157,
          144,
          179,
          186,
          174,
          163,
          187,
          142,
          159,
          192,
          153,
          154,
          143,
          189,
          160,
          194,
          186,
          183,
          192,
          175,
          144,
          194,
          175,
          198,
          141,
          174,
          189,
          199,
          179,
          191,
          158,
          146,
          165,
          198,
          172,
          148,
          180,
          196,
          193,
          187,
          166,
          146,
          171,
          191,
          197,
          181,
          141,
          171,
          165,
          151,
          163,
          193,
          148,
          148,
          170,
          194,
          167,
          167,
          175,
          169,
          170,
          161,
          184,
          173,
          147,
          161,
          176,
          148,
          173,
          157,
          162,
          172,
          149,
          196,
          152,
          147,
          154,
          162,
          175,
          165,
          167,
          171,
          167,
          197,
          178,
          182,
          191,
          180,
          175,
          181,
          193,
          160,
          153,
          182,
          178,
          195,
          155,
          192,
          151,
          180,
          159,
          153,
          152,
          152,
          149,
          181,
          186,
          152,
          163,
          158,
          164,
          178,
          151,
          174,
          178,
          183,
          179,
          171,
          166,
          195,
          190,
          190,
          189,
          165,
          166,
          149,
          196,
          166,
          194,
          175,
          174,
          166,
          153,
          195,
          176,
          162,
          175,
          146,
          147,
          169,
          195,
          165,
          142,
          150,
          198,
          189,
          147,
          156,
          177,
          195,
          157,
          170,
          163,
          166,
          169,
          158,
          184,
          180,
          163,
          194,
          152,
          178,
          164,
          184,
          143,
          158,
          166,
          145,
          176,
          196,
          166,
          196,
          189,
          184,
          151,
          157,
          154,
          198,
          140,
          155,
          184,
          166,
          178,
          150,
          188,
          175,
          149,
          151,
          166,
          152,
          143,
          193,
          149,
          172,
          176,
          197,
          179,
          160,
          198,
          160,
          193,
          192,
          185,
          171,
          191,
          154,
          161,
          148,
          159,
          184,
          157,
          172,
          192,
          190,
          182,
          155,
          172,
          142,
          189,
          167,
          163,
          194,
          148,
          141,
          195,
          142,
          173,
          167,
          175,
          154,
          185,
          194,
          182,
          169,
          197,
          141,
          179,
          148,
          154,
          196,
          186,
          164,
          168,
          177,
          160,
          168,
          185,
          145,
          179,
          191,
          178,
          163,
          161,
          176,
          149,
          156,
          177,
          197,
          159,
          171,
          153,
          188,
          182,
          195,
          162,
          187,
          149,
          172,
          166,
          164,
          196,
          161,
          172,
          181,
          141,
          195,
          150,
          168,
          184,
          190,
          145,
          167,
          140,
          153,
          153,
          160,
          194,
          176,
          172,
          175,
          197,
          148,
          198,
          162,
          187,
          152,
          164,
          174,
          185,
          154,
          169,
          146,
          188,
          184,
          167,
          147,
          141,
          178,
          160,
          184,
          146,
          164,
          172,
          144,
          162,
          178,
          179,
          186,
          158,
          185,
          142,
          156,
          192,
          153,
          153,
          170,
          176,
          159,
          159,
          192,
          160,
          177,
          170,
          192,
          189,
          171,
          179,
          190,
          187,
          148,
          183,
          162,
          192,
          164,
          148,
          199,
          175,
          163,
          162,
          168,
          191,
          185,
          176,
          157,
          157,
          195,
          168,
          187,
          190,
          149,
          177,
          194,
          176,
          169,
          186,
          155,
          183,
          153,
          160,
          165,
          199,
          147,
          193,
          174,
          158,
          169,
          153,
          145,
          185,
          178,
          157,
          172,
          199,
          156,
          197,
          169,
          165,
          165,
          165,
          164,
          141,
          146,
          151,
          196,
          196,
          155,
          181,
          166,
          144,
          152,
          190,
          156,
          141,
          170,
          155,
          198,
          168,
          182,
          148,
          185,
          184,
          174,
          170,
          187,
          149,
          197,
          152,
          166,
          195,
          195,
          199,
          160,
          174,
          153,
          170,
          140,
          150,
          146,
          157,
          164,
          140,
          199,
          192,
          158,
          141,
          178,
          180,
          190,
          148,
          179,
          140,
          196,
          151,
          184,
          172,
          158,
          171,
          190,
          151,
          161,
          195,
          171,
          142,
          177,
          165,
          188,
          197,
          168,
          191,
          157,
          159,
          196,
          175,
          185,
          152,
          165,
          162,
          151,
          153,
          153,
          181,
          141,
          142,
          144,
          181,
          172,
          187,
          140,
          193,
          141,
          194,
          142,
          160,
          196,
          156,
          178,
          195,
          162,
          144,
          147,
          143,
          169,
          190,
          159,
          199,
          159,
          146,
          197,
          152,
          197,
          195,
          196,
          183,
          155,
          145,
          167,
          199,
          147,
          165,
          169,
          162,
          190,
          163,
          181,
          159,
          151,
          156,
          193,
          190,
          148,
          191,
          187,
          142,
          147,
          158,
          194,
          141,
          153,
          174,
          180,
          172,
          156,
          145,
          183,
          163,
          155,
          191,
          146,
          159,
          192,
          185,
          185,
          155,
          192,
          171,
          178,
          198,
          165,
          172,
          178,
          171,
          184,
          157,
          177,
          146,
          163,
          189,
          197,
          155,
          162,
          185,
          148,
          196,
          191,
          180,
          140,
          181,
          151,
          181,
          190,
          184,
          146,
          165,
          142,
          166,
          163,
          193,
          177,
          179,
          198,
          153,
          142,
          167,
          180,
          146,
          174,
          188,
          154,
          166,
          185,
          153,
          183,
          166,
          191,
          199,
          148,
          182,
          160,
          191,
          148,
          155,
          174,
          169,
          181,
          180,
          168,
          151,
          175,
          195,
          181,
          162,
          140,
          162,
          198,
          144,
          167,
          180,
          193,
          161,
          149,
          165,
          192,
          170,
          146,
          187,
          158,
          148,
          145,
          168,
          176,
          160,
          163,
          155,
          179,
          165,
          169,
          173,
          198,
          199,
          191,
          187,
          157,
          150,
          157,
          171,
          150,
          161,
          197,
          195,
          145,
          146,
          143,
          187,
          182,
          143,
          149,
          150,
          181,
          192,
          159,
          146,
          195,
          157,
          144,
          168,
          193,
          190,
          169,
          184,
          142,
          182,
          177,
          174,
          150,
          165,
          185,
          177,
          193,
          155,
          188,
          181,
          188,
          179,
          144,
          183,
          167,
          158,
          155,
          157,
          184,
          152,
          189,
          152,
          189,
          140,
          174,
          165,
          155,
          161,
          167,
          168,
          165,
          182,
          180,
          178,
          171,
          166,
          181,
          174,
          190,
          177,
          161,
          193,
          145,
          176,
          193,
          149,
          178,
          197,
          176,
          145,
          184,
          157,
          143,
          197,
          164,
          149,
          147,
          175,
          188,
          153,
          162,
          167,
          143,
          198,
          151,
          156,
          179,
          195,
          182,
          163,
          148,
          153,
          195,
          194,
          152,
          166,
          183,
          158,
          189,
          196,
          197,
          199,
          191,
          175,
          178,
          169,
          189,
          181,
          192,
          142,
          198,
          146,
          156,
          192,
          151,
          157,
          181,
          198,
          150,
          162,
          153,
          151,
          181,
          176,
          179,
          178,
          156,
          176,
          140,
          165,
          187,
          169,
          146,
          167,
          173,
          159,
          188,
          176,
          165,
          174,
          160,
          164,
          152,
          174,
          185,
          181,
          165,
          144,
          193,
          183,
          178,
          169,
          148,
          179,
          177,
          157,
          142,
          145,
          161,
          148,
          161,
          165,
          190,
          184,
          180,
          141,
          166,
          197,
          173,
          146,
          156,
          163,
          141,
          141,
          156,
          199,
          157,
          161,
          199,
          151,
          141,
          186,
          178,
          193,
          158,
          196,
          141,
          168,
          169,
          186,
          192,
          164,
          168,
          157,
          179,
          149,
          195,
          144,
          149,
          173,
          197,
          164,
          146,
          198,
          162,
          159,
          196,
          198,
          152,
          187,
          144,
          148,
          186,
          179,
          168,
          150,
          157,
          157,
          187,
          151,
          174,
          160,
          160,
          159,
          176,
          176,
          176,
          177,
          159,
          192,
          184,
          176,
          173,
          156,
          141,
          174,
          144,
          166,
          178,
          170,
          173,
          162,
          144,
          170,
          161,
          150,
          149,
          165,
          184,
          165,
          149,
          162,
          158,
          178,
          181,
          175,
          150,
          186,
          192,
          151,
          142,
          164,
          184,
          169,
          146,
          184,
          161,
          197,
          144,
          189,
          151,
          174,
          142,
          150,
          162,
          166,
          141,
          170,
          169,
          178,
          185,
          182,
          150,
          195,
          143,
          165,
          156,
          161,
          197,
          191,
          160,
          182,
          163,
          159,
          184,
          145,
          151,
          157,
          171,
          158,
          184,
          174,
          171,
          181,
          169,
          149,
          174,
          156,
          180,
          152,
          148,
          198,
          160,
          179,
          179,
          173,
          169,
          188,
          195,
          193,
          180,
          182,
          154,
          150,
          168,
          199,
          193,
          174,
          145,
          150,
          181,
          143,
          168,
          185,
          173,
          152,
          185,
          177,
          164,
          191,
          175,
          155,
          171,
          182,
          185,
          168,
          189,
          149,
          148,
          186,
          174,
          190,
          167,
          187,
          169,
          189,
          181,
          151,
          190,
          148,
          187,
          183,
          165,
          171,
          177,
          194,
          151,
          185,
          183,
          175,
          162,
          183,
          198,
          141,
          170,
          141,
          196,
          170,
          179,
          156,
          164,
          190,
          146,
          192,
          147,
          181,
          162,
          194,
          192,
          189,
          155,
          186,
          189,
          151,
          180,
          144,
          195,
          167,
          179,
          142,
          184,
          146,
          185,
          167,
          147,
          189,
          188,
          194,
          144,
          190,
          172,
          197,
          141,
          150,
          158,
          179,
          153,
          169,
          188,
          192,
          192,
          149,
          185,
          177,
          158,
          177,
          184,
          189,
          160,
          161,
          161,
          181,
          197,
          158,
          154,
          173,
          164,
          196,
          169,
          166,
          142,
          161,
          159,
          182,
          189,
          184,
          193,
          167,
          163,
          154,
          195,
          165,
          143,
          146,
          169,
          196,
          166,
          198,
          145,
          166,
          176,
          162,
          179,
          199,
          144,
          172,
          194,
          147,
          162,
          180,
          176,
          161,
          185,
          175,
          148,
          142,
          186,
          162,
          165,
          176,
          140,
          148,
          147,
          155,
          174,
          192,
          183,
          188,
          174,
          184,
          144,
          185,
          180,
          143,
          168,
          190,
          165,
          173,
          150,
          164,
          154,
          196,
          155,
          150,
          163,
          148,
          194,
          160,
          174,
          149,
          157,
          175,
          150,
          180,
          187,
          168,
          184,
          197,
          153,
          174,
          163,
          152,
          192,
          166,
          162,
          165,
          140,
          140,
          180,
          151,
          147,
          172,
          142,
          140,
          152,
          190,
          164,
          185,
          150,
          140,
          162,
          198,
          174,
          185,
          176,
          144,
          193,
          184,
          146,
          171,
          180,
          144,
          172,
          163,
          196,
          159,
          177,
          183,
          196,
          152,
          141,
          169,
          145,
          165,
          150,
          182,
          149,
          172,
          173,
          157,
          162,
          153,
          159,
          165,
          157,
          173,
          149,
          166,
          187,
          180,
          170,
          150,
          152,
          162,
          197,
          172,
          167,
          186,
          192,
          140,
          149,
          191,
          142,
          168,
          197,
          177,
          152,
          197,
          160,
          187,
          165,
          191,
          160,
          167,
          187,
          164,
          145,
          146,
          154,
          176,
          178,
          165,
          143,
          191,
          155,
          151,
          189,
          160,
          199,
          149,
          169,
          176,
          184,
          161,
          186,
          180,
          174,
          159,
          193,
          187,
          196,
          150,
          167,
          197,
          185,
          175,
          176,
          157,
          178,
          165,
          194,
          175,
          165,
          160,
          190,
          162,
          150,
          189,
          170,
          169,
          177,
          175,
          183,
          181,
          175,
          169,
          145,
          155,
          153,
          158,
          188,
          178,
          199,
          171,
          199,
          187,
          163,
          170,
          155,
          161,
          184,
          160,
          159,
          188,
          148,
          145,
          172,
          150,
          147,
          155,
          141,
          185,
          173,
          150,
          194,
          147,
          163,
          144,
          178,
          163,
          171,
          197,
          156,
          180,
          176,
          169,
          164,
          159,
          155,
          187,
          160,
          149,
          172,
          151,
          188,
          183,
          160,
          193,
          194,
          177,
          195,
          178,
          149,
          142,
          166,
          182,
          195,
          172,
          146,
          177,
          165,
          162,
          166,
          190,
          176,
          176,
          194,
          164,
          183,
          166,
          158,
          196,
          197,
          158,
          161,
          148,
          177,
          185,
          157,
          147,
          154,
          143,
          198,
          196,
          140,
          178,
          180,
          165,
          177,
          164,
          193,
          189,
          178,
          164,
          156,
          155,
          195,
          141,
          172,
          171,
          159,
          154,
          179,
          195,
          149,
          144,
          143,
          168,
          152,
          150,
          199,
          194,
          156,
          198,
          163,
          183,
          158,
          149,
          148,
          181,
          158,
          163,
          179,
          179,
          196,
          198,
          195,
          181,
          198,
          149,
          156,
          190,
          166,
          192,
          187,
          181,
          165,
          168,
          159,
          155,
          193,
          141,
          143,
          184,
          151,
          161,
          153,
          166,
          177,
          149,
          140,
          153,
          163,
          196,
          171,
          144,
          177,
          169,
          169,
          183,
          193,
          159,
          178,
          172,
          157,
          157,
          162,
          169,
          160,
          176,
          142,
          174,
          168,
          152,
          143,
          157,
          194,
          164,
          169,
          199,
          161,
          143,
          169,
          150,
          173,
          142,
          166,
          194,
          162,
          141,
          185,
          199,
          178,
          181,
          191,
          192,
          180,
          184,
          157,
          155,
          148,
          163,
          179,
          152,
          184,
          179,
          144,
          196,
          145,
          179,
          183,
          148,
          142,
          166,
          181,
          171,
          167,
          163,
          143,
          195,
          180,
          163,
          174,
          147,
          182,
          197,
          176,
          150,
          187,
          176,
          165,
          195,
          146,
          183,
          157,
          191,
          153,
          171,
          157,
          155,
          171,
          147,
          160,
          199,
          191,
          171,
          161,
          159,
          160,
          178,
          180,
          149,
          180,
          159,
          188,
          199,
          198,
          149,
          143,
          187,
          157,
          197,
          147,
          172,
          143,
          156,
          196,
          153,
          185,
          164,
          180,
          190,
          145,
          150,
          160,
          188,
          159,
          164,
          163,
          171,
          182,
          149,
          175,
          140,
          149,
          193,
          188,
          158,
          153,
          162,
          196,
          144,
          168,
          142,
          183,
          176,
          170,
          190,
          172,
          187,
          192,
          159,
          148,
          146,
          144,
          171,
          165,
          192,
          157,
          159,
          170,
          196,
          192,
          175,
          199,
          153,
          187,
          143,
          182,
          187,
          185,
          159,
          167,
          161,
          164,
          170,
          174,
          199,
          161,
          163,
          173,
          168,
          175,
          191,
          182,
          171,
          192,
          183,
          144,
          197,
          142,
          147,
          190,
          181,
          189,
          173,
          145,
          192,
          197,
          174,
          157,
          177,
          168,
          143,
          147,
          188,
          196,
          162,
          192,
          195,
          157,
          183,
          195,
          146,
          188,
          163,
          154,
          185,
          167,
          172,
          147,
          172,
          164,
          169,
          149,
          171,
          175,
          177,
          145,
          197,
          184,
          160,
          174,
          193,
          195,
          190,
          151,
          154,
          166,
          152,
          157,
          150,
          194,
          178,
          144,
          142,
          147,
          194,
          170,
          186,
          186,
          162,
          152,
          192,
          159,
          156,
          144,
          152,
          168,
          164,
          175,
          140,
          166,
          195,
          152,
          146,
          196,
          169,
          153,
          178,
          187,
          185,
          145,
          166,
          196,
          182,
          155,
          185,
          199,
          150,
          146,
          152,
          193,
          151,
          198,
          159,
          160,
          152,
          155,
          148,
          152,
          171,
          191,
          151,
          168,
          195,
          163,
          188,
          144,
          163,
          190,
          196,
          175,
          189,
          184,
          152,
          145,
          191,
          166,
          197,
          164,
          199,
          171,
          195,
          172,
          144,
          197,
          174,
          148,
          140,
          173,
          162,
          171,
          148,
          196,
          186,
          188,
          165,
          164,
          147,
          146,
          176,
          175,
          193,
          167,
          189,
          154,
          150,
          174,
          198,
          176,
          161,
          141,
          178,
          144,
          149,
          198,
          155,
          191,
          170,
          151,
          141,
          173,
          140,
          167,
          174,
          184,
          156,
          197,
          168,
          197,
          145,
          183,
          143,
          141,
          183,
          193,
          145,
          169,
          176,
          190,
          171,
          181,
          178,
          171,
          199,
          185,
          157,
          189,
          183,
          162,
          149,
          187,
          143,
          147,
          171,
          194,
          155,
          171,
          140,
          157,
          147,
          198,
          183,
          175,
          190,
          153,
          187,
          193,
          157,
          153,
          180,
          189,
          186,
          195,
          159,
          158,
          175,
          147,
          158,
          163,
          140,
          191,
          145,
          176,
          183,
          155,
          156,
          152,
          158,
          174,
          154,
          146,
          158,
          141,
          156,
          192,
          140,
          199,
          179,
          192,
          167,
          143,
          173,
          161,
          173,
          178,
          156,
          188,
          163,
          196,
          145,
          146,
          184,
          147,
          183,
          188,
          192,
          146,
          176,
          189,
          145,
          190,
          179,
          155,
          156,
          158,
          163,
          149,
          159,
          156,
          170,
          176,
          182,
          166,
          175,
          183,
          178,
          140,
          170,
          176,
          196,
          180,
          185,
          151,
          161,
          188,
          164,
          184,
          163,
          144,
          167,
          142,
          169,
          140,
          160,
          170,
          173,
          163,
          140,
          172,
          177,
          198,
          196,
          184,
          144,
          150,
          183,
          198,
          140,
          174,
          174,
          161,
          189,
          170,
          161,
          143,
          191,
          145,
          154,
          181,
          181,
          178,
          173,
          172,
          152,
          188,
          143,
          153,
          164,
          150,
          142,
          154,
          142,
          150,
          142,
          159,
          180,
          144,
          181,
          147,
          176,
          177,
          168,
          180,
          158,
          141,
          162,
          175,
          184,
          185,
          154,
          170,
          155,
          146,
          179,
          171,
          157,
          181,
          149,
          156,
          144,
          145,
          149,
          141,
          153,
          152,
          183,
          176,
          182,
          152,
          149,
          182,
          178,
          152,
          142,
          174,
          169,
          176,
          161,
          157,
          177,
          146,
          178,
          167,
          164,
          189,
          157,
          165,
          175,
          198,
          194,
          150,
          142,
          153,
          184,
          196,
          152,
          181,
          145,
          195,
          145,
          188,
          164,
          150,
          147,
          180,
          184,
          157,
          176,
          163,
          158,
          144,
          189,
          188,
          149,
          181,
          157,
          163,
          192,
          152,
          157,
          193,
          158,
          151,
          197,
          195,
          148,
          173,
          189,
          181,
          179,
          165,
          144,
          166,
          181,
          198,
          147,
          186,
          179,
          154,
          198,
          158,
          195,
          165,
          164,
          199,
          144,
          191,
          153,
          159,
          185,
          146,
          180,
          176,
          181,
          148,
          188,
          142,
          153,
          180,
          189,
          185,
          142,
          166,
          185,
          175,
          159,
          175,
          187,
          143,
          195,
          189,
          144,
          143,
          154,
          154,
          148,
          148,
          157,
          152,
          177,
          193,
          185,
          146,
          170,
          161,
          180,
          147,
          157,
          165,
          195,
          150,
          165,
          172,
          150,
          164,
          182,
          199,
          166,
          181,
          143,
          150,
          157,
          158,
          159,
          164,
          169,
          142,
          194,
          161,
          140,
          150,
          179,
          147,
          141,
          189,
          197,
          186,
          195,
          194,
          181,
          180,
          140,
          199,
          162,
          163,
          166,
          146,
          152,
          149,
          177,
          150,
          182,
          166,
          153,
          163,
          161,
          162,
          198,
          175,
          158,
          153,
          199,
          175,
          183,
          196,
          157,
          185,
          157,
          170,
          142,
          157,
          149,
          164,
          181,
          173,
          147,
          167,
          180,
          185,
          157,
          194,
          185,
          177,
          174,
          194,
          197,
          169,
          167,
          191,
          150,
          160,
          155,
          143,
          149,
          170,
          181,
          149,
          197,
          181,
          159,
          157,
          184,
          147,
          188,
          151,
          176,
          198,
          176,
          155,
          172,
          189,
          172,
          167,
          142,
          177,
          170,
          148,
          182,
          152,
          165,
          165,
          191,
          180,
          183,
          182,
          188,
          180,
          145,
          176,
          191,
          192,
          192,
          173,
          150,
          179,
          157,
          158,
          150,
          179,
          178,
          173,
          148,
          172,
          148,
          146,
          144,
          194,
          189,
          187,
          171,
          147,
          187,
          161,
          154,
          197,
          180,
          167,
          184,
          172,
          171,
          193,
          160,
          173,
          190,
          149,
          151,
          162,
          175,
          195,
          141,
          198,
          167,
          179,
          195,
          169,
          187,
          171,
          152,
          192,
          150,
          192,
          147,
          197,
          160,
          195,
          190,
          146,
          144,
          181,
          178,
          167,
          145,
          140,
          153,
          169,
          152,
          163,
          141,
          167,
          169,
          174,
          184,
          183,
          182,
          149,
          188,
          159,
          177,
          175,
          188,
          185,
          179,
          143,
          168,
          174,
          159,
          156,
          186,
          167,
          157,
          163,
          140,
          142,
          175,
          196,
          172,
          196,
          191,
          174,
          158,
          147,
          159,
          152,
          151,
          194,
          142,
          175,
          183,
          199,
          154,
          172,
          159,
          178,
          155,
          159,
          160,
          145,
          159,
          178,
          199,
          143,
          145,
          195,
          155,
          183,
          180,
          165,
          160,
          176,
          154,
          196,
          158,
          170,
          197,
          184,
          152,
          153,
          175,
          152,
          191,
          179,
          141,
          186,
          180,
          167,
          151,
          146,
          151,
          148,
          161,
          149,
          185,
          171,
          173,
          146,
          169,
          144,
          142,
          146,
          154,
          197,
          173,
          148,
          164,
          188,
          142,
          145,
          142,
          170,
          161,
          153,
          161,
          156,
          176,
          167,
          170,
          175,
          187,
          194,
          183,
          155,
          189,
          191,
          164,
          141,
          196,
          195,
          153,
          153,
          191,
          181,
          148,
          191,
          153,
          194,
          167,
          173,
          162,
          178,
          193,
          163,
          171,
          192,
          176,
          156,
          186,
          149,
          159,
          188,
          175,
          167,
          180,
          165,
          141,
          199,
          145,
          163,
          173,
          178,
          141,
          151,
          173,
          145,
          191,
          149,
          160,
          196,
          194,
          142,
          193,
          168,
          143,
          195,
          184,
          152,
          181,
          199,
          141,
          187,
          159,
          142,
          176,
          175,
          150,
          191,
          146,
          197,
          141,
          190,
          151,
          199,
          157,
          163,
          178,
          161,
          180,
          192,
          144,
          193,
          180,
          168,
          142,
          157,
          149,
          162,
          150,
          196,
          167,
          180,
          141,
          180,
          142,
          183,
          156,
          169,
          194,
          175,
          183,
          171,
          179,
          164,
          192,
          145,
          187,
          152,
          184,
          153,
          196,
          159,
          197,
          191,
          165,
          143,
          182,
          186,
          167,
          150,
          182,
          167,
          193,
          161,
          165,
          154,
          167,
          185,
          168,
          162,
          144,
          179,
          159,
          188,
          157,
          146,
          147,
          180,
          159,
          194,
          190,
          160,
          183,
          155,
          143,
          177,
          158,
          183,
          148,
          186,
          166,
          161,
          197,
          175,
          176,
          184,
          192,
          161,
          143,
          140,
          169,
          168,
          159,
          198,
          152,
          153,
          188,
          191,
          145,
          172,
          144,
          160,
          179,
          179,
          181,
          184,
          161,
          199,
          148,
          169,
          186,
          180,
          167,
          179,
          141,
          150,
          173,
          170,
          151,
          177,
          180,
          199,
          154,
          156,
          146,
          185,
          151,
          183,
          184,
          157,
          155,
          141,
          177,
          184,
          181,
          184,
          166,
          150,
          165,
          159,
          150,
          196,
          159,
          193,
          148,
          157,
          196,
          149,
          171,
          175,
          179,
          145,
          159,
          164,
          182,
          162,
          160,
          153,
          196,
          150,
          174,
          188,
          155,
          174,
          164,
          145,
          162,
          161,
          161,
          143,
          177,
          150,
          193,
          183,
          163,
          159,
          188,
          196,
          146,
          145,
          188,
          186,
          162,
          191,
          179,
          194,
          160,
          188,
          189,
          194,
          173,
          144,
          167,
          154,
          143,
          143,
          198,
          140,
          187,
          196,
          162,
          173,
          187,
          193,
          171,
          153,
          198,
          142,
          190,
          198,
          159,
          193,
          140,
          140,
          196,
          192,
          192,
          159,
          178,
          177,
          168,
          190,
          183,
          145,
          181,
          172,
          182,
          163,
          154,
          145,
          143,
          177,
          156,
          151,
          170,
          154,
          175,
          198,
          144,
          150,
          181,
          186,
          162,
          150,
          141,
          185,
          147,
          190,
          185,
          147,
          169,
          148,
          155,
          188,
          165,
          195,
          170,
          191,
          151,
          187,
          172,
          171,
          168,
          171,
          152,
          196,
          199,
          153,
          192,
          176,
          152,
          154,
          147,
          140,
          195,
          192,
          170,
          152,
          170,
          160,
          160,
          183,
          182,
          188,
          166,
          152,
          150,
          188,
          162,
          150,
          176,
          159,
          140,
          178,
          152,
          176,
          179,
          183,
          199,
          197,
          191,
          152,
          187,
          185,
          182,
          177,
          158,
          140,
          191,
          140,
          165,
          173,
          170,
          196,
          145,
          155,
          183,
          193,
          161,
          193,
          168,
          152,
          147,
          141,
          163,
          197,
          163,
          199,
          144,
          169,
          151,
          159,
          190,
          163,
          186,
          169,
          166,
          198,
          193,
          141,
          178,
          185,
          194,
          186,
          145,
          175,
          156,
          173,
          178,
          145,
          171,
          194,
          162,
          172,
          162,
          185,
          187,
          186,
          193,
          164,
          150,
          141,
          196,
          197,
          148,
          194,
          163,
          151,
          145,
          180,
          146,
          172,
          140,
          186,
          189,
          158,
          187,
          151,
          142,
          176,
          142,
          170,
          150,
          159,
          180,
          187,
          152,
          195,
          152,
          193,
          141,
          141,
          169,
          159,
          144,
          172,
          144,
          169,
          164,
          189,
          152,
          175,
          157,
          198,
          143,
          166,
          147,
          159,
          164,
          152,
          166,
          168,
          189,
          176,
          140,
          187,
          199,
          142,
          162,
          193,
          174,
          147,
          192,
          157,
          192,
          176,
          186,
          173,
          174,
          198,
          186,
          162,
          166,
          182,
          147,
          183,
          166,
          156,
          161,
          157,
          158,
          186,
          181,
          149,
          158,
          143,
          153,
          186,
          188,
          165,
          167,
          172,
          195,
          179,
          151,
          158,
          149,
          145,
          169,
          193,
          141,
          155,
          191,
          174,
          142,
          152,
          164,
          177,
          164,
          145,
          174,
          185,
          186,
          160,
          184,
          189,
          175,
          164,
          182,
          161,
          194,
          154,
          150,
          148,
          170,
          167,
          155,
          176,
          184,
          156,
          152,
          195,
          185,
          153,
          194,
          194,
          161,
          141,
          181,
          188,
          153,
          189,
          162,
          181,
          146,
          173,
          168,
          160,
          185,
          174,
          161,
          161,
          167,
          156,
          164,
          193,
          183,
          190,
          147,
          140,
          184,
          167,
          187,
          149,
          148,
          161,
          168,
          172,
          193,
          146,
          155,
          163,
          183,
          148,
          194,
          141,
          163,
          181,
          154,
          198,
          177,
          159,
          143,
          172,
          143,
          160,
          177,
          162,
          182,
          183,
          153,
          170,
          150,
          167,
          159,
          173,
          146,
          167,
          153,
          182,
          186,
          183,
          178,
          142,
          177,
          154,
          180,
          145,
          186,
          146,
          177,
          169,
          190,
          166,
          164,
          164,
          146,
          158,
          140,
          199,
          191,
          187,
          179,
          148,
          172,
          188,
          159,
          156,
          197,
          160,
          182,
          187,
          170,
          160,
          150,
          196,
          154,
          180,
          171,
          181,
          140,
          141,
          155,
          166,
          159,
          190,
          143,
          190,
          175,
          169,
          173,
          179,
          189,
          159,
          196,
          172,
          148,
          191,
          154,
          155,
          196,
          143,
          159,
          180,
          172,
          198,
          156,
          173,
          191,
          155,
          194,
          188,
          182,
          167,
          163,
          141,
          193,
          199,
          193,
          183,
          180,
          176,
          165,
          141,
          155,
          140,
          166,
          173,
          147,
          166,
          141,
          147,
          184,
          143,
          159,
          191,
          162,
          187,
          164,
          169,
          152,
          159,
          173,
          171,
          180,
          162,
          193,
          142,
          159,
          177,
          173,
          183,
          167,
          162,
          174,
          147,
          144,
          147,
          178,
          146,
          187,
          166,
          183,
          145,
          183,
          147,
          169,
          149,
          160,
          179,
          163,
          159,
          158,
          171,
          168,
          144,
          171,
          177,
          168,
          195,
          196,
          144,
          190,
          142,
          191,
          187,
          182,
          187,
          169,
          164,
          149,
          166,
          153,
          149,
          171,
          171,
          176,
          142,
          163,
          187,
          141,
          178,
          181,
          182,
          184,
          140,
          143,
          177,
          142,
          193,
          144,
          191,
          146,
          184,
          188,
          166,
          179,
          157,
          142,
          193,
          171,
          174,
          170,
          158,
          149,
          187,
          161,
          184,
          142,
          184,
          159,
          156,
          178,
          167,
          156,
          161,
          197,
          156,
          172,
          165,
          193,
          195,
          193,
          159,
          175,
          176,
          144,
          185,
          172,
          184,
          161,
          157,
          166,
          160,
          159,
          192,
          176,
          156,
          144,
          140,
          142,
          173,
          162,
          144,
          185,
          151,
          183,
          195,
          188,
          199,
          164,
          153,
          191,
          143,
          166,
          161,
          150,
          157,
          170,
          165,
          160,
          186,
          146,
          141,
          184,
          155,
          143,
          165,
          140,
          147,
          164,
          162,
          166,
          168,
          166,
          187,
          161,
          155,
          195,
          156,
          152,
          172,
          176,
          195,
          157,
          141,
          148,
          145,
          159,
          164,
          166,
          190,
          142,
          140,
          193,
          153,
          160,
          162,
          150,
          144,
          143,
          149,
          149,
          182,
          177,
          143,
          142,
          177,
          166,
          161,
          150,
          143,
          165,
          141,
          154,
          163,
          199,
          183,
          143,
          163,
          166,
          141,
          197,
          172,
          188,
          190,
          147,
          165,
          167,
          177,
          152,
          152,
          164,
          195,
          185,
          192,
          140,
          163,
          144,
          188,
          172,
          143,
          172,
          183,
          190,
          187,
          184,
          169,
          143,
          182,
          165,
          180,
          170,
          170,
          198,
          188,
          153,
          161,
          143,
          189,
          143,
          199,
          188,
          195,
          171,
          147,
          171,
          180,
          192,
          194,
          182,
          169,
          142,
          184,
          163,
          143,
          143,
          150,
          199,
          162,
          171,
          195,
          143,
          184,
          177,
          176,
          178,
          199,
          160,
          160,
          148,
          187,
          185,
          189,
          149,
          170,
          199,
          192,
          197,
          165,
          152,
          147,
          160,
          154,
          174,
          189,
          158,
          140,
          193,
          159,
          181,
          185,
          186,
          178,
          144,
          154,
          171,
          149,
          164,
          174,
          161,
          179,
          168,
          149,
          188,
          178,
          159,
          188,
          180,
          150,
          153,
          189,
          146,
          178,
          155,
          169,
          167,
          170,
          184,
          167,
          149,
          165,
          143,
          147,
          146,
          143,
          160,
          164,
          144,
          178,
          198,
          145,
          180,
          193,
          181,
          179,
          164,
          197,
          140,
          157,
          199,
          198,
          194,
          147,
          174,
          180,
          156,
          194,
          185,
          187,
          194,
          176,
          184,
          183,
          182,
          140,
          198,
          178,
          187,
          179,
          161,
          168,
          146,
          183,
          168,
          143,
          172,
          178,
          140,
          148,
          142,
          182,
          187,
          186,
          178,
          156,
          148,
          176,
          183,
          146,
          199,
          184,
          173,
          165,
          165,
          193,
          193,
          191,
          172,
          168,
          182,
          180,
          157,
          178,
          169,
          196,
          164,
          191,
          159,
          173,
          142,
          152,
          156,
          142,
          198,
          192,
          152,
          153,
          145,
          159,
          199,
          145,
          196,
          181,
          152,
          167,
          164,
          148,
          151,
          193,
          166,
          172,
          163,
          141,
          145,
          182,
          146,
          150,
          151,
          147,
          140,
          163,
          189,
          172,
          166,
          177,
          172,
          178,
          194,
          152,
          152,
          180,
          172,
          195,
          161,
          158,
          190,
          178,
          155,
          178,
          140,
          196,
          156,
          195,
          167,
          153,
          199,
          179,
          192,
          193,
          181,
          157,
          183,
          177,
          145,
          163,
          150,
          151,
          185,
          166,
          161,
          153,
          153,
          144,
          178,
          145,
          165,
          153,
          199,
          156,
          197,
          170,
          151,
          187,
          169,
          189,
          175,
          191,
          172,
          144,
          166,
          154,
          185,
          170,
          151,
          147,
          161,
          175,
          141,
          189,
          181,
          191,
          161,
          164,
          185,
          178,
          147,
          140,
          189,
          154,
          177,
          190,
          193,
          189,
          142,
          180,
          166,
          156,
          165,
          158,
          184,
          195,
          176,
          183,
          146,
          186,
          158,
          146,
          188,
          185,
          145,
          148,
          182,
          189,
          144,
          178,
          180,
          149,
          146,
          193,
          199,
          153,
          147,
          188,
          166,
          156,
          142,
          154,
          196,
          172,
          153,
          187,
          154,
          198,
          183,
          163,
          168,
          160,
          198,
          143,
          162,
          161,
          162,
          174,
          172,
          172,
          143,
          173,
          155,
          184,
          191,
          165,
          150,
          144,
          149,
          183,
          188,
          192,
          158,
          141,
          141,
          150,
          164,
          178,
          174,
          145,
          142,
          141,
          168,
          182,
          171,
          162,
          192,
          151,
          199,
          154,
          171,
          149,
          152,
          170,
          194,
          169,
          155,
          177,
          189,
          147,
          192,
          152,
          141,
          143,
          148,
          168,
          172,
          194,
          193,
          162,
          178,
          186,
          150,
          149,
          143,
          196,
          145,
          167,
          198,
          178,
          160,
          163,
          154,
          196,
          161,
          166,
          169,
          176,
          188,
          196,
          164,
          149,
          188,
          157,
          163,
          179,
          182,
          142,
          148,
          188,
          199,
          190,
          148,
          197,
          170,
          167,
          174,
          184,
          160,
          161,
          192,
          140,
          197,
          153,
          193,
          193,
          182,
          143,
          174,
          179,
          198,
          164,
          186,
          168,
          140,
          149,
          168,
          180,
          190,
          142,
          144,
          161,
          174,
          197,
          186,
          174,
          174,
          140,
          187,
          171,
          196,
          179,
          140,
          179,
          188,
          180,
          179,
          142,
          160,
          185,
          186,
          142,
          189,
          149,
          163,
          144,
          159,
          153,
          167,
          183,
          181,
          176,
          147,
          143,
          191,
          148,
          169,
          143,
          167,
          142,
          173,
          140,
          173,
          148,
          156,
          157,
          177,
          148,
          190,
          180,
          172,
          161,
          154,
          197,
          142,
          144,
          148,
          180,
          151,
          187,
          167,
          146,
          182,
          154,
          171,
          150,
          159,
          176,
          142,
          194,
          146,
          159,
          170,
          143,
          155,
          197,
          193,
          180,
          172,
          145,
          174,
          154,
          188,
          195,
          152,
          144,
          157,
          155,
          150,
          174,
          187,
          167,
          167,
          181,
          145,
          147,
          162,
          179,
          165,
          178,
          192,
          166,
          180,
          154,
          182,
          191,
          178,
          171,
          165,
          177,
          173,
          181,
          167,
          176,
          199,
          159,
          165,
          171,
          145,
          145,
          149,
          169,
          171,
          147,
          176,
          173,
          151,
          191,
          195,
          191,
          189,
          145,
          180,
          181,
          195,
          171,
          159,
          161,
          186,
          160,
          159,
          170,
          166,
          187,
          140,
          194,
          141,
          198,
          159,
          154,
          155,
          155,
          190,
          148,
          164,
          159,
          160,
          175,
          168,
          150,
          188,
          140,
          151,
          143,
          171,
          157,
          192,
          198,
          153,
          171,
          146,
          198,
          160,
          193,
          147,
          146,
          176,
          163,
          185,
          198,
          148,
          158,
          183,
          173,
          166,
          177,
          151,
          155,
          195,
          156,
          159,
          145,
          168,
          151,
          148,
          179,
          187,
          188,
          162,
          154,
          180,
          171,
          150,
          182,
          158,
          192,
          163,
          151,
          197,
          171,
          158,
          177,
          191,
          183,
          157,
          168,
          178,
          197,
          181,
          192,
          168,
          198,
          199,
          196,
          171,
          142,
          141,
          166,
          160,
          165,
          149,
          192,
          167,
          144,
          148,
          169,
          149,
          174,
          197,
          145,
          181,
          176,
          161,
          184,
          152,
          166,
          184,
          163,
          164,
          154,
          151,
          182,
          191,
          191,
          181,
          166,
          164,
          155,
          152,
          156,
          141,
          144,
          156,
          189,
          178,
          144,
          167,
          144,
          190,
          192,
          173,
          157,
          154,
          189,
          178,
          152,
          179,
          188,
          189,
          174,
          149,
          172,
          165,
          197,
          189,
          161,
          182,
          174,
          170,
          149,
          166,
          192,
          176,
          183,
          165,
          172,
          185,
          191,
          199,
          196,
          150,
          188,
          197,
          147,
          159,
          140,
          144,
          174,
          151,
          195,
          174,
          156,
          173,
          192,
          177,
          145,
          190,
          154,
          185,
          155,
          160,
          182,
          193,
          166,
          163,
          160,
          156,
          143,
          155,
          189,
          162,
          190,
          181,
          185,
          151,
          193,
          150,
          162,
          170,
          151,
          148,
          169,
          184,
          145,
          144,
          191,
          164,
          167,
          157,
          194,
          147,
          183,
          198,
          194,
          159,
          150,
          171,
          193,
          190,
          160,
          165,
          162,
          155,
          160,
          177,
          149,
          181,
          169,
          153,
          154,
          170,
          180,
          153,
          172,
          194,
          179,
          168,
          173,
          196,
          163,
          154,
          154,
          178,
          163,
          158,
          180,
          142,
          181,
          172,
          191,
          188,
          197,
          197,
          147,
          185,
          186,
          195,
          179,
          184,
          159,
          152,
          171,
          195,
          187,
          149,
          143,
          161,
          197,
          155,
          161,
          176,
          141,
          152,
          169,
          169,
          184,
          168,
          192,
          181,
          147,
          198,
          192,
          172,
          188,
          171,
          154,
          171,
          187,
          187,
          160,
          165,
          164,
          153,
          166,
          188,
          199,
          180,
          163,
          159,
          180,
          158,
          199,
          181,
          179,
          185,
          142,
          141,
          141,
          153,
          187,
          157,
          176,
          145,
          153,
          172,
          184,
          194,
          155,
          143,
          150,
          159,
          181,
          167,
          162,
          174,
          181,
          181,
          154,
          198,
          191,
          162,
          147,
          161,
          188,
          178,
          192,
          183,
          175,
          145,
          147,
          184,
          158,
          191,
          190,
          151,
          174,
          187,
          183,
          182,
          141,
          170,
          162,
          196,
          146,
          163,
          190,
          148,
          162,
          180,
          173,
          146,
          171,
          173,
          191,
          180,
          159,
          198,
          153,
          178,
          148,
          182,
          180,
          176,
          186,
          182,
          184,
          192,
          173,
          192,
          141,
          162,
          184,
          164,
          155,
          164,
          196,
          170,
          148,
          151,
          179,
          179,
          193,
          159,
          181,
          186,
          185,
          172,
          191,
          190,
          141,
          177,
          186,
          164,
          153,
          152,
          177,
          156,
          197,
          188,
          157,
          197,
          155,
          176,
          194,
          172,
          141,
          172,
          176,
          152,
          179,
          161,
          183,
          142,
          178,
          140,
          196,
          184,
          166,
          160,
          177,
          164,
          177,
          190,
          179,
          146,
          187,
          154,
          165,
          149,
          152,
          171,
          198,
          156,
          176,
          159,
          197,
          151,
          174,
          179,
          184,
          153,
          141,
          189,
          186,
          150,
          159,
          166,
          154,
          168,
          174,
          171,
          158,
          173,
          185,
          182,
          181,
          155,
          192,
          196,
          191,
          156,
          195,
          164,
          185,
          190,
          199,
          173,
          161,
          151,
          192,
          179,
          162,
          195,
          159,
          169,
          151,
          177,
          184,
          190,
          144,
          144,
          177,
          196,
          158,
          189,
          178,
          148,
          150,
          197,
          198,
          173,
          151,
          182,
          148,
          146,
          175,
          183,
          145,
          185,
          199,
          148,
          199,
          165,
          161,
          185,
          153,
          169,
          197,
          189,
          164,
          172,
          199,
          198,
          169,
          180,
          154,
          174,
          144,
          148,
          154,
          167,
          191,
          161,
          162,
          174,
          147,
          153,
          145,
          172,
          188,
          146,
          146,
          142,
          193,
          163,
          189,
          194,
          177,
          193,
          145,
          186,
          186,
          148,
          149,
          196,
          148,
          173,
          163,
          169,
          166,
          183,
          147,
          189,
          182,
          165,
          159,
          182,
          185,
          165,
          153,
          140,
          186,
          167,
          166,
          169,
          172,
          161,
          153,
          160,
          184,
          157,
          186,
          162,
          199,
          192,
          154,
          182,
          179,
          162,
          165,
          161,
          152,
          145,
          147,
          159,
          160,
          175,
          177,
          146,
          185,
          142,
          152,
          182,
          145,
          145,
          159,
          193,
          190,
          141,
          145,
          185,
          186,
          144,
          149,
          173,
          188,
          161,
          143,
          166,
          191,
          178,
          197,
          161,
          199,
          144,
          183,
          183,
          175,
          198,
          175,
          149,
          186,
          197,
          162,
          152,
          192,
          161,
          142,
          157,
          151,
          152,
          168,
          140,
          165,
          154,
          170,
          179,
          180,
          168,
          174,
          187,
          156,
          170,
          165,
          187,
          180,
          150,
          157,
          161,
          145,
          191,
          151,
          155,
          160,
          174,
          160,
          143,
          159,
          186,
          193,
          141,
          167,
          186,
          157,
          193,
          173,
          162,
          182,
          169,
          168,
          174,
          157,
          195,
          197,
          177,
          170,
          180,
          180,
          178,
          191,
          172,
          143,
          169,
          190,
          185,
          177,
          173,
          185,
          158,
          148,
          191,
          168,
          187,
          179,
          179,
          155,
          190,
          183,
          158,
          156,
          173,
          171,
          172,
          140,
          174,
          180,
          157,
          159,
          180,
          173,
          161,
          199,
          186,
          168,
          189,
          195,
          179,
          192,
          176,
          165,
          199,
          153,
          153,
          157,
          184,
          146,
          154,
          173,
          197,
          163,
          172,
          155,
          150,
          173,
          173,
          188,
          165,
          146,
          150,
          166,
          152,
          160,
          153,
          197,
          172,
          165,
          194,
          153,
          192,
          183,
          165,
          145,
          166,
          172,
          195,
          194,
          152,
          178,
          171,
          156,
          174,
          175,
          167,
          195,
          196,
          154,
          169,
          199,
          140,
          150,
          192,
          168,
          197,
          184,
          196,
          145,
          173,
          196,
          177,
          156,
          181,
          184,
          168,
          174,
          187,
          177,
          174,
          178,
          178,
          184,
          179,
          188,
          197,
          159,
          164,
          147,
          196,
          186,
          182,
          196,
          148,
          162,
          189,
          147,
          179,
          163,
          177,
          156,
          197,
          151,
          171,
          178,
          189,
          191,
          164,
          169,
          196,
          153,
          154,
          181,
          154,
          149,
          179,
          164,
          176,
          141,
          165,
          155,
          159,
          165,
          177,
          160,
          165,
          155,
          165,
          177,
          151,
          172,
          199,
          164,
          167,
          164,
          198,
          190,
          162,
          173,
          194,
          159,
          176,
          157,
          146,
          185,
          146,
          157,
          183,
          196,
          194,
          188,
          163,
          158,
          176,
          144,
          160,
          149,
          183,
          147,
          184,
          195,
          197,
          181,
          145,
          175,
          148,
          167,
          171,
          170,
          157,
          192,
          151,
          160,
          145,
          172,
          153,
          169,
          152,
          162,
          171,
          167,
          154,
          160,
          182,
          155,
          147,
          160,
          179,
          147,
          178,
          180,
          152,
          183,
          164,
          156,
          185,
          162,
          176,
          185,
          187,
          173,
          174,
          173,
          158,
          191,
          185,
          196,
          153,
          166,
          149,
          169,
          175,
          155,
          180,
          144,
          177,
          189,
          186,
          178,
          154,
          141,
          145,
          175,
          145,
          162,
          151,
          142,
          198,
          162,
          161,
          178,
          186,
          150,
          166,
          168,
          157,
          152,
          189,
          193,
          173,
          149,
          159,
          178,
          177,
          141,
          194,
          194,
          187,
          161,
          173,
          178,
          190,
          157,
          158,
          143,
          192,
          145,
          198,
          197,
          149,
          191,
          189,
          171,
          189,
          182,
          159,
          173,
          148,
          175,
          186,
          191,
          162,
          187,
          149,
          179,
          196,
          164,
          199,
          156,
          167,
          198,
          190,
          184,
          179,
          174,
          149,
          170,
          174,
          150,
          190,
          158,
          182,
          169,
          143,
          192,
          187,
          167,
          185,
          161,
          147,
          184,
          193,
          182,
          160,
          166,
          170,
          168,
          195,
          161,
          154,
          150,
          169,
          188,
          161,
          149,
          152,
          184,
          190,
          154,
          157,
          166,
          144,
          166,
          186,
          179,
          196,
          167,
          167,
          141,
          187,
          192,
          168,
          162,
          157,
          143,
          158,
          149,
          189,
          199,
          148,
          162,
          162,
          151,
          150,
          153,
          159,
          155,
          154,
          181,
          162,
          145,
          142,
          183,
          148,
          192,
          159,
          149,
          154,
          156,
          173,
          189,
          175,
          166,
          199,
          162,
          193,
          196,
          144,
          168,
          172,
          163,
          165,
          149,
          158,
          147,
          185,
          176,
          169,
          169,
          159,
          186,
          160,
          149,
          168,
          166,
          156,
          156,
          171,
          169,
          147,
          155,
          177,
          165,
          142,
          175,
          146,
          172,
          186,
          154,
          174,
          171,
          143,
          192,
          143,
          145,
          199,
          160,
          167,
          162,
          156,
          190,
          177,
          194,
          187,
          161,
          162,
          199,
          141,
          192,
          152,
          153,
          196,
          152,
          179,
          166,
          141,
          156,
          195,
          161,
          197,
          183,
          147,
          144,
          157,
          167,
          189,
          198,
          185,
          140,
          157,
          153,
          189,
          177,
          144,
          148,
          171,
          177,
          194,
          188,
          142,
          151,
          194,
          178,
          145,
          143,
          177,
          185,
          163,
          192,
          183,
          179,
          173,
          185,
          184,
          148,
          160,
          163,
          198,
          144,
          192,
          182,
          148,
          142,
          171,
          162,
          142,
          157,
          177,
          189,
          155,
          188,
          188,
          182,
          144,
          178,
          146,
          147,
          169,
          173,
          145,
          189,
          180,
          167,
          140,
          152,
          162,
          145,
          176,
          168,
          191,
          179,
          158,
          199,
          151,
          181,
          191,
          160,
          154,
          191,
          190,
          191,
          157,
          173,
          168,
          148,
          164,
          177,
          189,
          144,
          177,
          152,
          154,
          141,
          151,
          161,
          182,
          158,
          155,
          152,
          177,
          172,
          180,
          150,
          154,
          168,
          181,
          162,
          167,
          162,
          167,
          170,
          159,
          190,
          169,
          142,
          199,
          161,
          184,
          194,
          144,
          146,
          172,
          148,
          180,
          149,
          150,
          140,
          171,
          180,
          192,
          144,
          146,
          198,
          174,
          195,
          160,
          199,
          188,
          186,
          162,
          171,
          155,
          175,
          193,
          178,
          180,
          147,
          198,
          194,
          140,
          160,
          187,
          148,
          149,
          170,
          156,
          152,
          179,
          181,
          197,
          171,
          159,
          147,
          178,
          157,
          146,
          160,
          176,
          190,
          162,
          157,
          165,
          197,
          196,
          180,
          162,
          181,
          158,
          163,
          158,
          151,
          146,
          189,
          158,
          173,
          181,
          179,
          162,
          165,
          146,
          148,
          196,
          169,
          144,
          178,
          193,
          189,
          156,
          179,
          190,
          154,
          198,
          182,
          168,
          184,
          199,
          152,
          184,
          172,
          164,
          163,
          183,
          186,
          164,
          195,
          179,
          145,
          141,
          174,
          171,
          184,
          157,
          169,
          190,
          187,
          153,
          183,
          141,
          161,
          171,
          166,
          164,
          180,
          150,
          188,
          150,
          166,
          195,
          193,
          195,
          187,
          151,
          167,
          147,
          194,
          188,
          185,
          180,
          148,
          152,
          181,
          159,
          192,
          193,
          144,
          190,
          143,
          143,
          172,
          182,
          152,
          168,
          194,
          145,
          167,
          189,
          159,
          148,
          198,
          156,
          178,
          171,
          171,
          178,
          177,
          196,
          146,
          149,
          166,
          177,
          160,
          165,
          162,
          194,
          193,
          168,
          183,
          142,
          172,
          198,
          161,
          196,
          193,
          179,
          170,
          172,
          166,
          153,
          181,
          188,
          170,
          168,
          185,
          171,
          155,
          197,
          142,
          153,
          180,
          168,
          183,
          164,
          149,
          192,
          191,
          199,
          140,
          185,
          175,
          190,
          147,
          151,
          194,
          162,
          168,
          187,
          159,
          189,
          180,
          170,
          154,
          170,
          157,
          169,
          183,
          148,
          193,
          159,
          197,
          150,
          149,
          185,
          149,
          177,
          193,
          193,
          142,
          184,
          161,
          179,
          197,
          155,
          159,
          158,
          148,
          170,
          180,
          156,
          172,
          177,
          188,
          143,
          157,
          189,
          161,
          197,
          168,
          195,
          155,
          143,
          140,
          165,
          190,
          153,
          195,
          197,
          156,
          166,
          147,
          164,
          176,
          169,
          140,
          152,
          197,
          175,
          145,
          148,
          169,
          149,
          198,
          178,
          172,
          140,
          176,
          164,
          186,
          156,
          168,
          194,
          184,
          183,
          141,
          172,
          150,
          179,
          174,
          149,
          141,
          147,
          190,
          141,
          149,
          167,
          166,
          140,
          178,
          177,
          166,
          153,
          154,
          183,
          169,
          185,
          195,
          141,
          196,
          172,
          199,
          146,
          181,
          155,
          156,
          192,
          195,
          196,
          171,
          148,
          163,
          190,
          141,
          154,
          162,
          194,
          199,
          198,
          169,
          196,
          142,
          186,
          150,
          198,
          160,
          160,
          199,
          176,
          199,
          153,
          180,
          143,
          165,
          190,
          163,
          161,
          168,
          159,
          170,
          197,
          197,
          141,
          193,
          192,
          166,
          162,
          147,
          178,
          170,
          168,
          157,
          175,
          148,
          188,
          195,
          164,
          199,
          189,
          178,
          176,
          155,
          175,
          197,
          161,
          185,
          186,
          173,
          199,
          172,
          194,
          160,
          168,
          190,
          198,
          151,
          193,
          175,
          164,
          152,
          183,
          192,
          192,
          176,
          182,
          161,
          159,
          166,
          192,
          187,
          188,
          180,
          164,
          182,
          184,
          178,
          192,
          149,
          189,
          189,
          145,
          143,
          170,
          178,
          193,
          199,
          144,
          181,
          153,
          146,
          152,
          155,
          153,
          180,
          145,
          153,
          158,
          199,
          197,
          187,
          198,
          178,
          143,
          199,
          148,
          143,
          141,
          189,
          179,
          155,
          197,
          155,
          162,
          191,
          140,
          194,
          186,
          157,
          168,
          159,
          140,
          177,
          192,
          140,
          140,
          146,
          174,
          190,
          164,
          148,
          186,
          155,
          163,
          171,
          195,
          168,
          162,
          162,
          182,
          158,
          167,
          196,
          175,
          169,
          157,
          167,
          154,
          141,
          179,
          146,
          168,
          166,
          191,
          156,
          144,
          182,
          197,
          186,
          189,
          153,
          179,
          143,
          159,
          166,
          157,
          166,
          166,
          151,
          169,
          177,
          186,
          140,
          168,
          189,
          162,
          170,
          178,
          170,
          187,
          173,
          196,
          183,
          198,
          154,
          194,
          173,
          169,
          198,
          146,
          161,
          180,
          189,
          194,
          198,
          185,
          166,
          155,
          166,
          169,
          174,
          155,
          164,
          159,
          185,
          151,
          194,
          164,
          176,
          159,
          183,
          198,
          198,
          190,
          196,
          170,
          156,
          181,
          180,
          198,
          154,
          172,
          159,
          159,
          144,
          148,
          141,
          187,
          141,
          173,
          150,
          144,
          182,
          184,
          154,
          143,
          168,
          176,
          150,
          169,
          145,
          171,
          197,
          155,
          164,
          173,
          198,
          166,
          160,
          171,
          152,
          153,
          183,
          166,
          170,
          189,
          167,
          192,
          186,
          187,
          158,
          192,
          164,
          179,
          180,
          145,
          171,
          148,
          141,
          186,
          142,
          178,
          147,
          158,
          189,
          183,
          185,
          140,
          189,
          163,
          191,
          170,
          176,
          149,
          151,
          149,
          155,
          143,
          152,
          151,
          189,
          198,
          174,
          150,
          172,
          161,
          150,
          195,
          171,
          155,
          158,
          169,
          152,
          147,
          198,
          153,
          173,
          192,
          172,
          148,
          174,
          170,
          178,
          151,
          154,
          167,
          174,
          145,
          162,
          161,
          176,
          188,
          179,
          166,
          149,
          185,
          193,
          195,
          198,
          190,
          140,
          165,
          167,
          147,
          153,
          199,
          161,
          176,
          176,
          184,
          156,
          161,
          148,
          166,
          187,
          181,
          145,
          156,
          196,
          166,
          141,
          192,
          172,
          149,
          164,
          183,
          183,
          141,
          168,
          168,
          164,
          187,
          197,
          193,
          155,
          157,
          186,
          153,
          163,
          181,
          163,
          161,
          140,
          171,
          164,
          190,
          152,
          198,
          150,
          169,
          174,
          186,
          144,
          165,
          185,
          148,
          187,
          154,
          196,
          151,
          144,
          157,
          174,
          152,
          194,
          178,
          167,
          182,
          156,
          184,
          183,
          145,
          157,
          195,
          185,
          141,
          153,
          148,
          158,
          181,
          170,
          194,
          199,
          153,
          157,
          183,
          192,
          152,
          156,
          182,
          184,
          193,
          196,
          189,
          174,
          192,
          192,
          174,
          168,
          162,
          146,
          189,
          179,
          174,
          144,
          184,
          198,
          193,
          143,
          147,
          160,
          185,
          158,
          163,
          162,
          156,
          155,
          198,
          183,
          153,
          176,
          143,
          195,
          199,
          157,
          193,
          184,
          150,
          197,
          151,
          155,
          146,
          185,
          142,
          182,
          170,
          152,
          165,
          141,
          152,
          199,
          161,
          199,
          149,
          150,
          199,
          155,
          165,
          169,
          193,
          156,
          145,
          190,
          140,
          158,
          173,
          150,
          197,
          157,
          179,
          153,
          169,
          198,
          191,
          195,
          142,
          183,
          146,
          182,
          149,
          166,
          160,
          174,
          163,
          151,
          199,
          162,
          146,
          148,
          159,
          173,
          189,
          140,
          197,
          198,
          189,
          151,
          181,
          191,
          160,
          187,
          199,
          156,
          155,
          196,
          181,
          145,
          164,
          174,
          198,
          173,
          142,
          144,
          191,
          145,
          140,
          176,
          158,
          196,
          195,
          148,
          143,
          183,
          160,
          173,
          145,
          158,
          194,
          178,
          185,
          180,
          164,
          180,
          181,
          180,
          174,
          197,
          196,
          152,
          141,
          161,
          165,
          150,
          147,
          147,
          173,
          197,
          154,
          188,
          152,
          158,
          199,
          158,
          156,
          155,
          141,
          187,
          154,
          196,
          175,
          195,
          141,
          156,
          151,
          193,
          173,
          191,
          184,
          158,
          182,
          150,
          159,
          165,
          155,
          182,
          149,
          183,
          189,
          142,
          172,
          179,
          140,
          191,
          176,
          175,
          152,
          172,
          166,
          176,
          199,
          191,
          183,
          189,
          181,
          155,
          158,
          181,
          141,
          152,
          180,
          151,
          181,
          157,
          161,
          192,
          173,
          193,
          199,
          168,
          144,
          153,
          190,
          185,
          149,
          188,
          192,
          193,
          151,
          174,
          156,
          178,
          153,
          185,
          194,
          152,
          157,
          189,
          174,
          151,
          171,
          171,
          173,
          141,
          173,
          175,
          195,
          182,
          143,
          177,
          194,
          172,
          151,
          176,
          144,
          180,
          196,
          153,
          196,
          166,
          178,
          181,
          160,
          141,
          148,
          164,
          199,
          147,
          143,
          169,
          197,
          179,
          197,
          178,
          140,
          175,
          174,
          164,
          193,
          148,
          149,
          183,
          145,
          182,
          157,
          181,
          193,
          182,
          193,
          172,
          183,
          193,
          160,
          181,
          184,
          147,
          196,
          184,
          154,
          169,
          144,
          193,
          177,
          140,
          145,
          171,
          193,
          154,
          141,
          197,
          180,
          180,
          153,
          169,
          198,
          168,
          152,
          141,
          199,
          149,
          190,
          156,
          152,
          184,
          161,
          150,
          196,
          167,
          198,
          154,
          167,
          154,
          195,
          166,
          171,
          182,
          160,
          196,
          170,
          196,
          156,
          152,
          140,
          188,
          151,
          167,
          147,
          170,
          175,
          185,
          173,
          183,
          148,
          141,
          182,
          148,
          162,
          178,
          181,
          191,
          162,
          154,
          169,
          162,
          158,
          169,
          165,
          184,
          192,
          199,
          164,
          171,
          182,
          144,
          199,
          183,
          140,
          189,
          171,
          183,
          169,
          169,
          171,
          188,
          189,
          151,
          151,
          158,
          195,
          143,
          168,
          144,
          173,
          197,
          159,
          175,
          152,
          168,
          151,
          190,
          169,
          158,
          187,
          141,
          175,
          188,
          170,
          180,
          145,
          148,
          158,
          165,
          193,
          181,
          176,
          161,
          176,
          171,
          176,
          183,
          181,
          147,
          162,
          147,
          180,
          164,
          183,
          150,
          165,
          189,
          189,
          193,
          176,
          179,
          143,
          179,
          158,
          176,
          199,
          158,
          183,
          164,
          147,
          148,
          170,
          189,
          157,
          144,
          170,
          154,
          182,
          167,
          199,
          199,
          168,
          173,
          142,
          198,
          154,
          153,
          195,
          166,
          151,
          187,
          159,
          162,
          145,
          143,
          149,
          192,
          159,
          149,
          183,
          186,
          186,
          160,
          142,
          160,
          146,
          142,
          169,
          199,
          167,
          189,
          192,
          193,
          173,
          181,
          157,
          162,
          193,
          189,
          185,
          179,
          173,
          159,
          167,
          146,
          179,
          165,
          184,
          191,
          146,
          187,
          152,
          187,
          186,
          140,
          175,
          174,
          154,
          141,
          145,
          185,
          181,
          184,
          168,
          173,
          184,
          164,
          153,
          166,
          184,
          182,
          152,
          160,
          190,
          155,
          165,
          183,
          169,
          176,
          142,
          160,
          167,
          159,
          169,
          196,
          195,
          188,
          158,
          146,
          148,
          184,
          189,
          152,
          148,
          191,
          171,
          192,
          187,
          178,
          176,
          191,
          190,
          188,
          198,
          159,
          163,
          140,
          177,
          182,
          189,
          148,
          199,
          174,
          195,
          179,
          195,
          179,
          182,
          199,
          199,
          161,
          180,
          161,
          175,
          147,
          179,
          192,
          168,
          140,
          162,
          170,
          193,
          184,
          188,
          192,
          149,
          164,
          192,
          186,
          172,
          161,
          156,
          173,
          155,
          187,
          155,
          141,
          176,
          144,
          197,
          187,
          194,
          157,
          153,
          181,
          196,
          195,
          170,
          147,
          143,
          143,
          199,
          194,
          195,
          197,
          155,
          184,
          160,
          157,
          194,
          175,
          157,
          185,
          146,
          180,
          176,
          193,
          162,
          161,
          163,
          173,
          185,
          184,
          188,
          161,
          194,
          186,
          197,
          198,
          154,
          142,
          180,
          154,
          167,
          185,
          163,
          189,
          148,
          176,
          169,
          187,
          158,
          161,
          196,
          197,
          155,
          157,
          177,
          189,
          166,
          163,
          181,
          170,
          154,
          192,
          146,
          182,
          158,
          197,
          180,
          179,
          182,
          145,
          194,
          173,
          181,
          177,
          196,
          159,
          170,
          148,
          162,
          189,
          179,
          177,
          194,
          185,
          180,
          147,
          161,
          155,
          140,
          194,
          197,
          157,
          141,
          163,
          163,
          146,
          181,
          157,
          168,
          147,
          154,
          199,
          196,
          193,
          199,
          178,
          161,
          154,
          153,
          147,
          149,
          168,
          148,
          187,
          148,
          170,
          159,
          196,
          191,
          188,
          172,
          149,
          152,
          157,
          181,
          177,
          158,
          173,
          144,
          189,
          172,
          178,
          143,
          144,
          175,
          147,
          149,
          172,
          146,
          167,
          146,
          162,
          148,
          172,
          152,
          182,
          169,
          157,
          174,
          156,
          185,
          150,
          177,
          157,
          191,
          194,
          160,
          143,
          181,
          145,
          151,
          141,
          176,
          187,
          147,
          196,
          140,
          180,
          141,
          170,
          161,
          185,
          163,
          157,
          148,
          182,
          187,
          147,
          141,
          166,
          159,
          175,
          184,
          180,
          146,
          157,
          167,
          145,
          155,
          196,
          171,
          170,
          146,
          181,
          167,
          190,
          158,
          183,
          197,
          191,
          195,
          178,
          188,
          166,
          184,
          164,
          182,
          157,
          155,
          150,
          193,
          185,
          162,
          184,
          176,
          141,
          188,
          197,
          164,
          190,
          184,
          199,
          183,
          173,
          176,
          188,
          187,
          152,
          190,
          182,
          155,
          163,
          176,
          154,
          179,
          178,
          144,
          190,
          188,
          187,
          198,
          170,
          146,
          175,
          173,
          181,
          146,
          169,
          152,
          186,
          182,
          141,
          179,
          185,
          148,
          155,
          180,
          174,
          143,
          174,
          191,
          184,
          196,
          195,
          140,
          147,
          181,
          154,
          151,
          191,
          159,
          175,
          198,
          170,
          152,
          148,
          159,
          151,
          156,
          181,
          140,
          187,
          163,
          156,
          198,
          191,
          183,
          155,
          152,
          180,
          184,
          162,
          151,
          156,
          149,
          175,
          191,
          154,
          199,
          143,
          186,
          170,
          172,
          198,
          197,
          153,
          153,
          143,
          185,
          150,
          144,
          166,
          172,
          184,
          157,
          151,
          169,
          186,
          183,
          189,
          146,
          193,
          194,
          160,
          168,
          167,
          174,
          145,
          159,
          183,
          189,
          182,
          185,
          192,
          181,
          155,
          183,
          194,
          189,
          179,
          143,
          187,
          152,
          158,
          178,
          149,
          179,
          161,
          161,
          179,
          160,
          142,
          147,
          178,
          154,
          170,
          141,
          193,
          171,
          171,
          152,
          159,
          157,
          195,
          166,
          188,
          174,
          163,
          198,
          163,
          163,
          145,
          186,
          187,
          185,
          185,
          177,
          189,
          176,
          194,
          198,
          177,
          141,
          168,
          196,
          177,
          192,
          150,
          188,
          160,
          154,
          147,
          148,
          167,
          188,
          156,
          169,
          159,
          180,
          145,
          153,
          165,
          195,
          190,
          190,
          184,
          183,
          150,
          169,
          192,
          142,
          162,
          162,
          164,
          191,
          154,
          173,
          158,
          198,
          173,
          165,
          175,
          176,
          182,
          195,
          189,
          150,
          156,
          167,
          141,
          153,
          195,
          155,
          179,
          152,
          153,
          192,
          163,
          155,
          170,
          197,
          190,
          144,
          186,
          168,
          185,
          179,
          185,
          195,
          170,
          193,
          181,
          143,
          164,
          186,
          198,
          154,
          199,
          179,
          146,
          144,
          145,
          158,
          166,
          168,
          181,
          187,
          174,
          194,
          175,
          197,
          199,
          148,
          148,
          162,
          165,
          157,
          178,
          170,
          179,
          151,
          166,
          167,
          172,
          180,
          178,
          162,
          153,
          186,
          170,
          141,
          165,
          189,
          166,
          175,
          175,
          189,
          177,
          144,
          146,
          168,
          169,
          172,
          154,
          178,
          170,
          163,
          147,
          169,
          174,
          160,
          191,
          197,
          170,
          179,
          189,
          143,
          164,
          181,
          166,
          186,
          149,
          193,
          185,
          148,
          159,
          142,
          153,
          145,
          172,
          177,
          163,
          171,
          174,
          169,
          170,
          183,
          156,
          142,
          170,
          196,
          158,
          181,
          168,
          142,
          169,
          194,
          189,
          172,
          177,
          193,
          147,
          191,
          152,
          150,
          150,
          184,
          173,
          182,
          143,
          157,
          159,
          189,
          180,
          164,
          172,
          177,
          184,
          144,
          186,
          185,
          177,
          180,
          189,
          151,
          187,
          179,
          157,
          150,
          148,
          145,
          165,
          168,
          148,
          198,
          177,
          164,
          183,
          193,
          181,
          177,
          183,
          147,
          184,
          192,
          173,
          195,
          177,
          141,
          168,
          150,
          185,
          161,
          171,
          180,
          173,
          150,
          191,
          158,
          193,
          145,
          153,
          177,
          182,
          190,
          155,
          160,
          194,
          163,
          142,
          151,
          182,
          195,
          152,
          180,
          175,
          185,
          164,
          145,
          157,
          180,
          142,
          197,
          194,
          140,
          159,
          161,
          166,
          175,
          141,
          141,
          178,
          140,
          162,
          189,
          167,
          194,
          187,
          187,
          161,
          146,
          171,
          151,
          197,
          158,
          154,
          191,
          151,
          191,
          167,
          144,
          182,
          199,
          166,
          146,
          148,
          191,
          145,
          195,
          173,
          168,
          147,
          155,
          142,
          198,
          151,
          153,
          177,
          158,
          141,
          191,
          179,
          153,
          155,
          183,
          190,
          163,
          158,
          194,
          181,
          193,
          192,
          173,
          197,
          143,
          158,
          159,
          183,
          191,
          182,
          144,
          179,
          149,
          164,
          172,
          174,
          152,
          198,
          143,
          143,
          147,
          164,
          182,
          184,
          177,
          159,
          159,
          196,
          158,
          149,
          175,
          141,
          180,
          183,
          158,
          168,
          145,
          186,
          147,
          182,
          170,
          181,
          144,
          197,
          165,
          189,
          145,
          194,
          198,
          155,
          197,
          184,
          152,
          172,
          193,
          143,
          177,
          180,
          158,
          187,
          195,
          145,
          168,
          199,
          191,
          172,
          166,
          160,
          165,
          190,
          146,
          146,
          182,
          173,
          142,
          172,
          161,
          186,
          165,
          178,
          172,
          142,
          170,
          194,
          162,
          145,
          156,
          149,
          182,
          176,
          149,
          181,
          169,
          180,
          172,
          185,
          152,
          188,
          176,
          180,
          168,
          191,
          164,
          193,
          196,
          193,
          195,
          153,
          178,
          165,
          150,
          179,
          188,
          182,
          171,
          144,
          188,
          146,
          153,
          170,
          171,
          156,
          191,
          182,
          146,
          190,
          191,
          159,
          186,
          183,
          199,
          154,
          190,
          161,
          179,
          153,
          194,
          192,
          195,
          164,
          146,
          163,
          145,
          155,
          187,
          150,
          156,
          170,
          173,
          196,
          166,
          196,
          163,
          141,
          160,
          187,
          189,
          162,
          175,
          169,
          188,
          156,
          191,
          172,
          159,
          190,
          155,
          149,
          188,
          141,
          191,
          169,
          180,
          140,
          177,
          142,
          173,
          141,
          155,
          185,
          141,
          146,
          146,
          148,
          156,
          178,
          155,
          160,
          167,
          146,
          149,
          186,
          164,
          156,
          189,
          148,
          140,
          144,
          198,
          142,
          170,
          194,
          167,
          167,
          162,
          170,
          151,
          143,
          193,
          195,
          164,
          175,
          179,
          162,
          199,
          167,
          179,
          193,
          169,
          187,
          187,
          149,
          143,
          157,
          197,
          168,
          159,
          161,
          160,
          151,
          183,
          192,
          171,
          177,
          192,
          197,
          162,
          155,
          180,
          175,
          172,
          168,
          147,
          144,
          170,
          192,
          162,
          178,
          169,
          169,
          164,
          175,
          175,
          161,
          156,
          183,
          189,
          145,
          180,
          171,
          149,
          154,
          159,
          175,
          198,
          188,
          196,
          175,
          145,
          166,
          154,
          147,
          147,
          143,
          152,
          151,
          186,
          170,
          192,
          177,
          151,
          182,
          194,
          159,
          143,
          177,
          186,
          186,
          187,
          190,
          197,
          166,
          177,
          199,
          145,
          164,
          143,
          183,
          180,
          171,
          191,
          173,
          150,
          148,
          198,
          196,
          161,
          158,
          183,
          184,
          157,
          181,
          149,
          140,
          152,
          190,
          142,
          154,
          165,
          163,
          162,
          140,
          158,
          157,
          151,
          163,
          185,
          164,
          157,
          159,
          199,
          145,
          185,
          185,
          185,
          140,
          147,
          160,
          158,
          142,
          180,
          151,
          170,
          169,
          159,
          161,
          141,
          199,
          170,
          178,
          189,
          152,
          164,
          191,
          182,
          175,
          190,
          141,
          177,
          170,
          140,
          155,
          168,
          162,
          151,
          174,
          181,
          162,
          152,
          191,
          161,
          199,
          182,
          150,
          146,
          185,
          169,
          188,
          174,
          192,
          193,
          161,
          153,
          169,
          189,
          172,
          173,
          171,
          181,
          186,
          169,
          181,
          176,
          161,
          182,
          145,
          191,
          146,
          190,
          160,
          144,
          158,
          145,
          162,
          151,
          195,
          182,
          145,
          175,
          162,
          199,
          141,
          195,
          195,
          176,
          167,
          185,
          154,
          143,
          161,
          168,
          199,
          193,
          189,
          169,
          153,
          181,
          193,
          190,
          151,
          198,
          162,
          171,
          198,
          163,
          170,
          148,
          147,
          143,
          159,
          187,
          164,
          153,
          148,
          173,
          187,
          180,
          155,
          169,
          162,
          151,
          195,
          156,
          178,
          199,
          140,
          174,
          148,
          153,
          192,
          142,
          158,
          170,
          145,
          191,
          142,
          143,
          141,
          167,
          156,
          195,
          161,
          159,
          178,
          177,
          149,
          157,
          162,
          144,
          170,
          174,
          170,
          157,
          199,
          173,
          144,
          164,
          197,
          174,
          199,
          170,
          194,
          188,
          167,
          184,
          149,
          168,
          164,
          165,
          185,
          167,
          190,
          175,
          181,
          188,
          190,
          178,
          141,
          191,
          185,
          175,
          153,
          148,
          142,
          171,
          179,
          189,
          175,
          167,
          167,
          164,
          144,
          185,
          146,
          157,
          194,
          146,
          173,
          151,
          196,
          180,
          196,
          160,
          171,
          175,
          185,
          156,
          156,
          195,
          152,
          153,
          155,
          158,
          198,
          198,
          160,
          192,
          140,
          151,
          145,
          179,
          156,
          187,
          191,
          155,
          164,
          185,
          198,
          174,
          191,
          143,
          190,
          171,
          166,
          147,
          189,
          140,
          195,
          163,
          152,
          166,
          144,
          158,
          173,
          196,
          178,
          187,
          180,
          167,
          165,
          142,
          179,
          164,
          163,
          176,
          163,
          166,
          153,
          170,
          165,
          156,
          187,
          157,
          187,
          163,
          190,
          169,
          173,
          181,
          149,
          184,
          185,
          151,
          177,
          195,
          151,
          193,
          143,
          168,
          155,
          145,
          182,
          144,
          193,
          177,
          176,
          141,
          196,
          158,
          159,
          154,
          161,
          172,
          155,
          143,
          197,
          158,
          147,
          169,
          193,
          196,
          146,
          193,
          141,
          185,
          155,
          144,
          168,
          194,
          160,
          184,
          187,
          194,
          168,
          173,
          142,
          176,
          185,
          196,
          180,
          150,
          154,
          143,
          187,
          174,
          150,
          188,
          156,
          155,
          181,
          193,
          165,
          157,
          141,
          171,
          143,
          150,
          140,
          177,
          146,
          159,
          148,
          187,
          194,
          180,
          182,
          150,
          156,
          162,
          162,
          151,
          149,
          162,
          150,
          172,
          186,
          155,
          190,
          196,
          174,
          169,
          164,
          153,
          155,
          176,
          159,
          158,
          160,
          176,
          141,
          189,
          186,
          147,
          191,
          176,
          181,
          149,
          197,
          195,
          151,
          171,
          168,
          179,
          199,
          198,
          198,
          177,
          154,
          144,
          184,
          166,
          185,
          141,
          199,
          198,
          150,
          152,
          199,
          148,
          175,
          198,
          151,
          159,
          149,
          181,
          151,
          198,
          152,
          170,
          155,
          155,
          162,
          192,
          158,
          162,
          156,
          168,
          156,
          161,
          178,
          165,
          182,
          155,
          154,
          180,
          165,
          177,
          157,
          164,
          168,
          144,
          188,
          153,
          160,
          187,
          155,
          151,
          180,
          188,
          191,
          194,
          141,
          198,
          172,
          178,
          163,
          154,
          155,
          169,
          141,
          172,
          140,
          155,
          143,
          183,
          190,
          187,
          167,
          154,
          151,
          178,
          184,
          154,
          166,
          164,
          199,
          168,
          178,
          194,
          145,
          198,
          153,
          159,
          143,
          183,
          146,
          173,
          171,
          154,
          175,
          183,
          199,
          146,
          194,
          173,
          149,
          166,
          166,
          167,
          167,
          170,
          150,
          182,
          195,
          155,
          198,
          155,
          174,
          187,
          149,
          184,
          152,
          156,
          164,
          168,
          158,
          175,
          185,
          180,
          171,
          166,
          187,
          177,
          148,
          169,
          187,
          182,
          141,
          171,
          196,
          189,
          182,
          178,
          145,
          198,
          146,
          168,
          141,
          168,
          152,
          148,
          162,
          174,
          148,
          166,
          145,
          181,
          167,
          199,
          163,
          156,
          187,
          181,
          146,
          192,
          150,
          166,
          198,
          150,
          140,
          178,
          165,
          144,
          172,
          183,
          149,
          199,
          189,
          152,
          176,
          157,
          187,
          182,
          198,
          164,
          189,
          177,
          169,
          169,
          170,
          140,
          180,
          174,
          145,
          196,
          166,
          167,
          175,
          155,
          146,
          185,
          191,
          183,
          158,
          166,
          165,
          182,
          190,
          198,
          193,
          186,
          181,
          162,
          196,
          165,
          160,
          166,
          197,
          176,
          193,
          154,
          187,
          154,
          151,
          146,
          142,
          141,
          173,
          160,
          180,
          180,
          175,
          198,
          158,
          148,
          141,
          159,
          197,
          165,
          187,
          150,
          189,
          179,
          181,
          172,
          189,
          194,
          177,
          174,
          160,
          170,
          187,
          144,
          147,
          162,
          194,
          191,
          183,
          198,
          160,
          178,
          153,
          174,
          151,
          163,
          166,
          190,
          161,
          189,
          148,
          175,
          194,
          167,
          178,
          156,
          169,
          160,
          177,
          196,
          163,
          184,
          155,
          161,
          173,
          145,
          198,
          141,
          171,
          189,
          187,
          179,
          188,
          153,
          156,
          179,
          176,
          180,
          144,
          174,
          149,
          153,
          198,
          165,
          173,
          192,
          198,
          164,
          167,
          177,
          170,
          187,
          172,
          174,
          177,
          172,
          163,
          144,
          168,
          152,
          167,
          157,
          169,
          151,
          142,
          169,
          164,
          182,
          169,
          172,
          180,
          173,
          165,
          197,
          194,
          172,
          172,
          169,
          187,
          173,
          169,
          152,
          192,
          159,
          171,
          192,
          143,
          140,
          179,
          150,
          148,
          193,
          182,
          157,
          199,
          197,
          191,
          145,
          150,
          167,
          155,
          178,
          141,
          160,
          193,
          180,
          147,
          146,
          190,
          174,
          146,
          160,
          150,
          166,
          162,
          190,
          194,
          160,
          156,
          154,
          147,
          169,
          143,
          190,
          162,
          195,
          198,
          194,
          177,
          182,
          196,
          192,
          166,
          199,
          157,
          142,
          144,
          186,
          167,
          181,
          158,
          186,
          174,
          173,
          199,
          195,
          145,
          141,
          143,
          167,
          170,
          181,
          155,
          145,
          173,
          142,
          170,
          166,
          170,
          153,
          166,
          155,
          148,
          173,
          147,
          158,
          150,
          168,
          198,
          149,
          172,
          185,
          168,
          156,
          181,
          151,
          146,
          196,
          191,
          143,
          165,
          146,
          180,
          187,
          157,
          146,
          182,
          157,
          173,
          181,
          196,
          181,
          192,
          181,
          174,
          143,
          162,
          144,
          158,
          182,
          161,
          175,
          143,
          151,
          183,
          183,
          148,
          150,
          196,
          181,
          191,
          194,
          175,
          189,
          164,
          169,
          163,
          186,
          172,
          155,
          163,
          190,
          182,
          179,
          153,
          144,
          162,
          189,
          148,
          190,
          176,
          167,
          145,
          146,
          198,
          175,
          175,
          174,
          165,
          144,
          140,
          173,
          177,
          167,
          174,
          147,
          170,
          155,
          178,
          180,
          151,
          162,
          154,
          192,
          176,
          143,
          183,
          197,
          146,
          172,
          141,
          166,
          190,
          174,
          158,
          181,
          192,
          143,
          188,
          167,
          181,
          158,
          164,
          142,
          198,
          176,
          141,
          158,
          175,
          178,
          149,
          152,
          155,
          143,
          177,
          170,
          170,
          157,
          159,
          160,
          178,
          181,
          178,
          157,
          190,
          197,
          177,
          170,
          169,
          186,
          194,
          167,
          166,
          146,
          174,
          155,
          140,
          166,
          196,
          169,
          144,
          148,
          177,
          172,
          148,
          180,
          192,
          175,
          181,
          170,
          176,
          149,
          154,
          162,
          188,
          149,
          147,
          152,
          190,
          155,
          169,
          161,
          167,
          146,
          195,
          183,
          163,
          196,
          175,
          157,
          145,
          157,
          161,
          160,
          157,
          179,
          170,
          194,
          168,
          179,
          171,
          186,
          151,
          170,
          176,
          186,
          180,
          144,
          180,
          179,
          181,
          189,
          164,
          151,
          168,
          189,
          186,
          167,
          149,
          153,
          169,
          167,
          183,
          194,
          181,
          170,
          149,
          174,
          157,
          151,
          184,
          159,
          199,
          199,
          183,
          189,
          186,
          160,
          181,
          163,
          157,
          147,
          175,
          187,
          188,
          164,
          177,
          142,
          165,
          164,
          179,
          141,
          142,
          171,
          192,
          162,
          171,
          180,
          172,
          162,
          196,
          169,
          146,
          186,
          148,
          157,
          177,
          199,
          171,
          180,
          167,
          145,
          188,
          156,
          180,
          186,
          153,
          180,
          183,
          188,
          191,
          152,
          165,
          172,
          191,
          162,
          194,
          186,
          171,
          166,
          147,
          155,
          184,
          195,
          157,
          192,
          154,
          199,
          186,
          182,
          142,
          174,
          153,
          161,
          165,
          178,
          141,
          193,
          153,
          141,
          174,
          195,
          159,
          187,
          199,
          142,
          169,
          167,
          152,
          157,
          179,
          193,
          140,
          176,
          155,
          146,
          155,
          146,
          167,
          147,
          192,
          157,
          164,
          176,
          183,
          175,
          187,
          159,
          178,
          188,
          179,
          195,
          170,
          190,
          193,
          155,
          197,
          182,
          144,
          149,
          186,
          169,
          152,
          167,
          161,
          165,
          196,
          198,
          145,
          194,
          146,
          184,
          180,
          164,
          194,
          157,
          164,
          155,
          140,
          166,
          159,
          171,
          148,
          149,
          193,
          163,
          167,
          176,
          168,
          169,
          166,
          176,
          158,
          160
         ],
         "xaxis": "x",
         "yaxis": "y"
        }
       ],
       "layout": {
        "barmode": "relative",
        "legend": {
         "tracegroupgap": 0
        },
        "margin": {
         "t": 60
        },
        "template": {
         "data": {
          "bar": [
           {
            "error_x": {
             "color": "#f2f5fa"
            },
            "error_y": {
             "color": "#f2f5fa"
            },
            "marker": {
             "line": {
              "color": "rgb(17,17,17)",
              "width": 0.5
             }
            },
            "type": "bar"
           }
          ],
          "barpolar": [
           {
            "marker": {
             "line": {
              "color": "rgb(17,17,17)",
              "width": 0.5
             }
            },
            "type": "barpolar"
           }
          ],
          "carpet": [
           {
            "aaxis": {
             "endlinecolor": "#A2B1C6",
             "gridcolor": "#506784",
             "linecolor": "#506784",
             "minorgridcolor": "#506784",
             "startlinecolor": "#A2B1C6"
            },
            "baxis": {
             "endlinecolor": "#A2B1C6",
             "gridcolor": "#506784",
             "linecolor": "#506784",
             "minorgridcolor": "#506784",
             "startlinecolor": "#A2B1C6"
            },
            "type": "carpet"
           }
          ],
          "choropleth": [
           {
            "colorbar": {
             "outlinewidth": 0,
             "ticks": ""
            },
            "type": "choropleth"
           }
          ],
          "contour": [
           {
            "colorbar": {
             "outlinewidth": 0,
             "ticks": ""
            },
            "colorscale": [
             [
              0,
              "#0d0887"
             ],
             [
              0.1111111111111111,
              "#46039f"
             ],
             [
              0.2222222222222222,
              "#7201a8"
             ],
             [
              0.3333333333333333,
              "#9c179e"
             ],
             [
              0.4444444444444444,
              "#bd3786"
             ],
             [
              0.5555555555555556,
              "#d8576b"
             ],
             [
              0.6666666666666666,
              "#ed7953"
             ],
             [
              0.7777777777777778,
              "#fb9f3a"
             ],
             [
              0.8888888888888888,
              "#fdca26"
             ],
             [
              1,
              "#f0f921"
             ]
            ],
            "type": "contour"
           }
          ],
          "contourcarpet": [
           {
            "colorbar": {
             "outlinewidth": 0,
             "ticks": ""
            },
            "type": "contourcarpet"
           }
          ],
          "heatmap": [
           {
            "colorbar": {
             "outlinewidth": 0,
             "ticks": ""
            },
            "colorscale": [
             [
              0,
              "#0d0887"
             ],
             [
              0.1111111111111111,
              "#46039f"
             ],
             [
              0.2222222222222222,
              "#7201a8"
             ],
             [
              0.3333333333333333,
              "#9c179e"
             ],
             [
              0.4444444444444444,
              "#bd3786"
             ],
             [
              0.5555555555555556,
              "#d8576b"
             ],
             [
              0.6666666666666666,
              "#ed7953"
             ],
             [
              0.7777777777777778,
              "#fb9f3a"
             ],
             [
              0.8888888888888888,
              "#fdca26"
             ],
             [
              1,
              "#f0f921"
             ]
            ],
            "type": "heatmap"
           }
          ],
          "heatmapgl": [
           {
            "colorbar": {
             "outlinewidth": 0,
             "ticks": ""
            },
            "colorscale": [
             [
              0,
              "#0d0887"
             ],
             [
              0.1111111111111111,
              "#46039f"
             ],
             [
              0.2222222222222222,
              "#7201a8"
             ],
             [
              0.3333333333333333,
              "#9c179e"
             ],
             [
              0.4444444444444444,
              "#bd3786"
             ],
             [
              0.5555555555555556,
              "#d8576b"
             ],
             [
              0.6666666666666666,
              "#ed7953"
             ],
             [
              0.7777777777777778,
              "#fb9f3a"
             ],
             [
              0.8888888888888888,
              "#fdca26"
             ],
             [
              1,
              "#f0f921"
             ]
            ],
            "type": "heatmapgl"
           }
          ],
          "histogram": [
           {
            "marker": {
             "colorbar": {
              "outlinewidth": 0,
              "ticks": ""
             }
            },
            "type": "histogram"
           }
          ],
          "histogram2d": [
           {
            "colorbar": {
             "outlinewidth": 0,
             "ticks": ""
            },
            "colorscale": [
             [
              0,
              "#0d0887"
             ],
             [
              0.1111111111111111,
              "#46039f"
             ],
             [
              0.2222222222222222,
              "#7201a8"
             ],
             [
              0.3333333333333333,
              "#9c179e"
             ],
             [
              0.4444444444444444,
              "#bd3786"
             ],
             [
              0.5555555555555556,
              "#d8576b"
             ],
             [
              0.6666666666666666,
              "#ed7953"
             ],
             [
              0.7777777777777778,
              "#fb9f3a"
             ],
             [
              0.8888888888888888,
              "#fdca26"
             ],
             [
              1,
              "#f0f921"
             ]
            ],
            "type": "histogram2d"
           }
          ],
          "histogram2dcontour": [
           {
            "colorbar": {
             "outlinewidth": 0,
             "ticks": ""
            },
            "colorscale": [
             [
              0,
              "#0d0887"
             ],
             [
              0.1111111111111111,
              "#46039f"
             ],
             [
              0.2222222222222222,
              "#7201a8"
             ],
             [
              0.3333333333333333,
              "#9c179e"
             ],
             [
              0.4444444444444444,
              "#bd3786"
             ],
             [
              0.5555555555555556,
              "#d8576b"
             ],
             [
              0.6666666666666666,
              "#ed7953"
             ],
             [
              0.7777777777777778,
              "#fb9f3a"
             ],
             [
              0.8888888888888888,
              "#fdca26"
             ],
             [
              1,
              "#f0f921"
             ]
            ],
            "type": "histogram2dcontour"
           }
          ],
          "mesh3d": [
           {
            "colorbar": {
             "outlinewidth": 0,
             "ticks": ""
            },
            "type": "mesh3d"
           }
          ],
          "parcoords": [
           {
            "line": {
             "colorbar": {
              "outlinewidth": 0,
              "ticks": ""
             }
            },
            "type": "parcoords"
           }
          ],
          "pie": [
           {
            "automargin": true,
            "type": "pie"
           }
          ],
          "scatter": [
           {
            "marker": {
             "line": {
              "color": "#283442"
             }
            },
            "type": "scatter"
           }
          ],
          "scatter3d": [
           {
            "line": {
             "colorbar": {
              "outlinewidth": 0,
              "ticks": ""
             }
            },
            "marker": {
             "colorbar": {
              "outlinewidth": 0,
              "ticks": ""
             }
            },
            "type": "scatter3d"
           }
          ],
          "scattercarpet": [
           {
            "marker": {
             "colorbar": {
              "outlinewidth": 0,
              "ticks": ""
             }
            },
            "type": "scattercarpet"
           }
          ],
          "scattergeo": [
           {
            "marker": {
             "colorbar": {
              "outlinewidth": 0,
              "ticks": ""
             }
            },
            "type": "scattergeo"
           }
          ],
          "scattergl": [
           {
            "marker": {
             "line": {
              "color": "#283442"
             }
            },
            "type": "scattergl"
           }
          ],
          "scattermapbox": [
           {
            "marker": {
             "colorbar": {
              "outlinewidth": 0,
              "ticks": ""
             }
            },
            "type": "scattermapbox"
           }
          ],
          "scatterpolar": [
           {
            "marker": {
             "colorbar": {
              "outlinewidth": 0,
              "ticks": ""
             }
            },
            "type": "scatterpolar"
           }
          ],
          "scatterpolargl": [
           {
            "marker": {
             "colorbar": {
              "outlinewidth": 0,
              "ticks": ""
             }
            },
            "type": "scatterpolargl"
           }
          ],
          "scatterternary": [
           {
            "marker": {
             "colorbar": {
              "outlinewidth": 0,
              "ticks": ""
             }
            },
            "type": "scatterternary"
           }
          ],
          "surface": [
           {
            "colorbar": {
             "outlinewidth": 0,
             "ticks": ""
            },
            "colorscale": [
             [
              0,
              "#0d0887"
             ],
             [
              0.1111111111111111,
              "#46039f"
             ],
             [
              0.2222222222222222,
              "#7201a8"
             ],
             [
              0.3333333333333333,
              "#9c179e"
             ],
             [
              0.4444444444444444,
              "#bd3786"
             ],
             [
              0.5555555555555556,
              "#d8576b"
             ],
             [
              0.6666666666666666,
              "#ed7953"
             ],
             [
              0.7777777777777778,
              "#fb9f3a"
             ],
             [
              0.8888888888888888,
              "#fdca26"
             ],
             [
              1,
              "#f0f921"
             ]
            ],
            "type": "surface"
           }
          ],
          "table": [
           {
            "cells": {
             "fill": {
              "color": "#506784"
             },
             "line": {
              "color": "rgb(17,17,17)"
             }
            },
            "header": {
             "fill": {
              "color": "#2a3f5f"
             },
             "line": {
              "color": "rgb(17,17,17)"
             }
            },
            "type": "table"
           }
          ]
         },
         "layout": {
          "annotationdefaults": {
           "arrowcolor": "#f2f5fa",
           "arrowhead": 0,
           "arrowwidth": 1
          },
          "autotypenumbers": "strict",
          "coloraxis": {
           "colorbar": {
            "outlinewidth": 0,
            "ticks": ""
           }
          },
          "colorscale": {
           "diverging": [
            [
             0,
             "#8e0152"
            ],
            [
             0.1,
             "#c51b7d"
            ],
            [
             0.2,
             "#de77ae"
            ],
            [
             0.3,
             "#f1b6da"
            ],
            [
             0.4,
             "#fde0ef"
            ],
            [
             0.5,
             "#f7f7f7"
            ],
            [
             0.6,
             "#e6f5d0"
            ],
            [
             0.7,
             "#b8e186"
            ],
            [
             0.8,
             "#7fbc41"
            ],
            [
             0.9,
             "#4d9221"
            ],
            [
             1,
             "#276419"
            ]
           ],
           "sequential": [
            [
             0,
             "#0d0887"
            ],
            [
             0.1111111111111111,
             "#46039f"
            ],
            [
             0.2222222222222222,
             "#7201a8"
            ],
            [
             0.3333333333333333,
             "#9c179e"
            ],
            [
             0.4444444444444444,
             "#bd3786"
            ],
            [
             0.5555555555555556,
             "#d8576b"
            ],
            [
             0.6666666666666666,
             "#ed7953"
            ],
            [
             0.7777777777777778,
             "#fb9f3a"
            ],
            [
             0.8888888888888888,
             "#fdca26"
            ],
            [
             1,
             "#f0f921"
            ]
           ],
           "sequentialminus": [
            [
             0,
             "#0d0887"
            ],
            [
             0.1111111111111111,
             "#46039f"
            ],
            [
             0.2222222222222222,
             "#7201a8"
            ],
            [
             0.3333333333333333,
             "#9c179e"
            ],
            [
             0.4444444444444444,
             "#bd3786"
            ],
            [
             0.5555555555555556,
             "#d8576b"
            ],
            [
             0.6666666666666666,
             "#ed7953"
            ],
            [
             0.7777777777777778,
             "#fb9f3a"
            ],
            [
             0.8888888888888888,
             "#fdca26"
            ],
            [
             1,
             "#f0f921"
            ]
           ]
          },
          "colorway": [
           "#636efa",
           "#EF553B",
           "#00cc96",
           "#ab63fa",
           "#FFA15A",
           "#19d3f3",
           "#FF6692",
           "#B6E880",
           "#FF97FF",
           "#FECB52"
          ],
          "font": {
           "color": "#f2f5fa"
          },
          "geo": {
           "bgcolor": "rgb(17,17,17)",
           "lakecolor": "rgb(17,17,17)",
           "landcolor": "rgb(17,17,17)",
           "showlakes": true,
           "showland": true,
           "subunitcolor": "#506784"
          },
          "hoverlabel": {
           "align": "left"
          },
          "hovermode": "closest",
          "mapbox": {
           "style": "dark"
          },
          "paper_bgcolor": "rgb(17,17,17)",
          "plot_bgcolor": "rgb(17,17,17)",
          "polar": {
           "angularaxis": {
            "gridcolor": "#506784",
            "linecolor": "#506784",
            "ticks": ""
           },
           "bgcolor": "rgb(17,17,17)",
           "radialaxis": {
            "gridcolor": "#506784",
            "linecolor": "#506784",
            "ticks": ""
           }
          },
          "scene": {
           "xaxis": {
            "backgroundcolor": "rgb(17,17,17)",
            "gridcolor": "#506784",
            "gridwidth": 2,
            "linecolor": "#506784",
            "showbackground": true,
            "ticks": "",
            "zerolinecolor": "#C8D4E3"
           },
           "yaxis": {
            "backgroundcolor": "rgb(17,17,17)",
            "gridcolor": "#506784",
            "gridwidth": 2,
            "linecolor": "#506784",
            "showbackground": true,
            "ticks": "",
            "zerolinecolor": "#C8D4E3"
           },
           "zaxis": {
            "backgroundcolor": "rgb(17,17,17)",
            "gridcolor": "#506784",
            "gridwidth": 2,
            "linecolor": "#506784",
            "showbackground": true,
            "ticks": "",
            "zerolinecolor": "#C8D4E3"
           }
          },
          "shapedefaults": {
           "line": {
            "color": "#f2f5fa"
           }
          },
          "sliderdefaults": {
           "bgcolor": "#C8D4E3",
           "bordercolor": "rgb(17,17,17)",
           "borderwidth": 1,
           "tickwidth": 0
          },
          "ternary": {
           "aaxis": {
            "gridcolor": "#506784",
            "linecolor": "#506784",
            "ticks": ""
           },
           "baxis": {
            "gridcolor": "#506784",
            "linecolor": "#506784",
            "ticks": ""
           },
           "bgcolor": "rgb(17,17,17)",
           "caxis": {
            "gridcolor": "#506784",
            "linecolor": "#506784",
            "ticks": ""
           }
          },
          "title": {
           "x": 0.05
          },
          "updatemenudefaults": {
           "bgcolor": "#506784",
           "borderwidth": 0
          },
          "xaxis": {
           "automargin": true,
           "gridcolor": "#283442",
           "linecolor": "#506784",
           "ticks": "",
           "title": {
            "standoff": 15
           },
           "zerolinecolor": "#283442",
           "zerolinewidth": 2
          },
          "yaxis": {
           "automargin": true,
           "gridcolor": "#283442",
           "linecolor": "#506784",
           "ticks": "",
           "title": {
            "standoff": 15
           },
           "zerolinecolor": "#283442",
           "zerolinewidth": 2
          }
         }
        },
        "xaxis": {
         "anchor": "y",
         "domain": [
          0,
          1
         ],
         "title": {
          "text": "x"
         }
        },
        "yaxis": {
         "anchor": "x",
         "domain": [
          0,
          1
         ],
         "title": {
          "text": "count"
         }
        }
       }
      },
      "text/html": [
       "<div>                            <div id=\"c0cc7b24-29e9-4c3e-a537-cdc1eb8a61c8\" class=\"plotly-graph-div\" style=\"height:525px; width:100%;\"></div>            <script type=\"text/javascript\">                require([\"plotly\"], function(Plotly) {                    window.PLOTLYENV=window.PLOTLYENV || {};                                    if (document.getElementById(\"c0cc7b24-29e9-4c3e-a537-cdc1eb8a61c8\")) {                    Plotly.newPlot(                        \"c0cc7b24-29e9-4c3e-a537-cdc1eb8a61c8\",                        [{\"alignmentgroup\": \"True\", \"bingroup\": \"x\", \"hovertemplate\": \"x=%{x}<br>count=%{y}<extra></extra>\", \"legendgroup\": \"\", \"marker\": {\"color\": \"#636efa\"}, \"name\": \"\", \"offsetgroup\": \"\", \"orientation\": \"v\", \"showlegend\": false, \"type\": \"histogram\", \"x\": [175, 199, 173, 158, 174, 143, 156, 184, 190, 145, 190, 146, 180, 143, 181, 174, 155, 185, 154, 171, 178, 170, 184, 165, 161, 161, 149, 185, 166, 175, 191, 198, 193, 151, 150, 159, 143, 187, 187, 187, 182, 153, 150, 156, 141, 174, 152, 194, 181, 173, 144, 155, 158, 173, 166, 150, 141, 174, 170, 167, 152, 183, 155, 145, 151, 183, 146, 167, 197, 146, 155, 170, 145, 155, 179, 180, 168, 194, 184, 170, 176, 153, 143, 145, 155, 177, 147, 198, 150, 199, 188, 143, 193, 180, 195, 153, 159, 189, 141, 140, 143, 144, 161, 145, 163, 155, 149, 162, 148, 171, 163, 156, 166, 185, 140, 187, 141, 144, 160, 143, 160, 158, 158, 186, 176, 150, 147, 192, 173, 188, 169, 178, 158, 157, 183, 160, 147, 166, 195, 169, 142, 167, 150, 160, 158, 190, 199, 180, 161, 141, 171, 142, 148, 149, 196, 166, 147, 169, 193, 196, 181, 174, 177, 182, 157, 160, 196, 198, 168, 159, 174, 163, 142, 141, 157, 187, 147, 190, 159, 170, 164, 158, 163, 164, 161, 178, 147, 195, 169, 186, 186, 177, 151, 183, 148, 141, 175, 173, 170, 146, 140, 170, 186, 174, 140, 156, 161, 168, 199, 194, 152, 177, 158, 170, 174, 140, 149, 160, 155, 155, 157, 167, 183, 189, 183, 169, 171, 166, 195, 170, 166, 164, 188, 193, 174, 165, 158, 185, 179, 176, 191, 176, 145, 152, 193, 172, 166, 178, 174, 168, 158, 169, 141, 169, 168, 167, 198, 187, 171, 143, 165, 159, 160, 180, 158, 171, 184, 161, 199, 159, 165, 165, 155, 171, 160, 189, 165, 160, 174, 180, 163, 175, 146, 175, 159, 172, 142, 199, 158, 183, 144, 179, 181, 196, 189, 198, 159, 154, 168, 187, 191, 173, 150, 166, 196, 150, 188, 165, 197, 164, 189, 176, 194, 169, 193, 148, 140, 143, 147, 175, 160, 147, 160, 162, 187, 182, 161, 141, 199, 153, 175, 153, 154, 191, 159, 195, 144, 175, 149, 162, 148, 191, 149, 148, 195, 168, 183, 172, 149, 163, 162, 147, 179, 196, 199, 194, 180, 142, 182, 195, 175, 150, 189, 149, 181, 170, 156, 191, 160, 191, 190, 199, 195, 141, 148, 156, 166, 151, 161, 173, 142, 171, 167, 189, 187, 147, 176, 140, 194, 162, 191, 147, 146, 173, 152, 174, 182, 162, 183, 162, 152, 194, 184, 150, 148, 153, 163, 164, 177, 159, 150, 194, 142, 150, 143, 142, 163, 151, 188, 195, 194, 172, 154, 149, 156, 185, 167, 170, 193, 146, 169, 159, 163, 190, 187, 146, 177, 161, 152, 171, 189, 159, 153, 157, 180, 167, 165, 158, 196, 174, 177, 194, 192, 190, 147, 156, 195, 159, 180, 196, 174, 146, 156, 192, 154, 189, 150, 157, 142, 165, 171, 142, 154, 182, 182, 188, 189, 188, 161, 189, 187, 155, 142, 169, 179, 158, 162, 149, 167, 179, 187, 190, 187, 142, 184, 192, 161, 199, 143, 197, 189, 166, 153, 149, 155, 153, 167, 175, 173, 144, 172, 158, 144, 154, 143, 198, 179, 144, 147, 194, 190, 154, 186, 146, 169, 154, 188, 153, 146, 173, 165, 193, 198, 146, 171, 164, 192, 187, 140, 148, 171, 169, 186, 198, 185, 196, 167, 148, 188, 151, 141, 178, 146, 168, 190, 157, 161, 195, 171, 141, 142, 183, 195, 195, 160, 170, 140, 184, 183, 191, 176, 198, 171, 151, 163, 147, 186, 180, 177, 183, 187, 161, 183, 172, 169, 190, 187, 173, 145, 193, 194, 198, 145, 144, 162, 155, 187, 172, 196, 194, 182, 196, 176, 172, 198, 199, 181, 189, 148, 155, 145, 158, 177, 185, 148, 176, 186, 171, 169, 186, 158, 198, 192, 182, 165, 147, 140, 165, 167, 189, 160, 152, 146, 188, 162, 171, 194, 151, 186, 145, 181, 167, 188, 186, 151, 148, 192, 183, 175, 147, 155, 168, 176, 199, 172, 179, 181, 143, 146, 195, 157, 187, 173, 158, 164, 148, 195, 152, 148, 157, 184, 144, 148, 171, 171, 160, 141, 165, 199, 154, 194, 141, 194, 168, 151, 158, 155, 180, 177, 183, 171, 141, 190, 163, 158, 175, 180, 162, 141, 151, 143, 151, 186, 162, 155, 173, 147, 153, 149, 141, 198, 161, 187, 194, 196, 198, 183, 192, 140, 175, 187, 182, 145, 173, 176, 186, 176, 152, 189, 192, 188, 188, 171, 143, 195, 164, 141, 153, 157, 194, 189, 166, 176, 150, 196, 161, 196, 146, 140, 150, 173, 188, 163, 199, 168, 150, 168, 162, 161, 150, 182, 196, 177, 194, 154, 152, 140, 167, 150, 176, 179, 179, 149, 167, 168, 194, 149, 182, 192, 194, 199, 174, 164, 176, 193, 162, 180, 166, 195, 173, 195, 192, 181, 173, 194, 142, 155, 183, 144, 196, 157, 173, 163, 147, 152, 197, 150, 192, 166, 157, 164, 184, 163, 180, 148, 180, 175, 149, 199, 187, 157, 153, 140, 153, 144, 166, 152, 166, 174, 170, 180, 173, 183, 171, 192, 154, 194, 194, 169, 172, 162, 162, 169, 156, 198, 146, 175, 162, 164, 199, 198, 169, 171, 162, 154, 140, 184, 178, 175, 196, 160, 192, 195, 199, 155, 140, 151, 148, 160, 160, 155, 170, 177, 140, 145, 158, 169, 149, 142, 167, 188, 151, 161, 161, 193, 187, 144, 178, 153, 194, 156, 181, 189, 162, 172, 195, 188, 185, 152, 180, 152, 159, 172, 159, 182, 186, 163, 172, 199, 169, 157, 176, 153, 142, 149, 143, 195, 187, 161, 196, 145, 190, 150, 148, 183, 148, 182, 195, 186, 145, 174, 142, 180, 144, 170, 191, 179, 166, 166, 176, 189, 155, 168, 193, 164, 183, 186, 176, 179, 177, 152, 187, 151, 159, 175, 148, 193, 142, 156, 140, 151, 172, 183, 177, 154, 162, 178, 191, 147, 197, 166, 198, 171, 193, 188, 168, 160, 197, 160, 163, 195, 144, 159, 145, 198, 191, 140, 197, 186, 178, 199, 175, 199, 177, 145, 157, 160, 151, 195, 194, 150, 167, 145, 197, 141, 171, 175, 191, 143, 172, 184, 180, 193, 188, 175, 161, 190, 177, 170, 171, 146, 191, 176, 142, 186, 157, 182, 190, 156, 185, 159, 144, 154, 156, 179, 168, 156, 156, 160, 149, 185, 157, 197, 182, 153, 166, 180, 195, 156, 194, 152, 184, 179, 174, 152, 176, 168, 191, 189, 185, 148, 197, 183, 160, 189, 199, 181, 168, 147, 178, 195, 147, 175, 181, 182, 188, 199, 159, 194, 190, 172, 187, 178, 153, 182, 175, 190, 191, 193, 179, 164, 159, 170, 169, 152, 159, 160, 192, 194, 148, 150, 163, 181, 162, 159, 180, 194, 196, 192, 158, 157, 190, 141, 184, 172, 171, 161, 185, 140, 161, 181, 159, 191, 160, 170, 178, 155, 145, 161, 156, 196, 188, 157, 145, 170, 160, 172, 154, 150, 150, 184, 164, 158, 188, 170, 156, 171, 168, 177, 186, 155, 158, 146, 187, 184, 162, 174, 180, 143, 152, 175, 149, 199, 173, 153, 149, 154, 195, 197, 169, 182, 191, 168, 161, 154, 147, 175, 186, 194, 145, 147, 165, 151, 172, 169, 146, 154, 182, 178, 152, 152, 179, 177, 164, 176, 190, 140, 153, 184, 171, 189, 144, 191, 171, 198, 150, 144, 189, 155, 163, 183, 181, 169, 157, 144, 179, 186, 174, 163, 187, 142, 159, 192, 153, 154, 143, 189, 160, 194, 186, 183, 192, 175, 144, 194, 175, 198, 141, 174, 189, 199, 179, 191, 158, 146, 165, 198, 172, 148, 180, 196, 193, 187, 166, 146, 171, 191, 197, 181, 141, 171, 165, 151, 163, 193, 148, 148, 170, 194, 167, 167, 175, 169, 170, 161, 184, 173, 147, 161, 176, 148, 173, 157, 162, 172, 149, 196, 152, 147, 154, 162, 175, 165, 167, 171, 167, 197, 178, 182, 191, 180, 175, 181, 193, 160, 153, 182, 178, 195, 155, 192, 151, 180, 159, 153, 152, 152, 149, 181, 186, 152, 163, 158, 164, 178, 151, 174, 178, 183, 179, 171, 166, 195, 190, 190, 189, 165, 166, 149, 196, 166, 194, 175, 174, 166, 153, 195, 176, 162, 175, 146, 147, 169, 195, 165, 142, 150, 198, 189, 147, 156, 177, 195, 157, 170, 163, 166, 169, 158, 184, 180, 163, 194, 152, 178, 164, 184, 143, 158, 166, 145, 176, 196, 166, 196, 189, 184, 151, 157, 154, 198, 140, 155, 184, 166, 178, 150, 188, 175, 149, 151, 166, 152, 143, 193, 149, 172, 176, 197, 179, 160, 198, 160, 193, 192, 185, 171, 191, 154, 161, 148, 159, 184, 157, 172, 192, 190, 182, 155, 172, 142, 189, 167, 163, 194, 148, 141, 195, 142, 173, 167, 175, 154, 185, 194, 182, 169, 197, 141, 179, 148, 154, 196, 186, 164, 168, 177, 160, 168, 185, 145, 179, 191, 178, 163, 161, 176, 149, 156, 177, 197, 159, 171, 153, 188, 182, 195, 162, 187, 149, 172, 166, 164, 196, 161, 172, 181, 141, 195, 150, 168, 184, 190, 145, 167, 140, 153, 153, 160, 194, 176, 172, 175, 197, 148, 198, 162, 187, 152, 164, 174, 185, 154, 169, 146, 188, 184, 167, 147, 141, 178, 160, 184, 146, 164, 172, 144, 162, 178, 179, 186, 158, 185, 142, 156, 192, 153, 153, 170, 176, 159, 159, 192, 160, 177, 170, 192, 189, 171, 179, 190, 187, 148, 183, 162, 192, 164, 148, 199, 175, 163, 162, 168, 191, 185, 176, 157, 157, 195, 168, 187, 190, 149, 177, 194, 176, 169, 186, 155, 183, 153, 160, 165, 199, 147, 193, 174, 158, 169, 153, 145, 185, 178, 157, 172, 199, 156, 197, 169, 165, 165, 165, 164, 141, 146, 151, 196, 196, 155, 181, 166, 144, 152, 190, 156, 141, 170, 155, 198, 168, 182, 148, 185, 184, 174, 170, 187, 149, 197, 152, 166, 195, 195, 199, 160, 174, 153, 170, 140, 150, 146, 157, 164, 140, 199, 192, 158, 141, 178, 180, 190, 148, 179, 140, 196, 151, 184, 172, 158, 171, 190, 151, 161, 195, 171, 142, 177, 165, 188, 197, 168, 191, 157, 159, 196, 175, 185, 152, 165, 162, 151, 153, 153, 181, 141, 142, 144, 181, 172, 187, 140, 193, 141, 194, 142, 160, 196, 156, 178, 195, 162, 144, 147, 143, 169, 190, 159, 199, 159, 146, 197, 152, 197, 195, 196, 183, 155, 145, 167, 199, 147, 165, 169, 162, 190, 163, 181, 159, 151, 156, 193, 190, 148, 191, 187, 142, 147, 158, 194, 141, 153, 174, 180, 172, 156, 145, 183, 163, 155, 191, 146, 159, 192, 185, 185, 155, 192, 171, 178, 198, 165, 172, 178, 171, 184, 157, 177, 146, 163, 189, 197, 155, 162, 185, 148, 196, 191, 180, 140, 181, 151, 181, 190, 184, 146, 165, 142, 166, 163, 193, 177, 179, 198, 153, 142, 167, 180, 146, 174, 188, 154, 166, 185, 153, 183, 166, 191, 199, 148, 182, 160, 191, 148, 155, 174, 169, 181, 180, 168, 151, 175, 195, 181, 162, 140, 162, 198, 144, 167, 180, 193, 161, 149, 165, 192, 170, 146, 187, 158, 148, 145, 168, 176, 160, 163, 155, 179, 165, 169, 173, 198, 199, 191, 187, 157, 150, 157, 171, 150, 161, 197, 195, 145, 146, 143, 187, 182, 143, 149, 150, 181, 192, 159, 146, 195, 157, 144, 168, 193, 190, 169, 184, 142, 182, 177, 174, 150, 165, 185, 177, 193, 155, 188, 181, 188, 179, 144, 183, 167, 158, 155, 157, 184, 152, 189, 152, 189, 140, 174, 165, 155, 161, 167, 168, 165, 182, 180, 178, 171, 166, 181, 174, 190, 177, 161, 193, 145, 176, 193, 149, 178, 197, 176, 145, 184, 157, 143, 197, 164, 149, 147, 175, 188, 153, 162, 167, 143, 198, 151, 156, 179, 195, 182, 163, 148, 153, 195, 194, 152, 166, 183, 158, 189, 196, 197, 199, 191, 175, 178, 169, 189, 181, 192, 142, 198, 146, 156, 192, 151, 157, 181, 198, 150, 162, 153, 151, 181, 176, 179, 178, 156, 176, 140, 165, 187, 169, 146, 167, 173, 159, 188, 176, 165, 174, 160, 164, 152, 174, 185, 181, 165, 144, 193, 183, 178, 169, 148, 179, 177, 157, 142, 145, 161, 148, 161, 165, 190, 184, 180, 141, 166, 197, 173, 146, 156, 163, 141, 141, 156, 199, 157, 161, 199, 151, 141, 186, 178, 193, 158, 196, 141, 168, 169, 186, 192, 164, 168, 157, 179, 149, 195, 144, 149, 173, 197, 164, 146, 198, 162, 159, 196, 198, 152, 187, 144, 148, 186, 179, 168, 150, 157, 157, 187, 151, 174, 160, 160, 159, 176, 176, 176, 177, 159, 192, 184, 176, 173, 156, 141, 174, 144, 166, 178, 170, 173, 162, 144, 170, 161, 150, 149, 165, 184, 165, 149, 162, 158, 178, 181, 175, 150, 186, 192, 151, 142, 164, 184, 169, 146, 184, 161, 197, 144, 189, 151, 174, 142, 150, 162, 166, 141, 170, 169, 178, 185, 182, 150, 195, 143, 165, 156, 161, 197, 191, 160, 182, 163, 159, 184, 145, 151, 157, 171, 158, 184, 174, 171, 181, 169, 149, 174, 156, 180, 152, 148, 198, 160, 179, 179, 173, 169, 188, 195, 193, 180, 182, 154, 150, 168, 199, 193, 174, 145, 150, 181, 143, 168, 185, 173, 152, 185, 177, 164, 191, 175, 155, 171, 182, 185, 168, 189, 149, 148, 186, 174, 190, 167, 187, 169, 189, 181, 151, 190, 148, 187, 183, 165, 171, 177, 194, 151, 185, 183, 175, 162, 183, 198, 141, 170, 141, 196, 170, 179, 156, 164, 190, 146, 192, 147, 181, 162, 194, 192, 189, 155, 186, 189, 151, 180, 144, 195, 167, 179, 142, 184, 146, 185, 167, 147, 189, 188, 194, 144, 190, 172, 197, 141, 150, 158, 179, 153, 169, 188, 192, 192, 149, 185, 177, 158, 177, 184, 189, 160, 161, 161, 181, 197, 158, 154, 173, 164, 196, 169, 166, 142, 161, 159, 182, 189, 184, 193, 167, 163, 154, 195, 165, 143, 146, 169, 196, 166, 198, 145, 166, 176, 162, 179, 199, 144, 172, 194, 147, 162, 180, 176, 161, 185, 175, 148, 142, 186, 162, 165, 176, 140, 148, 147, 155, 174, 192, 183, 188, 174, 184, 144, 185, 180, 143, 168, 190, 165, 173, 150, 164, 154, 196, 155, 150, 163, 148, 194, 160, 174, 149, 157, 175, 150, 180, 187, 168, 184, 197, 153, 174, 163, 152, 192, 166, 162, 165, 140, 140, 180, 151, 147, 172, 142, 140, 152, 190, 164, 185, 150, 140, 162, 198, 174, 185, 176, 144, 193, 184, 146, 171, 180, 144, 172, 163, 196, 159, 177, 183, 196, 152, 141, 169, 145, 165, 150, 182, 149, 172, 173, 157, 162, 153, 159, 165, 157, 173, 149, 166, 187, 180, 170, 150, 152, 162, 197, 172, 167, 186, 192, 140, 149, 191, 142, 168, 197, 177, 152, 197, 160, 187, 165, 191, 160, 167, 187, 164, 145, 146, 154, 176, 178, 165, 143, 191, 155, 151, 189, 160, 199, 149, 169, 176, 184, 161, 186, 180, 174, 159, 193, 187, 196, 150, 167, 197, 185, 175, 176, 157, 178, 165, 194, 175, 165, 160, 190, 162, 150, 189, 170, 169, 177, 175, 183, 181, 175, 169, 145, 155, 153, 158, 188, 178, 199, 171, 199, 187, 163, 170, 155, 161, 184, 160, 159, 188, 148, 145, 172, 150, 147, 155, 141, 185, 173, 150, 194, 147, 163, 144, 178, 163, 171, 197, 156, 180, 176, 169, 164, 159, 155, 187, 160, 149, 172, 151, 188, 183, 160, 193, 194, 177, 195, 178, 149, 142, 166, 182, 195, 172, 146, 177, 165, 162, 166, 190, 176, 176, 194, 164, 183, 166, 158, 196, 197, 158, 161, 148, 177, 185, 157, 147, 154, 143, 198, 196, 140, 178, 180, 165, 177, 164, 193, 189, 178, 164, 156, 155, 195, 141, 172, 171, 159, 154, 179, 195, 149, 144, 143, 168, 152, 150, 199, 194, 156, 198, 163, 183, 158, 149, 148, 181, 158, 163, 179, 179, 196, 198, 195, 181, 198, 149, 156, 190, 166, 192, 187, 181, 165, 168, 159, 155, 193, 141, 143, 184, 151, 161, 153, 166, 177, 149, 140, 153, 163, 196, 171, 144, 177, 169, 169, 183, 193, 159, 178, 172, 157, 157, 162, 169, 160, 176, 142, 174, 168, 152, 143, 157, 194, 164, 169, 199, 161, 143, 169, 150, 173, 142, 166, 194, 162, 141, 185, 199, 178, 181, 191, 192, 180, 184, 157, 155, 148, 163, 179, 152, 184, 179, 144, 196, 145, 179, 183, 148, 142, 166, 181, 171, 167, 163, 143, 195, 180, 163, 174, 147, 182, 197, 176, 150, 187, 176, 165, 195, 146, 183, 157, 191, 153, 171, 157, 155, 171, 147, 160, 199, 191, 171, 161, 159, 160, 178, 180, 149, 180, 159, 188, 199, 198, 149, 143, 187, 157, 197, 147, 172, 143, 156, 196, 153, 185, 164, 180, 190, 145, 150, 160, 188, 159, 164, 163, 171, 182, 149, 175, 140, 149, 193, 188, 158, 153, 162, 196, 144, 168, 142, 183, 176, 170, 190, 172, 187, 192, 159, 148, 146, 144, 171, 165, 192, 157, 159, 170, 196, 192, 175, 199, 153, 187, 143, 182, 187, 185, 159, 167, 161, 164, 170, 174, 199, 161, 163, 173, 168, 175, 191, 182, 171, 192, 183, 144, 197, 142, 147, 190, 181, 189, 173, 145, 192, 197, 174, 157, 177, 168, 143, 147, 188, 196, 162, 192, 195, 157, 183, 195, 146, 188, 163, 154, 185, 167, 172, 147, 172, 164, 169, 149, 171, 175, 177, 145, 197, 184, 160, 174, 193, 195, 190, 151, 154, 166, 152, 157, 150, 194, 178, 144, 142, 147, 194, 170, 186, 186, 162, 152, 192, 159, 156, 144, 152, 168, 164, 175, 140, 166, 195, 152, 146, 196, 169, 153, 178, 187, 185, 145, 166, 196, 182, 155, 185, 199, 150, 146, 152, 193, 151, 198, 159, 160, 152, 155, 148, 152, 171, 191, 151, 168, 195, 163, 188, 144, 163, 190, 196, 175, 189, 184, 152, 145, 191, 166, 197, 164, 199, 171, 195, 172, 144, 197, 174, 148, 140, 173, 162, 171, 148, 196, 186, 188, 165, 164, 147, 146, 176, 175, 193, 167, 189, 154, 150, 174, 198, 176, 161, 141, 178, 144, 149, 198, 155, 191, 170, 151, 141, 173, 140, 167, 174, 184, 156, 197, 168, 197, 145, 183, 143, 141, 183, 193, 145, 169, 176, 190, 171, 181, 178, 171, 199, 185, 157, 189, 183, 162, 149, 187, 143, 147, 171, 194, 155, 171, 140, 157, 147, 198, 183, 175, 190, 153, 187, 193, 157, 153, 180, 189, 186, 195, 159, 158, 175, 147, 158, 163, 140, 191, 145, 176, 183, 155, 156, 152, 158, 174, 154, 146, 158, 141, 156, 192, 140, 199, 179, 192, 167, 143, 173, 161, 173, 178, 156, 188, 163, 196, 145, 146, 184, 147, 183, 188, 192, 146, 176, 189, 145, 190, 179, 155, 156, 158, 163, 149, 159, 156, 170, 176, 182, 166, 175, 183, 178, 140, 170, 176, 196, 180, 185, 151, 161, 188, 164, 184, 163, 144, 167, 142, 169, 140, 160, 170, 173, 163, 140, 172, 177, 198, 196, 184, 144, 150, 183, 198, 140, 174, 174, 161, 189, 170, 161, 143, 191, 145, 154, 181, 181, 178, 173, 172, 152, 188, 143, 153, 164, 150, 142, 154, 142, 150, 142, 159, 180, 144, 181, 147, 176, 177, 168, 180, 158, 141, 162, 175, 184, 185, 154, 170, 155, 146, 179, 171, 157, 181, 149, 156, 144, 145, 149, 141, 153, 152, 183, 176, 182, 152, 149, 182, 178, 152, 142, 174, 169, 176, 161, 157, 177, 146, 178, 167, 164, 189, 157, 165, 175, 198, 194, 150, 142, 153, 184, 196, 152, 181, 145, 195, 145, 188, 164, 150, 147, 180, 184, 157, 176, 163, 158, 144, 189, 188, 149, 181, 157, 163, 192, 152, 157, 193, 158, 151, 197, 195, 148, 173, 189, 181, 179, 165, 144, 166, 181, 198, 147, 186, 179, 154, 198, 158, 195, 165, 164, 199, 144, 191, 153, 159, 185, 146, 180, 176, 181, 148, 188, 142, 153, 180, 189, 185, 142, 166, 185, 175, 159, 175, 187, 143, 195, 189, 144, 143, 154, 154, 148, 148, 157, 152, 177, 193, 185, 146, 170, 161, 180, 147, 157, 165, 195, 150, 165, 172, 150, 164, 182, 199, 166, 181, 143, 150, 157, 158, 159, 164, 169, 142, 194, 161, 140, 150, 179, 147, 141, 189, 197, 186, 195, 194, 181, 180, 140, 199, 162, 163, 166, 146, 152, 149, 177, 150, 182, 166, 153, 163, 161, 162, 198, 175, 158, 153, 199, 175, 183, 196, 157, 185, 157, 170, 142, 157, 149, 164, 181, 173, 147, 167, 180, 185, 157, 194, 185, 177, 174, 194, 197, 169, 167, 191, 150, 160, 155, 143, 149, 170, 181, 149, 197, 181, 159, 157, 184, 147, 188, 151, 176, 198, 176, 155, 172, 189, 172, 167, 142, 177, 170, 148, 182, 152, 165, 165, 191, 180, 183, 182, 188, 180, 145, 176, 191, 192, 192, 173, 150, 179, 157, 158, 150, 179, 178, 173, 148, 172, 148, 146, 144, 194, 189, 187, 171, 147, 187, 161, 154, 197, 180, 167, 184, 172, 171, 193, 160, 173, 190, 149, 151, 162, 175, 195, 141, 198, 167, 179, 195, 169, 187, 171, 152, 192, 150, 192, 147, 197, 160, 195, 190, 146, 144, 181, 178, 167, 145, 140, 153, 169, 152, 163, 141, 167, 169, 174, 184, 183, 182, 149, 188, 159, 177, 175, 188, 185, 179, 143, 168, 174, 159, 156, 186, 167, 157, 163, 140, 142, 175, 196, 172, 196, 191, 174, 158, 147, 159, 152, 151, 194, 142, 175, 183, 199, 154, 172, 159, 178, 155, 159, 160, 145, 159, 178, 199, 143, 145, 195, 155, 183, 180, 165, 160, 176, 154, 196, 158, 170, 197, 184, 152, 153, 175, 152, 191, 179, 141, 186, 180, 167, 151, 146, 151, 148, 161, 149, 185, 171, 173, 146, 169, 144, 142, 146, 154, 197, 173, 148, 164, 188, 142, 145, 142, 170, 161, 153, 161, 156, 176, 167, 170, 175, 187, 194, 183, 155, 189, 191, 164, 141, 196, 195, 153, 153, 191, 181, 148, 191, 153, 194, 167, 173, 162, 178, 193, 163, 171, 192, 176, 156, 186, 149, 159, 188, 175, 167, 180, 165, 141, 199, 145, 163, 173, 178, 141, 151, 173, 145, 191, 149, 160, 196, 194, 142, 193, 168, 143, 195, 184, 152, 181, 199, 141, 187, 159, 142, 176, 175, 150, 191, 146, 197, 141, 190, 151, 199, 157, 163, 178, 161, 180, 192, 144, 193, 180, 168, 142, 157, 149, 162, 150, 196, 167, 180, 141, 180, 142, 183, 156, 169, 194, 175, 183, 171, 179, 164, 192, 145, 187, 152, 184, 153, 196, 159, 197, 191, 165, 143, 182, 186, 167, 150, 182, 167, 193, 161, 165, 154, 167, 185, 168, 162, 144, 179, 159, 188, 157, 146, 147, 180, 159, 194, 190, 160, 183, 155, 143, 177, 158, 183, 148, 186, 166, 161, 197, 175, 176, 184, 192, 161, 143, 140, 169, 168, 159, 198, 152, 153, 188, 191, 145, 172, 144, 160, 179, 179, 181, 184, 161, 199, 148, 169, 186, 180, 167, 179, 141, 150, 173, 170, 151, 177, 180, 199, 154, 156, 146, 185, 151, 183, 184, 157, 155, 141, 177, 184, 181, 184, 166, 150, 165, 159, 150, 196, 159, 193, 148, 157, 196, 149, 171, 175, 179, 145, 159, 164, 182, 162, 160, 153, 196, 150, 174, 188, 155, 174, 164, 145, 162, 161, 161, 143, 177, 150, 193, 183, 163, 159, 188, 196, 146, 145, 188, 186, 162, 191, 179, 194, 160, 188, 189, 194, 173, 144, 167, 154, 143, 143, 198, 140, 187, 196, 162, 173, 187, 193, 171, 153, 198, 142, 190, 198, 159, 193, 140, 140, 196, 192, 192, 159, 178, 177, 168, 190, 183, 145, 181, 172, 182, 163, 154, 145, 143, 177, 156, 151, 170, 154, 175, 198, 144, 150, 181, 186, 162, 150, 141, 185, 147, 190, 185, 147, 169, 148, 155, 188, 165, 195, 170, 191, 151, 187, 172, 171, 168, 171, 152, 196, 199, 153, 192, 176, 152, 154, 147, 140, 195, 192, 170, 152, 170, 160, 160, 183, 182, 188, 166, 152, 150, 188, 162, 150, 176, 159, 140, 178, 152, 176, 179, 183, 199, 197, 191, 152, 187, 185, 182, 177, 158, 140, 191, 140, 165, 173, 170, 196, 145, 155, 183, 193, 161, 193, 168, 152, 147, 141, 163, 197, 163, 199, 144, 169, 151, 159, 190, 163, 186, 169, 166, 198, 193, 141, 178, 185, 194, 186, 145, 175, 156, 173, 178, 145, 171, 194, 162, 172, 162, 185, 187, 186, 193, 164, 150, 141, 196, 197, 148, 194, 163, 151, 145, 180, 146, 172, 140, 186, 189, 158, 187, 151, 142, 176, 142, 170, 150, 159, 180, 187, 152, 195, 152, 193, 141, 141, 169, 159, 144, 172, 144, 169, 164, 189, 152, 175, 157, 198, 143, 166, 147, 159, 164, 152, 166, 168, 189, 176, 140, 187, 199, 142, 162, 193, 174, 147, 192, 157, 192, 176, 186, 173, 174, 198, 186, 162, 166, 182, 147, 183, 166, 156, 161, 157, 158, 186, 181, 149, 158, 143, 153, 186, 188, 165, 167, 172, 195, 179, 151, 158, 149, 145, 169, 193, 141, 155, 191, 174, 142, 152, 164, 177, 164, 145, 174, 185, 186, 160, 184, 189, 175, 164, 182, 161, 194, 154, 150, 148, 170, 167, 155, 176, 184, 156, 152, 195, 185, 153, 194, 194, 161, 141, 181, 188, 153, 189, 162, 181, 146, 173, 168, 160, 185, 174, 161, 161, 167, 156, 164, 193, 183, 190, 147, 140, 184, 167, 187, 149, 148, 161, 168, 172, 193, 146, 155, 163, 183, 148, 194, 141, 163, 181, 154, 198, 177, 159, 143, 172, 143, 160, 177, 162, 182, 183, 153, 170, 150, 167, 159, 173, 146, 167, 153, 182, 186, 183, 178, 142, 177, 154, 180, 145, 186, 146, 177, 169, 190, 166, 164, 164, 146, 158, 140, 199, 191, 187, 179, 148, 172, 188, 159, 156, 197, 160, 182, 187, 170, 160, 150, 196, 154, 180, 171, 181, 140, 141, 155, 166, 159, 190, 143, 190, 175, 169, 173, 179, 189, 159, 196, 172, 148, 191, 154, 155, 196, 143, 159, 180, 172, 198, 156, 173, 191, 155, 194, 188, 182, 167, 163, 141, 193, 199, 193, 183, 180, 176, 165, 141, 155, 140, 166, 173, 147, 166, 141, 147, 184, 143, 159, 191, 162, 187, 164, 169, 152, 159, 173, 171, 180, 162, 193, 142, 159, 177, 173, 183, 167, 162, 174, 147, 144, 147, 178, 146, 187, 166, 183, 145, 183, 147, 169, 149, 160, 179, 163, 159, 158, 171, 168, 144, 171, 177, 168, 195, 196, 144, 190, 142, 191, 187, 182, 187, 169, 164, 149, 166, 153, 149, 171, 171, 176, 142, 163, 187, 141, 178, 181, 182, 184, 140, 143, 177, 142, 193, 144, 191, 146, 184, 188, 166, 179, 157, 142, 193, 171, 174, 170, 158, 149, 187, 161, 184, 142, 184, 159, 156, 178, 167, 156, 161, 197, 156, 172, 165, 193, 195, 193, 159, 175, 176, 144, 185, 172, 184, 161, 157, 166, 160, 159, 192, 176, 156, 144, 140, 142, 173, 162, 144, 185, 151, 183, 195, 188, 199, 164, 153, 191, 143, 166, 161, 150, 157, 170, 165, 160, 186, 146, 141, 184, 155, 143, 165, 140, 147, 164, 162, 166, 168, 166, 187, 161, 155, 195, 156, 152, 172, 176, 195, 157, 141, 148, 145, 159, 164, 166, 190, 142, 140, 193, 153, 160, 162, 150, 144, 143, 149, 149, 182, 177, 143, 142, 177, 166, 161, 150, 143, 165, 141, 154, 163, 199, 183, 143, 163, 166, 141, 197, 172, 188, 190, 147, 165, 167, 177, 152, 152, 164, 195, 185, 192, 140, 163, 144, 188, 172, 143, 172, 183, 190, 187, 184, 169, 143, 182, 165, 180, 170, 170, 198, 188, 153, 161, 143, 189, 143, 199, 188, 195, 171, 147, 171, 180, 192, 194, 182, 169, 142, 184, 163, 143, 143, 150, 199, 162, 171, 195, 143, 184, 177, 176, 178, 199, 160, 160, 148, 187, 185, 189, 149, 170, 199, 192, 197, 165, 152, 147, 160, 154, 174, 189, 158, 140, 193, 159, 181, 185, 186, 178, 144, 154, 171, 149, 164, 174, 161, 179, 168, 149, 188, 178, 159, 188, 180, 150, 153, 189, 146, 178, 155, 169, 167, 170, 184, 167, 149, 165, 143, 147, 146, 143, 160, 164, 144, 178, 198, 145, 180, 193, 181, 179, 164, 197, 140, 157, 199, 198, 194, 147, 174, 180, 156, 194, 185, 187, 194, 176, 184, 183, 182, 140, 198, 178, 187, 179, 161, 168, 146, 183, 168, 143, 172, 178, 140, 148, 142, 182, 187, 186, 178, 156, 148, 176, 183, 146, 199, 184, 173, 165, 165, 193, 193, 191, 172, 168, 182, 180, 157, 178, 169, 196, 164, 191, 159, 173, 142, 152, 156, 142, 198, 192, 152, 153, 145, 159, 199, 145, 196, 181, 152, 167, 164, 148, 151, 193, 166, 172, 163, 141, 145, 182, 146, 150, 151, 147, 140, 163, 189, 172, 166, 177, 172, 178, 194, 152, 152, 180, 172, 195, 161, 158, 190, 178, 155, 178, 140, 196, 156, 195, 167, 153, 199, 179, 192, 193, 181, 157, 183, 177, 145, 163, 150, 151, 185, 166, 161, 153, 153, 144, 178, 145, 165, 153, 199, 156, 197, 170, 151, 187, 169, 189, 175, 191, 172, 144, 166, 154, 185, 170, 151, 147, 161, 175, 141, 189, 181, 191, 161, 164, 185, 178, 147, 140, 189, 154, 177, 190, 193, 189, 142, 180, 166, 156, 165, 158, 184, 195, 176, 183, 146, 186, 158, 146, 188, 185, 145, 148, 182, 189, 144, 178, 180, 149, 146, 193, 199, 153, 147, 188, 166, 156, 142, 154, 196, 172, 153, 187, 154, 198, 183, 163, 168, 160, 198, 143, 162, 161, 162, 174, 172, 172, 143, 173, 155, 184, 191, 165, 150, 144, 149, 183, 188, 192, 158, 141, 141, 150, 164, 178, 174, 145, 142, 141, 168, 182, 171, 162, 192, 151, 199, 154, 171, 149, 152, 170, 194, 169, 155, 177, 189, 147, 192, 152, 141, 143, 148, 168, 172, 194, 193, 162, 178, 186, 150, 149, 143, 196, 145, 167, 198, 178, 160, 163, 154, 196, 161, 166, 169, 176, 188, 196, 164, 149, 188, 157, 163, 179, 182, 142, 148, 188, 199, 190, 148, 197, 170, 167, 174, 184, 160, 161, 192, 140, 197, 153, 193, 193, 182, 143, 174, 179, 198, 164, 186, 168, 140, 149, 168, 180, 190, 142, 144, 161, 174, 197, 186, 174, 174, 140, 187, 171, 196, 179, 140, 179, 188, 180, 179, 142, 160, 185, 186, 142, 189, 149, 163, 144, 159, 153, 167, 183, 181, 176, 147, 143, 191, 148, 169, 143, 167, 142, 173, 140, 173, 148, 156, 157, 177, 148, 190, 180, 172, 161, 154, 197, 142, 144, 148, 180, 151, 187, 167, 146, 182, 154, 171, 150, 159, 176, 142, 194, 146, 159, 170, 143, 155, 197, 193, 180, 172, 145, 174, 154, 188, 195, 152, 144, 157, 155, 150, 174, 187, 167, 167, 181, 145, 147, 162, 179, 165, 178, 192, 166, 180, 154, 182, 191, 178, 171, 165, 177, 173, 181, 167, 176, 199, 159, 165, 171, 145, 145, 149, 169, 171, 147, 176, 173, 151, 191, 195, 191, 189, 145, 180, 181, 195, 171, 159, 161, 186, 160, 159, 170, 166, 187, 140, 194, 141, 198, 159, 154, 155, 155, 190, 148, 164, 159, 160, 175, 168, 150, 188, 140, 151, 143, 171, 157, 192, 198, 153, 171, 146, 198, 160, 193, 147, 146, 176, 163, 185, 198, 148, 158, 183, 173, 166, 177, 151, 155, 195, 156, 159, 145, 168, 151, 148, 179, 187, 188, 162, 154, 180, 171, 150, 182, 158, 192, 163, 151, 197, 171, 158, 177, 191, 183, 157, 168, 178, 197, 181, 192, 168, 198, 199, 196, 171, 142, 141, 166, 160, 165, 149, 192, 167, 144, 148, 169, 149, 174, 197, 145, 181, 176, 161, 184, 152, 166, 184, 163, 164, 154, 151, 182, 191, 191, 181, 166, 164, 155, 152, 156, 141, 144, 156, 189, 178, 144, 167, 144, 190, 192, 173, 157, 154, 189, 178, 152, 179, 188, 189, 174, 149, 172, 165, 197, 189, 161, 182, 174, 170, 149, 166, 192, 176, 183, 165, 172, 185, 191, 199, 196, 150, 188, 197, 147, 159, 140, 144, 174, 151, 195, 174, 156, 173, 192, 177, 145, 190, 154, 185, 155, 160, 182, 193, 166, 163, 160, 156, 143, 155, 189, 162, 190, 181, 185, 151, 193, 150, 162, 170, 151, 148, 169, 184, 145, 144, 191, 164, 167, 157, 194, 147, 183, 198, 194, 159, 150, 171, 193, 190, 160, 165, 162, 155, 160, 177, 149, 181, 169, 153, 154, 170, 180, 153, 172, 194, 179, 168, 173, 196, 163, 154, 154, 178, 163, 158, 180, 142, 181, 172, 191, 188, 197, 197, 147, 185, 186, 195, 179, 184, 159, 152, 171, 195, 187, 149, 143, 161, 197, 155, 161, 176, 141, 152, 169, 169, 184, 168, 192, 181, 147, 198, 192, 172, 188, 171, 154, 171, 187, 187, 160, 165, 164, 153, 166, 188, 199, 180, 163, 159, 180, 158, 199, 181, 179, 185, 142, 141, 141, 153, 187, 157, 176, 145, 153, 172, 184, 194, 155, 143, 150, 159, 181, 167, 162, 174, 181, 181, 154, 198, 191, 162, 147, 161, 188, 178, 192, 183, 175, 145, 147, 184, 158, 191, 190, 151, 174, 187, 183, 182, 141, 170, 162, 196, 146, 163, 190, 148, 162, 180, 173, 146, 171, 173, 191, 180, 159, 198, 153, 178, 148, 182, 180, 176, 186, 182, 184, 192, 173, 192, 141, 162, 184, 164, 155, 164, 196, 170, 148, 151, 179, 179, 193, 159, 181, 186, 185, 172, 191, 190, 141, 177, 186, 164, 153, 152, 177, 156, 197, 188, 157, 197, 155, 176, 194, 172, 141, 172, 176, 152, 179, 161, 183, 142, 178, 140, 196, 184, 166, 160, 177, 164, 177, 190, 179, 146, 187, 154, 165, 149, 152, 171, 198, 156, 176, 159, 197, 151, 174, 179, 184, 153, 141, 189, 186, 150, 159, 166, 154, 168, 174, 171, 158, 173, 185, 182, 181, 155, 192, 196, 191, 156, 195, 164, 185, 190, 199, 173, 161, 151, 192, 179, 162, 195, 159, 169, 151, 177, 184, 190, 144, 144, 177, 196, 158, 189, 178, 148, 150, 197, 198, 173, 151, 182, 148, 146, 175, 183, 145, 185, 199, 148, 199, 165, 161, 185, 153, 169, 197, 189, 164, 172, 199, 198, 169, 180, 154, 174, 144, 148, 154, 167, 191, 161, 162, 174, 147, 153, 145, 172, 188, 146, 146, 142, 193, 163, 189, 194, 177, 193, 145, 186, 186, 148, 149, 196, 148, 173, 163, 169, 166, 183, 147, 189, 182, 165, 159, 182, 185, 165, 153, 140, 186, 167, 166, 169, 172, 161, 153, 160, 184, 157, 186, 162, 199, 192, 154, 182, 179, 162, 165, 161, 152, 145, 147, 159, 160, 175, 177, 146, 185, 142, 152, 182, 145, 145, 159, 193, 190, 141, 145, 185, 186, 144, 149, 173, 188, 161, 143, 166, 191, 178, 197, 161, 199, 144, 183, 183, 175, 198, 175, 149, 186, 197, 162, 152, 192, 161, 142, 157, 151, 152, 168, 140, 165, 154, 170, 179, 180, 168, 174, 187, 156, 170, 165, 187, 180, 150, 157, 161, 145, 191, 151, 155, 160, 174, 160, 143, 159, 186, 193, 141, 167, 186, 157, 193, 173, 162, 182, 169, 168, 174, 157, 195, 197, 177, 170, 180, 180, 178, 191, 172, 143, 169, 190, 185, 177, 173, 185, 158, 148, 191, 168, 187, 179, 179, 155, 190, 183, 158, 156, 173, 171, 172, 140, 174, 180, 157, 159, 180, 173, 161, 199, 186, 168, 189, 195, 179, 192, 176, 165, 199, 153, 153, 157, 184, 146, 154, 173, 197, 163, 172, 155, 150, 173, 173, 188, 165, 146, 150, 166, 152, 160, 153, 197, 172, 165, 194, 153, 192, 183, 165, 145, 166, 172, 195, 194, 152, 178, 171, 156, 174, 175, 167, 195, 196, 154, 169, 199, 140, 150, 192, 168, 197, 184, 196, 145, 173, 196, 177, 156, 181, 184, 168, 174, 187, 177, 174, 178, 178, 184, 179, 188, 197, 159, 164, 147, 196, 186, 182, 196, 148, 162, 189, 147, 179, 163, 177, 156, 197, 151, 171, 178, 189, 191, 164, 169, 196, 153, 154, 181, 154, 149, 179, 164, 176, 141, 165, 155, 159, 165, 177, 160, 165, 155, 165, 177, 151, 172, 199, 164, 167, 164, 198, 190, 162, 173, 194, 159, 176, 157, 146, 185, 146, 157, 183, 196, 194, 188, 163, 158, 176, 144, 160, 149, 183, 147, 184, 195, 197, 181, 145, 175, 148, 167, 171, 170, 157, 192, 151, 160, 145, 172, 153, 169, 152, 162, 171, 167, 154, 160, 182, 155, 147, 160, 179, 147, 178, 180, 152, 183, 164, 156, 185, 162, 176, 185, 187, 173, 174, 173, 158, 191, 185, 196, 153, 166, 149, 169, 175, 155, 180, 144, 177, 189, 186, 178, 154, 141, 145, 175, 145, 162, 151, 142, 198, 162, 161, 178, 186, 150, 166, 168, 157, 152, 189, 193, 173, 149, 159, 178, 177, 141, 194, 194, 187, 161, 173, 178, 190, 157, 158, 143, 192, 145, 198, 197, 149, 191, 189, 171, 189, 182, 159, 173, 148, 175, 186, 191, 162, 187, 149, 179, 196, 164, 199, 156, 167, 198, 190, 184, 179, 174, 149, 170, 174, 150, 190, 158, 182, 169, 143, 192, 187, 167, 185, 161, 147, 184, 193, 182, 160, 166, 170, 168, 195, 161, 154, 150, 169, 188, 161, 149, 152, 184, 190, 154, 157, 166, 144, 166, 186, 179, 196, 167, 167, 141, 187, 192, 168, 162, 157, 143, 158, 149, 189, 199, 148, 162, 162, 151, 150, 153, 159, 155, 154, 181, 162, 145, 142, 183, 148, 192, 159, 149, 154, 156, 173, 189, 175, 166, 199, 162, 193, 196, 144, 168, 172, 163, 165, 149, 158, 147, 185, 176, 169, 169, 159, 186, 160, 149, 168, 166, 156, 156, 171, 169, 147, 155, 177, 165, 142, 175, 146, 172, 186, 154, 174, 171, 143, 192, 143, 145, 199, 160, 167, 162, 156, 190, 177, 194, 187, 161, 162, 199, 141, 192, 152, 153, 196, 152, 179, 166, 141, 156, 195, 161, 197, 183, 147, 144, 157, 167, 189, 198, 185, 140, 157, 153, 189, 177, 144, 148, 171, 177, 194, 188, 142, 151, 194, 178, 145, 143, 177, 185, 163, 192, 183, 179, 173, 185, 184, 148, 160, 163, 198, 144, 192, 182, 148, 142, 171, 162, 142, 157, 177, 189, 155, 188, 188, 182, 144, 178, 146, 147, 169, 173, 145, 189, 180, 167, 140, 152, 162, 145, 176, 168, 191, 179, 158, 199, 151, 181, 191, 160, 154, 191, 190, 191, 157, 173, 168, 148, 164, 177, 189, 144, 177, 152, 154, 141, 151, 161, 182, 158, 155, 152, 177, 172, 180, 150, 154, 168, 181, 162, 167, 162, 167, 170, 159, 190, 169, 142, 199, 161, 184, 194, 144, 146, 172, 148, 180, 149, 150, 140, 171, 180, 192, 144, 146, 198, 174, 195, 160, 199, 188, 186, 162, 171, 155, 175, 193, 178, 180, 147, 198, 194, 140, 160, 187, 148, 149, 170, 156, 152, 179, 181, 197, 171, 159, 147, 178, 157, 146, 160, 176, 190, 162, 157, 165, 197, 196, 180, 162, 181, 158, 163, 158, 151, 146, 189, 158, 173, 181, 179, 162, 165, 146, 148, 196, 169, 144, 178, 193, 189, 156, 179, 190, 154, 198, 182, 168, 184, 199, 152, 184, 172, 164, 163, 183, 186, 164, 195, 179, 145, 141, 174, 171, 184, 157, 169, 190, 187, 153, 183, 141, 161, 171, 166, 164, 180, 150, 188, 150, 166, 195, 193, 195, 187, 151, 167, 147, 194, 188, 185, 180, 148, 152, 181, 159, 192, 193, 144, 190, 143, 143, 172, 182, 152, 168, 194, 145, 167, 189, 159, 148, 198, 156, 178, 171, 171, 178, 177, 196, 146, 149, 166, 177, 160, 165, 162, 194, 193, 168, 183, 142, 172, 198, 161, 196, 193, 179, 170, 172, 166, 153, 181, 188, 170, 168, 185, 171, 155, 197, 142, 153, 180, 168, 183, 164, 149, 192, 191, 199, 140, 185, 175, 190, 147, 151, 194, 162, 168, 187, 159, 189, 180, 170, 154, 170, 157, 169, 183, 148, 193, 159, 197, 150, 149, 185, 149, 177, 193, 193, 142, 184, 161, 179, 197, 155, 159, 158, 148, 170, 180, 156, 172, 177, 188, 143, 157, 189, 161, 197, 168, 195, 155, 143, 140, 165, 190, 153, 195, 197, 156, 166, 147, 164, 176, 169, 140, 152, 197, 175, 145, 148, 169, 149, 198, 178, 172, 140, 176, 164, 186, 156, 168, 194, 184, 183, 141, 172, 150, 179, 174, 149, 141, 147, 190, 141, 149, 167, 166, 140, 178, 177, 166, 153, 154, 183, 169, 185, 195, 141, 196, 172, 199, 146, 181, 155, 156, 192, 195, 196, 171, 148, 163, 190, 141, 154, 162, 194, 199, 198, 169, 196, 142, 186, 150, 198, 160, 160, 199, 176, 199, 153, 180, 143, 165, 190, 163, 161, 168, 159, 170, 197, 197, 141, 193, 192, 166, 162, 147, 178, 170, 168, 157, 175, 148, 188, 195, 164, 199, 189, 178, 176, 155, 175, 197, 161, 185, 186, 173, 199, 172, 194, 160, 168, 190, 198, 151, 193, 175, 164, 152, 183, 192, 192, 176, 182, 161, 159, 166, 192, 187, 188, 180, 164, 182, 184, 178, 192, 149, 189, 189, 145, 143, 170, 178, 193, 199, 144, 181, 153, 146, 152, 155, 153, 180, 145, 153, 158, 199, 197, 187, 198, 178, 143, 199, 148, 143, 141, 189, 179, 155, 197, 155, 162, 191, 140, 194, 186, 157, 168, 159, 140, 177, 192, 140, 140, 146, 174, 190, 164, 148, 186, 155, 163, 171, 195, 168, 162, 162, 182, 158, 167, 196, 175, 169, 157, 167, 154, 141, 179, 146, 168, 166, 191, 156, 144, 182, 197, 186, 189, 153, 179, 143, 159, 166, 157, 166, 166, 151, 169, 177, 186, 140, 168, 189, 162, 170, 178, 170, 187, 173, 196, 183, 198, 154, 194, 173, 169, 198, 146, 161, 180, 189, 194, 198, 185, 166, 155, 166, 169, 174, 155, 164, 159, 185, 151, 194, 164, 176, 159, 183, 198, 198, 190, 196, 170, 156, 181, 180, 198, 154, 172, 159, 159, 144, 148, 141, 187, 141, 173, 150, 144, 182, 184, 154, 143, 168, 176, 150, 169, 145, 171, 197, 155, 164, 173, 198, 166, 160, 171, 152, 153, 183, 166, 170, 189, 167, 192, 186, 187, 158, 192, 164, 179, 180, 145, 171, 148, 141, 186, 142, 178, 147, 158, 189, 183, 185, 140, 189, 163, 191, 170, 176, 149, 151, 149, 155, 143, 152, 151, 189, 198, 174, 150, 172, 161, 150, 195, 171, 155, 158, 169, 152, 147, 198, 153, 173, 192, 172, 148, 174, 170, 178, 151, 154, 167, 174, 145, 162, 161, 176, 188, 179, 166, 149, 185, 193, 195, 198, 190, 140, 165, 167, 147, 153, 199, 161, 176, 176, 184, 156, 161, 148, 166, 187, 181, 145, 156, 196, 166, 141, 192, 172, 149, 164, 183, 183, 141, 168, 168, 164, 187, 197, 193, 155, 157, 186, 153, 163, 181, 163, 161, 140, 171, 164, 190, 152, 198, 150, 169, 174, 186, 144, 165, 185, 148, 187, 154, 196, 151, 144, 157, 174, 152, 194, 178, 167, 182, 156, 184, 183, 145, 157, 195, 185, 141, 153, 148, 158, 181, 170, 194, 199, 153, 157, 183, 192, 152, 156, 182, 184, 193, 196, 189, 174, 192, 192, 174, 168, 162, 146, 189, 179, 174, 144, 184, 198, 193, 143, 147, 160, 185, 158, 163, 162, 156, 155, 198, 183, 153, 176, 143, 195, 199, 157, 193, 184, 150, 197, 151, 155, 146, 185, 142, 182, 170, 152, 165, 141, 152, 199, 161, 199, 149, 150, 199, 155, 165, 169, 193, 156, 145, 190, 140, 158, 173, 150, 197, 157, 179, 153, 169, 198, 191, 195, 142, 183, 146, 182, 149, 166, 160, 174, 163, 151, 199, 162, 146, 148, 159, 173, 189, 140, 197, 198, 189, 151, 181, 191, 160, 187, 199, 156, 155, 196, 181, 145, 164, 174, 198, 173, 142, 144, 191, 145, 140, 176, 158, 196, 195, 148, 143, 183, 160, 173, 145, 158, 194, 178, 185, 180, 164, 180, 181, 180, 174, 197, 196, 152, 141, 161, 165, 150, 147, 147, 173, 197, 154, 188, 152, 158, 199, 158, 156, 155, 141, 187, 154, 196, 175, 195, 141, 156, 151, 193, 173, 191, 184, 158, 182, 150, 159, 165, 155, 182, 149, 183, 189, 142, 172, 179, 140, 191, 176, 175, 152, 172, 166, 176, 199, 191, 183, 189, 181, 155, 158, 181, 141, 152, 180, 151, 181, 157, 161, 192, 173, 193, 199, 168, 144, 153, 190, 185, 149, 188, 192, 193, 151, 174, 156, 178, 153, 185, 194, 152, 157, 189, 174, 151, 171, 171, 173, 141, 173, 175, 195, 182, 143, 177, 194, 172, 151, 176, 144, 180, 196, 153, 196, 166, 178, 181, 160, 141, 148, 164, 199, 147, 143, 169, 197, 179, 197, 178, 140, 175, 174, 164, 193, 148, 149, 183, 145, 182, 157, 181, 193, 182, 193, 172, 183, 193, 160, 181, 184, 147, 196, 184, 154, 169, 144, 193, 177, 140, 145, 171, 193, 154, 141, 197, 180, 180, 153, 169, 198, 168, 152, 141, 199, 149, 190, 156, 152, 184, 161, 150, 196, 167, 198, 154, 167, 154, 195, 166, 171, 182, 160, 196, 170, 196, 156, 152, 140, 188, 151, 167, 147, 170, 175, 185, 173, 183, 148, 141, 182, 148, 162, 178, 181, 191, 162, 154, 169, 162, 158, 169, 165, 184, 192, 199, 164, 171, 182, 144, 199, 183, 140, 189, 171, 183, 169, 169, 171, 188, 189, 151, 151, 158, 195, 143, 168, 144, 173, 197, 159, 175, 152, 168, 151, 190, 169, 158, 187, 141, 175, 188, 170, 180, 145, 148, 158, 165, 193, 181, 176, 161, 176, 171, 176, 183, 181, 147, 162, 147, 180, 164, 183, 150, 165, 189, 189, 193, 176, 179, 143, 179, 158, 176, 199, 158, 183, 164, 147, 148, 170, 189, 157, 144, 170, 154, 182, 167, 199, 199, 168, 173, 142, 198, 154, 153, 195, 166, 151, 187, 159, 162, 145, 143, 149, 192, 159, 149, 183, 186, 186, 160, 142, 160, 146, 142, 169, 199, 167, 189, 192, 193, 173, 181, 157, 162, 193, 189, 185, 179, 173, 159, 167, 146, 179, 165, 184, 191, 146, 187, 152, 187, 186, 140, 175, 174, 154, 141, 145, 185, 181, 184, 168, 173, 184, 164, 153, 166, 184, 182, 152, 160, 190, 155, 165, 183, 169, 176, 142, 160, 167, 159, 169, 196, 195, 188, 158, 146, 148, 184, 189, 152, 148, 191, 171, 192, 187, 178, 176, 191, 190, 188, 198, 159, 163, 140, 177, 182, 189, 148, 199, 174, 195, 179, 195, 179, 182, 199, 199, 161, 180, 161, 175, 147, 179, 192, 168, 140, 162, 170, 193, 184, 188, 192, 149, 164, 192, 186, 172, 161, 156, 173, 155, 187, 155, 141, 176, 144, 197, 187, 194, 157, 153, 181, 196, 195, 170, 147, 143, 143, 199, 194, 195, 197, 155, 184, 160, 157, 194, 175, 157, 185, 146, 180, 176, 193, 162, 161, 163, 173, 185, 184, 188, 161, 194, 186, 197, 198, 154, 142, 180, 154, 167, 185, 163, 189, 148, 176, 169, 187, 158, 161, 196, 197, 155, 157, 177, 189, 166, 163, 181, 170, 154, 192, 146, 182, 158, 197, 180, 179, 182, 145, 194, 173, 181, 177, 196, 159, 170, 148, 162, 189, 179, 177, 194, 185, 180, 147, 161, 155, 140, 194, 197, 157, 141, 163, 163, 146, 181, 157, 168, 147, 154, 199, 196, 193, 199, 178, 161, 154, 153, 147, 149, 168, 148, 187, 148, 170, 159, 196, 191, 188, 172, 149, 152, 157, 181, 177, 158, 173, 144, 189, 172, 178, 143, 144, 175, 147, 149, 172, 146, 167, 146, 162, 148, 172, 152, 182, 169, 157, 174, 156, 185, 150, 177, 157, 191, 194, 160, 143, 181, 145, 151, 141, 176, 187, 147, 196, 140, 180, 141, 170, 161, 185, 163, 157, 148, 182, 187, 147, 141, 166, 159, 175, 184, 180, 146, 157, 167, 145, 155, 196, 171, 170, 146, 181, 167, 190, 158, 183, 197, 191, 195, 178, 188, 166, 184, 164, 182, 157, 155, 150, 193, 185, 162, 184, 176, 141, 188, 197, 164, 190, 184, 199, 183, 173, 176, 188, 187, 152, 190, 182, 155, 163, 176, 154, 179, 178, 144, 190, 188, 187, 198, 170, 146, 175, 173, 181, 146, 169, 152, 186, 182, 141, 179, 185, 148, 155, 180, 174, 143, 174, 191, 184, 196, 195, 140, 147, 181, 154, 151, 191, 159, 175, 198, 170, 152, 148, 159, 151, 156, 181, 140, 187, 163, 156, 198, 191, 183, 155, 152, 180, 184, 162, 151, 156, 149, 175, 191, 154, 199, 143, 186, 170, 172, 198, 197, 153, 153, 143, 185, 150, 144, 166, 172, 184, 157, 151, 169, 186, 183, 189, 146, 193, 194, 160, 168, 167, 174, 145, 159, 183, 189, 182, 185, 192, 181, 155, 183, 194, 189, 179, 143, 187, 152, 158, 178, 149, 179, 161, 161, 179, 160, 142, 147, 178, 154, 170, 141, 193, 171, 171, 152, 159, 157, 195, 166, 188, 174, 163, 198, 163, 163, 145, 186, 187, 185, 185, 177, 189, 176, 194, 198, 177, 141, 168, 196, 177, 192, 150, 188, 160, 154, 147, 148, 167, 188, 156, 169, 159, 180, 145, 153, 165, 195, 190, 190, 184, 183, 150, 169, 192, 142, 162, 162, 164, 191, 154, 173, 158, 198, 173, 165, 175, 176, 182, 195, 189, 150, 156, 167, 141, 153, 195, 155, 179, 152, 153, 192, 163, 155, 170, 197, 190, 144, 186, 168, 185, 179, 185, 195, 170, 193, 181, 143, 164, 186, 198, 154, 199, 179, 146, 144, 145, 158, 166, 168, 181, 187, 174, 194, 175, 197, 199, 148, 148, 162, 165, 157, 178, 170, 179, 151, 166, 167, 172, 180, 178, 162, 153, 186, 170, 141, 165, 189, 166, 175, 175, 189, 177, 144, 146, 168, 169, 172, 154, 178, 170, 163, 147, 169, 174, 160, 191, 197, 170, 179, 189, 143, 164, 181, 166, 186, 149, 193, 185, 148, 159, 142, 153, 145, 172, 177, 163, 171, 174, 169, 170, 183, 156, 142, 170, 196, 158, 181, 168, 142, 169, 194, 189, 172, 177, 193, 147, 191, 152, 150, 150, 184, 173, 182, 143, 157, 159, 189, 180, 164, 172, 177, 184, 144, 186, 185, 177, 180, 189, 151, 187, 179, 157, 150, 148, 145, 165, 168, 148, 198, 177, 164, 183, 193, 181, 177, 183, 147, 184, 192, 173, 195, 177, 141, 168, 150, 185, 161, 171, 180, 173, 150, 191, 158, 193, 145, 153, 177, 182, 190, 155, 160, 194, 163, 142, 151, 182, 195, 152, 180, 175, 185, 164, 145, 157, 180, 142, 197, 194, 140, 159, 161, 166, 175, 141, 141, 178, 140, 162, 189, 167, 194, 187, 187, 161, 146, 171, 151, 197, 158, 154, 191, 151, 191, 167, 144, 182, 199, 166, 146, 148, 191, 145, 195, 173, 168, 147, 155, 142, 198, 151, 153, 177, 158, 141, 191, 179, 153, 155, 183, 190, 163, 158, 194, 181, 193, 192, 173, 197, 143, 158, 159, 183, 191, 182, 144, 179, 149, 164, 172, 174, 152, 198, 143, 143, 147, 164, 182, 184, 177, 159, 159, 196, 158, 149, 175, 141, 180, 183, 158, 168, 145, 186, 147, 182, 170, 181, 144, 197, 165, 189, 145, 194, 198, 155, 197, 184, 152, 172, 193, 143, 177, 180, 158, 187, 195, 145, 168, 199, 191, 172, 166, 160, 165, 190, 146, 146, 182, 173, 142, 172, 161, 186, 165, 178, 172, 142, 170, 194, 162, 145, 156, 149, 182, 176, 149, 181, 169, 180, 172, 185, 152, 188, 176, 180, 168, 191, 164, 193, 196, 193, 195, 153, 178, 165, 150, 179, 188, 182, 171, 144, 188, 146, 153, 170, 171, 156, 191, 182, 146, 190, 191, 159, 186, 183, 199, 154, 190, 161, 179, 153, 194, 192, 195, 164, 146, 163, 145, 155, 187, 150, 156, 170, 173, 196, 166, 196, 163, 141, 160, 187, 189, 162, 175, 169, 188, 156, 191, 172, 159, 190, 155, 149, 188, 141, 191, 169, 180, 140, 177, 142, 173, 141, 155, 185, 141, 146, 146, 148, 156, 178, 155, 160, 167, 146, 149, 186, 164, 156, 189, 148, 140, 144, 198, 142, 170, 194, 167, 167, 162, 170, 151, 143, 193, 195, 164, 175, 179, 162, 199, 167, 179, 193, 169, 187, 187, 149, 143, 157, 197, 168, 159, 161, 160, 151, 183, 192, 171, 177, 192, 197, 162, 155, 180, 175, 172, 168, 147, 144, 170, 192, 162, 178, 169, 169, 164, 175, 175, 161, 156, 183, 189, 145, 180, 171, 149, 154, 159, 175, 198, 188, 196, 175, 145, 166, 154, 147, 147, 143, 152, 151, 186, 170, 192, 177, 151, 182, 194, 159, 143, 177, 186, 186, 187, 190, 197, 166, 177, 199, 145, 164, 143, 183, 180, 171, 191, 173, 150, 148, 198, 196, 161, 158, 183, 184, 157, 181, 149, 140, 152, 190, 142, 154, 165, 163, 162, 140, 158, 157, 151, 163, 185, 164, 157, 159, 199, 145, 185, 185, 185, 140, 147, 160, 158, 142, 180, 151, 170, 169, 159, 161, 141, 199, 170, 178, 189, 152, 164, 191, 182, 175, 190, 141, 177, 170, 140, 155, 168, 162, 151, 174, 181, 162, 152, 191, 161, 199, 182, 150, 146, 185, 169, 188, 174, 192, 193, 161, 153, 169, 189, 172, 173, 171, 181, 186, 169, 181, 176, 161, 182, 145, 191, 146, 190, 160, 144, 158, 145, 162, 151, 195, 182, 145, 175, 162, 199, 141, 195, 195, 176, 167, 185, 154, 143, 161, 168, 199, 193, 189, 169, 153, 181, 193, 190, 151, 198, 162, 171, 198, 163, 170, 148, 147, 143, 159, 187, 164, 153, 148, 173, 187, 180, 155, 169, 162, 151, 195, 156, 178, 199, 140, 174, 148, 153, 192, 142, 158, 170, 145, 191, 142, 143, 141, 167, 156, 195, 161, 159, 178, 177, 149, 157, 162, 144, 170, 174, 170, 157, 199, 173, 144, 164, 197, 174, 199, 170, 194, 188, 167, 184, 149, 168, 164, 165, 185, 167, 190, 175, 181, 188, 190, 178, 141, 191, 185, 175, 153, 148, 142, 171, 179, 189, 175, 167, 167, 164, 144, 185, 146, 157, 194, 146, 173, 151, 196, 180, 196, 160, 171, 175, 185, 156, 156, 195, 152, 153, 155, 158, 198, 198, 160, 192, 140, 151, 145, 179, 156, 187, 191, 155, 164, 185, 198, 174, 191, 143, 190, 171, 166, 147, 189, 140, 195, 163, 152, 166, 144, 158, 173, 196, 178, 187, 180, 167, 165, 142, 179, 164, 163, 176, 163, 166, 153, 170, 165, 156, 187, 157, 187, 163, 190, 169, 173, 181, 149, 184, 185, 151, 177, 195, 151, 193, 143, 168, 155, 145, 182, 144, 193, 177, 176, 141, 196, 158, 159, 154, 161, 172, 155, 143, 197, 158, 147, 169, 193, 196, 146, 193, 141, 185, 155, 144, 168, 194, 160, 184, 187, 194, 168, 173, 142, 176, 185, 196, 180, 150, 154, 143, 187, 174, 150, 188, 156, 155, 181, 193, 165, 157, 141, 171, 143, 150, 140, 177, 146, 159, 148, 187, 194, 180, 182, 150, 156, 162, 162, 151, 149, 162, 150, 172, 186, 155, 190, 196, 174, 169, 164, 153, 155, 176, 159, 158, 160, 176, 141, 189, 186, 147, 191, 176, 181, 149, 197, 195, 151, 171, 168, 179, 199, 198, 198, 177, 154, 144, 184, 166, 185, 141, 199, 198, 150, 152, 199, 148, 175, 198, 151, 159, 149, 181, 151, 198, 152, 170, 155, 155, 162, 192, 158, 162, 156, 168, 156, 161, 178, 165, 182, 155, 154, 180, 165, 177, 157, 164, 168, 144, 188, 153, 160, 187, 155, 151, 180, 188, 191, 194, 141, 198, 172, 178, 163, 154, 155, 169, 141, 172, 140, 155, 143, 183, 190, 187, 167, 154, 151, 178, 184, 154, 166, 164, 199, 168, 178, 194, 145, 198, 153, 159, 143, 183, 146, 173, 171, 154, 175, 183, 199, 146, 194, 173, 149, 166, 166, 167, 167, 170, 150, 182, 195, 155, 198, 155, 174, 187, 149, 184, 152, 156, 164, 168, 158, 175, 185, 180, 171, 166, 187, 177, 148, 169, 187, 182, 141, 171, 196, 189, 182, 178, 145, 198, 146, 168, 141, 168, 152, 148, 162, 174, 148, 166, 145, 181, 167, 199, 163, 156, 187, 181, 146, 192, 150, 166, 198, 150, 140, 178, 165, 144, 172, 183, 149, 199, 189, 152, 176, 157, 187, 182, 198, 164, 189, 177, 169, 169, 170, 140, 180, 174, 145, 196, 166, 167, 175, 155, 146, 185, 191, 183, 158, 166, 165, 182, 190, 198, 193, 186, 181, 162, 196, 165, 160, 166, 197, 176, 193, 154, 187, 154, 151, 146, 142, 141, 173, 160, 180, 180, 175, 198, 158, 148, 141, 159, 197, 165, 187, 150, 189, 179, 181, 172, 189, 194, 177, 174, 160, 170, 187, 144, 147, 162, 194, 191, 183, 198, 160, 178, 153, 174, 151, 163, 166, 190, 161, 189, 148, 175, 194, 167, 178, 156, 169, 160, 177, 196, 163, 184, 155, 161, 173, 145, 198, 141, 171, 189, 187, 179, 188, 153, 156, 179, 176, 180, 144, 174, 149, 153, 198, 165, 173, 192, 198, 164, 167, 177, 170, 187, 172, 174, 177, 172, 163, 144, 168, 152, 167, 157, 169, 151, 142, 169, 164, 182, 169, 172, 180, 173, 165, 197, 194, 172, 172, 169, 187, 173, 169, 152, 192, 159, 171, 192, 143, 140, 179, 150, 148, 193, 182, 157, 199, 197, 191, 145, 150, 167, 155, 178, 141, 160, 193, 180, 147, 146, 190, 174, 146, 160, 150, 166, 162, 190, 194, 160, 156, 154, 147, 169, 143, 190, 162, 195, 198, 194, 177, 182, 196, 192, 166, 199, 157, 142, 144, 186, 167, 181, 158, 186, 174, 173, 199, 195, 145, 141, 143, 167, 170, 181, 155, 145, 173, 142, 170, 166, 170, 153, 166, 155, 148, 173, 147, 158, 150, 168, 198, 149, 172, 185, 168, 156, 181, 151, 146, 196, 191, 143, 165, 146, 180, 187, 157, 146, 182, 157, 173, 181, 196, 181, 192, 181, 174, 143, 162, 144, 158, 182, 161, 175, 143, 151, 183, 183, 148, 150, 196, 181, 191, 194, 175, 189, 164, 169, 163, 186, 172, 155, 163, 190, 182, 179, 153, 144, 162, 189, 148, 190, 176, 167, 145, 146, 198, 175, 175, 174, 165, 144, 140, 173, 177, 167, 174, 147, 170, 155, 178, 180, 151, 162, 154, 192, 176, 143, 183, 197, 146, 172, 141, 166, 190, 174, 158, 181, 192, 143, 188, 167, 181, 158, 164, 142, 198, 176, 141, 158, 175, 178, 149, 152, 155, 143, 177, 170, 170, 157, 159, 160, 178, 181, 178, 157, 190, 197, 177, 170, 169, 186, 194, 167, 166, 146, 174, 155, 140, 166, 196, 169, 144, 148, 177, 172, 148, 180, 192, 175, 181, 170, 176, 149, 154, 162, 188, 149, 147, 152, 190, 155, 169, 161, 167, 146, 195, 183, 163, 196, 175, 157, 145, 157, 161, 160, 157, 179, 170, 194, 168, 179, 171, 186, 151, 170, 176, 186, 180, 144, 180, 179, 181, 189, 164, 151, 168, 189, 186, 167, 149, 153, 169, 167, 183, 194, 181, 170, 149, 174, 157, 151, 184, 159, 199, 199, 183, 189, 186, 160, 181, 163, 157, 147, 175, 187, 188, 164, 177, 142, 165, 164, 179, 141, 142, 171, 192, 162, 171, 180, 172, 162, 196, 169, 146, 186, 148, 157, 177, 199, 171, 180, 167, 145, 188, 156, 180, 186, 153, 180, 183, 188, 191, 152, 165, 172, 191, 162, 194, 186, 171, 166, 147, 155, 184, 195, 157, 192, 154, 199, 186, 182, 142, 174, 153, 161, 165, 178, 141, 193, 153, 141, 174, 195, 159, 187, 199, 142, 169, 167, 152, 157, 179, 193, 140, 176, 155, 146, 155, 146, 167, 147, 192, 157, 164, 176, 183, 175, 187, 159, 178, 188, 179, 195, 170, 190, 193, 155, 197, 182, 144, 149, 186, 169, 152, 167, 161, 165, 196, 198, 145, 194, 146, 184, 180, 164, 194, 157, 164, 155, 140, 166, 159, 171, 148, 149, 193, 163, 167, 176, 168, 169, 166, 176, 158, 160], \"xaxis\": \"x\", \"yaxis\": \"y\"}],                        {\"barmode\": \"relative\", \"legend\": {\"tracegroupgap\": 0}, \"margin\": {\"t\": 60}, \"template\": {\"data\": {\"bar\": [{\"error_x\": {\"color\": \"#f2f5fa\"}, \"error_y\": {\"color\": \"#f2f5fa\"}, \"marker\": {\"line\": {\"color\": \"rgb(17,17,17)\", \"width\": 0.5}}, \"type\": \"bar\"}], \"barpolar\": [{\"marker\": {\"line\": {\"color\": \"rgb(17,17,17)\", \"width\": 0.5}}, \"type\": \"barpolar\"}], \"carpet\": [{\"aaxis\": {\"endlinecolor\": \"#A2B1C6\", \"gridcolor\": \"#506784\", \"linecolor\": \"#506784\", \"minorgridcolor\": \"#506784\", \"startlinecolor\": \"#A2B1C6\"}, \"baxis\": {\"endlinecolor\": \"#A2B1C6\", \"gridcolor\": \"#506784\", \"linecolor\": \"#506784\", \"minorgridcolor\": \"#506784\", \"startlinecolor\": \"#A2B1C6\"}, \"type\": \"carpet\"}], \"choropleth\": [{\"colorbar\": {\"outlinewidth\": 0, \"ticks\": \"\"}, \"type\": \"choropleth\"}], \"contour\": [{\"colorbar\": {\"outlinewidth\": 0, \"ticks\": \"\"}, \"colorscale\": [[0.0, \"#0d0887\"], [0.1111111111111111, \"#46039f\"], [0.2222222222222222, \"#7201a8\"], [0.3333333333333333, \"#9c179e\"], [0.4444444444444444, \"#bd3786\"], [0.5555555555555556, \"#d8576b\"], [0.6666666666666666, \"#ed7953\"], [0.7777777777777778, \"#fb9f3a\"], [0.8888888888888888, \"#fdca26\"], [1.0, \"#f0f921\"]], \"type\": \"contour\"}], \"contourcarpet\": [{\"colorbar\": {\"outlinewidth\": 0, \"ticks\": \"\"}, \"type\": \"contourcarpet\"}], \"heatmap\": [{\"colorbar\": {\"outlinewidth\": 0, \"ticks\": \"\"}, \"colorscale\": [[0.0, \"#0d0887\"], [0.1111111111111111, \"#46039f\"], [0.2222222222222222, \"#7201a8\"], [0.3333333333333333, \"#9c179e\"], [0.4444444444444444, \"#bd3786\"], [0.5555555555555556, \"#d8576b\"], [0.6666666666666666, \"#ed7953\"], [0.7777777777777778, \"#fb9f3a\"], [0.8888888888888888, \"#fdca26\"], [1.0, \"#f0f921\"]], \"type\": \"heatmap\"}], \"heatmapgl\": [{\"colorbar\": {\"outlinewidth\": 0, \"ticks\": \"\"}, \"colorscale\": [[0.0, \"#0d0887\"], [0.1111111111111111, \"#46039f\"], [0.2222222222222222, \"#7201a8\"], [0.3333333333333333, \"#9c179e\"], [0.4444444444444444, \"#bd3786\"], [0.5555555555555556, \"#d8576b\"], [0.6666666666666666, \"#ed7953\"], [0.7777777777777778, \"#fb9f3a\"], [0.8888888888888888, \"#fdca26\"], [1.0, \"#f0f921\"]], \"type\": \"heatmapgl\"}], \"histogram\": [{\"marker\": {\"colorbar\": {\"outlinewidth\": 0, \"ticks\": \"\"}}, \"type\": \"histogram\"}], \"histogram2d\": [{\"colorbar\": {\"outlinewidth\": 0, \"ticks\": \"\"}, \"colorscale\": [[0.0, \"#0d0887\"], [0.1111111111111111, \"#46039f\"], [0.2222222222222222, \"#7201a8\"], [0.3333333333333333, \"#9c179e\"], [0.4444444444444444, \"#bd3786\"], [0.5555555555555556, \"#d8576b\"], [0.6666666666666666, \"#ed7953\"], [0.7777777777777778, \"#fb9f3a\"], [0.8888888888888888, \"#fdca26\"], [1.0, \"#f0f921\"]], \"type\": \"histogram2d\"}], \"histogram2dcontour\": [{\"colorbar\": {\"outlinewidth\": 0, \"ticks\": \"\"}, \"colorscale\": [[0.0, \"#0d0887\"], [0.1111111111111111, \"#46039f\"], [0.2222222222222222, \"#7201a8\"], [0.3333333333333333, \"#9c179e\"], [0.4444444444444444, \"#bd3786\"], [0.5555555555555556, \"#d8576b\"], [0.6666666666666666, \"#ed7953\"], [0.7777777777777778, \"#fb9f3a\"], [0.8888888888888888, \"#fdca26\"], [1.0, \"#f0f921\"]], \"type\": \"histogram2dcontour\"}], \"mesh3d\": [{\"colorbar\": {\"outlinewidth\": 0, \"ticks\": \"\"}, \"type\": \"mesh3d\"}], \"parcoords\": [{\"line\": {\"colorbar\": {\"outlinewidth\": 0, \"ticks\": \"\"}}, \"type\": \"parcoords\"}], \"pie\": [{\"automargin\": true, \"type\": \"pie\"}], \"scatter\": [{\"marker\": {\"line\": {\"color\": \"#283442\"}}, \"type\": \"scatter\"}], \"scatter3d\": [{\"line\": {\"colorbar\": {\"outlinewidth\": 0, \"ticks\": \"\"}}, \"marker\": {\"colorbar\": {\"outlinewidth\": 0, \"ticks\": \"\"}}, \"type\": \"scatter3d\"}], \"scattercarpet\": [{\"marker\": {\"colorbar\": {\"outlinewidth\": 0, \"ticks\": \"\"}}, \"type\": \"scattercarpet\"}], \"scattergeo\": [{\"marker\": {\"colorbar\": {\"outlinewidth\": 0, \"ticks\": \"\"}}, \"type\": \"scattergeo\"}], \"scattergl\": [{\"marker\": {\"line\": {\"color\": \"#283442\"}}, \"type\": \"scattergl\"}], \"scattermapbox\": [{\"marker\": {\"colorbar\": {\"outlinewidth\": 0, \"ticks\": \"\"}}, \"type\": \"scattermapbox\"}], \"scatterpolar\": [{\"marker\": {\"colorbar\": {\"outlinewidth\": 0, \"ticks\": \"\"}}, \"type\": \"scatterpolar\"}], \"scatterpolargl\": [{\"marker\": {\"colorbar\": {\"outlinewidth\": 0, \"ticks\": \"\"}}, \"type\": \"scatterpolargl\"}], \"scatterternary\": [{\"marker\": {\"colorbar\": {\"outlinewidth\": 0, \"ticks\": \"\"}}, \"type\": \"scatterternary\"}], \"surface\": [{\"colorbar\": {\"outlinewidth\": 0, \"ticks\": \"\"}, \"colorscale\": [[0.0, \"#0d0887\"], [0.1111111111111111, \"#46039f\"], [0.2222222222222222, \"#7201a8\"], [0.3333333333333333, \"#9c179e\"], [0.4444444444444444, \"#bd3786\"], [0.5555555555555556, \"#d8576b\"], [0.6666666666666666, \"#ed7953\"], [0.7777777777777778, \"#fb9f3a\"], [0.8888888888888888, \"#fdca26\"], [1.0, \"#f0f921\"]], \"type\": \"surface\"}], \"table\": [{\"cells\": {\"fill\": {\"color\": \"#506784\"}, \"line\": {\"color\": \"rgb(17,17,17)\"}}, \"header\": {\"fill\": {\"color\": \"#2a3f5f\"}, \"line\": {\"color\": \"rgb(17,17,17)\"}}, \"type\": \"table\"}]}, \"layout\": {\"annotationdefaults\": {\"arrowcolor\": \"#f2f5fa\", \"arrowhead\": 0, \"arrowwidth\": 1}, \"autotypenumbers\": \"strict\", \"coloraxis\": {\"colorbar\": {\"outlinewidth\": 0, \"ticks\": \"\"}}, \"colorscale\": {\"diverging\": [[0, \"#8e0152\"], [0.1, \"#c51b7d\"], [0.2, \"#de77ae\"], [0.3, \"#f1b6da\"], [0.4, \"#fde0ef\"], [0.5, \"#f7f7f7\"], [0.6, \"#e6f5d0\"], [0.7, \"#b8e186\"], [0.8, \"#7fbc41\"], [0.9, \"#4d9221\"], [1, \"#276419\"]], \"sequential\": [[0.0, \"#0d0887\"], [0.1111111111111111, \"#46039f\"], [0.2222222222222222, \"#7201a8\"], [0.3333333333333333, \"#9c179e\"], [0.4444444444444444, \"#bd3786\"], [0.5555555555555556, \"#d8576b\"], [0.6666666666666666, \"#ed7953\"], [0.7777777777777778, \"#fb9f3a\"], [0.8888888888888888, \"#fdca26\"], [1.0, \"#f0f921\"]], \"sequentialminus\": [[0.0, \"#0d0887\"], [0.1111111111111111, \"#46039f\"], [0.2222222222222222, \"#7201a8\"], [0.3333333333333333, \"#9c179e\"], [0.4444444444444444, \"#bd3786\"], [0.5555555555555556, \"#d8576b\"], [0.6666666666666666, \"#ed7953\"], [0.7777777777777778, \"#fb9f3a\"], [0.8888888888888888, \"#fdca26\"], [1.0, \"#f0f921\"]]}, \"colorway\": [\"#636efa\", \"#EF553B\", \"#00cc96\", \"#ab63fa\", \"#FFA15A\", \"#19d3f3\", \"#FF6692\", \"#B6E880\", \"#FF97FF\", \"#FECB52\"], \"font\": {\"color\": \"#f2f5fa\"}, \"geo\": {\"bgcolor\": \"rgb(17,17,17)\", \"lakecolor\": \"rgb(17,17,17)\", \"landcolor\": \"rgb(17,17,17)\", \"showlakes\": true, \"showland\": true, \"subunitcolor\": \"#506784\"}, \"hoverlabel\": {\"align\": \"left\"}, \"hovermode\": \"closest\", \"mapbox\": {\"style\": \"dark\"}, \"paper_bgcolor\": \"rgb(17,17,17)\", \"plot_bgcolor\": \"rgb(17,17,17)\", \"polar\": {\"angularaxis\": {\"gridcolor\": \"#506784\", \"linecolor\": \"#506784\", \"ticks\": \"\"}, \"bgcolor\": \"rgb(17,17,17)\", \"radialaxis\": {\"gridcolor\": \"#506784\", \"linecolor\": \"#506784\", \"ticks\": \"\"}}, \"scene\": {\"xaxis\": {\"backgroundcolor\": \"rgb(17,17,17)\", \"gridcolor\": \"#506784\", \"gridwidth\": 2, \"linecolor\": \"#506784\", \"showbackground\": true, \"ticks\": \"\", \"zerolinecolor\": \"#C8D4E3\"}, \"yaxis\": {\"backgroundcolor\": \"rgb(17,17,17)\", \"gridcolor\": \"#506784\", \"gridwidth\": 2, \"linecolor\": \"#506784\", \"showbackground\": true, \"ticks\": \"\", \"zerolinecolor\": \"#C8D4E3\"}, \"zaxis\": {\"backgroundcolor\": \"rgb(17,17,17)\", \"gridcolor\": \"#506784\", \"gridwidth\": 2, \"linecolor\": \"#506784\", \"showbackground\": true, \"ticks\": \"\", \"zerolinecolor\": \"#C8D4E3\"}}, \"shapedefaults\": {\"line\": {\"color\": \"#f2f5fa\"}}, \"sliderdefaults\": {\"bgcolor\": \"#C8D4E3\", \"bordercolor\": \"rgb(17,17,17)\", \"borderwidth\": 1, \"tickwidth\": 0}, \"ternary\": {\"aaxis\": {\"gridcolor\": \"#506784\", \"linecolor\": \"#506784\", \"ticks\": \"\"}, \"baxis\": {\"gridcolor\": \"#506784\", \"linecolor\": \"#506784\", \"ticks\": \"\"}, \"bgcolor\": \"rgb(17,17,17)\", \"caxis\": {\"gridcolor\": \"#506784\", \"linecolor\": \"#506784\", \"ticks\": \"\"}}, \"title\": {\"x\": 0.05}, \"updatemenudefaults\": {\"bgcolor\": \"#506784\", \"borderwidth\": 0}, \"xaxis\": {\"automargin\": true, \"gridcolor\": \"#283442\", \"linecolor\": \"#506784\", \"ticks\": \"\", \"title\": {\"standoff\": 15}, \"zerolinecolor\": \"#283442\", \"zerolinewidth\": 2}, \"yaxis\": {\"automargin\": true, \"gridcolor\": \"#283442\", \"linecolor\": \"#506784\", \"ticks\": \"\", \"title\": {\"standoff\": 15}, \"zerolinecolor\": \"#283442\", \"zerolinewidth\": 2}}}, \"xaxis\": {\"anchor\": \"y\", \"domain\": [0.0, 1.0], \"title\": {\"text\": \"x\"}}, \"yaxis\": {\"anchor\": \"x\", \"domain\": [0.0, 1.0], \"title\": {\"text\": \"count\"}}},                        {\"responsive\": true}                    ).then(function(){\n",
       "                            \n",
       "var gd = document.getElementById('c0cc7b24-29e9-4c3e-a537-cdc1eb8a61c8');\n",
       "var x = new MutationObserver(function (mutations, observer) {{\n",
       "        var display = window.getComputedStyle(gd).display;\n",
       "        if (!display || display === 'none') {{\n",
       "            console.log([gd, 'removed!']);\n",
       "            Plotly.purge(gd);\n",
       "            observer.disconnect();\n",
       "        }}\n",
       "}});\n",
       "\n",
       "// Listen for the removal of the full notebook cells\n",
       "var notebookContainer = gd.closest('#notebook-container');\n",
       "if (notebookContainer) {{\n",
       "    x.observe(notebookContainer, {childList: true});\n",
       "}}\n",
       "\n",
       "// Listen for the clearing of the current output cell\n",
       "var outputEl = gd.closest('.output');\n",
       "if (outputEl) {{\n",
       "    x.observe(outputEl, {childList: true});\n",
       "}}\n",
       "\n",
       "                        })                };                });            </script>        </div>"
      ]
     },
     "metadata": {},
     "output_type": "display_data"
    }
   ],
   "source": [
    "population_height = np.random.randint(low=140, high= 200, size=10_000)\n",
    "px.histogram(x= population_height)\n",
    "#  empirical uniform distribution"
   ]
  },
  {
   "cell_type": "code",
   "execution_count": 155,
   "id": "ceramic-bulgaria",
   "metadata": {},
   "outputs": [
    {
     "data": {
      "application/vnd.plotly.v1+json": {
       "config": {
        "plotlyServerURL": "https://plot.ly"
       },
       "data": [
        {
         "alignmentgroup": "True",
         "bingroup": "x",
         "hovertemplate": "Mean Height=%{x}<br>count=%{y}<extra></extra>",
         "legendgroup": "",
         "marker": {
          "color": "#636efa"
         },
         "name": "",
         "offsetgroup": "",
         "orientation": "v",
         "showlegend": false,
         "type": "histogram",
         "x": [
          166.75,
          170.08,
          171.38,
          168.33,
          171.71,
          170.35,
          169.64,
          168.9,
          169.46,
          169.59,
          172.16,
          169.7,
          169.58,
          168.84,
          172.95,
          168.69,
          168.81,
          170.32,
          164.47,
          166.73,
          169.4,
          169.49,
          167.95,
          168.64,
          167.19,
          168,
          167.11,
          169.03,
          168.83,
          169.98,
          170.22,
          169.48,
          169.75,
          170.12,
          165.69,
          166.18,
          167,
          170.51,
          167.24,
          167.08,
          169.12,
          170.41,
          167.06,
          169.47,
          170.71,
          168.84,
          169.64,
          169.51,
          168.84,
          168.7,
          168.8,
          167.83,
          169.58,
          170.01,
          170.38,
          171,
          169.56,
          167.42,
          170.62,
          169.7,
          170.35,
          168.89,
          169.27,
          169.33,
          170.05,
          171.16,
          168.32,
          172.77,
          167.98,
          169.32,
          170.95,
          168.16,
          170.7,
          171.23,
          171.33,
          168.59,
          169.02,
          169.57,
          165.29,
          170.09,
          169.76,
          168.65,
          167.73,
          167.73,
          167.93,
          167.29,
          169.21,
          170.77,
          167.84,
          168.72,
          168.06,
          168.71,
          169.67,
          165.07,
          171.32,
          169.6,
          171.27,
          168.9,
          171.43,
          173.09,
          166.74,
          172.19,
          167.41,
          172.11,
          168.26,
          170.15,
          171.66,
          168.19,
          170.13,
          167.12,
          168.2,
          170.48,
          169.73,
          172.83,
          171.5,
          167.89,
          167.69,
          171.63,
          170.3,
          166.92,
          166.41,
          171.11,
          172.55,
          167.08,
          168.64,
          168.49,
          170.21,
          170,
          169.21,
          167.85,
          172.75,
          170.19,
          168.82,
          166.03,
          168.55,
          168.61,
          168.59,
          169.91,
          169.5,
          169.28,
          168.96,
          168.43,
          167.41,
          174,
          168.48,
          168.44,
          167.25,
          168.18,
          167.75,
          166.96,
          172.47,
          169.26,
          168.97,
          169.37,
          168.96,
          171.39,
          169.58,
          171.39,
          170.84,
          168.65,
          169.97,
          168.91,
          168.85,
          170.72,
          165.14,
          170.26,
          170.23,
          170,
          168.16,
          168.86,
          168.81,
          168.61,
          170.7,
          170.13,
          167.74,
          167.12,
          171.05,
          169.74,
          169.23,
          166.93,
          165.57,
          170.07,
          168.29,
          173.18,
          170.25,
          169.74,
          166.38,
          167.01,
          170.43,
          168.7,
          168.88,
          169.1,
          169.82,
          169.47,
          169.26,
          169.26,
          169.17,
          173.51,
          171.31,
          168.14,
          169.08,
          166.8,
          168.64,
          166.29,
          170.47,
          169.91,
          171.52,
          171.58,
          169.35,
          167.7,
          167.25,
          168.34,
          168.67,
          167.64,
          171.73,
          166.77,
          166.8,
          169.86,
          169.2,
          171.79,
          170.06,
          171.87,
          167.47,
          167.57,
          165.36,
          170.39,
          167.36,
          167.18,
          168.69,
          169.4,
          168.07,
          167.67,
          167.69,
          168.81,
          169.16,
          169.29,
          172.03,
          167.75,
          169.48,
          170.93,
          170.22,
          168.82,
          171.96,
          169.35,
          172.4,
          170.63,
          169.8,
          170.35,
          166.1,
          170.37,
          174.24,
          166.88,
          168.53,
          169.71,
          170.01,
          171.75,
          168.59,
          170.39,
          168.12,
          170.63,
          169.31,
          172.37,
          172.07,
          169.55,
          167.59,
          171.2,
          169.68,
          167.9,
          168.3,
          168.33,
          169.15,
          169.62,
          169.11,
          168.94,
          170.85,
          165.82,
          170.44,
          169.38,
          169.03,
          168.34,
          169.86,
          169.19,
          168.11,
          169.44,
          172.5,
          168.19,
          166.96,
          168.06,
          167.88,
          171.88,
          166.65,
          167.91,
          169.61,
          166.49,
          171.97,
          171.24,
          167.88,
          169.18,
          171.62,
          167.11,
          166.47,
          167.51,
          170.87,
          169.23,
          170.51,
          168.32,
          170.48,
          172.21,
          166.99,
          169.78,
          168.69,
          173.17,
          167.65,
          170.83,
          167.12,
          171.32,
          171.59,
          169.71,
          170.82,
          169,
          170.51,
          167.19,
          167.97,
          168.4,
          169.61,
          165.53,
          169.74,
          169.96,
          170.87,
          171.61,
          171.06,
          171.73,
          170.33,
          168.52,
          168.48,
          169.88,
          169.16,
          170.43,
          170.74,
          167.85,
          168.46,
          170.22,
          169.5,
          171.51,
          173.67,
          169.17,
          169.34,
          171.32,
          170.07,
          172.23,
          167.8,
          166.8,
          166.06,
          167.32,
          170.01,
          169.99,
          166.13,
          167.19,
          169.73,
          170.98,
          168.28,
          168.95,
          169.62,
          170.66,
          168.79,
          168.55,
          167.94,
          168.79,
          169.06,
          173.02,
          167.27,
          169.3,
          169.51,
          167.45,
          169.67,
          169.05,
          166.88,
          173.13,
          165.75,
          168.62,
          169.04,
          167.68,
          167.91,
          168.95,
          171.23,
          167.59,
          169.91,
          167.72,
          166.8,
          168.89,
          171.3,
          169.49,
          166.33,
          170.52,
          168.22,
          168.91,
          172.32,
          167.77,
          168.43,
          171.82,
          170.85,
          170.79,
          168.68,
          170.81,
          174.03,
          171.25,
          167.97,
          164.76,
          168.32,
          166.62,
          169.49,
          170.45,
          169.63,
          167.28,
          166.38,
          170.98,
          168.79,
          167.93,
          169.07,
          170.27,
          169.82,
          170.23,
          171.25,
          167.99,
          170.81,
          169.74,
          169.62,
          166.61,
          169.32,
          168.73,
          169.5,
          167.12,
          167.12,
          168.14,
          169.21,
          166.1,
          172.24,
          170.13,
          166.89,
          170.58,
          170.83,
          168.54,
          167.76,
          171.05,
          169.44,
          170.21,
          171.52,
          167.96,
          170.7,
          168.97,
          166.66,
          170.86,
          171.81,
          167.41,
          168.11,
          167.23,
          167.65,
          168.04,
          168.33,
          169.79,
          165.32,
          168.67,
          168.71,
          170.5,
          168.39,
          170.25,
          170.06,
          169.66,
          170.01,
          170.63,
          169.44,
          168.25,
          167.94,
          169.92,
          168.56,
          171.62,
          171.16,
          172.5,
          170.65,
          169.22,
          167.74,
          169.59,
          170.33,
          165.27,
          167.99,
          167.99,
          166.6,
          168.29,
          168.18,
          168.95,
          172.14,
          168.5,
          169.54,
          170.1,
          165.28,
          167.27,
          171.37,
          166.56,
          169.91,
          165.21,
          169.08,
          169.03,
          168.54,
          167.56,
          168.39,
          171.59,
          169.06,
          172.46,
          170.93,
          168.02,
          168.54,
          169.39,
          168.74,
          169.51,
          168.9,
          173.08,
          170.07,
          171.57,
          168.74,
          169.49,
          166.08,
          168.33,
          170.22,
          167.73,
          167.77,
          170.47,
          172.5,
          171.93,
          169.27,
          168.93,
          169.56,
          168.86,
          173.02,
          170.21,
          167.31,
          171.22,
          170.41,
          168.55,
          171.18,
          170.6,
          167.26,
          167.61,
          167.72,
          169.97,
          170.29,
          167.65,
          167.03,
          170.53,
          172.28,
          171.82,
          166.19,
          170.87,
          166.11,
          171.24,
          168.34,
          170.02,
          167.02,
          168.22,
          169.56,
          170.3,
          170.76,
          169.61,
          169.22,
          168.89,
          170.55,
          168.56,
          168.42,
          171.5,
          169.95,
          166.15,
          167.54,
          172.56,
          169.34,
          168.04,
          171.22,
          172.99,
          170.74,
          167.93,
          169.21,
          169.37,
          174.9,
          168.32,
          170.82,
          168.72,
          171.24,
          171.03,
          167.55,
          169.21,
          167.61,
          166.15,
          169.73,
          167.38,
          166.92,
          168.65,
          170.01,
          171.25,
          171.22,
          166.55,
          167.41,
          169.81,
          171.93,
          168.64,
          169.94,
          170.05,
          169.37,
          168.42,
          167.96,
          171.08,
          172.22,
          169.28,
          168.96,
          168,
          170.62,
          171.32,
          169.04,
          169.37,
          167.85,
          173.79,
          171.14,
          170,
          173.15,
          170.94,
          169.25,
          170.84,
          169.87,
          170.05,
          170.15,
          165.88,
          170.36,
          169.44,
          169.82,
          169.49,
          168.63,
          169.88,
          167.3,
          169.89,
          169.25,
          170.17,
          166.93,
          166.94,
          171.1,
          165.53,
          172.09,
          170.21,
          168.69,
          168.19,
          168.92,
          167.61,
          172.26,
          169.81,
          169.21,
          172.73,
          169.84,
          168.62,
          170.2,
          168.81,
          168.61,
          169.32,
          171.43,
          171.55,
          169.03,
          172.81,
          169.48,
          169.61,
          172.24,
          171.37,
          169.16,
          167.39,
          168.01,
          171.41,
          169.94,
          170.24,
          167.38,
          169.42,
          170.39,
          170.02,
          173.64,
          166.15,
          170.06,
          173.17,
          169.43,
          168.3,
          172.56,
          168.79,
          171.94,
          173.11,
          169.02,
          167.12,
          168.5,
          171.01,
          172.38,
          167.54,
          167.15,
          170.7,
          172.51,
          169.41,
          169.97,
          170.28,
          168.88,
          170.81,
          168.71,
          172.11,
          169.01,
          169.31,
          168.44,
          171.28,
          170.22,
          167.83,
          170.12,
          168.91,
          170.95,
          169.35,
          172.42,
          166.95,
          168.97,
          167.83,
          169.54,
          169.68,
          169.92,
          172.63,
          168.72,
          169.79,
          170.27,
          168.23,
          165.61,
          170.45,
          171.49,
          170.91,
          172.64,
          168.08,
          168.93,
          168.79,
          167.16,
          169.96,
          169.75,
          170.45,
          169.16,
          171.2,
          169.51,
          169.66,
          171,
          167.64,
          170.12,
          168.91,
          170.38,
          167.46,
          166.2,
          167.67,
          170.41,
          169.86,
          169.1,
          168.91,
          171.45,
          168.94,
          167.92,
          168.39,
          168.01,
          167.36,
          169.83,
          168.28,
          171.65,
          169.78,
          167.86,
          167.09,
          169.58,
          171.94,
          167.95,
          168.97,
          170.49,
          168.8,
          172.64,
          168.31,
          166.66,
          168.92,
          170.48,
          169.59,
          170.19,
          168.42,
          171.28,
          172.14,
          170.25,
          171.93,
          167.47,
          170.48,
          167.04,
          170.91,
          167.67,
          170.68,
          167.44,
          169.27,
          170.08,
          171.12,
          168.93,
          168.55,
          166.99,
          169.76,
          167.8,
          167.1,
          170.51,
          170.61,
          168.25,
          169.64,
          171.73,
          172.14,
          169.11,
          170.32,
          173.02,
          167.16,
          169.41,
          170.68,
          169.2,
          167.9,
          170.04,
          168.91,
          168.1,
          171.86,
          170.6,
          168.68,
          167.38,
          172.54,
          170.71,
          169.74,
          170.22,
          168.09,
          169.77,
          170.26,
          169.88,
          170.62,
          167.17,
          169.54,
          171.29,
          168.8,
          171.09,
          170.09,
          169.38,
          171.88,
          169.26,
          172.84,
          169.48,
          171.08,
          170.95,
          170.35,
          167.47,
          168.41,
          170.7,
          169.58,
          171.95,
          167.31,
          169.42,
          167.74,
          169.43,
          168.93,
          170.64,
          169.88,
          172.76,
          168.06,
          170.83,
          167.37,
          167.47,
          171.01,
          171.84,
          170.53,
          169.98,
          167.5,
          170.21,
          169.57,
          170.51,
          168.12,
          169.66,
          171.31,
          174.96,
          170.41,
          168.81,
          169.86,
          171.78,
          168.25,
          168.88,
          170.28,
          168.83,
          171.23,
          166.83,
          170.11,
          168.49,
          168.23,
          169.62,
          167.55,
          165.71,
          170.18,
          170.02,
          173.45,
          170.27,
          167.1,
          165.7,
          167.51,
          172.31,
          167.23,
          173.19,
          168.93,
          170.84,
          168.09,
          169.47,
          170.62,
          168.95,
          165.29,
          171.3,
          168.91,
          169.95,
          170.49,
          169.33,
          169.23,
          169.23,
          168.08,
          169.3,
          169.82,
          166.8,
          169.21,
          171.44,
          168.17,
          170.42,
          173.38,
          172.14,
          169.95,
          169.19,
          169.2,
          167.84,
          168.4,
          170.55,
          172.99,
          171.8,
          169.65,
          168.32,
          169.22,
          168.08,
          170.19,
          168.93,
          169.44,
          170.81,
          169.9,
          173.13,
          170.92,
          168.04,
          166.19,
          169.15,
          168.85,
          170.31,
          168.59,
          170.75,
          168.74,
          166.31,
          166.51,
          171.84,
          172.48,
          170.5,
          167.71,
          167.33,
          171.25,
          168.67,
          168.51,
          173.25,
          170.07,
          171.74,
          167.4,
          168.68,
          168.39,
          169.9,
          170.37,
          168.72,
          165.84,
          168.16,
          169.11,
          169.83,
          168.99,
          171.1,
          168.17,
          170.23,
          169.64,
          166.81,
          169.32,
          167.55,
          167.95,
          169.02,
          171,
          168.49,
          170.66,
          169.16,
          171.33,
          169.04,
          168.35,
          169.63,
          169.67,
          168.83,
          171.37,
          169.17,
          166.47,
          172.3,
          167.78,
          171.22,
          168.69,
          172.1,
          169.89
         ],
         "xaxis": "x",
         "yaxis": "y"
        }
       ],
       "layout": {
        "barmode": "relative",
        "legend": {
         "tracegroupgap": 0
        },
        "margin": {
         "t": 60
        },
        "template": {
         "data": {
          "bar": [
           {
            "error_x": {
             "color": "#f2f5fa"
            },
            "error_y": {
             "color": "#f2f5fa"
            },
            "marker": {
             "line": {
              "color": "rgb(17,17,17)",
              "width": 0.5
             }
            },
            "type": "bar"
           }
          ],
          "barpolar": [
           {
            "marker": {
             "line": {
              "color": "rgb(17,17,17)",
              "width": 0.5
             }
            },
            "type": "barpolar"
           }
          ],
          "carpet": [
           {
            "aaxis": {
             "endlinecolor": "#A2B1C6",
             "gridcolor": "#506784",
             "linecolor": "#506784",
             "minorgridcolor": "#506784",
             "startlinecolor": "#A2B1C6"
            },
            "baxis": {
             "endlinecolor": "#A2B1C6",
             "gridcolor": "#506784",
             "linecolor": "#506784",
             "minorgridcolor": "#506784",
             "startlinecolor": "#A2B1C6"
            },
            "type": "carpet"
           }
          ],
          "choropleth": [
           {
            "colorbar": {
             "outlinewidth": 0,
             "ticks": ""
            },
            "type": "choropleth"
           }
          ],
          "contour": [
           {
            "colorbar": {
             "outlinewidth": 0,
             "ticks": ""
            },
            "colorscale": [
             [
              0,
              "#0d0887"
             ],
             [
              0.1111111111111111,
              "#46039f"
             ],
             [
              0.2222222222222222,
              "#7201a8"
             ],
             [
              0.3333333333333333,
              "#9c179e"
             ],
             [
              0.4444444444444444,
              "#bd3786"
             ],
             [
              0.5555555555555556,
              "#d8576b"
             ],
             [
              0.6666666666666666,
              "#ed7953"
             ],
             [
              0.7777777777777778,
              "#fb9f3a"
             ],
             [
              0.8888888888888888,
              "#fdca26"
             ],
             [
              1,
              "#f0f921"
             ]
            ],
            "type": "contour"
           }
          ],
          "contourcarpet": [
           {
            "colorbar": {
             "outlinewidth": 0,
             "ticks": ""
            },
            "type": "contourcarpet"
           }
          ],
          "heatmap": [
           {
            "colorbar": {
             "outlinewidth": 0,
             "ticks": ""
            },
            "colorscale": [
             [
              0,
              "#0d0887"
             ],
             [
              0.1111111111111111,
              "#46039f"
             ],
             [
              0.2222222222222222,
              "#7201a8"
             ],
             [
              0.3333333333333333,
              "#9c179e"
             ],
             [
              0.4444444444444444,
              "#bd3786"
             ],
             [
              0.5555555555555556,
              "#d8576b"
             ],
             [
              0.6666666666666666,
              "#ed7953"
             ],
             [
              0.7777777777777778,
              "#fb9f3a"
             ],
             [
              0.8888888888888888,
              "#fdca26"
             ],
             [
              1,
              "#f0f921"
             ]
            ],
            "type": "heatmap"
           }
          ],
          "heatmapgl": [
           {
            "colorbar": {
             "outlinewidth": 0,
             "ticks": ""
            },
            "colorscale": [
             [
              0,
              "#0d0887"
             ],
             [
              0.1111111111111111,
              "#46039f"
             ],
             [
              0.2222222222222222,
              "#7201a8"
             ],
             [
              0.3333333333333333,
              "#9c179e"
             ],
             [
              0.4444444444444444,
              "#bd3786"
             ],
             [
              0.5555555555555556,
              "#d8576b"
             ],
             [
              0.6666666666666666,
              "#ed7953"
             ],
             [
              0.7777777777777778,
              "#fb9f3a"
             ],
             [
              0.8888888888888888,
              "#fdca26"
             ],
             [
              1,
              "#f0f921"
             ]
            ],
            "type": "heatmapgl"
           }
          ],
          "histogram": [
           {
            "marker": {
             "colorbar": {
              "outlinewidth": 0,
              "ticks": ""
             }
            },
            "type": "histogram"
           }
          ],
          "histogram2d": [
           {
            "colorbar": {
             "outlinewidth": 0,
             "ticks": ""
            },
            "colorscale": [
             [
              0,
              "#0d0887"
             ],
             [
              0.1111111111111111,
              "#46039f"
             ],
             [
              0.2222222222222222,
              "#7201a8"
             ],
             [
              0.3333333333333333,
              "#9c179e"
             ],
             [
              0.4444444444444444,
              "#bd3786"
             ],
             [
              0.5555555555555556,
              "#d8576b"
             ],
             [
              0.6666666666666666,
              "#ed7953"
             ],
             [
              0.7777777777777778,
              "#fb9f3a"
             ],
             [
              0.8888888888888888,
              "#fdca26"
             ],
             [
              1,
              "#f0f921"
             ]
            ],
            "type": "histogram2d"
           }
          ],
          "histogram2dcontour": [
           {
            "colorbar": {
             "outlinewidth": 0,
             "ticks": ""
            },
            "colorscale": [
             [
              0,
              "#0d0887"
             ],
             [
              0.1111111111111111,
              "#46039f"
             ],
             [
              0.2222222222222222,
              "#7201a8"
             ],
             [
              0.3333333333333333,
              "#9c179e"
             ],
             [
              0.4444444444444444,
              "#bd3786"
             ],
             [
              0.5555555555555556,
              "#d8576b"
             ],
             [
              0.6666666666666666,
              "#ed7953"
             ],
             [
              0.7777777777777778,
              "#fb9f3a"
             ],
             [
              0.8888888888888888,
              "#fdca26"
             ],
             [
              1,
              "#f0f921"
             ]
            ],
            "type": "histogram2dcontour"
           }
          ],
          "mesh3d": [
           {
            "colorbar": {
             "outlinewidth": 0,
             "ticks": ""
            },
            "type": "mesh3d"
           }
          ],
          "parcoords": [
           {
            "line": {
             "colorbar": {
              "outlinewidth": 0,
              "ticks": ""
             }
            },
            "type": "parcoords"
           }
          ],
          "pie": [
           {
            "automargin": true,
            "type": "pie"
           }
          ],
          "scatter": [
           {
            "marker": {
             "line": {
              "color": "#283442"
             }
            },
            "type": "scatter"
           }
          ],
          "scatter3d": [
           {
            "line": {
             "colorbar": {
              "outlinewidth": 0,
              "ticks": ""
             }
            },
            "marker": {
             "colorbar": {
              "outlinewidth": 0,
              "ticks": ""
             }
            },
            "type": "scatter3d"
           }
          ],
          "scattercarpet": [
           {
            "marker": {
             "colorbar": {
              "outlinewidth": 0,
              "ticks": ""
             }
            },
            "type": "scattercarpet"
           }
          ],
          "scattergeo": [
           {
            "marker": {
             "colorbar": {
              "outlinewidth": 0,
              "ticks": ""
             }
            },
            "type": "scattergeo"
           }
          ],
          "scattergl": [
           {
            "marker": {
             "line": {
              "color": "#283442"
             }
            },
            "type": "scattergl"
           }
          ],
          "scattermapbox": [
           {
            "marker": {
             "colorbar": {
              "outlinewidth": 0,
              "ticks": ""
             }
            },
            "type": "scattermapbox"
           }
          ],
          "scatterpolar": [
           {
            "marker": {
             "colorbar": {
              "outlinewidth": 0,
              "ticks": ""
             }
            },
            "type": "scatterpolar"
           }
          ],
          "scatterpolargl": [
           {
            "marker": {
             "colorbar": {
              "outlinewidth": 0,
              "ticks": ""
             }
            },
            "type": "scatterpolargl"
           }
          ],
          "scatterternary": [
           {
            "marker": {
             "colorbar": {
              "outlinewidth": 0,
              "ticks": ""
             }
            },
            "type": "scatterternary"
           }
          ],
          "surface": [
           {
            "colorbar": {
             "outlinewidth": 0,
             "ticks": ""
            },
            "colorscale": [
             [
              0,
              "#0d0887"
             ],
             [
              0.1111111111111111,
              "#46039f"
             ],
             [
              0.2222222222222222,
              "#7201a8"
             ],
             [
              0.3333333333333333,
              "#9c179e"
             ],
             [
              0.4444444444444444,
              "#bd3786"
             ],
             [
              0.5555555555555556,
              "#d8576b"
             ],
             [
              0.6666666666666666,
              "#ed7953"
             ],
             [
              0.7777777777777778,
              "#fb9f3a"
             ],
             [
              0.8888888888888888,
              "#fdca26"
             ],
             [
              1,
              "#f0f921"
             ]
            ],
            "type": "surface"
           }
          ],
          "table": [
           {
            "cells": {
             "fill": {
              "color": "#506784"
             },
             "line": {
              "color": "rgb(17,17,17)"
             }
            },
            "header": {
             "fill": {
              "color": "#2a3f5f"
             },
             "line": {
              "color": "rgb(17,17,17)"
             }
            },
            "type": "table"
           }
          ]
         },
         "layout": {
          "annotationdefaults": {
           "arrowcolor": "#f2f5fa",
           "arrowhead": 0,
           "arrowwidth": 1
          },
          "autotypenumbers": "strict",
          "coloraxis": {
           "colorbar": {
            "outlinewidth": 0,
            "ticks": ""
           }
          },
          "colorscale": {
           "diverging": [
            [
             0,
             "#8e0152"
            ],
            [
             0.1,
             "#c51b7d"
            ],
            [
             0.2,
             "#de77ae"
            ],
            [
             0.3,
             "#f1b6da"
            ],
            [
             0.4,
             "#fde0ef"
            ],
            [
             0.5,
             "#f7f7f7"
            ],
            [
             0.6,
             "#e6f5d0"
            ],
            [
             0.7,
             "#b8e186"
            ],
            [
             0.8,
             "#7fbc41"
            ],
            [
             0.9,
             "#4d9221"
            ],
            [
             1,
             "#276419"
            ]
           ],
           "sequential": [
            [
             0,
             "#0d0887"
            ],
            [
             0.1111111111111111,
             "#46039f"
            ],
            [
             0.2222222222222222,
             "#7201a8"
            ],
            [
             0.3333333333333333,
             "#9c179e"
            ],
            [
             0.4444444444444444,
             "#bd3786"
            ],
            [
             0.5555555555555556,
             "#d8576b"
            ],
            [
             0.6666666666666666,
             "#ed7953"
            ],
            [
             0.7777777777777778,
             "#fb9f3a"
            ],
            [
             0.8888888888888888,
             "#fdca26"
            ],
            [
             1,
             "#f0f921"
            ]
           ],
           "sequentialminus": [
            [
             0,
             "#0d0887"
            ],
            [
             0.1111111111111111,
             "#46039f"
            ],
            [
             0.2222222222222222,
             "#7201a8"
            ],
            [
             0.3333333333333333,
             "#9c179e"
            ],
            [
             0.4444444444444444,
             "#bd3786"
            ],
            [
             0.5555555555555556,
             "#d8576b"
            ],
            [
             0.6666666666666666,
             "#ed7953"
            ],
            [
             0.7777777777777778,
             "#fb9f3a"
            ],
            [
             0.8888888888888888,
             "#fdca26"
            ],
            [
             1,
             "#f0f921"
            ]
           ]
          },
          "colorway": [
           "#636efa",
           "#EF553B",
           "#00cc96",
           "#ab63fa",
           "#FFA15A",
           "#19d3f3",
           "#FF6692",
           "#B6E880",
           "#FF97FF",
           "#FECB52"
          ],
          "font": {
           "color": "#f2f5fa"
          },
          "geo": {
           "bgcolor": "rgb(17,17,17)",
           "lakecolor": "rgb(17,17,17)",
           "landcolor": "rgb(17,17,17)",
           "showlakes": true,
           "showland": true,
           "subunitcolor": "#506784"
          },
          "hoverlabel": {
           "align": "left"
          },
          "hovermode": "closest",
          "mapbox": {
           "style": "dark"
          },
          "paper_bgcolor": "rgb(17,17,17)",
          "plot_bgcolor": "rgb(17,17,17)",
          "polar": {
           "angularaxis": {
            "gridcolor": "#506784",
            "linecolor": "#506784",
            "ticks": ""
           },
           "bgcolor": "rgb(17,17,17)",
           "radialaxis": {
            "gridcolor": "#506784",
            "linecolor": "#506784",
            "ticks": ""
           }
          },
          "scene": {
           "xaxis": {
            "backgroundcolor": "rgb(17,17,17)",
            "gridcolor": "#506784",
            "gridwidth": 2,
            "linecolor": "#506784",
            "showbackground": true,
            "ticks": "",
            "zerolinecolor": "#C8D4E3"
           },
           "yaxis": {
            "backgroundcolor": "rgb(17,17,17)",
            "gridcolor": "#506784",
            "gridwidth": 2,
            "linecolor": "#506784",
            "showbackground": true,
            "ticks": "",
            "zerolinecolor": "#C8D4E3"
           },
           "zaxis": {
            "backgroundcolor": "rgb(17,17,17)",
            "gridcolor": "#506784",
            "gridwidth": 2,
            "linecolor": "#506784",
            "showbackground": true,
            "ticks": "",
            "zerolinecolor": "#C8D4E3"
           }
          },
          "shapedefaults": {
           "line": {
            "color": "#f2f5fa"
           }
          },
          "sliderdefaults": {
           "bgcolor": "#C8D4E3",
           "bordercolor": "rgb(17,17,17)",
           "borderwidth": 1,
           "tickwidth": 0
          },
          "ternary": {
           "aaxis": {
            "gridcolor": "#506784",
            "linecolor": "#506784",
            "ticks": ""
           },
           "baxis": {
            "gridcolor": "#506784",
            "linecolor": "#506784",
            "ticks": ""
           },
           "bgcolor": "rgb(17,17,17)",
           "caxis": {
            "gridcolor": "#506784",
            "linecolor": "#506784",
            "ticks": ""
           }
          },
          "title": {
           "x": 0.05
          },
          "updatemenudefaults": {
           "bgcolor": "#506784",
           "borderwidth": 0
          },
          "xaxis": {
           "automargin": true,
           "gridcolor": "#283442",
           "linecolor": "#506784",
           "ticks": "",
           "title": {
            "standoff": 15
           },
           "zerolinecolor": "#283442",
           "zerolinewidth": 2
          },
          "yaxis": {
           "automargin": true,
           "gridcolor": "#283442",
           "linecolor": "#506784",
           "ticks": "",
           "title": {
            "standoff": 15
           },
           "zerolinecolor": "#283442",
           "zerolinewidth": 2
          }
         }
        },
        "xaxis": {
         "anchor": "y",
         "domain": [
          0,
          1
         ],
         "title": {
          "text": "Mean Height"
         }
        },
        "yaxis": {
         "anchor": "x",
         "domain": [
          0,
          1
         ],
         "title": {
          "text": "count"
         }
        }
       }
      },
      "text/html": [
       "<div>                            <div id=\"6ab07776-79cf-4e11-9e35-3161f45517b5\" class=\"plotly-graph-div\" style=\"height:525px; width:100%;\"></div>            <script type=\"text/javascript\">                require([\"plotly\"], function(Plotly) {                    window.PLOTLYENV=window.PLOTLYENV || {};                                    if (document.getElementById(\"6ab07776-79cf-4e11-9e35-3161f45517b5\")) {                    Plotly.newPlot(                        \"6ab07776-79cf-4e11-9e35-3161f45517b5\",                        [{\"alignmentgroup\": \"True\", \"bingroup\": \"x\", \"hovertemplate\": \"Mean Height=%{x}<br>count=%{y}<extra></extra>\", \"legendgroup\": \"\", \"marker\": {\"color\": \"#636efa\"}, \"name\": \"\", \"offsetgroup\": \"\", \"orientation\": \"v\", \"showlegend\": false, \"type\": \"histogram\", \"x\": [166.75, 170.08, 171.38, 168.33, 171.71, 170.35, 169.64, 168.9, 169.46, 169.59, 172.16, 169.7, 169.58, 168.84, 172.95, 168.69, 168.81, 170.32, 164.47, 166.73, 169.4, 169.49, 167.95, 168.64, 167.19, 168.0, 167.11, 169.03, 168.83, 169.98, 170.22, 169.48, 169.75, 170.12, 165.69, 166.18, 167.0, 170.51, 167.24, 167.08, 169.12, 170.41, 167.06, 169.47, 170.71, 168.84, 169.64, 169.51, 168.84, 168.7, 168.8, 167.83, 169.58, 170.01, 170.38, 171.0, 169.56, 167.42, 170.62, 169.7, 170.35, 168.89, 169.27, 169.33, 170.05, 171.16, 168.32, 172.77, 167.98, 169.32, 170.95, 168.16, 170.7, 171.23, 171.33, 168.59, 169.02, 169.57, 165.29, 170.09, 169.76, 168.65, 167.73, 167.73, 167.93, 167.29, 169.21, 170.77, 167.84, 168.72, 168.06, 168.71, 169.67, 165.07, 171.32, 169.6, 171.27, 168.9, 171.43, 173.09, 166.74, 172.19, 167.41, 172.11, 168.26, 170.15, 171.66, 168.19, 170.13, 167.12, 168.2, 170.48, 169.73, 172.83, 171.5, 167.89, 167.69, 171.63, 170.3, 166.92, 166.41, 171.11, 172.55, 167.08, 168.64, 168.49, 170.21, 170.0, 169.21, 167.85, 172.75, 170.19, 168.82, 166.03, 168.55, 168.61, 168.59, 169.91, 169.5, 169.28, 168.96, 168.43, 167.41, 174.0, 168.48, 168.44, 167.25, 168.18, 167.75, 166.96, 172.47, 169.26, 168.97, 169.37, 168.96, 171.39, 169.58, 171.39, 170.84, 168.65, 169.97, 168.91, 168.85, 170.72, 165.14, 170.26, 170.23, 170.0, 168.16, 168.86, 168.81, 168.61, 170.7, 170.13, 167.74, 167.12, 171.05, 169.74, 169.23, 166.93, 165.57, 170.07, 168.29, 173.18, 170.25, 169.74, 166.38, 167.01, 170.43, 168.7, 168.88, 169.1, 169.82, 169.47, 169.26, 169.26, 169.17, 173.51, 171.31, 168.14, 169.08, 166.8, 168.64, 166.29, 170.47, 169.91, 171.52, 171.58, 169.35, 167.7, 167.25, 168.34, 168.67, 167.64, 171.73, 166.77, 166.8, 169.86, 169.2, 171.79, 170.06, 171.87, 167.47, 167.57, 165.36, 170.39, 167.36, 167.18, 168.69, 169.4, 168.07, 167.67, 167.69, 168.81, 169.16, 169.29, 172.03, 167.75, 169.48, 170.93, 170.22, 168.82, 171.96, 169.35, 172.4, 170.63, 169.8, 170.35, 166.1, 170.37, 174.24, 166.88, 168.53, 169.71, 170.01, 171.75, 168.59, 170.39, 168.12, 170.63, 169.31, 172.37, 172.07, 169.55, 167.59, 171.2, 169.68, 167.9, 168.3, 168.33, 169.15, 169.62, 169.11, 168.94, 170.85, 165.82, 170.44, 169.38, 169.03, 168.34, 169.86, 169.19, 168.11, 169.44, 172.5, 168.19, 166.96, 168.06, 167.88, 171.88, 166.65, 167.91, 169.61, 166.49, 171.97, 171.24, 167.88, 169.18, 171.62, 167.11, 166.47, 167.51, 170.87, 169.23, 170.51, 168.32, 170.48, 172.21, 166.99, 169.78, 168.69, 173.17, 167.65, 170.83, 167.12, 171.32, 171.59, 169.71, 170.82, 169.0, 170.51, 167.19, 167.97, 168.4, 169.61, 165.53, 169.74, 169.96, 170.87, 171.61, 171.06, 171.73, 170.33, 168.52, 168.48, 169.88, 169.16, 170.43, 170.74, 167.85, 168.46, 170.22, 169.5, 171.51, 173.67, 169.17, 169.34, 171.32, 170.07, 172.23, 167.8, 166.8, 166.06, 167.32, 170.01, 169.99, 166.13, 167.19, 169.73, 170.98, 168.28, 168.95, 169.62, 170.66, 168.79, 168.55, 167.94, 168.79, 169.06, 173.02, 167.27, 169.3, 169.51, 167.45, 169.67, 169.05, 166.88, 173.13, 165.75, 168.62, 169.04, 167.68, 167.91, 168.95, 171.23, 167.59, 169.91, 167.72, 166.8, 168.89, 171.3, 169.49, 166.33, 170.52, 168.22, 168.91, 172.32, 167.77, 168.43, 171.82, 170.85, 170.79, 168.68, 170.81, 174.03, 171.25, 167.97, 164.76, 168.32, 166.62, 169.49, 170.45, 169.63, 167.28, 166.38, 170.98, 168.79, 167.93, 169.07, 170.27, 169.82, 170.23, 171.25, 167.99, 170.81, 169.74, 169.62, 166.61, 169.32, 168.73, 169.5, 167.12, 167.12, 168.14, 169.21, 166.1, 172.24, 170.13, 166.89, 170.58, 170.83, 168.54, 167.76, 171.05, 169.44, 170.21, 171.52, 167.96, 170.7, 168.97, 166.66, 170.86, 171.81, 167.41, 168.11, 167.23, 167.65, 168.04, 168.33, 169.79, 165.32, 168.67, 168.71, 170.5, 168.39, 170.25, 170.06, 169.66, 170.01, 170.63, 169.44, 168.25, 167.94, 169.92, 168.56, 171.62, 171.16, 172.5, 170.65, 169.22, 167.74, 169.59, 170.33, 165.27, 167.99, 167.99, 166.6, 168.29, 168.18, 168.95, 172.14, 168.5, 169.54, 170.1, 165.28, 167.27, 171.37, 166.56, 169.91, 165.21, 169.08, 169.03, 168.54, 167.56, 168.39, 171.59, 169.06, 172.46, 170.93, 168.02, 168.54, 169.39, 168.74, 169.51, 168.9, 173.08, 170.07, 171.57, 168.74, 169.49, 166.08, 168.33, 170.22, 167.73, 167.77, 170.47, 172.5, 171.93, 169.27, 168.93, 169.56, 168.86, 173.02, 170.21, 167.31, 171.22, 170.41, 168.55, 171.18, 170.6, 167.26, 167.61, 167.72, 169.97, 170.29, 167.65, 167.03, 170.53, 172.28, 171.82, 166.19, 170.87, 166.11, 171.24, 168.34, 170.02, 167.02, 168.22, 169.56, 170.3, 170.76, 169.61, 169.22, 168.89, 170.55, 168.56, 168.42, 171.5, 169.95, 166.15, 167.54, 172.56, 169.34, 168.04, 171.22, 172.99, 170.74, 167.93, 169.21, 169.37, 174.9, 168.32, 170.82, 168.72, 171.24, 171.03, 167.55, 169.21, 167.61, 166.15, 169.73, 167.38, 166.92, 168.65, 170.01, 171.25, 171.22, 166.55, 167.41, 169.81, 171.93, 168.64, 169.94, 170.05, 169.37, 168.42, 167.96, 171.08, 172.22, 169.28, 168.96, 168.0, 170.62, 171.32, 169.04, 169.37, 167.85, 173.79, 171.14, 170.0, 173.15, 170.94, 169.25, 170.84, 169.87, 170.05, 170.15, 165.88, 170.36, 169.44, 169.82, 169.49, 168.63, 169.88, 167.3, 169.89, 169.25, 170.17, 166.93, 166.94, 171.1, 165.53, 172.09, 170.21, 168.69, 168.19, 168.92, 167.61, 172.26, 169.81, 169.21, 172.73, 169.84, 168.62, 170.2, 168.81, 168.61, 169.32, 171.43, 171.55, 169.03, 172.81, 169.48, 169.61, 172.24, 171.37, 169.16, 167.39, 168.01, 171.41, 169.94, 170.24, 167.38, 169.42, 170.39, 170.02, 173.64, 166.15, 170.06, 173.17, 169.43, 168.3, 172.56, 168.79, 171.94, 173.11, 169.02, 167.12, 168.5, 171.01, 172.38, 167.54, 167.15, 170.7, 172.51, 169.41, 169.97, 170.28, 168.88, 170.81, 168.71, 172.11, 169.01, 169.31, 168.44, 171.28, 170.22, 167.83, 170.12, 168.91, 170.95, 169.35, 172.42, 166.95, 168.97, 167.83, 169.54, 169.68, 169.92, 172.63, 168.72, 169.79, 170.27, 168.23, 165.61, 170.45, 171.49, 170.91, 172.64, 168.08, 168.93, 168.79, 167.16, 169.96, 169.75, 170.45, 169.16, 171.2, 169.51, 169.66, 171.0, 167.64, 170.12, 168.91, 170.38, 167.46, 166.2, 167.67, 170.41, 169.86, 169.1, 168.91, 171.45, 168.94, 167.92, 168.39, 168.01, 167.36, 169.83, 168.28, 171.65, 169.78, 167.86, 167.09, 169.58, 171.94, 167.95, 168.97, 170.49, 168.8, 172.64, 168.31, 166.66, 168.92, 170.48, 169.59, 170.19, 168.42, 171.28, 172.14, 170.25, 171.93, 167.47, 170.48, 167.04, 170.91, 167.67, 170.68, 167.44, 169.27, 170.08, 171.12, 168.93, 168.55, 166.99, 169.76, 167.8, 167.1, 170.51, 170.61, 168.25, 169.64, 171.73, 172.14, 169.11, 170.32, 173.02, 167.16, 169.41, 170.68, 169.2, 167.9, 170.04, 168.91, 168.1, 171.86, 170.6, 168.68, 167.38, 172.54, 170.71, 169.74, 170.22, 168.09, 169.77, 170.26, 169.88, 170.62, 167.17, 169.54, 171.29, 168.8, 171.09, 170.09, 169.38, 171.88, 169.26, 172.84, 169.48, 171.08, 170.95, 170.35, 167.47, 168.41, 170.7, 169.58, 171.95, 167.31, 169.42, 167.74, 169.43, 168.93, 170.64, 169.88, 172.76, 168.06, 170.83, 167.37, 167.47, 171.01, 171.84, 170.53, 169.98, 167.5, 170.21, 169.57, 170.51, 168.12, 169.66, 171.31, 174.96, 170.41, 168.81, 169.86, 171.78, 168.25, 168.88, 170.28, 168.83, 171.23, 166.83, 170.11, 168.49, 168.23, 169.62, 167.55, 165.71, 170.18, 170.02, 173.45, 170.27, 167.1, 165.7, 167.51, 172.31, 167.23, 173.19, 168.93, 170.84, 168.09, 169.47, 170.62, 168.95, 165.29, 171.3, 168.91, 169.95, 170.49, 169.33, 169.23, 169.23, 168.08, 169.3, 169.82, 166.8, 169.21, 171.44, 168.17, 170.42, 173.38, 172.14, 169.95, 169.19, 169.2, 167.84, 168.4, 170.55, 172.99, 171.8, 169.65, 168.32, 169.22, 168.08, 170.19, 168.93, 169.44, 170.81, 169.9, 173.13, 170.92, 168.04, 166.19, 169.15, 168.85, 170.31, 168.59, 170.75, 168.74, 166.31, 166.51, 171.84, 172.48, 170.5, 167.71, 167.33, 171.25, 168.67, 168.51, 173.25, 170.07, 171.74, 167.4, 168.68, 168.39, 169.9, 170.37, 168.72, 165.84, 168.16, 169.11, 169.83, 168.99, 171.1, 168.17, 170.23, 169.64, 166.81, 169.32, 167.55, 167.95, 169.02, 171.0, 168.49, 170.66, 169.16, 171.33, 169.04, 168.35, 169.63, 169.67, 168.83, 171.37, 169.17, 166.47, 172.3, 167.78, 171.22, 168.69, 172.1, 169.89], \"xaxis\": \"x\", \"yaxis\": \"y\"}],                        {\"barmode\": \"relative\", \"legend\": {\"tracegroupgap\": 0}, \"margin\": {\"t\": 60}, \"template\": {\"data\": {\"bar\": [{\"error_x\": {\"color\": \"#f2f5fa\"}, \"error_y\": {\"color\": \"#f2f5fa\"}, \"marker\": {\"line\": {\"color\": \"rgb(17,17,17)\", \"width\": 0.5}}, \"type\": \"bar\"}], \"barpolar\": [{\"marker\": {\"line\": {\"color\": \"rgb(17,17,17)\", \"width\": 0.5}}, \"type\": \"barpolar\"}], \"carpet\": [{\"aaxis\": {\"endlinecolor\": \"#A2B1C6\", \"gridcolor\": \"#506784\", \"linecolor\": \"#506784\", \"minorgridcolor\": \"#506784\", \"startlinecolor\": \"#A2B1C6\"}, \"baxis\": {\"endlinecolor\": \"#A2B1C6\", \"gridcolor\": \"#506784\", \"linecolor\": \"#506784\", \"minorgridcolor\": \"#506784\", \"startlinecolor\": \"#A2B1C6\"}, \"type\": \"carpet\"}], \"choropleth\": [{\"colorbar\": {\"outlinewidth\": 0, \"ticks\": \"\"}, \"type\": \"choropleth\"}], \"contour\": [{\"colorbar\": {\"outlinewidth\": 0, \"ticks\": \"\"}, \"colorscale\": [[0.0, \"#0d0887\"], [0.1111111111111111, \"#46039f\"], [0.2222222222222222, \"#7201a8\"], [0.3333333333333333, \"#9c179e\"], [0.4444444444444444, \"#bd3786\"], [0.5555555555555556, \"#d8576b\"], [0.6666666666666666, \"#ed7953\"], [0.7777777777777778, \"#fb9f3a\"], [0.8888888888888888, \"#fdca26\"], [1.0, \"#f0f921\"]], \"type\": \"contour\"}], \"contourcarpet\": [{\"colorbar\": {\"outlinewidth\": 0, \"ticks\": \"\"}, \"type\": \"contourcarpet\"}], \"heatmap\": [{\"colorbar\": {\"outlinewidth\": 0, \"ticks\": \"\"}, \"colorscale\": [[0.0, \"#0d0887\"], [0.1111111111111111, \"#46039f\"], [0.2222222222222222, \"#7201a8\"], [0.3333333333333333, \"#9c179e\"], [0.4444444444444444, \"#bd3786\"], [0.5555555555555556, \"#d8576b\"], [0.6666666666666666, \"#ed7953\"], [0.7777777777777778, \"#fb9f3a\"], [0.8888888888888888, \"#fdca26\"], [1.0, \"#f0f921\"]], \"type\": \"heatmap\"}], \"heatmapgl\": [{\"colorbar\": {\"outlinewidth\": 0, \"ticks\": \"\"}, \"colorscale\": [[0.0, \"#0d0887\"], [0.1111111111111111, \"#46039f\"], [0.2222222222222222, \"#7201a8\"], [0.3333333333333333, \"#9c179e\"], [0.4444444444444444, \"#bd3786\"], [0.5555555555555556, \"#d8576b\"], [0.6666666666666666, \"#ed7953\"], [0.7777777777777778, \"#fb9f3a\"], [0.8888888888888888, \"#fdca26\"], [1.0, \"#f0f921\"]], \"type\": \"heatmapgl\"}], \"histogram\": [{\"marker\": {\"colorbar\": {\"outlinewidth\": 0, \"ticks\": \"\"}}, \"type\": \"histogram\"}], \"histogram2d\": [{\"colorbar\": {\"outlinewidth\": 0, \"ticks\": \"\"}, \"colorscale\": [[0.0, \"#0d0887\"], [0.1111111111111111, \"#46039f\"], [0.2222222222222222, \"#7201a8\"], [0.3333333333333333, \"#9c179e\"], [0.4444444444444444, \"#bd3786\"], [0.5555555555555556, \"#d8576b\"], [0.6666666666666666, \"#ed7953\"], [0.7777777777777778, \"#fb9f3a\"], [0.8888888888888888, \"#fdca26\"], [1.0, \"#f0f921\"]], \"type\": \"histogram2d\"}], \"histogram2dcontour\": [{\"colorbar\": {\"outlinewidth\": 0, \"ticks\": \"\"}, \"colorscale\": [[0.0, \"#0d0887\"], [0.1111111111111111, \"#46039f\"], [0.2222222222222222, \"#7201a8\"], [0.3333333333333333, \"#9c179e\"], [0.4444444444444444, \"#bd3786\"], [0.5555555555555556, \"#d8576b\"], [0.6666666666666666, \"#ed7953\"], [0.7777777777777778, \"#fb9f3a\"], [0.8888888888888888, \"#fdca26\"], [1.0, \"#f0f921\"]], \"type\": \"histogram2dcontour\"}], \"mesh3d\": [{\"colorbar\": {\"outlinewidth\": 0, \"ticks\": \"\"}, \"type\": \"mesh3d\"}], \"parcoords\": [{\"line\": {\"colorbar\": {\"outlinewidth\": 0, \"ticks\": \"\"}}, \"type\": \"parcoords\"}], \"pie\": [{\"automargin\": true, \"type\": \"pie\"}], \"scatter\": [{\"marker\": {\"line\": {\"color\": \"#283442\"}}, \"type\": \"scatter\"}], \"scatter3d\": [{\"line\": {\"colorbar\": {\"outlinewidth\": 0, \"ticks\": \"\"}}, \"marker\": {\"colorbar\": {\"outlinewidth\": 0, \"ticks\": \"\"}}, \"type\": \"scatter3d\"}], \"scattercarpet\": [{\"marker\": {\"colorbar\": {\"outlinewidth\": 0, \"ticks\": \"\"}}, \"type\": \"scattercarpet\"}], \"scattergeo\": [{\"marker\": {\"colorbar\": {\"outlinewidth\": 0, \"ticks\": \"\"}}, \"type\": \"scattergeo\"}], \"scattergl\": [{\"marker\": {\"line\": {\"color\": \"#283442\"}}, \"type\": \"scattergl\"}], \"scattermapbox\": [{\"marker\": {\"colorbar\": {\"outlinewidth\": 0, \"ticks\": \"\"}}, \"type\": \"scattermapbox\"}], \"scatterpolar\": [{\"marker\": {\"colorbar\": {\"outlinewidth\": 0, \"ticks\": \"\"}}, \"type\": \"scatterpolar\"}], \"scatterpolargl\": [{\"marker\": {\"colorbar\": {\"outlinewidth\": 0, \"ticks\": \"\"}}, \"type\": \"scatterpolargl\"}], \"scatterternary\": [{\"marker\": {\"colorbar\": {\"outlinewidth\": 0, \"ticks\": \"\"}}, \"type\": \"scatterternary\"}], \"surface\": [{\"colorbar\": {\"outlinewidth\": 0, \"ticks\": \"\"}, \"colorscale\": [[0.0, \"#0d0887\"], [0.1111111111111111, \"#46039f\"], [0.2222222222222222, \"#7201a8\"], [0.3333333333333333, \"#9c179e\"], [0.4444444444444444, \"#bd3786\"], [0.5555555555555556, \"#d8576b\"], [0.6666666666666666, \"#ed7953\"], [0.7777777777777778, \"#fb9f3a\"], [0.8888888888888888, \"#fdca26\"], [1.0, \"#f0f921\"]], \"type\": \"surface\"}], \"table\": [{\"cells\": {\"fill\": {\"color\": \"#506784\"}, \"line\": {\"color\": \"rgb(17,17,17)\"}}, \"header\": {\"fill\": {\"color\": \"#2a3f5f\"}, \"line\": {\"color\": \"rgb(17,17,17)\"}}, \"type\": \"table\"}]}, \"layout\": {\"annotationdefaults\": {\"arrowcolor\": \"#f2f5fa\", \"arrowhead\": 0, \"arrowwidth\": 1}, \"autotypenumbers\": \"strict\", \"coloraxis\": {\"colorbar\": {\"outlinewidth\": 0, \"ticks\": \"\"}}, \"colorscale\": {\"diverging\": [[0, \"#8e0152\"], [0.1, \"#c51b7d\"], [0.2, \"#de77ae\"], [0.3, \"#f1b6da\"], [0.4, \"#fde0ef\"], [0.5, \"#f7f7f7\"], [0.6, \"#e6f5d0\"], [0.7, \"#b8e186\"], [0.8, \"#7fbc41\"], [0.9, \"#4d9221\"], [1, \"#276419\"]], \"sequential\": [[0.0, \"#0d0887\"], [0.1111111111111111, \"#46039f\"], [0.2222222222222222, \"#7201a8\"], [0.3333333333333333, \"#9c179e\"], [0.4444444444444444, \"#bd3786\"], [0.5555555555555556, \"#d8576b\"], [0.6666666666666666, \"#ed7953\"], [0.7777777777777778, \"#fb9f3a\"], [0.8888888888888888, \"#fdca26\"], [1.0, \"#f0f921\"]], \"sequentialminus\": [[0.0, \"#0d0887\"], [0.1111111111111111, \"#46039f\"], [0.2222222222222222, \"#7201a8\"], [0.3333333333333333, \"#9c179e\"], [0.4444444444444444, \"#bd3786\"], [0.5555555555555556, \"#d8576b\"], [0.6666666666666666, \"#ed7953\"], [0.7777777777777778, \"#fb9f3a\"], [0.8888888888888888, \"#fdca26\"], [1.0, \"#f0f921\"]]}, \"colorway\": [\"#636efa\", \"#EF553B\", \"#00cc96\", \"#ab63fa\", \"#FFA15A\", \"#19d3f3\", \"#FF6692\", \"#B6E880\", \"#FF97FF\", \"#FECB52\"], \"font\": {\"color\": \"#f2f5fa\"}, \"geo\": {\"bgcolor\": \"rgb(17,17,17)\", \"lakecolor\": \"rgb(17,17,17)\", \"landcolor\": \"rgb(17,17,17)\", \"showlakes\": true, \"showland\": true, \"subunitcolor\": \"#506784\"}, \"hoverlabel\": {\"align\": \"left\"}, \"hovermode\": \"closest\", \"mapbox\": {\"style\": \"dark\"}, \"paper_bgcolor\": \"rgb(17,17,17)\", \"plot_bgcolor\": \"rgb(17,17,17)\", \"polar\": {\"angularaxis\": {\"gridcolor\": \"#506784\", \"linecolor\": \"#506784\", \"ticks\": \"\"}, \"bgcolor\": \"rgb(17,17,17)\", \"radialaxis\": {\"gridcolor\": \"#506784\", \"linecolor\": \"#506784\", \"ticks\": \"\"}}, \"scene\": {\"xaxis\": {\"backgroundcolor\": \"rgb(17,17,17)\", \"gridcolor\": \"#506784\", \"gridwidth\": 2, \"linecolor\": \"#506784\", \"showbackground\": true, \"ticks\": \"\", \"zerolinecolor\": \"#C8D4E3\"}, \"yaxis\": {\"backgroundcolor\": \"rgb(17,17,17)\", \"gridcolor\": \"#506784\", \"gridwidth\": 2, \"linecolor\": \"#506784\", \"showbackground\": true, \"ticks\": \"\", \"zerolinecolor\": \"#C8D4E3\"}, \"zaxis\": {\"backgroundcolor\": \"rgb(17,17,17)\", \"gridcolor\": \"#506784\", \"gridwidth\": 2, \"linecolor\": \"#506784\", \"showbackground\": true, \"ticks\": \"\", \"zerolinecolor\": \"#C8D4E3\"}}, \"shapedefaults\": {\"line\": {\"color\": \"#f2f5fa\"}}, \"sliderdefaults\": {\"bgcolor\": \"#C8D4E3\", \"bordercolor\": \"rgb(17,17,17)\", \"borderwidth\": 1, \"tickwidth\": 0}, \"ternary\": {\"aaxis\": {\"gridcolor\": \"#506784\", \"linecolor\": \"#506784\", \"ticks\": \"\"}, \"baxis\": {\"gridcolor\": \"#506784\", \"linecolor\": \"#506784\", \"ticks\": \"\"}, \"bgcolor\": \"rgb(17,17,17)\", \"caxis\": {\"gridcolor\": \"#506784\", \"linecolor\": \"#506784\", \"ticks\": \"\"}}, \"title\": {\"x\": 0.05}, \"updatemenudefaults\": {\"bgcolor\": \"#506784\", \"borderwidth\": 0}, \"xaxis\": {\"automargin\": true, \"gridcolor\": \"#283442\", \"linecolor\": \"#506784\", \"ticks\": \"\", \"title\": {\"standoff\": 15}, \"zerolinecolor\": \"#283442\", \"zerolinewidth\": 2}, \"yaxis\": {\"automargin\": true, \"gridcolor\": \"#283442\", \"linecolor\": \"#506784\", \"ticks\": \"\", \"title\": {\"standoff\": 15}, \"zerolinecolor\": \"#283442\", \"zerolinewidth\": 2}}}, \"xaxis\": {\"anchor\": \"y\", \"domain\": [0.0, 1.0], \"title\": {\"text\": \"Mean Height\"}}, \"yaxis\": {\"anchor\": \"x\", \"domain\": [0.0, 1.0], \"title\": {\"text\": \"count\"}}},                        {\"responsive\": true}                    ).then(function(){\n",
       "                            \n",
       "var gd = document.getElementById('6ab07776-79cf-4e11-9e35-3161f45517b5');\n",
       "var x = new MutationObserver(function (mutations, observer) {{\n",
       "        var display = window.getComputedStyle(gd).display;\n",
       "        if (!display || display === 'none') {{\n",
       "            console.log([gd, 'removed!']);\n",
       "            Plotly.purge(gd);\n",
       "            observer.disconnect();\n",
       "        }}\n",
       "}});\n",
       "\n",
       "// Listen for the removal of the full notebook cells\n",
       "var notebookContainer = gd.closest('#notebook-container');\n",
       "if (notebookContainer) {{\n",
       "    x.observe(notebookContainer, {childList: true});\n",
       "}}\n",
       "\n",
       "// Listen for the clearing of the current output cell\n",
       "var outputEl = gd.closest('.output');\n",
       "if (outputEl) {{\n",
       "    x.observe(outputEl, {childList: true});\n",
       "}}\n",
       "\n",
       "                        })                };                });            </script>        </div>"
      ]
     },
     "metadata": {},
     "output_type": "display_data"
    }
   ],
   "source": [
    "#  select 100 people but save the mean height, repeat 1000 times\n",
    "#  normal distribution, central limit theorem \n",
    "mean_ht = [np.random.choice(population_height,\n",
    "                           size= 100,\n",
    "                           replace=False).mean() for i in range(1_000)]\n",
    "\n",
    "px.histogram(x= mean_ht,\n",
    "            labels= {'x':'Mean Height','count':'Frequency'}).show()"
   ]
  },
  {
   "cell_type": "markdown",
   "id": "informational-attribute",
   "metadata": {},
   "source": [
    "**Z** distribution is used to know the **std** of the variable in the population, this is rare, need large sample size to approximate the z distribution\n",
    "\n",
    "**t** distribution is the **std** that is *unknown* in most cases, based on degree of freedom, use PPF for the t-distribution "
   ]
  },
  {
   "cell_type": "code",
   "execution_count": 162,
   "id": "pregnant-application",
   "metadata": {},
   "outputs": [
    {
     "name": "stdout",
     "output_type": "stream",
     "text": [
      "-2.4572615424005706 2.4572615424005697\n",
      "[-2.4572615424005706, -2.407619895079347, -2.3579782477581235, -2.3083366004368995, -2.258694953115676]\n"
     ]
    },
    {
     "data": {
      "application/vnd.plotly.v1+json": {
       "config": {
        "plotlyServerURL": "https://plot.ly"
       },
       "data": [
        {
         "hovertemplate": "x=%{x}<br>y=%{y}<extra></extra>",
         "legendgroup": "",
         "line": {
          "color": "#636efa",
          "dash": "solid"
         },
         "mode": "lines",
         "name": "",
         "orientation": "v",
         "showlegend": false,
         "type": "scatter",
         "x": [
          -2.4572615424005706,
          -2.407619895079347,
          -2.3579782477581235,
          -2.3083366004368995,
          -2.258694953115676,
          -2.2090533057944524,
          -2.159411658473229,
          -2.1097700111520052,
          -2.0601283638307812,
          -2.0104867165095577,
          -1.9608450691883341,
          -1.9112034218671106,
          -1.861561774545887,
          -1.8119201272246632,
          -1.7622784799034397,
          -1.7126368325822159,
          -1.6629951852609923,
          -1.6133535379397688,
          -1.563711890618545,
          -1.5140702432973214,
          -1.4644285959760976,
          -1.414786948654874,
          -1.3651453013336505,
          -1.3155036540124267,
          -1.2658620066912032,
          -1.2162203593699796,
          -1.1665787120487559,
          -1.1169370647275323,
          -1.0672954174063087,
          -1.017653770085085,
          -0.9680121227638614,
          -0.9183704754426376,
          -0.868728828121414,
          -0.8190871808001905,
          -0.7694455334789667,
          -0.7198038861577432,
          -0.6701622388365194,
          -0.6205205915152958,
          -0.5708789441940723,
          -0.5212372968728485,
          -0.4715956495516249,
          -0.42195400223040114,
          -0.3723123549091776,
          -0.322670707587954,
          -0.27302906026673046,
          -0.2233874129455069,
          -0.1737457656242829,
          -0.12410411830305934,
          -0.07446247098183578,
          -0.024820823660612223,
          0.024820823660611335,
          0.07446247098183534,
          0.1241041183030589,
          0.17374576562428246,
          0.22338741294550601,
          0.2730290602667296,
          0.32267070758795313,
          0.37231235490917713,
          0.4219540022304007,
          0.47159564955162425,
          0.5212372968728478,
          0.5708789441940714,
          0.6205205915152954,
          0.6701622388365189,
          0.7198038861577425,
          0.769445533478966,
          0.8190871808001896,
          0.8687288281214136,
          0.9183704754426372,
          0.9680121227638607,
          1.0176537700850843,
          1.0672954174063078,
          1.1169370647275318,
          1.1665787120487554,
          1.216220359369979,
          1.2658620066912025,
          1.315503654012426,
          1.3651453013336496,
          1.4147869486548736,
          1.4644285959760972,
          1.5140702432973208,
          1.5637118906185448,
          1.6133535379397683,
          1.6629951852609919,
          1.7126368325822154,
          1.762278479903439,
          1.8119201272246626,
          1.8615617745458861,
          1.9112034218671097,
          1.9608450691883332,
          2.010486716509557,
          2.0601283638307812,
          2.109770011152005,
          2.1594116584732284,
          2.209053305794452,
          2.2586949531156755,
          2.308336600436899,
          2.3579782477581226,
          2.407619895079346,
          2.4572615424005697
         ],
         "xaxis": "x",
         "y": [
          0.02665214220345808,
          0.029698495124487845,
          0.03302003535669454,
          0.03663206435224366,
          0.04054954840560043,
          0.04478694292349345,
          0.049358003635151186,
          0.054275585974773305,
          0.05955143419009686,
          0.06519596205762482,
          0.07121802741030074,
          0.07762470300022481,
          0.08442104652000788,
          0.09160987288379509,
          0.09919153211490578,
          0.10716369639347652,
          0.11552115997669092,
          0.12425565580877511,
          0.13335569268119776,
          0.14280641677954986,
          0.15258950135757612,
          0.16268306810723343,
          0.1730616435443722,
          0.18369615340220186,
          0.19455395762037694,
          0.20559892803944185,
          0.21679157036348465,
          0.22808919134504188,
          0.2394461114842625,
          0.2508139228294869,
          0.2621417907307059,
          0.2733767976441347,
          0.2844643263297956,
          0.2953484790397197,
          0.30597252857781293,
          0.3162793964392877,
          0.3262121526232731,
          0.3357145311714946,
          0.34473145503239644,
          0.3532095634959414,
          0.3610977351999095,
          0.3683475995820787,
          0.3749140296500157,
          0.380755609064598,
          0.3858350667852809,
          0.39011967290219984,
          0.3935815897772622,
          0.3961981732255311,
          0.3979522191788785,
          0.3988321520731774,
          0.3988321520731774,
          0.3979522191788785,
          0.3961981732255311,
          0.3935815897772622,
          0.3901196729021999,
          0.3858350667852809,
          0.380755609064598,
          0.3749140296500157,
          0.36834759958207874,
          0.36109773519990956,
          0.3532095634959414,
          0.34473145503239644,
          0.3357145311714946,
          0.32621215262327313,
          0.3162793964392877,
          0.30597252857781293,
          0.2953484790397197,
          0.2844643263297956,
          0.2733767976441348,
          0.2621417907307059,
          0.2508139228294869,
          0.23944611148426256,
          0.22808919134504194,
          0.21679157036348465,
          0.20559892803944185,
          0.19455395762037703,
          0.18369615340220188,
          0.1730616435443722,
          0.16268306810723343,
          0.15258950135757623,
          0.1428064167795499,
          0.13335569268119776,
          0.12425565580877511,
          0.11552115997669092,
          0.10716369639347659,
          0.09919153211490578,
          0.09160987288379509,
          0.08442104652000794,
          0.0776247030002248,
          0.07121802741030075,
          0.06519596205762487,
          0.05955143419009686,
          0.054275585974773326,
          0.049358003635151144,
          0.04478694292349345,
          0.04054954840560047,
          0.03663206435224366,
          0.03302003535669454,
          0.029698495124487825,
          0.02665214220345808
         ],
         "yaxis": "y"
        }
       ],
       "layout": {
        "legend": {
         "tracegroupgap": 0
        },
        "template": {
         "data": {
          "bar": [
           {
            "error_x": {
             "color": "#f2f5fa"
            },
            "error_y": {
             "color": "#f2f5fa"
            },
            "marker": {
             "line": {
              "color": "rgb(17,17,17)",
              "width": 0.5
             }
            },
            "type": "bar"
           }
          ],
          "barpolar": [
           {
            "marker": {
             "line": {
              "color": "rgb(17,17,17)",
              "width": 0.5
             }
            },
            "type": "barpolar"
           }
          ],
          "carpet": [
           {
            "aaxis": {
             "endlinecolor": "#A2B1C6",
             "gridcolor": "#506784",
             "linecolor": "#506784",
             "minorgridcolor": "#506784",
             "startlinecolor": "#A2B1C6"
            },
            "baxis": {
             "endlinecolor": "#A2B1C6",
             "gridcolor": "#506784",
             "linecolor": "#506784",
             "minorgridcolor": "#506784",
             "startlinecolor": "#A2B1C6"
            },
            "type": "carpet"
           }
          ],
          "choropleth": [
           {
            "colorbar": {
             "outlinewidth": 0,
             "ticks": ""
            },
            "type": "choropleth"
           }
          ],
          "contour": [
           {
            "colorbar": {
             "outlinewidth": 0,
             "ticks": ""
            },
            "colorscale": [
             [
              0,
              "#0d0887"
             ],
             [
              0.1111111111111111,
              "#46039f"
             ],
             [
              0.2222222222222222,
              "#7201a8"
             ],
             [
              0.3333333333333333,
              "#9c179e"
             ],
             [
              0.4444444444444444,
              "#bd3786"
             ],
             [
              0.5555555555555556,
              "#d8576b"
             ],
             [
              0.6666666666666666,
              "#ed7953"
             ],
             [
              0.7777777777777778,
              "#fb9f3a"
             ],
             [
              0.8888888888888888,
              "#fdca26"
             ],
             [
              1,
              "#f0f921"
             ]
            ],
            "type": "contour"
           }
          ],
          "contourcarpet": [
           {
            "colorbar": {
             "outlinewidth": 0,
             "ticks": ""
            },
            "type": "contourcarpet"
           }
          ],
          "heatmap": [
           {
            "colorbar": {
             "outlinewidth": 0,
             "ticks": ""
            },
            "colorscale": [
             [
              0,
              "#0d0887"
             ],
             [
              0.1111111111111111,
              "#46039f"
             ],
             [
              0.2222222222222222,
              "#7201a8"
             ],
             [
              0.3333333333333333,
              "#9c179e"
             ],
             [
              0.4444444444444444,
              "#bd3786"
             ],
             [
              0.5555555555555556,
              "#d8576b"
             ],
             [
              0.6666666666666666,
              "#ed7953"
             ],
             [
              0.7777777777777778,
              "#fb9f3a"
             ],
             [
              0.8888888888888888,
              "#fdca26"
             ],
             [
              1,
              "#f0f921"
             ]
            ],
            "type": "heatmap"
           }
          ],
          "heatmapgl": [
           {
            "colorbar": {
             "outlinewidth": 0,
             "ticks": ""
            },
            "colorscale": [
             [
              0,
              "#0d0887"
             ],
             [
              0.1111111111111111,
              "#46039f"
             ],
             [
              0.2222222222222222,
              "#7201a8"
             ],
             [
              0.3333333333333333,
              "#9c179e"
             ],
             [
              0.4444444444444444,
              "#bd3786"
             ],
             [
              0.5555555555555556,
              "#d8576b"
             ],
             [
              0.6666666666666666,
              "#ed7953"
             ],
             [
              0.7777777777777778,
              "#fb9f3a"
             ],
             [
              0.8888888888888888,
              "#fdca26"
             ],
             [
              1,
              "#f0f921"
             ]
            ],
            "type": "heatmapgl"
           }
          ],
          "histogram": [
           {
            "marker": {
             "colorbar": {
              "outlinewidth": 0,
              "ticks": ""
             }
            },
            "type": "histogram"
           }
          ],
          "histogram2d": [
           {
            "colorbar": {
             "outlinewidth": 0,
             "ticks": ""
            },
            "colorscale": [
             [
              0,
              "#0d0887"
             ],
             [
              0.1111111111111111,
              "#46039f"
             ],
             [
              0.2222222222222222,
              "#7201a8"
             ],
             [
              0.3333333333333333,
              "#9c179e"
             ],
             [
              0.4444444444444444,
              "#bd3786"
             ],
             [
              0.5555555555555556,
              "#d8576b"
             ],
             [
              0.6666666666666666,
              "#ed7953"
             ],
             [
              0.7777777777777778,
              "#fb9f3a"
             ],
             [
              0.8888888888888888,
              "#fdca26"
             ],
             [
              1,
              "#f0f921"
             ]
            ],
            "type": "histogram2d"
           }
          ],
          "histogram2dcontour": [
           {
            "colorbar": {
             "outlinewidth": 0,
             "ticks": ""
            },
            "colorscale": [
             [
              0,
              "#0d0887"
             ],
             [
              0.1111111111111111,
              "#46039f"
             ],
             [
              0.2222222222222222,
              "#7201a8"
             ],
             [
              0.3333333333333333,
              "#9c179e"
             ],
             [
              0.4444444444444444,
              "#bd3786"
             ],
             [
              0.5555555555555556,
              "#d8576b"
             ],
             [
              0.6666666666666666,
              "#ed7953"
             ],
             [
              0.7777777777777778,
              "#fb9f3a"
             ],
             [
              0.8888888888888888,
              "#fdca26"
             ],
             [
              1,
              "#f0f921"
             ]
            ],
            "type": "histogram2dcontour"
           }
          ],
          "mesh3d": [
           {
            "colorbar": {
             "outlinewidth": 0,
             "ticks": ""
            },
            "type": "mesh3d"
           }
          ],
          "parcoords": [
           {
            "line": {
             "colorbar": {
              "outlinewidth": 0,
              "ticks": ""
             }
            },
            "type": "parcoords"
           }
          ],
          "pie": [
           {
            "automargin": true,
            "type": "pie"
           }
          ],
          "scatter": [
           {
            "marker": {
             "line": {
              "color": "#283442"
             }
            },
            "type": "scatter"
           }
          ],
          "scatter3d": [
           {
            "line": {
             "colorbar": {
              "outlinewidth": 0,
              "ticks": ""
             }
            },
            "marker": {
             "colorbar": {
              "outlinewidth": 0,
              "ticks": ""
             }
            },
            "type": "scatter3d"
           }
          ],
          "scattercarpet": [
           {
            "marker": {
             "colorbar": {
              "outlinewidth": 0,
              "ticks": ""
             }
            },
            "type": "scattercarpet"
           }
          ],
          "scattergeo": [
           {
            "marker": {
             "colorbar": {
              "outlinewidth": 0,
              "ticks": ""
             }
            },
            "type": "scattergeo"
           }
          ],
          "scattergl": [
           {
            "marker": {
             "line": {
              "color": "#283442"
             }
            },
            "type": "scattergl"
           }
          ],
          "scattermapbox": [
           {
            "marker": {
             "colorbar": {
              "outlinewidth": 0,
              "ticks": ""
             }
            },
            "type": "scattermapbox"
           }
          ],
          "scatterpolar": [
           {
            "marker": {
             "colorbar": {
              "outlinewidth": 0,
              "ticks": ""
             }
            },
            "type": "scatterpolar"
           }
          ],
          "scatterpolargl": [
           {
            "marker": {
             "colorbar": {
              "outlinewidth": 0,
              "ticks": ""
             }
            },
            "type": "scatterpolargl"
           }
          ],
          "scatterternary": [
           {
            "marker": {
             "colorbar": {
              "outlinewidth": 0,
              "ticks": ""
             }
            },
            "type": "scatterternary"
           }
          ],
          "surface": [
           {
            "colorbar": {
             "outlinewidth": 0,
             "ticks": ""
            },
            "colorscale": [
             [
              0,
              "#0d0887"
             ],
             [
              0.1111111111111111,
              "#46039f"
             ],
             [
              0.2222222222222222,
              "#7201a8"
             ],
             [
              0.3333333333333333,
              "#9c179e"
             ],
             [
              0.4444444444444444,
              "#bd3786"
             ],
             [
              0.5555555555555556,
              "#d8576b"
             ],
             [
              0.6666666666666666,
              "#ed7953"
             ],
             [
              0.7777777777777778,
              "#fb9f3a"
             ],
             [
              0.8888888888888888,
              "#fdca26"
             ],
             [
              1,
              "#f0f921"
             ]
            ],
            "type": "surface"
           }
          ],
          "table": [
           {
            "cells": {
             "fill": {
              "color": "#506784"
             },
             "line": {
              "color": "rgb(17,17,17)"
             }
            },
            "header": {
             "fill": {
              "color": "#2a3f5f"
             },
             "line": {
              "color": "rgb(17,17,17)"
             }
            },
            "type": "table"
           }
          ]
         },
         "layout": {
          "annotationdefaults": {
           "arrowcolor": "#f2f5fa",
           "arrowhead": 0,
           "arrowwidth": 1
          },
          "autotypenumbers": "strict",
          "coloraxis": {
           "colorbar": {
            "outlinewidth": 0,
            "ticks": ""
           }
          },
          "colorscale": {
           "diverging": [
            [
             0,
             "#8e0152"
            ],
            [
             0.1,
             "#c51b7d"
            ],
            [
             0.2,
             "#de77ae"
            ],
            [
             0.3,
             "#f1b6da"
            ],
            [
             0.4,
             "#fde0ef"
            ],
            [
             0.5,
             "#f7f7f7"
            ],
            [
             0.6,
             "#e6f5d0"
            ],
            [
             0.7,
             "#b8e186"
            ],
            [
             0.8,
             "#7fbc41"
            ],
            [
             0.9,
             "#4d9221"
            ],
            [
             1,
             "#276419"
            ]
           ],
           "sequential": [
            [
             0,
             "#0d0887"
            ],
            [
             0.1111111111111111,
             "#46039f"
            ],
            [
             0.2222222222222222,
             "#7201a8"
            ],
            [
             0.3333333333333333,
             "#9c179e"
            ],
            [
             0.4444444444444444,
             "#bd3786"
            ],
            [
             0.5555555555555556,
             "#d8576b"
            ],
            [
             0.6666666666666666,
             "#ed7953"
            ],
            [
             0.7777777777777778,
             "#fb9f3a"
            ],
            [
             0.8888888888888888,
             "#fdca26"
            ],
            [
             1,
             "#f0f921"
            ]
           ],
           "sequentialminus": [
            [
             0,
             "#0d0887"
            ],
            [
             0.1111111111111111,
             "#46039f"
            ],
            [
             0.2222222222222222,
             "#7201a8"
            ],
            [
             0.3333333333333333,
             "#9c179e"
            ],
            [
             0.4444444444444444,
             "#bd3786"
            ],
            [
             0.5555555555555556,
             "#d8576b"
            ],
            [
             0.6666666666666666,
             "#ed7953"
            ],
            [
             0.7777777777777778,
             "#fb9f3a"
            ],
            [
             0.8888888888888888,
             "#fdca26"
            ],
            [
             1,
             "#f0f921"
            ]
           ]
          },
          "colorway": [
           "#636efa",
           "#EF553B",
           "#00cc96",
           "#ab63fa",
           "#FFA15A",
           "#19d3f3",
           "#FF6692",
           "#B6E880",
           "#FF97FF",
           "#FECB52"
          ],
          "font": {
           "color": "#f2f5fa"
          },
          "geo": {
           "bgcolor": "rgb(17,17,17)",
           "lakecolor": "rgb(17,17,17)",
           "landcolor": "rgb(17,17,17)",
           "showlakes": true,
           "showland": true,
           "subunitcolor": "#506784"
          },
          "hoverlabel": {
           "align": "left"
          },
          "hovermode": "closest",
          "mapbox": {
           "style": "dark"
          },
          "paper_bgcolor": "rgb(17,17,17)",
          "plot_bgcolor": "rgb(17,17,17)",
          "polar": {
           "angularaxis": {
            "gridcolor": "#506784",
            "linecolor": "#506784",
            "ticks": ""
           },
           "bgcolor": "rgb(17,17,17)",
           "radialaxis": {
            "gridcolor": "#506784",
            "linecolor": "#506784",
            "ticks": ""
           }
          },
          "scene": {
           "xaxis": {
            "backgroundcolor": "rgb(17,17,17)",
            "gridcolor": "#506784",
            "gridwidth": 2,
            "linecolor": "#506784",
            "showbackground": true,
            "ticks": "",
            "zerolinecolor": "#C8D4E3"
           },
           "yaxis": {
            "backgroundcolor": "rgb(17,17,17)",
            "gridcolor": "#506784",
            "gridwidth": 2,
            "linecolor": "#506784",
            "showbackground": true,
            "ticks": "",
            "zerolinecolor": "#C8D4E3"
           },
           "zaxis": {
            "backgroundcolor": "rgb(17,17,17)",
            "gridcolor": "#506784",
            "gridwidth": 2,
            "linecolor": "#506784",
            "showbackground": true,
            "ticks": "",
            "zerolinecolor": "#C8D4E3"
           }
          },
          "shapedefaults": {
           "line": {
            "color": "#f2f5fa"
           }
          },
          "sliderdefaults": {
           "bgcolor": "#C8D4E3",
           "bordercolor": "rgb(17,17,17)",
           "borderwidth": 1,
           "tickwidth": 0
          },
          "ternary": {
           "aaxis": {
            "gridcolor": "#506784",
            "linecolor": "#506784",
            "ticks": ""
           },
           "baxis": {
            "gridcolor": "#506784",
            "linecolor": "#506784",
            "ticks": ""
           },
           "bgcolor": "rgb(17,17,17)",
           "caxis": {
            "gridcolor": "#506784",
            "linecolor": "#506784",
            "ticks": ""
           }
          },
          "title": {
           "x": 0.05
          },
          "updatemenudefaults": {
           "bgcolor": "#506784",
           "borderwidth": 0
          },
          "xaxis": {
           "automargin": true,
           "gridcolor": "#283442",
           "linecolor": "#506784",
           "ticks": "",
           "title": {
            "standoff": 15
           },
           "zerolinecolor": "#283442",
           "zerolinewidth": 2
          },
          "yaxis": {
           "automargin": true,
           "gridcolor": "#283442",
           "linecolor": "#506784",
           "ticks": "",
           "title": {
            "standoff": 15
           },
           "zerolinecolor": "#283442",
           "zerolinewidth": 2
          }
         }
        },
        "title": {
         "text": "t - distribution (n= 30)"
        },
        "xaxis": {
         "anchor": "y",
         "domain": [
          0,
          1
         ],
         "title": {
          "text": "x"
         }
        },
        "yaxis": {
         "anchor": "x",
         "domain": [
          0,
          1
         ],
         "title": {
          "text": "y"
         }
        }
       }
      },
      "text/html": [
       "<div>                            <div id=\"4af43fd6-f75c-446b-8a47-023ef1b2bae0\" class=\"plotly-graph-div\" style=\"height:525px; width:100%;\"></div>            <script type=\"text/javascript\">                require([\"plotly\"], function(Plotly) {                    window.PLOTLYENV=window.PLOTLYENV || {};                                    if (document.getElementById(\"4af43fd6-f75c-446b-8a47-023ef1b2bae0\")) {                    Plotly.newPlot(                        \"4af43fd6-f75c-446b-8a47-023ef1b2bae0\",                        [{\"hovertemplate\": \"x=%{x}<br>y=%{y}<extra></extra>\", \"legendgroup\": \"\", \"line\": {\"color\": \"#636efa\", \"dash\": \"solid\"}, \"mode\": \"lines\", \"name\": \"\", \"orientation\": \"v\", \"showlegend\": false, \"type\": \"scatter\", \"x\": [-2.4572615424005706, -2.407619895079347, -2.3579782477581235, -2.3083366004368995, -2.258694953115676, -2.2090533057944524, -2.159411658473229, -2.1097700111520052, -2.0601283638307812, -2.0104867165095577, -1.9608450691883341, -1.9112034218671106, -1.861561774545887, -1.8119201272246632, -1.7622784799034397, -1.7126368325822159, -1.6629951852609923, -1.6133535379397688, -1.563711890618545, -1.5140702432973214, -1.4644285959760976, -1.414786948654874, -1.3651453013336505, -1.3155036540124267, -1.2658620066912032, -1.2162203593699796, -1.1665787120487559, -1.1169370647275323, -1.0672954174063087, -1.017653770085085, -0.9680121227638614, -0.9183704754426376, -0.868728828121414, -0.8190871808001905, -0.7694455334789667, -0.7198038861577432, -0.6701622388365194, -0.6205205915152958, -0.5708789441940723, -0.5212372968728485, -0.4715956495516249, -0.42195400223040114, -0.3723123549091776, -0.322670707587954, -0.27302906026673046, -0.2233874129455069, -0.1737457656242829, -0.12410411830305934, -0.07446247098183578, -0.024820823660612223, 0.024820823660611335, 0.07446247098183534, 0.1241041183030589, 0.17374576562428246, 0.22338741294550601, 0.2730290602667296, 0.32267070758795313, 0.37231235490917713, 0.4219540022304007, 0.47159564955162425, 0.5212372968728478, 0.5708789441940714, 0.6205205915152954, 0.6701622388365189, 0.7198038861577425, 0.769445533478966, 0.8190871808001896, 0.8687288281214136, 0.9183704754426372, 0.9680121227638607, 1.0176537700850843, 1.0672954174063078, 1.1169370647275318, 1.1665787120487554, 1.216220359369979, 1.2658620066912025, 1.315503654012426, 1.3651453013336496, 1.4147869486548736, 1.4644285959760972, 1.5140702432973208, 1.5637118906185448, 1.6133535379397683, 1.6629951852609919, 1.7126368325822154, 1.762278479903439, 1.8119201272246626, 1.8615617745458861, 1.9112034218671097, 1.9608450691883332, 2.010486716509557, 2.0601283638307812, 2.109770011152005, 2.1594116584732284, 2.209053305794452, 2.2586949531156755, 2.308336600436899, 2.3579782477581226, 2.407619895079346, 2.4572615424005697], \"xaxis\": \"x\", \"y\": [0.02665214220345808, 0.029698495124487845, 0.03302003535669454, 0.03663206435224366, 0.04054954840560043, 0.04478694292349345, 0.049358003635151186, 0.054275585974773305, 0.05955143419009686, 0.06519596205762482, 0.07121802741030074, 0.07762470300022481, 0.08442104652000788, 0.09160987288379509, 0.09919153211490578, 0.10716369639347652, 0.11552115997669092, 0.12425565580877511, 0.13335569268119776, 0.14280641677954986, 0.15258950135757612, 0.16268306810723343, 0.1730616435443722, 0.18369615340220186, 0.19455395762037694, 0.20559892803944185, 0.21679157036348465, 0.22808919134504188, 0.2394461114842625, 0.2508139228294869, 0.2621417907307059, 0.2733767976441347, 0.2844643263297956, 0.2953484790397197, 0.30597252857781293, 0.3162793964392877, 0.3262121526232731, 0.3357145311714946, 0.34473145503239644, 0.3532095634959414, 0.3610977351999095, 0.3683475995820787, 0.3749140296500157, 0.380755609064598, 0.3858350667852809, 0.39011967290219984, 0.3935815897772622, 0.3961981732255311, 0.3979522191788785, 0.3988321520731774, 0.3988321520731774, 0.3979522191788785, 0.3961981732255311, 0.3935815897772622, 0.3901196729021999, 0.3858350667852809, 0.380755609064598, 0.3749140296500157, 0.36834759958207874, 0.36109773519990956, 0.3532095634959414, 0.34473145503239644, 0.3357145311714946, 0.32621215262327313, 0.3162793964392877, 0.30597252857781293, 0.2953484790397197, 0.2844643263297956, 0.2733767976441348, 0.2621417907307059, 0.2508139228294869, 0.23944611148426256, 0.22808919134504194, 0.21679157036348465, 0.20559892803944185, 0.19455395762037703, 0.18369615340220188, 0.1730616435443722, 0.16268306810723343, 0.15258950135757623, 0.1428064167795499, 0.13335569268119776, 0.12425565580877511, 0.11552115997669092, 0.10716369639347659, 0.09919153211490578, 0.09160987288379509, 0.08442104652000794, 0.0776247030002248, 0.07121802741030075, 0.06519596205762487, 0.05955143419009686, 0.054275585974773326, 0.049358003635151144, 0.04478694292349345, 0.04054954840560047, 0.03663206435224366, 0.03302003535669454, 0.029698495124487825, 0.02665214220345808], \"yaxis\": \"y\"}],                        {\"legend\": {\"tracegroupgap\": 0}, \"template\": {\"data\": {\"bar\": [{\"error_x\": {\"color\": \"#f2f5fa\"}, \"error_y\": {\"color\": \"#f2f5fa\"}, \"marker\": {\"line\": {\"color\": \"rgb(17,17,17)\", \"width\": 0.5}}, \"type\": \"bar\"}], \"barpolar\": [{\"marker\": {\"line\": {\"color\": \"rgb(17,17,17)\", \"width\": 0.5}}, \"type\": \"barpolar\"}], \"carpet\": [{\"aaxis\": {\"endlinecolor\": \"#A2B1C6\", \"gridcolor\": \"#506784\", \"linecolor\": \"#506784\", \"minorgridcolor\": \"#506784\", \"startlinecolor\": \"#A2B1C6\"}, \"baxis\": {\"endlinecolor\": \"#A2B1C6\", \"gridcolor\": \"#506784\", \"linecolor\": \"#506784\", \"minorgridcolor\": \"#506784\", \"startlinecolor\": \"#A2B1C6\"}, \"type\": \"carpet\"}], \"choropleth\": [{\"colorbar\": {\"outlinewidth\": 0, \"ticks\": \"\"}, \"type\": \"choropleth\"}], \"contour\": [{\"colorbar\": {\"outlinewidth\": 0, \"ticks\": \"\"}, \"colorscale\": [[0.0, \"#0d0887\"], [0.1111111111111111, \"#46039f\"], [0.2222222222222222, \"#7201a8\"], [0.3333333333333333, \"#9c179e\"], [0.4444444444444444, \"#bd3786\"], [0.5555555555555556, \"#d8576b\"], [0.6666666666666666, \"#ed7953\"], [0.7777777777777778, \"#fb9f3a\"], [0.8888888888888888, \"#fdca26\"], [1.0, \"#f0f921\"]], \"type\": \"contour\"}], \"contourcarpet\": [{\"colorbar\": {\"outlinewidth\": 0, \"ticks\": \"\"}, \"type\": \"contourcarpet\"}], \"heatmap\": [{\"colorbar\": {\"outlinewidth\": 0, \"ticks\": \"\"}, \"colorscale\": [[0.0, \"#0d0887\"], [0.1111111111111111, \"#46039f\"], [0.2222222222222222, \"#7201a8\"], [0.3333333333333333, \"#9c179e\"], [0.4444444444444444, \"#bd3786\"], [0.5555555555555556, \"#d8576b\"], [0.6666666666666666, \"#ed7953\"], [0.7777777777777778, \"#fb9f3a\"], [0.8888888888888888, \"#fdca26\"], [1.0, \"#f0f921\"]], \"type\": \"heatmap\"}], \"heatmapgl\": [{\"colorbar\": {\"outlinewidth\": 0, \"ticks\": \"\"}, \"colorscale\": [[0.0, \"#0d0887\"], [0.1111111111111111, \"#46039f\"], [0.2222222222222222, \"#7201a8\"], [0.3333333333333333, \"#9c179e\"], [0.4444444444444444, \"#bd3786\"], [0.5555555555555556, \"#d8576b\"], [0.6666666666666666, \"#ed7953\"], [0.7777777777777778, \"#fb9f3a\"], [0.8888888888888888, \"#fdca26\"], [1.0, \"#f0f921\"]], \"type\": \"heatmapgl\"}], \"histogram\": [{\"marker\": {\"colorbar\": {\"outlinewidth\": 0, \"ticks\": \"\"}}, \"type\": \"histogram\"}], \"histogram2d\": [{\"colorbar\": {\"outlinewidth\": 0, \"ticks\": \"\"}, \"colorscale\": [[0.0, \"#0d0887\"], [0.1111111111111111, \"#46039f\"], [0.2222222222222222, \"#7201a8\"], [0.3333333333333333, \"#9c179e\"], [0.4444444444444444, \"#bd3786\"], [0.5555555555555556, \"#d8576b\"], [0.6666666666666666, \"#ed7953\"], [0.7777777777777778, \"#fb9f3a\"], [0.8888888888888888, \"#fdca26\"], [1.0, \"#f0f921\"]], \"type\": \"histogram2d\"}], \"histogram2dcontour\": [{\"colorbar\": {\"outlinewidth\": 0, \"ticks\": \"\"}, \"colorscale\": [[0.0, \"#0d0887\"], [0.1111111111111111, \"#46039f\"], [0.2222222222222222, \"#7201a8\"], [0.3333333333333333, \"#9c179e\"], [0.4444444444444444, \"#bd3786\"], [0.5555555555555556, \"#d8576b\"], [0.6666666666666666, \"#ed7953\"], [0.7777777777777778, \"#fb9f3a\"], [0.8888888888888888, \"#fdca26\"], [1.0, \"#f0f921\"]], \"type\": \"histogram2dcontour\"}], \"mesh3d\": [{\"colorbar\": {\"outlinewidth\": 0, \"ticks\": \"\"}, \"type\": \"mesh3d\"}], \"parcoords\": [{\"line\": {\"colorbar\": {\"outlinewidth\": 0, \"ticks\": \"\"}}, \"type\": \"parcoords\"}], \"pie\": [{\"automargin\": true, \"type\": \"pie\"}], \"scatter\": [{\"marker\": {\"line\": {\"color\": \"#283442\"}}, \"type\": \"scatter\"}], \"scatter3d\": [{\"line\": {\"colorbar\": {\"outlinewidth\": 0, \"ticks\": \"\"}}, \"marker\": {\"colorbar\": {\"outlinewidth\": 0, \"ticks\": \"\"}}, \"type\": \"scatter3d\"}], \"scattercarpet\": [{\"marker\": {\"colorbar\": {\"outlinewidth\": 0, \"ticks\": \"\"}}, \"type\": \"scattercarpet\"}], \"scattergeo\": [{\"marker\": {\"colorbar\": {\"outlinewidth\": 0, \"ticks\": \"\"}}, \"type\": \"scattergeo\"}], \"scattergl\": [{\"marker\": {\"line\": {\"color\": \"#283442\"}}, \"type\": \"scattergl\"}], \"scattermapbox\": [{\"marker\": {\"colorbar\": {\"outlinewidth\": 0, \"ticks\": \"\"}}, \"type\": \"scattermapbox\"}], \"scatterpolar\": [{\"marker\": {\"colorbar\": {\"outlinewidth\": 0, \"ticks\": \"\"}}, \"type\": \"scatterpolar\"}], \"scatterpolargl\": [{\"marker\": {\"colorbar\": {\"outlinewidth\": 0, \"ticks\": \"\"}}, \"type\": \"scatterpolargl\"}], \"scatterternary\": [{\"marker\": {\"colorbar\": {\"outlinewidth\": 0, \"ticks\": \"\"}}, \"type\": \"scatterternary\"}], \"surface\": [{\"colorbar\": {\"outlinewidth\": 0, \"ticks\": \"\"}, \"colorscale\": [[0.0, \"#0d0887\"], [0.1111111111111111, \"#46039f\"], [0.2222222222222222, \"#7201a8\"], [0.3333333333333333, \"#9c179e\"], [0.4444444444444444, \"#bd3786\"], [0.5555555555555556, \"#d8576b\"], [0.6666666666666666, \"#ed7953\"], [0.7777777777777778, \"#fb9f3a\"], [0.8888888888888888, \"#fdca26\"], [1.0, \"#f0f921\"]], \"type\": \"surface\"}], \"table\": [{\"cells\": {\"fill\": {\"color\": \"#506784\"}, \"line\": {\"color\": \"rgb(17,17,17)\"}}, \"header\": {\"fill\": {\"color\": \"#2a3f5f\"}, \"line\": {\"color\": \"rgb(17,17,17)\"}}, \"type\": \"table\"}]}, \"layout\": {\"annotationdefaults\": {\"arrowcolor\": \"#f2f5fa\", \"arrowhead\": 0, \"arrowwidth\": 1}, \"autotypenumbers\": \"strict\", \"coloraxis\": {\"colorbar\": {\"outlinewidth\": 0, \"ticks\": \"\"}}, \"colorscale\": {\"diverging\": [[0, \"#8e0152\"], [0.1, \"#c51b7d\"], [0.2, \"#de77ae\"], [0.3, \"#f1b6da\"], [0.4, \"#fde0ef\"], [0.5, \"#f7f7f7\"], [0.6, \"#e6f5d0\"], [0.7, \"#b8e186\"], [0.8, \"#7fbc41\"], [0.9, \"#4d9221\"], [1, \"#276419\"]], \"sequential\": [[0.0, \"#0d0887\"], [0.1111111111111111, \"#46039f\"], [0.2222222222222222, \"#7201a8\"], [0.3333333333333333, \"#9c179e\"], [0.4444444444444444, \"#bd3786\"], [0.5555555555555556, \"#d8576b\"], [0.6666666666666666, \"#ed7953\"], [0.7777777777777778, \"#fb9f3a\"], [0.8888888888888888, \"#fdca26\"], [1.0, \"#f0f921\"]], \"sequentialminus\": [[0.0, \"#0d0887\"], [0.1111111111111111, \"#46039f\"], [0.2222222222222222, \"#7201a8\"], [0.3333333333333333, \"#9c179e\"], [0.4444444444444444, \"#bd3786\"], [0.5555555555555556, \"#d8576b\"], [0.6666666666666666, \"#ed7953\"], [0.7777777777777778, \"#fb9f3a\"], [0.8888888888888888, \"#fdca26\"], [1.0, \"#f0f921\"]]}, \"colorway\": [\"#636efa\", \"#EF553B\", \"#00cc96\", \"#ab63fa\", \"#FFA15A\", \"#19d3f3\", \"#FF6692\", \"#B6E880\", \"#FF97FF\", \"#FECB52\"], \"font\": {\"color\": \"#f2f5fa\"}, \"geo\": {\"bgcolor\": \"rgb(17,17,17)\", \"lakecolor\": \"rgb(17,17,17)\", \"landcolor\": \"rgb(17,17,17)\", \"showlakes\": true, \"showland\": true, \"subunitcolor\": \"#506784\"}, \"hoverlabel\": {\"align\": \"left\"}, \"hovermode\": \"closest\", \"mapbox\": {\"style\": \"dark\"}, \"paper_bgcolor\": \"rgb(17,17,17)\", \"plot_bgcolor\": \"rgb(17,17,17)\", \"polar\": {\"angularaxis\": {\"gridcolor\": \"#506784\", \"linecolor\": \"#506784\", \"ticks\": \"\"}, \"bgcolor\": \"rgb(17,17,17)\", \"radialaxis\": {\"gridcolor\": \"#506784\", \"linecolor\": \"#506784\", \"ticks\": \"\"}}, \"scene\": {\"xaxis\": {\"backgroundcolor\": \"rgb(17,17,17)\", \"gridcolor\": \"#506784\", \"gridwidth\": 2, \"linecolor\": \"#506784\", \"showbackground\": true, \"ticks\": \"\", \"zerolinecolor\": \"#C8D4E3\"}, \"yaxis\": {\"backgroundcolor\": \"rgb(17,17,17)\", \"gridcolor\": \"#506784\", \"gridwidth\": 2, \"linecolor\": \"#506784\", \"showbackground\": true, \"ticks\": \"\", \"zerolinecolor\": \"#C8D4E3\"}, \"zaxis\": {\"backgroundcolor\": \"rgb(17,17,17)\", \"gridcolor\": \"#506784\", \"gridwidth\": 2, \"linecolor\": \"#506784\", \"showbackground\": true, \"ticks\": \"\", \"zerolinecolor\": \"#C8D4E3\"}}, \"shapedefaults\": {\"line\": {\"color\": \"#f2f5fa\"}}, \"sliderdefaults\": {\"bgcolor\": \"#C8D4E3\", \"bordercolor\": \"rgb(17,17,17)\", \"borderwidth\": 1, \"tickwidth\": 0}, \"ternary\": {\"aaxis\": {\"gridcolor\": \"#506784\", \"linecolor\": \"#506784\", \"ticks\": \"\"}, \"baxis\": {\"gridcolor\": \"#506784\", \"linecolor\": \"#506784\", \"ticks\": \"\"}, \"bgcolor\": \"rgb(17,17,17)\", \"caxis\": {\"gridcolor\": \"#506784\", \"linecolor\": \"#506784\", \"ticks\": \"\"}}, \"title\": {\"x\": 0.05}, \"updatemenudefaults\": {\"bgcolor\": \"#506784\", \"borderwidth\": 0}, \"xaxis\": {\"automargin\": true, \"gridcolor\": \"#283442\", \"linecolor\": \"#506784\", \"ticks\": \"\", \"title\": {\"standoff\": 15}, \"zerolinecolor\": \"#283442\", \"zerolinewidth\": 2}, \"yaxis\": {\"automargin\": true, \"gridcolor\": \"#283442\", \"linecolor\": \"#506784\", \"ticks\": \"\", \"title\": {\"standoff\": 15}, \"zerolinecolor\": \"#283442\", \"zerolinewidth\": 2}}}, \"title\": {\"text\": \"t - distribution (n= 30)\"}, \"xaxis\": {\"anchor\": \"y\", \"domain\": [0.0, 1.0], \"title\": {\"text\": \"x\"}}, \"yaxis\": {\"anchor\": \"x\", \"domain\": [0.0, 1.0], \"title\": {\"text\": \"y\"}}},                        {\"responsive\": true}                    ).then(function(){\n",
       "                            \n",
       "var gd = document.getElementById('4af43fd6-f75c-446b-8a47-023ef1b2bae0');\n",
       "var x = new MutationObserver(function (mutations, observer) {{\n",
       "        var display = window.getComputedStyle(gd).display;\n",
       "        if (!display || display === 'none') {{\n",
       "            console.log([gd, 'removed!']);\n",
       "            Plotly.purge(gd);\n",
       "            observer.disconnect();\n",
       "        }}\n",
       "}});\n",
       "\n",
       "// Listen for the removal of the full notebook cells\n",
       "var notebookContainer = gd.closest('#notebook-container');\n",
       "if (notebookContainer) {{\n",
       "    x.observe(notebookContainer, {childList: true});\n",
       "}}\n",
       "\n",
       "// Listen for the clearing of the current output cell\n",
       "var outputEl = gd.closest('.output');\n",
       "if (outputEl) {{\n",
       "    x.observe(outputEl, {childList: true});\n",
       "}}\n",
       "\n",
       "                        })                };                });            </script>        </div>"
      ]
     },
     "metadata": {},
     "output_type": "display_data"
    }
   ],
   "source": [
    "lower = stats.t.ppf(0.01, 30) # 1%, 30 people\n",
    "higher = stats.t.ppf(.99, 30)\n",
    "print(lower, higher)\n",
    "\n",
    "values_t = np.linspace(lower, higher, 100)\n",
    "values_t_flatten = list(values_t.flatten())\n",
    "print(values_t_flatten[0:5])\n",
    "\n",
    "px.line(x= values_t_flatten,\n",
    "       y= pdf_values ,\n",
    "       title='t - distribution (n= 30)').show()"
   ]
  },
  {
   "cell_type": "code",
   "execution_count": 166,
   "id": "earlier-begin",
   "metadata": {},
   "outputs": [
    {
     "data": {
      "application/vnd.plotly.v1+json": {
       "config": {
        "plotlyServerURL": "https://plot.ly"
       },
       "data": [
        {
         "mode": "lines",
         "name": "z - distribution",
         "type": "scatter",
         "x": [
          -2.3263478740408408,
          -2.279350947292541,
          -2.232354020544241,
          -2.1853570937959415,
          -2.1383601670476415,
          -2.0913632402993416,
          -2.0443663135510417,
          -1.997369386802742,
          -1.9503724600544423,
          -1.9033755333061424,
          -1.8563786065578427,
          -1.8093816798095428,
          -1.762384753061243,
          -1.7153878263129432,
          -1.6683908995646433,
          -1.6213939728163436,
          -1.5743970460680439,
          -1.527400119319744,
          -1.480403192571444,
          -1.4334062658231443,
          -1.3864093390748446,
          -1.3394124123265447,
          -1.2924154855782448,
          -1.2454185588299451,
          -1.1984216320816452,
          -1.1514247053333455,
          -1.1044277785850456,
          -1.057430851836746,
          -1.010433925088446,
          -0.9634369983401463,
          -0.9164400715918464,
          -0.8694431448435467,
          -0.8224462180952468,
          -0.7754492913469468,
          -0.7284523645986472,
          -0.6814554378503472,
          -0.6344585111020475,
          -0.5874615843537476,
          -0.5404646576054479,
          -0.493467730857148,
          -0.4464708041088483,
          -0.3994738773605484,
          -0.3524769506122487,
          -0.3054800238639488,
          -0.2584830971156489,
          -0.2114861703673494,
          -0.16448924361904949,
          -0.11749231687074957,
          -0.07049539012244965,
          -0.023498463374149736,
          0.023498463374149736,
          0.07049539012244965,
          0.11749231687074957,
          0.16448924361904949,
          0.21148617036734896,
          0.2584830971156489,
          0.3054800238639488,
          0.3524769506122487,
          0.3994738773605482,
          0.4464708041088481,
          0.493467730857148,
          0.5404646576054479,
          0.5874615843537474,
          0.6344585111020473,
          0.6814554378503472,
          0.7284523645986472,
          0.7754492913469471,
          0.8224462180952465,
          0.8694431448435465,
          0.9164400715918464,
          0.9634369983401463,
          1.0104339250884458,
          1.0574308518367457,
          1.1044277785850456,
          1.1514247053333455,
          1.198421632081645,
          1.245418558829945,
          1.2924154855782448,
          1.3394124123265447,
          1.3864093390748442,
          1.4334062658231441,
          1.480403192571444,
          1.527400119319744,
          1.5743970460680439,
          1.6213939728163433,
          1.6683908995646433,
          1.7153878263129432,
          1.7623847530612426,
          1.809381679809543,
          1.8563786065578425,
          1.903375533306142,
          1.9503724600544423,
          1.9973693868027418,
          2.044366313551042,
          2.0913632402993416,
          2.138360167047641,
          2.1853570937959415,
          2.232354020544241,
          2.2793509472925413,
          2.3263478740408408
         ],
         "y": [
          0.02665214220345808,
          0.029698495124487845,
          0.03302003535669454,
          0.03663206435224366,
          0.04054954840560043,
          0.04478694292349345,
          0.049358003635151186,
          0.054275585974773305,
          0.05955143419009686,
          0.06519596205762482,
          0.07121802741030074,
          0.07762470300022481,
          0.08442104652000788,
          0.09160987288379509,
          0.09919153211490578,
          0.10716369639347652,
          0.11552115997669092,
          0.12425565580877511,
          0.13335569268119776,
          0.14280641677954986,
          0.15258950135757612,
          0.16268306810723343,
          0.1730616435443722,
          0.18369615340220186,
          0.19455395762037694,
          0.20559892803944185,
          0.21679157036348465,
          0.22808919134504188,
          0.2394461114842625,
          0.2508139228294869,
          0.2621417907307059,
          0.2733767976441347,
          0.2844643263297956,
          0.2953484790397197,
          0.30597252857781293,
          0.3162793964392877,
          0.3262121526232731,
          0.3357145311714946,
          0.34473145503239644,
          0.3532095634959414,
          0.3610977351999095,
          0.3683475995820787,
          0.3749140296500157,
          0.380755609064598,
          0.3858350667852809,
          0.39011967290219984,
          0.3935815897772622,
          0.3961981732255311,
          0.3979522191788785,
          0.3988321520731774,
          0.3988321520731774,
          0.3979522191788785,
          0.3961981732255311,
          0.3935815897772622,
          0.3901196729021999,
          0.3858350667852809,
          0.380755609064598,
          0.3749140296500157,
          0.36834759958207874,
          0.36109773519990956,
          0.3532095634959414,
          0.34473145503239644,
          0.3357145311714946,
          0.32621215262327313,
          0.3162793964392877,
          0.30597252857781293,
          0.2953484790397197,
          0.2844643263297956,
          0.2733767976441348,
          0.2621417907307059,
          0.2508139228294869,
          0.23944611148426256,
          0.22808919134504194,
          0.21679157036348465,
          0.20559892803944185,
          0.19455395762037703,
          0.18369615340220188,
          0.1730616435443722,
          0.16268306810723343,
          0.15258950135757623,
          0.1428064167795499,
          0.13335569268119776,
          0.12425565580877511,
          0.11552115997669092,
          0.10716369639347659,
          0.09919153211490578,
          0.09160987288379509,
          0.08442104652000794,
          0.0776247030002248,
          0.07121802741030075,
          0.06519596205762487,
          0.05955143419009686,
          0.054275585974773326,
          0.049358003635151144,
          0.04478694292349345,
          0.04054954840560047,
          0.03663206435224366,
          0.03302003535669454,
          0.029698495124487825,
          0.02665214220345808
         ]
        },
        {
         "mode": "lines",
         "name": "t - distribution",
         "type": "scatter",
         "x": [
          -2.4572615424005706,
          -2.407619895079347,
          -2.3579782477581235,
          -2.3083366004368995,
          -2.258694953115676,
          -2.2090533057944524,
          -2.159411658473229,
          -2.1097700111520052,
          -2.0601283638307812,
          -2.0104867165095577,
          -1.9608450691883341,
          -1.9112034218671106,
          -1.861561774545887,
          -1.8119201272246632,
          -1.7622784799034397,
          -1.7126368325822159,
          -1.6629951852609923,
          -1.6133535379397688,
          -1.563711890618545,
          -1.5140702432973214,
          -1.4644285959760976,
          -1.414786948654874,
          -1.3651453013336505,
          -1.3155036540124267,
          -1.2658620066912032,
          -1.2162203593699796,
          -1.1665787120487559,
          -1.1169370647275323,
          -1.0672954174063087,
          -1.017653770085085,
          -0.9680121227638614,
          -0.9183704754426376,
          -0.868728828121414,
          -0.8190871808001905,
          -0.7694455334789667,
          -0.7198038861577432,
          -0.6701622388365194,
          -0.6205205915152958,
          -0.5708789441940723,
          -0.5212372968728485,
          -0.4715956495516249,
          -0.42195400223040114,
          -0.3723123549091776,
          -0.322670707587954,
          -0.27302906026673046,
          -0.2233874129455069,
          -0.1737457656242829,
          -0.12410411830305934,
          -0.07446247098183578,
          -0.024820823660612223,
          0.024820823660611335,
          0.07446247098183534,
          0.1241041183030589,
          0.17374576562428246,
          0.22338741294550601,
          0.2730290602667296,
          0.32267070758795313,
          0.37231235490917713,
          0.4219540022304007,
          0.47159564955162425,
          0.5212372968728478,
          0.5708789441940714,
          0.6205205915152954,
          0.6701622388365189,
          0.7198038861577425,
          0.769445533478966,
          0.8190871808001896,
          0.8687288281214136,
          0.9183704754426372,
          0.9680121227638607,
          1.0176537700850843,
          1.0672954174063078,
          1.1169370647275318,
          1.1665787120487554,
          1.216220359369979,
          1.2658620066912025,
          1.315503654012426,
          1.3651453013336496,
          1.4147869486548736,
          1.4644285959760972,
          1.5140702432973208,
          1.5637118906185448,
          1.6133535379397683,
          1.6629951852609919,
          1.7126368325822154,
          1.762278479903439,
          1.8119201272246626,
          1.8615617745458861,
          1.9112034218671097,
          1.9608450691883332,
          2.010486716509557,
          2.0601283638307812,
          2.109770011152005,
          2.1594116584732284,
          2.209053305794452,
          2.2586949531156755,
          2.308336600436899,
          2.3579782477581226,
          2.407619895079346,
          2.4572615424005697
         ],
         "y": [
          0.02665214220345808,
          0.029698495124487845,
          0.03302003535669454,
          0.03663206435224366,
          0.04054954840560043,
          0.04478694292349345,
          0.049358003635151186,
          0.054275585974773305,
          0.05955143419009686,
          0.06519596205762482,
          0.07121802741030074,
          0.07762470300022481,
          0.08442104652000788,
          0.09160987288379509,
          0.09919153211490578,
          0.10716369639347652,
          0.11552115997669092,
          0.12425565580877511,
          0.13335569268119776,
          0.14280641677954986,
          0.15258950135757612,
          0.16268306810723343,
          0.1730616435443722,
          0.18369615340220186,
          0.19455395762037694,
          0.20559892803944185,
          0.21679157036348465,
          0.22808919134504188,
          0.2394461114842625,
          0.2508139228294869,
          0.2621417907307059,
          0.2733767976441347,
          0.2844643263297956,
          0.2953484790397197,
          0.30597252857781293,
          0.3162793964392877,
          0.3262121526232731,
          0.3357145311714946,
          0.34473145503239644,
          0.3532095634959414,
          0.3610977351999095,
          0.3683475995820787,
          0.3749140296500157,
          0.380755609064598,
          0.3858350667852809,
          0.39011967290219984,
          0.3935815897772622,
          0.3961981732255311,
          0.3979522191788785,
          0.3988321520731774,
          0.3988321520731774,
          0.3979522191788785,
          0.3961981732255311,
          0.3935815897772622,
          0.3901196729021999,
          0.3858350667852809,
          0.380755609064598,
          0.3749140296500157,
          0.36834759958207874,
          0.36109773519990956,
          0.3532095634959414,
          0.34473145503239644,
          0.3357145311714946,
          0.32621215262327313,
          0.3162793964392877,
          0.30597252857781293,
          0.2953484790397197,
          0.2844643263297956,
          0.2733767976441348,
          0.2621417907307059,
          0.2508139228294869,
          0.23944611148426256,
          0.22808919134504194,
          0.21679157036348465,
          0.20559892803944185,
          0.19455395762037703,
          0.18369615340220188,
          0.1730616435443722,
          0.16268306810723343,
          0.15258950135757623,
          0.1428064167795499,
          0.13335569268119776,
          0.12425565580877511,
          0.11552115997669092,
          0.10716369639347659,
          0.09919153211490578,
          0.09160987288379509,
          0.08442104652000794,
          0.0776247030002248,
          0.07121802741030075,
          0.06519596205762487,
          0.05955143419009686,
          0.054275585974773326,
          0.049358003635151144,
          0.04478694292349345,
          0.04054954840560047,
          0.03663206435224366,
          0.03302003535669454,
          0.029698495124487825,
          0.02665214220345808
         ]
        }
       ],
       "layout": {
        "template": {
         "data": {
          "bar": [
           {
            "error_x": {
             "color": "#f2f5fa"
            },
            "error_y": {
             "color": "#f2f5fa"
            },
            "marker": {
             "line": {
              "color": "rgb(17,17,17)",
              "width": 0.5
             }
            },
            "type": "bar"
           }
          ],
          "barpolar": [
           {
            "marker": {
             "line": {
              "color": "rgb(17,17,17)",
              "width": 0.5
             }
            },
            "type": "barpolar"
           }
          ],
          "carpet": [
           {
            "aaxis": {
             "endlinecolor": "#A2B1C6",
             "gridcolor": "#506784",
             "linecolor": "#506784",
             "minorgridcolor": "#506784",
             "startlinecolor": "#A2B1C6"
            },
            "baxis": {
             "endlinecolor": "#A2B1C6",
             "gridcolor": "#506784",
             "linecolor": "#506784",
             "minorgridcolor": "#506784",
             "startlinecolor": "#A2B1C6"
            },
            "type": "carpet"
           }
          ],
          "choropleth": [
           {
            "colorbar": {
             "outlinewidth": 0,
             "ticks": ""
            },
            "type": "choropleth"
           }
          ],
          "contour": [
           {
            "colorbar": {
             "outlinewidth": 0,
             "ticks": ""
            },
            "colorscale": [
             [
              0,
              "#0d0887"
             ],
             [
              0.1111111111111111,
              "#46039f"
             ],
             [
              0.2222222222222222,
              "#7201a8"
             ],
             [
              0.3333333333333333,
              "#9c179e"
             ],
             [
              0.4444444444444444,
              "#bd3786"
             ],
             [
              0.5555555555555556,
              "#d8576b"
             ],
             [
              0.6666666666666666,
              "#ed7953"
             ],
             [
              0.7777777777777778,
              "#fb9f3a"
             ],
             [
              0.8888888888888888,
              "#fdca26"
             ],
             [
              1,
              "#f0f921"
             ]
            ],
            "type": "contour"
           }
          ],
          "contourcarpet": [
           {
            "colorbar": {
             "outlinewidth": 0,
             "ticks": ""
            },
            "type": "contourcarpet"
           }
          ],
          "heatmap": [
           {
            "colorbar": {
             "outlinewidth": 0,
             "ticks": ""
            },
            "colorscale": [
             [
              0,
              "#0d0887"
             ],
             [
              0.1111111111111111,
              "#46039f"
             ],
             [
              0.2222222222222222,
              "#7201a8"
             ],
             [
              0.3333333333333333,
              "#9c179e"
             ],
             [
              0.4444444444444444,
              "#bd3786"
             ],
             [
              0.5555555555555556,
              "#d8576b"
             ],
             [
              0.6666666666666666,
              "#ed7953"
             ],
             [
              0.7777777777777778,
              "#fb9f3a"
             ],
             [
              0.8888888888888888,
              "#fdca26"
             ],
             [
              1,
              "#f0f921"
             ]
            ],
            "type": "heatmap"
           }
          ],
          "heatmapgl": [
           {
            "colorbar": {
             "outlinewidth": 0,
             "ticks": ""
            },
            "colorscale": [
             [
              0,
              "#0d0887"
             ],
             [
              0.1111111111111111,
              "#46039f"
             ],
             [
              0.2222222222222222,
              "#7201a8"
             ],
             [
              0.3333333333333333,
              "#9c179e"
             ],
             [
              0.4444444444444444,
              "#bd3786"
             ],
             [
              0.5555555555555556,
              "#d8576b"
             ],
             [
              0.6666666666666666,
              "#ed7953"
             ],
             [
              0.7777777777777778,
              "#fb9f3a"
             ],
             [
              0.8888888888888888,
              "#fdca26"
             ],
             [
              1,
              "#f0f921"
             ]
            ],
            "type": "heatmapgl"
           }
          ],
          "histogram": [
           {
            "marker": {
             "colorbar": {
              "outlinewidth": 0,
              "ticks": ""
             }
            },
            "type": "histogram"
           }
          ],
          "histogram2d": [
           {
            "colorbar": {
             "outlinewidth": 0,
             "ticks": ""
            },
            "colorscale": [
             [
              0,
              "#0d0887"
             ],
             [
              0.1111111111111111,
              "#46039f"
             ],
             [
              0.2222222222222222,
              "#7201a8"
             ],
             [
              0.3333333333333333,
              "#9c179e"
             ],
             [
              0.4444444444444444,
              "#bd3786"
             ],
             [
              0.5555555555555556,
              "#d8576b"
             ],
             [
              0.6666666666666666,
              "#ed7953"
             ],
             [
              0.7777777777777778,
              "#fb9f3a"
             ],
             [
              0.8888888888888888,
              "#fdca26"
             ],
             [
              1,
              "#f0f921"
             ]
            ],
            "type": "histogram2d"
           }
          ],
          "histogram2dcontour": [
           {
            "colorbar": {
             "outlinewidth": 0,
             "ticks": ""
            },
            "colorscale": [
             [
              0,
              "#0d0887"
             ],
             [
              0.1111111111111111,
              "#46039f"
             ],
             [
              0.2222222222222222,
              "#7201a8"
             ],
             [
              0.3333333333333333,
              "#9c179e"
             ],
             [
              0.4444444444444444,
              "#bd3786"
             ],
             [
              0.5555555555555556,
              "#d8576b"
             ],
             [
              0.6666666666666666,
              "#ed7953"
             ],
             [
              0.7777777777777778,
              "#fb9f3a"
             ],
             [
              0.8888888888888888,
              "#fdca26"
             ],
             [
              1,
              "#f0f921"
             ]
            ],
            "type": "histogram2dcontour"
           }
          ],
          "mesh3d": [
           {
            "colorbar": {
             "outlinewidth": 0,
             "ticks": ""
            },
            "type": "mesh3d"
           }
          ],
          "parcoords": [
           {
            "line": {
             "colorbar": {
              "outlinewidth": 0,
              "ticks": ""
             }
            },
            "type": "parcoords"
           }
          ],
          "pie": [
           {
            "automargin": true,
            "type": "pie"
           }
          ],
          "scatter": [
           {
            "marker": {
             "line": {
              "color": "#283442"
             }
            },
            "type": "scatter"
           }
          ],
          "scatter3d": [
           {
            "line": {
             "colorbar": {
              "outlinewidth": 0,
              "ticks": ""
             }
            },
            "marker": {
             "colorbar": {
              "outlinewidth": 0,
              "ticks": ""
             }
            },
            "type": "scatter3d"
           }
          ],
          "scattercarpet": [
           {
            "marker": {
             "colorbar": {
              "outlinewidth": 0,
              "ticks": ""
             }
            },
            "type": "scattercarpet"
           }
          ],
          "scattergeo": [
           {
            "marker": {
             "colorbar": {
              "outlinewidth": 0,
              "ticks": ""
             }
            },
            "type": "scattergeo"
           }
          ],
          "scattergl": [
           {
            "marker": {
             "line": {
              "color": "#283442"
             }
            },
            "type": "scattergl"
           }
          ],
          "scattermapbox": [
           {
            "marker": {
             "colorbar": {
              "outlinewidth": 0,
              "ticks": ""
             }
            },
            "type": "scattermapbox"
           }
          ],
          "scatterpolar": [
           {
            "marker": {
             "colorbar": {
              "outlinewidth": 0,
              "ticks": ""
             }
            },
            "type": "scatterpolar"
           }
          ],
          "scatterpolargl": [
           {
            "marker": {
             "colorbar": {
              "outlinewidth": 0,
              "ticks": ""
             }
            },
            "type": "scatterpolargl"
           }
          ],
          "scatterternary": [
           {
            "marker": {
             "colorbar": {
              "outlinewidth": 0,
              "ticks": ""
             }
            },
            "type": "scatterternary"
           }
          ],
          "surface": [
           {
            "colorbar": {
             "outlinewidth": 0,
             "ticks": ""
            },
            "colorscale": [
             [
              0,
              "#0d0887"
             ],
             [
              0.1111111111111111,
              "#46039f"
             ],
             [
              0.2222222222222222,
              "#7201a8"
             ],
             [
              0.3333333333333333,
              "#9c179e"
             ],
             [
              0.4444444444444444,
              "#bd3786"
             ],
             [
              0.5555555555555556,
              "#d8576b"
             ],
             [
              0.6666666666666666,
              "#ed7953"
             ],
             [
              0.7777777777777778,
              "#fb9f3a"
             ],
             [
              0.8888888888888888,
              "#fdca26"
             ],
             [
              1,
              "#f0f921"
             ]
            ],
            "type": "surface"
           }
          ],
          "table": [
           {
            "cells": {
             "fill": {
              "color": "#506784"
             },
             "line": {
              "color": "rgb(17,17,17)"
             }
            },
            "header": {
             "fill": {
              "color": "#2a3f5f"
             },
             "line": {
              "color": "rgb(17,17,17)"
             }
            },
            "type": "table"
           }
          ]
         },
         "layout": {
          "annotationdefaults": {
           "arrowcolor": "#f2f5fa",
           "arrowhead": 0,
           "arrowwidth": 1
          },
          "autotypenumbers": "strict",
          "coloraxis": {
           "colorbar": {
            "outlinewidth": 0,
            "ticks": ""
           }
          },
          "colorscale": {
           "diverging": [
            [
             0,
             "#8e0152"
            ],
            [
             0.1,
             "#c51b7d"
            ],
            [
             0.2,
             "#de77ae"
            ],
            [
             0.3,
             "#f1b6da"
            ],
            [
             0.4,
             "#fde0ef"
            ],
            [
             0.5,
             "#f7f7f7"
            ],
            [
             0.6,
             "#e6f5d0"
            ],
            [
             0.7,
             "#b8e186"
            ],
            [
             0.8,
             "#7fbc41"
            ],
            [
             0.9,
             "#4d9221"
            ],
            [
             1,
             "#276419"
            ]
           ],
           "sequential": [
            [
             0,
             "#0d0887"
            ],
            [
             0.1111111111111111,
             "#46039f"
            ],
            [
             0.2222222222222222,
             "#7201a8"
            ],
            [
             0.3333333333333333,
             "#9c179e"
            ],
            [
             0.4444444444444444,
             "#bd3786"
            ],
            [
             0.5555555555555556,
             "#d8576b"
            ],
            [
             0.6666666666666666,
             "#ed7953"
            ],
            [
             0.7777777777777778,
             "#fb9f3a"
            ],
            [
             0.8888888888888888,
             "#fdca26"
            ],
            [
             1,
             "#f0f921"
            ]
           ],
           "sequentialminus": [
            [
             0,
             "#0d0887"
            ],
            [
             0.1111111111111111,
             "#46039f"
            ],
            [
             0.2222222222222222,
             "#7201a8"
            ],
            [
             0.3333333333333333,
             "#9c179e"
            ],
            [
             0.4444444444444444,
             "#bd3786"
            ],
            [
             0.5555555555555556,
             "#d8576b"
            ],
            [
             0.6666666666666666,
             "#ed7953"
            ],
            [
             0.7777777777777778,
             "#fb9f3a"
            ],
            [
             0.8888888888888888,
             "#fdca26"
            ],
            [
             1,
             "#f0f921"
            ]
           ]
          },
          "colorway": [
           "#636efa",
           "#EF553B",
           "#00cc96",
           "#ab63fa",
           "#FFA15A",
           "#19d3f3",
           "#FF6692",
           "#B6E880",
           "#FF97FF",
           "#FECB52"
          ],
          "font": {
           "color": "#f2f5fa"
          },
          "geo": {
           "bgcolor": "rgb(17,17,17)",
           "lakecolor": "rgb(17,17,17)",
           "landcolor": "rgb(17,17,17)",
           "showlakes": true,
           "showland": true,
           "subunitcolor": "#506784"
          },
          "hoverlabel": {
           "align": "left"
          },
          "hovermode": "closest",
          "mapbox": {
           "style": "dark"
          },
          "paper_bgcolor": "rgb(17,17,17)",
          "plot_bgcolor": "rgb(17,17,17)",
          "polar": {
           "angularaxis": {
            "gridcolor": "#506784",
            "linecolor": "#506784",
            "ticks": ""
           },
           "bgcolor": "rgb(17,17,17)",
           "radialaxis": {
            "gridcolor": "#506784",
            "linecolor": "#506784",
            "ticks": ""
           }
          },
          "scene": {
           "xaxis": {
            "backgroundcolor": "rgb(17,17,17)",
            "gridcolor": "#506784",
            "gridwidth": 2,
            "linecolor": "#506784",
            "showbackground": true,
            "ticks": "",
            "zerolinecolor": "#C8D4E3"
           },
           "yaxis": {
            "backgroundcolor": "rgb(17,17,17)",
            "gridcolor": "#506784",
            "gridwidth": 2,
            "linecolor": "#506784",
            "showbackground": true,
            "ticks": "",
            "zerolinecolor": "#C8D4E3"
           },
           "zaxis": {
            "backgroundcolor": "rgb(17,17,17)",
            "gridcolor": "#506784",
            "gridwidth": 2,
            "linecolor": "#506784",
            "showbackground": true,
            "ticks": "",
            "zerolinecolor": "#C8D4E3"
           }
          },
          "shapedefaults": {
           "line": {
            "color": "#f2f5fa"
           }
          },
          "sliderdefaults": {
           "bgcolor": "#C8D4E3",
           "bordercolor": "rgb(17,17,17)",
           "borderwidth": 1,
           "tickwidth": 0
          },
          "ternary": {
           "aaxis": {
            "gridcolor": "#506784",
            "linecolor": "#506784",
            "ticks": ""
           },
           "baxis": {
            "gridcolor": "#506784",
            "linecolor": "#506784",
            "ticks": ""
           },
           "bgcolor": "rgb(17,17,17)",
           "caxis": {
            "gridcolor": "#506784",
            "linecolor": "#506784",
            "ticks": ""
           }
          },
          "title": {
           "x": 0.05
          },
          "updatemenudefaults": {
           "bgcolor": "#506784",
           "borderwidth": 0
          },
          "xaxis": {
           "automargin": true,
           "gridcolor": "#283442",
           "linecolor": "#506784",
           "ticks": "",
           "title": {
            "standoff": 15
           },
           "zerolinecolor": "#283442",
           "zerolinewidth": 2
          },
          "yaxis": {
           "automargin": true,
           "gridcolor": "#283442",
           "linecolor": "#506784",
           "ticks": "",
           "title": {
            "standoff": 15
           },
           "zerolinecolor": "#283442",
           "zerolinewidth": 2
          }
         }
        },
        "title": {
         "text": "Compare z and t distributions"
        }
       }
      },
      "text/html": [
       "<div>                            <div id=\"e7036a9b-3126-47e2-8281-38eab2379ae7\" class=\"plotly-graph-div\" style=\"height:525px; width:100%;\"></div>            <script type=\"text/javascript\">                require([\"plotly\"], function(Plotly) {                    window.PLOTLYENV=window.PLOTLYENV || {};                                    if (document.getElementById(\"e7036a9b-3126-47e2-8281-38eab2379ae7\")) {                    Plotly.newPlot(                        \"e7036a9b-3126-47e2-8281-38eab2379ae7\",                        [{\"mode\": \"lines\", \"name\": \"z - distribution\", \"type\": \"scatter\", \"x\": [-2.3263478740408408, -2.279350947292541, -2.232354020544241, -2.1853570937959415, -2.1383601670476415, -2.0913632402993416, -2.0443663135510417, -1.997369386802742, -1.9503724600544423, -1.9033755333061424, -1.8563786065578427, -1.8093816798095428, -1.762384753061243, -1.7153878263129432, -1.6683908995646433, -1.6213939728163436, -1.5743970460680439, -1.527400119319744, -1.480403192571444, -1.4334062658231443, -1.3864093390748446, -1.3394124123265447, -1.2924154855782448, -1.2454185588299451, -1.1984216320816452, -1.1514247053333455, -1.1044277785850456, -1.057430851836746, -1.010433925088446, -0.9634369983401463, -0.9164400715918464, -0.8694431448435467, -0.8224462180952468, -0.7754492913469468, -0.7284523645986472, -0.6814554378503472, -0.6344585111020475, -0.5874615843537476, -0.5404646576054479, -0.493467730857148, -0.4464708041088483, -0.3994738773605484, -0.3524769506122487, -0.3054800238639488, -0.2584830971156489, -0.2114861703673494, -0.16448924361904949, -0.11749231687074957, -0.07049539012244965, -0.023498463374149736, 0.023498463374149736, 0.07049539012244965, 0.11749231687074957, 0.16448924361904949, 0.21148617036734896, 0.2584830971156489, 0.3054800238639488, 0.3524769506122487, 0.3994738773605482, 0.4464708041088481, 0.493467730857148, 0.5404646576054479, 0.5874615843537474, 0.6344585111020473, 0.6814554378503472, 0.7284523645986472, 0.7754492913469471, 0.8224462180952465, 0.8694431448435465, 0.9164400715918464, 0.9634369983401463, 1.0104339250884458, 1.0574308518367457, 1.1044277785850456, 1.1514247053333455, 1.198421632081645, 1.245418558829945, 1.2924154855782448, 1.3394124123265447, 1.3864093390748442, 1.4334062658231441, 1.480403192571444, 1.527400119319744, 1.5743970460680439, 1.6213939728163433, 1.6683908995646433, 1.7153878263129432, 1.7623847530612426, 1.809381679809543, 1.8563786065578425, 1.903375533306142, 1.9503724600544423, 1.9973693868027418, 2.044366313551042, 2.0913632402993416, 2.138360167047641, 2.1853570937959415, 2.232354020544241, 2.2793509472925413, 2.3263478740408408], \"y\": [0.02665214220345808, 0.029698495124487845, 0.03302003535669454, 0.03663206435224366, 0.04054954840560043, 0.04478694292349345, 0.049358003635151186, 0.054275585974773305, 0.05955143419009686, 0.06519596205762482, 0.07121802741030074, 0.07762470300022481, 0.08442104652000788, 0.09160987288379509, 0.09919153211490578, 0.10716369639347652, 0.11552115997669092, 0.12425565580877511, 0.13335569268119776, 0.14280641677954986, 0.15258950135757612, 0.16268306810723343, 0.1730616435443722, 0.18369615340220186, 0.19455395762037694, 0.20559892803944185, 0.21679157036348465, 0.22808919134504188, 0.2394461114842625, 0.2508139228294869, 0.2621417907307059, 0.2733767976441347, 0.2844643263297956, 0.2953484790397197, 0.30597252857781293, 0.3162793964392877, 0.3262121526232731, 0.3357145311714946, 0.34473145503239644, 0.3532095634959414, 0.3610977351999095, 0.3683475995820787, 0.3749140296500157, 0.380755609064598, 0.3858350667852809, 0.39011967290219984, 0.3935815897772622, 0.3961981732255311, 0.3979522191788785, 0.3988321520731774, 0.3988321520731774, 0.3979522191788785, 0.3961981732255311, 0.3935815897772622, 0.3901196729021999, 0.3858350667852809, 0.380755609064598, 0.3749140296500157, 0.36834759958207874, 0.36109773519990956, 0.3532095634959414, 0.34473145503239644, 0.3357145311714946, 0.32621215262327313, 0.3162793964392877, 0.30597252857781293, 0.2953484790397197, 0.2844643263297956, 0.2733767976441348, 0.2621417907307059, 0.2508139228294869, 0.23944611148426256, 0.22808919134504194, 0.21679157036348465, 0.20559892803944185, 0.19455395762037703, 0.18369615340220188, 0.1730616435443722, 0.16268306810723343, 0.15258950135757623, 0.1428064167795499, 0.13335569268119776, 0.12425565580877511, 0.11552115997669092, 0.10716369639347659, 0.09919153211490578, 0.09160987288379509, 0.08442104652000794, 0.0776247030002248, 0.07121802741030075, 0.06519596205762487, 0.05955143419009686, 0.054275585974773326, 0.049358003635151144, 0.04478694292349345, 0.04054954840560047, 0.03663206435224366, 0.03302003535669454, 0.029698495124487825, 0.02665214220345808]}, {\"mode\": \"lines\", \"name\": \"t - distribution\", \"type\": \"scatter\", \"x\": [-2.4572615424005706, -2.407619895079347, -2.3579782477581235, -2.3083366004368995, -2.258694953115676, -2.2090533057944524, -2.159411658473229, -2.1097700111520052, -2.0601283638307812, -2.0104867165095577, -1.9608450691883341, -1.9112034218671106, -1.861561774545887, -1.8119201272246632, -1.7622784799034397, -1.7126368325822159, -1.6629951852609923, -1.6133535379397688, -1.563711890618545, -1.5140702432973214, -1.4644285959760976, -1.414786948654874, -1.3651453013336505, -1.3155036540124267, -1.2658620066912032, -1.2162203593699796, -1.1665787120487559, -1.1169370647275323, -1.0672954174063087, -1.017653770085085, -0.9680121227638614, -0.9183704754426376, -0.868728828121414, -0.8190871808001905, -0.7694455334789667, -0.7198038861577432, -0.6701622388365194, -0.6205205915152958, -0.5708789441940723, -0.5212372968728485, -0.4715956495516249, -0.42195400223040114, -0.3723123549091776, -0.322670707587954, -0.27302906026673046, -0.2233874129455069, -0.1737457656242829, -0.12410411830305934, -0.07446247098183578, -0.024820823660612223, 0.024820823660611335, 0.07446247098183534, 0.1241041183030589, 0.17374576562428246, 0.22338741294550601, 0.2730290602667296, 0.32267070758795313, 0.37231235490917713, 0.4219540022304007, 0.47159564955162425, 0.5212372968728478, 0.5708789441940714, 0.6205205915152954, 0.6701622388365189, 0.7198038861577425, 0.769445533478966, 0.8190871808001896, 0.8687288281214136, 0.9183704754426372, 0.9680121227638607, 1.0176537700850843, 1.0672954174063078, 1.1169370647275318, 1.1665787120487554, 1.216220359369979, 1.2658620066912025, 1.315503654012426, 1.3651453013336496, 1.4147869486548736, 1.4644285959760972, 1.5140702432973208, 1.5637118906185448, 1.6133535379397683, 1.6629951852609919, 1.7126368325822154, 1.762278479903439, 1.8119201272246626, 1.8615617745458861, 1.9112034218671097, 1.9608450691883332, 2.010486716509557, 2.0601283638307812, 2.109770011152005, 2.1594116584732284, 2.209053305794452, 2.2586949531156755, 2.308336600436899, 2.3579782477581226, 2.407619895079346, 2.4572615424005697], \"y\": [0.02665214220345808, 0.029698495124487845, 0.03302003535669454, 0.03663206435224366, 0.04054954840560043, 0.04478694292349345, 0.049358003635151186, 0.054275585974773305, 0.05955143419009686, 0.06519596205762482, 0.07121802741030074, 0.07762470300022481, 0.08442104652000788, 0.09160987288379509, 0.09919153211490578, 0.10716369639347652, 0.11552115997669092, 0.12425565580877511, 0.13335569268119776, 0.14280641677954986, 0.15258950135757612, 0.16268306810723343, 0.1730616435443722, 0.18369615340220186, 0.19455395762037694, 0.20559892803944185, 0.21679157036348465, 0.22808919134504188, 0.2394461114842625, 0.2508139228294869, 0.2621417907307059, 0.2733767976441347, 0.2844643263297956, 0.2953484790397197, 0.30597252857781293, 0.3162793964392877, 0.3262121526232731, 0.3357145311714946, 0.34473145503239644, 0.3532095634959414, 0.3610977351999095, 0.3683475995820787, 0.3749140296500157, 0.380755609064598, 0.3858350667852809, 0.39011967290219984, 0.3935815897772622, 0.3961981732255311, 0.3979522191788785, 0.3988321520731774, 0.3988321520731774, 0.3979522191788785, 0.3961981732255311, 0.3935815897772622, 0.3901196729021999, 0.3858350667852809, 0.380755609064598, 0.3749140296500157, 0.36834759958207874, 0.36109773519990956, 0.3532095634959414, 0.34473145503239644, 0.3357145311714946, 0.32621215262327313, 0.3162793964392877, 0.30597252857781293, 0.2953484790397197, 0.2844643263297956, 0.2733767976441348, 0.2621417907307059, 0.2508139228294869, 0.23944611148426256, 0.22808919134504194, 0.21679157036348465, 0.20559892803944185, 0.19455395762037703, 0.18369615340220188, 0.1730616435443722, 0.16268306810723343, 0.15258950135757623, 0.1428064167795499, 0.13335569268119776, 0.12425565580877511, 0.11552115997669092, 0.10716369639347659, 0.09919153211490578, 0.09160987288379509, 0.08442104652000794, 0.0776247030002248, 0.07121802741030075, 0.06519596205762487, 0.05955143419009686, 0.054275585974773326, 0.049358003635151144, 0.04478694292349345, 0.04054954840560047, 0.03663206435224366, 0.03302003535669454, 0.029698495124487825, 0.02665214220345808]}],                        {\"template\": {\"data\": {\"bar\": [{\"error_x\": {\"color\": \"#f2f5fa\"}, \"error_y\": {\"color\": \"#f2f5fa\"}, \"marker\": {\"line\": {\"color\": \"rgb(17,17,17)\", \"width\": 0.5}}, \"type\": \"bar\"}], \"barpolar\": [{\"marker\": {\"line\": {\"color\": \"rgb(17,17,17)\", \"width\": 0.5}}, \"type\": \"barpolar\"}], \"carpet\": [{\"aaxis\": {\"endlinecolor\": \"#A2B1C6\", \"gridcolor\": \"#506784\", \"linecolor\": \"#506784\", \"minorgridcolor\": \"#506784\", \"startlinecolor\": \"#A2B1C6\"}, \"baxis\": {\"endlinecolor\": \"#A2B1C6\", \"gridcolor\": \"#506784\", \"linecolor\": \"#506784\", \"minorgridcolor\": \"#506784\", \"startlinecolor\": \"#A2B1C6\"}, \"type\": \"carpet\"}], \"choropleth\": [{\"colorbar\": {\"outlinewidth\": 0, \"ticks\": \"\"}, \"type\": \"choropleth\"}], \"contour\": [{\"colorbar\": {\"outlinewidth\": 0, \"ticks\": \"\"}, \"colorscale\": [[0.0, \"#0d0887\"], [0.1111111111111111, \"#46039f\"], [0.2222222222222222, \"#7201a8\"], [0.3333333333333333, \"#9c179e\"], [0.4444444444444444, \"#bd3786\"], [0.5555555555555556, \"#d8576b\"], [0.6666666666666666, \"#ed7953\"], [0.7777777777777778, \"#fb9f3a\"], [0.8888888888888888, \"#fdca26\"], [1.0, \"#f0f921\"]], \"type\": \"contour\"}], \"contourcarpet\": [{\"colorbar\": {\"outlinewidth\": 0, \"ticks\": \"\"}, \"type\": \"contourcarpet\"}], \"heatmap\": [{\"colorbar\": {\"outlinewidth\": 0, \"ticks\": \"\"}, \"colorscale\": [[0.0, \"#0d0887\"], [0.1111111111111111, \"#46039f\"], [0.2222222222222222, \"#7201a8\"], [0.3333333333333333, \"#9c179e\"], [0.4444444444444444, \"#bd3786\"], [0.5555555555555556, \"#d8576b\"], [0.6666666666666666, \"#ed7953\"], [0.7777777777777778, \"#fb9f3a\"], [0.8888888888888888, \"#fdca26\"], [1.0, \"#f0f921\"]], \"type\": \"heatmap\"}], \"heatmapgl\": [{\"colorbar\": {\"outlinewidth\": 0, \"ticks\": \"\"}, \"colorscale\": [[0.0, \"#0d0887\"], [0.1111111111111111, \"#46039f\"], [0.2222222222222222, \"#7201a8\"], [0.3333333333333333, \"#9c179e\"], [0.4444444444444444, \"#bd3786\"], [0.5555555555555556, \"#d8576b\"], [0.6666666666666666, \"#ed7953\"], [0.7777777777777778, \"#fb9f3a\"], [0.8888888888888888, \"#fdca26\"], [1.0, \"#f0f921\"]], \"type\": \"heatmapgl\"}], \"histogram\": [{\"marker\": {\"colorbar\": {\"outlinewidth\": 0, \"ticks\": \"\"}}, \"type\": \"histogram\"}], \"histogram2d\": [{\"colorbar\": {\"outlinewidth\": 0, \"ticks\": \"\"}, \"colorscale\": [[0.0, \"#0d0887\"], [0.1111111111111111, \"#46039f\"], [0.2222222222222222, \"#7201a8\"], [0.3333333333333333, \"#9c179e\"], [0.4444444444444444, \"#bd3786\"], [0.5555555555555556, \"#d8576b\"], [0.6666666666666666, \"#ed7953\"], [0.7777777777777778, \"#fb9f3a\"], [0.8888888888888888, \"#fdca26\"], [1.0, \"#f0f921\"]], \"type\": \"histogram2d\"}], \"histogram2dcontour\": [{\"colorbar\": {\"outlinewidth\": 0, \"ticks\": \"\"}, \"colorscale\": [[0.0, \"#0d0887\"], [0.1111111111111111, \"#46039f\"], [0.2222222222222222, \"#7201a8\"], [0.3333333333333333, \"#9c179e\"], [0.4444444444444444, \"#bd3786\"], [0.5555555555555556, \"#d8576b\"], [0.6666666666666666, \"#ed7953\"], [0.7777777777777778, \"#fb9f3a\"], [0.8888888888888888, \"#fdca26\"], [1.0, \"#f0f921\"]], \"type\": \"histogram2dcontour\"}], \"mesh3d\": [{\"colorbar\": {\"outlinewidth\": 0, \"ticks\": \"\"}, \"type\": \"mesh3d\"}], \"parcoords\": [{\"line\": {\"colorbar\": {\"outlinewidth\": 0, \"ticks\": \"\"}}, \"type\": \"parcoords\"}], \"pie\": [{\"automargin\": true, \"type\": \"pie\"}], \"scatter\": [{\"marker\": {\"line\": {\"color\": \"#283442\"}}, \"type\": \"scatter\"}], \"scatter3d\": [{\"line\": {\"colorbar\": {\"outlinewidth\": 0, \"ticks\": \"\"}}, \"marker\": {\"colorbar\": {\"outlinewidth\": 0, \"ticks\": \"\"}}, \"type\": \"scatter3d\"}], \"scattercarpet\": [{\"marker\": {\"colorbar\": {\"outlinewidth\": 0, \"ticks\": \"\"}}, \"type\": \"scattercarpet\"}], \"scattergeo\": [{\"marker\": {\"colorbar\": {\"outlinewidth\": 0, \"ticks\": \"\"}}, \"type\": \"scattergeo\"}], \"scattergl\": [{\"marker\": {\"line\": {\"color\": \"#283442\"}}, \"type\": \"scattergl\"}], \"scattermapbox\": [{\"marker\": {\"colorbar\": {\"outlinewidth\": 0, \"ticks\": \"\"}}, \"type\": \"scattermapbox\"}], \"scatterpolar\": [{\"marker\": {\"colorbar\": {\"outlinewidth\": 0, \"ticks\": \"\"}}, \"type\": \"scatterpolar\"}], \"scatterpolargl\": [{\"marker\": {\"colorbar\": {\"outlinewidth\": 0, \"ticks\": \"\"}}, \"type\": \"scatterpolargl\"}], \"scatterternary\": [{\"marker\": {\"colorbar\": {\"outlinewidth\": 0, \"ticks\": \"\"}}, \"type\": \"scatterternary\"}], \"surface\": [{\"colorbar\": {\"outlinewidth\": 0, \"ticks\": \"\"}, \"colorscale\": [[0.0, \"#0d0887\"], [0.1111111111111111, \"#46039f\"], [0.2222222222222222, \"#7201a8\"], [0.3333333333333333, \"#9c179e\"], [0.4444444444444444, \"#bd3786\"], [0.5555555555555556, \"#d8576b\"], [0.6666666666666666, \"#ed7953\"], [0.7777777777777778, \"#fb9f3a\"], [0.8888888888888888, \"#fdca26\"], [1.0, \"#f0f921\"]], \"type\": \"surface\"}], \"table\": [{\"cells\": {\"fill\": {\"color\": \"#506784\"}, \"line\": {\"color\": \"rgb(17,17,17)\"}}, \"header\": {\"fill\": {\"color\": \"#2a3f5f\"}, \"line\": {\"color\": \"rgb(17,17,17)\"}}, \"type\": \"table\"}]}, \"layout\": {\"annotationdefaults\": {\"arrowcolor\": \"#f2f5fa\", \"arrowhead\": 0, \"arrowwidth\": 1}, \"autotypenumbers\": \"strict\", \"coloraxis\": {\"colorbar\": {\"outlinewidth\": 0, \"ticks\": \"\"}}, \"colorscale\": {\"diverging\": [[0, \"#8e0152\"], [0.1, \"#c51b7d\"], [0.2, \"#de77ae\"], [0.3, \"#f1b6da\"], [0.4, \"#fde0ef\"], [0.5, \"#f7f7f7\"], [0.6, \"#e6f5d0\"], [0.7, \"#b8e186\"], [0.8, \"#7fbc41\"], [0.9, \"#4d9221\"], [1, \"#276419\"]], \"sequential\": [[0.0, \"#0d0887\"], [0.1111111111111111, \"#46039f\"], [0.2222222222222222, \"#7201a8\"], [0.3333333333333333, \"#9c179e\"], [0.4444444444444444, \"#bd3786\"], [0.5555555555555556, \"#d8576b\"], [0.6666666666666666, \"#ed7953\"], [0.7777777777777778, \"#fb9f3a\"], [0.8888888888888888, \"#fdca26\"], [1.0, \"#f0f921\"]], \"sequentialminus\": [[0.0, \"#0d0887\"], [0.1111111111111111, \"#46039f\"], [0.2222222222222222, \"#7201a8\"], [0.3333333333333333, \"#9c179e\"], [0.4444444444444444, \"#bd3786\"], [0.5555555555555556, \"#d8576b\"], [0.6666666666666666, \"#ed7953\"], [0.7777777777777778, \"#fb9f3a\"], [0.8888888888888888, \"#fdca26\"], [1.0, \"#f0f921\"]]}, \"colorway\": [\"#636efa\", \"#EF553B\", \"#00cc96\", \"#ab63fa\", \"#FFA15A\", \"#19d3f3\", \"#FF6692\", \"#B6E880\", \"#FF97FF\", \"#FECB52\"], \"font\": {\"color\": \"#f2f5fa\"}, \"geo\": {\"bgcolor\": \"rgb(17,17,17)\", \"lakecolor\": \"rgb(17,17,17)\", \"landcolor\": \"rgb(17,17,17)\", \"showlakes\": true, \"showland\": true, \"subunitcolor\": \"#506784\"}, \"hoverlabel\": {\"align\": \"left\"}, \"hovermode\": \"closest\", \"mapbox\": {\"style\": \"dark\"}, \"paper_bgcolor\": \"rgb(17,17,17)\", \"plot_bgcolor\": \"rgb(17,17,17)\", \"polar\": {\"angularaxis\": {\"gridcolor\": \"#506784\", \"linecolor\": \"#506784\", \"ticks\": \"\"}, \"bgcolor\": \"rgb(17,17,17)\", \"radialaxis\": {\"gridcolor\": \"#506784\", \"linecolor\": \"#506784\", \"ticks\": \"\"}}, \"scene\": {\"xaxis\": {\"backgroundcolor\": \"rgb(17,17,17)\", \"gridcolor\": \"#506784\", \"gridwidth\": 2, \"linecolor\": \"#506784\", \"showbackground\": true, \"ticks\": \"\", \"zerolinecolor\": \"#C8D4E3\"}, \"yaxis\": {\"backgroundcolor\": \"rgb(17,17,17)\", \"gridcolor\": \"#506784\", \"gridwidth\": 2, \"linecolor\": \"#506784\", \"showbackground\": true, \"ticks\": \"\", \"zerolinecolor\": \"#C8D4E3\"}, \"zaxis\": {\"backgroundcolor\": \"rgb(17,17,17)\", \"gridcolor\": \"#506784\", \"gridwidth\": 2, \"linecolor\": \"#506784\", \"showbackground\": true, \"ticks\": \"\", \"zerolinecolor\": \"#C8D4E3\"}}, \"shapedefaults\": {\"line\": {\"color\": \"#f2f5fa\"}}, \"sliderdefaults\": {\"bgcolor\": \"#C8D4E3\", \"bordercolor\": \"rgb(17,17,17)\", \"borderwidth\": 1, \"tickwidth\": 0}, \"ternary\": {\"aaxis\": {\"gridcolor\": \"#506784\", \"linecolor\": \"#506784\", \"ticks\": \"\"}, \"baxis\": {\"gridcolor\": \"#506784\", \"linecolor\": \"#506784\", \"ticks\": \"\"}, \"bgcolor\": \"rgb(17,17,17)\", \"caxis\": {\"gridcolor\": \"#506784\", \"linecolor\": \"#506784\", \"ticks\": \"\"}}, \"title\": {\"x\": 0.05}, \"updatemenudefaults\": {\"bgcolor\": \"#506784\", \"borderwidth\": 0}, \"xaxis\": {\"automargin\": true, \"gridcolor\": \"#283442\", \"linecolor\": \"#506784\", \"ticks\": \"\", \"title\": {\"standoff\": 15}, \"zerolinecolor\": \"#283442\", \"zerolinewidth\": 2}, \"yaxis\": {\"automargin\": true, \"gridcolor\": \"#283442\", \"linecolor\": \"#506784\", \"ticks\": \"\", \"title\": {\"standoff\": 15}, \"zerolinecolor\": \"#283442\", \"zerolinewidth\": 2}}}, \"title\": {\"text\": \"Compare z and t distributions\"}},                        {\"responsive\": true}                    ).then(function(){\n",
       "                            \n",
       "var gd = document.getElementById('e7036a9b-3126-47e2-8281-38eab2379ae7');\n",
       "var x = new MutationObserver(function (mutations, observer) {{\n",
       "        var display = window.getComputedStyle(gd).display;\n",
       "        if (!display || display === 'none') {{\n",
       "            console.log([gd, 'removed!']);\n",
       "            Plotly.purge(gd);\n",
       "            observer.disconnect();\n",
       "        }}\n",
       "}});\n",
       "\n",
       "// Listen for the removal of the full notebook cells\n",
       "var notebookContainer = gd.closest('#notebook-container');\n",
       "if (notebookContainer) {{\n",
       "    x.observe(notebookContainer, {childList: true});\n",
       "}}\n",
       "\n",
       "// Listen for the clearing of the current output cell\n",
       "var outputEl = gd.closest('.output');\n",
       "if (outputEl) {{\n",
       "    x.observe(outputEl, {childList: true});\n",
       "}}\n",
       "\n",
       "                        })                };                });            </script>        </div>"
      ]
     },
     "metadata": {},
     "output_type": "display_data"
    }
   ],
   "source": [
    "#  combine z and t on a plot\n",
    "z_t = go.Figure()\n",
    "\n",
    "z_t.add_trace(go.Scatter(\n",
    "    x= values_flatten,\n",
    "    y= pdf_values,\n",
    "    name='z - distribution',\n",
    "    mode='lines'\n",
    "))\n",
    "\n",
    "z_t.add_trace(go.Scatter(\n",
    "    x= values_t_flatten,\n",
    "    y= pdf_values,\n",
    "    name='t - distribution',\n",
    "    mode='lines'\n",
    "))\n",
    "z_t.update_layout({'title':'Compare z and t distributions'})\n",
    "z_t.show()"
   ]
  },
  {
   "cell_type": "markdown",
   "id": "functional-tongue",
   "metadata": {},
   "source": [
    "## Confidence Intervals\n",
    "- to infer results from a sample to be used for another population. If a study is done with sample of subjects we want others to apply those results to their own sample population\n",
    "- a study, collect 100 cholesterol values and show the mean cholesterol values for our 100 participants as 7.4, express a range of values around this mean. This confidence interval can be used to guess at what the *real* population mean is. Usual CI = 95%\n",
    "- (1 - *alpha*) = 0.95\n"
   ]
  },
  {
   "cell_type": "code",
   "execution_count": 176,
   "id": "upper-quest",
   "metadata": {},
   "outputs": [
    {
     "name": "stdout",
     "output_type": "stream",
     "text": [
      "confidence level:  0.506060524752664\n",
      "6.893939475247336\n",
      "7.9060605247526645\n",
      "Results: The average cholesterol level was 7.4 (95% CI [6.9 - 7.9])\n"
     ]
    }
   ],
   "source": [
    "# n= 60, std=2, calculate the CI = 95%\n",
    "confidence_level = stats.norm.ppf(0.975)*2 / np.sqrt(60)\n",
    "print('confidence level: ', confidence_level)\n",
    "\n",
    "# subtract the mean to get the lower bound, add to the mean for upper bound\n",
    "# study cholesterol mean = 7.4\n",
    "study_chol_mean = 7.4\n",
    "lower_CI = study_chol_mean - confidence_level\n",
    "print(lower_CI)\n",
    "higher_CI = study_chol_mean + confidence_level\n",
    "print(higher_CI)\n",
    "\n",
    "#  state the average found in study\n",
    "findings = \"The average cholesterol level was 7.4 (95% CI [6.9 - 7.9])\"\n",
    "print(f'Results: {findings}')"
   ]
  },
  {
   "cell_type": "markdown",
   "id": "expired-leeds",
   "metadata": {},
   "source": [
    "new small study, n= 60, 59 degrees of freedom"
   ]
  },
  {
   "cell_type": "code",
   "execution_count": 179,
   "id": "permanent-transportation",
   "metadata": {},
   "outputs": [
    {
     "name": "stdout",
     "output_type": "stream",
     "text": [
      "0.5166547847430499\n",
      "low:  6.88334521525695\n",
      "high:  7.91665478474305\n"
     ]
    }
   ],
   "source": [
    "confidence_level = stats.t.ppf(0.975, 59) * 2 / np.sqrt(60)\n",
    "print(confidence_level)\n",
    "lower_CI = study_chol_mean - confidence_level\n",
    "print('low: ',lower_CI)\n",
    "higher_CI = study_chol_mean + confidence_level\n",
    "print('high: ',higher_CI)"
   ]
  },
  {
   "cell_type": "code",
   "execution_count": null,
   "id": "cultural-newman",
   "metadata": {},
   "outputs": [],
   "source": []
  }
 ],
 "metadata": {
  "kernelspec": {
   "display_name": "Python 3",
   "language": "python",
   "name": "python3"
  },
  "language_info": {
   "codemirror_mode": {
    "name": "ipython",
    "version": 3
   },
   "file_extension": ".py",
   "mimetype": "text/x-python",
   "name": "python",
   "nbconvert_exporter": "python",
   "pygments_lexer": "ipython3",
   "version": "3.7.4"
  }
 },
 "nbformat": 4,
 "nbformat_minor": 5
}
